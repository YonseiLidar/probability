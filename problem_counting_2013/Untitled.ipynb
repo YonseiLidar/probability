{
 "cells": [
  {
   "cell_type": "markdown",
   "metadata": {},
   "source": [
    "<div align=\"center\"><img src=\"img/2013-4.png\" width=\"70%\"></div>"
   ]
  },
  {
   "cell_type": "markdown",
   "metadata": {},
   "source": [
    "$$\\begin{array}{ccccccc}\n",
    "a&b+c+d+e&\\mbox{Number of Cases}\\\\\n",
    "\\hline\n",
    "0&&\\\\\n",
    "1&&\\\\\n",
    "2&&\\\\\n",
    "3&&\\\\\n",
    "\\end{array}$$"
   ]
  },
  {
   "cell_type": "markdown",
   "metadata": {},
   "source": [
    "$$\\begin{array}{ccccccc}\n",
    "a&b+c+d+e&\\mbox{Number of Cases}\\\\\n",
    "\\hline\n",
    "0&12&\\\\\n",
    "1&11&\\\\\n",
    "2&10&\\\\\n",
    "3&9&\\\\\n",
    "\\end{array}$$"
   ]
  },
  {
   "cell_type": "markdown",
   "metadata": {},
   "source": [
    "$$\\begin{array}{ccccccc}\n",
    "a&b+c+d+e&\\mbox{Number of Cases}\\\\\n",
    "\\hline\n",
    "0&12&{12+3\\choose 3}\\\\\n",
    "1&11&{11+3\\choose 3}\\\\\n",
    "2&10&{10+3\\choose 3}\\\\\n",
    "3&9&{9+3\\choose 3}\\\\\n",
    "\\end{array}$$"
   ]
  },
  {
   "cell_type": "code",
   "execution_count": 1,
   "metadata": {},
   "outputs": [
    {
     "data": {
      "text/plain": [
       "1325.0"
      ]
     },
     "execution_count": 1,
     "metadata": {},
     "output_type": "execute_result"
    }
   ],
   "source": [
    "import scipy.special as special\n",
    "special.comb(15,3)+special.comb(14,3)+special.comb(13,3)+special.comb(12,3)"
   ]
  },
  {
   "cell_type": "code",
   "execution_count": null,
   "metadata": {},
   "outputs": [],
   "source": []
  }
 ],
 "metadata": {
  "kernelspec": {
   "display_name": "Python 3",
   "language": "python",
   "name": "python3"
  },
  "language_info": {
   "codemirror_mode": {
    "name": "ipython",
    "version": 3
   },
   "file_extension": ".py",
   "mimetype": "text/x-python",
   "name": "python",
   "nbconvert_exporter": "python",
   "pygments_lexer": "ipython3",
   "version": "3.6.9"
  }
 },
 "nbformat": 4,
 "nbformat_minor": 2
}
