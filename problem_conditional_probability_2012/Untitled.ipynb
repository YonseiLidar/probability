{
 "cells": [
  {
   "cell_type": "markdown",
   "metadata": {},
   "source": [
    "<div align=\"center\"><img src=\"img/2012-1.png\" width=\"70%\"></div>"
   ]
  },
  {
   "cell_type": "markdown",
   "metadata": {},
   "source": [
    "$$\\begin{array}{lll}\n",
    "P(A|W)\n",
    "&=&\\frac{P(W|A)P(A)}{P(W)}\\\\\n",
    "&=&\\frac{P(W|A)P(A)}{P(W|A)P(A)+P(W|B)P(B)}\\\\\n",
    "&=&\\frac{P(W|A)\\frac{1}{3}}{P(W|A)\\frac{1}{3}+P(W|B)\\frac{2}{3}}\\\\\n",
    "&=&\\frac{\\frac{3}{3+2}*\\frac{1}{3}}{\\frac{3}{3+2}*\\frac{1}{3}+\\frac{m}{m+2}*\\frac{2}{3}}\\\\\n",
    "&=&\\frac{2}{7}\n",
    "\\end{array}$$"
   ]
  },
  {
   "cell_type": "code",
   "execution_count": null,
   "metadata": {},
   "outputs": [],
   "source": []
  }
 ],
 "metadata": {
  "kernelspec": {
   "display_name": "Python 3",
   "language": "python",
   "name": "python3"
  },
  "language_info": {
   "codemirror_mode": {
    "name": "ipython",
    "version": 3
   },
   "file_extension": ".py",
   "mimetype": "text/x-python",
   "name": "python",
   "nbconvert_exporter": "python",
   "pygments_lexer": "ipython3",
   "version": "3.6.9"
  }
 },
 "nbformat": 4,
 "nbformat_minor": 2
}
