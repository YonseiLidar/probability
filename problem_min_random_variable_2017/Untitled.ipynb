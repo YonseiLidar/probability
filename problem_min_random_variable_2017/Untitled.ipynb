{
 "cells": [
  {
   "cell_type": "markdown",
   "metadata": {},
   "source": [
    "<div align=\"center\"><img src=\"img/2017-1.png\" width=\"70%\"></div>"
   ]
  },
  {
   "cell_type": "markdown",
   "metadata": {},
   "source": [
    "$$\\begin{array}{lll}\n",
    "P\\left(Y<\\frac{5}{2}\\right)\n",
    "&=&1-P\\left(Y\\ge \\frac{5}{2}\\right)\\\\\n",
    "&=&1-P\\left(X_1\\ge \\frac{5}{2}, X_2\\ge \\frac{5}{2}\\right)\\\\\n",
    "&=&1-P\\left(X_1\\ge \\frac{5}{2}\\right)P\\left(X_2\\ge \\frac{5}{2}\\right)\\\\\n",
    "&=&1-P\\left(X_1\\ge \\frac{5}{2}\\right)^2\\\\\n",
    "&=&1-\\left(\\int_{\\frac{5}{2}}^\\infty f_X(x)dx\\right)^2\\\\\n",
    "&=&1-\\left(\\int_{\\frac{5}{2}}^4\\frac{2}{9}x-\\frac{2}{9}dx\\right)^2\\\\\n",
    "\\end{array}$$"
   ]
  },
  {
   "cell_type": "code",
   "execution_count": null,
   "metadata": {},
   "outputs": [],
   "source": []
  }
 ],
 "metadata": {
  "kernelspec": {
   "display_name": "Python 3",
   "language": "python",
   "name": "python3"
  },
  "language_info": {
   "codemirror_mode": {
    "name": "ipython",
    "version": 3
   },
   "file_extension": ".py",
   "mimetype": "text/x-python",
   "name": "python",
   "nbconvert_exporter": "python",
   "pygments_lexer": "ipython3",
   "version": "3.6.9"
  }
 },
 "nbformat": 4,
 "nbformat_minor": 2
}
