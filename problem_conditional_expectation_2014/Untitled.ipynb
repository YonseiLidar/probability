{
 "cells": [
  {
   "cell_type": "markdown",
   "metadata": {},
   "source": [
    "<div align=\"center\"><img src=\"img/2014-2.png\" width=\"70%\"></div>"
   ]
  },
  {
   "cell_type": "markdown",
   "metadata": {},
   "source": [
    "$$\\begin{array}{lll}\n",
    "f_Y(y)&=&\\int_{-\\infty}^\\infty f_{X,Y}(x,y)dx \\\\\n",
    "&=&1(1<y<3)\\int_0^1 \\frac{1}{5}xy(1-x+y)dx \\\\\n",
    "&=&1(1<y<3)\\left[\\frac{1}{10}x^2y-\\frac{1}{15}x^3y+\\frac{1}{10}x^2y^2\\right]_0^1 \\\\\n",
    "&=&1(1<y<3)\\left[\\frac{1}{10}y-\\frac{1}{15}y+\\frac{1}{10}y^2\\right] \\\\\n",
    "&=&\\left\\{\\begin{array}{ll}\n",
    "\\frac{1}{10}y-\\frac{1}{15}y+\\frac{1}{10}y^2&\\mbox{for}\\ 1<y<3\\\\\n",
    "0&\\mbox{otherwise}\n",
    "\\end{array}\\right.\n",
    "\\end{array}$$\n",
    "$$$$\n",
    "$$\\begin{array}{lll}\n",
    "&&f_{X,Y}(x,y)=1(0<x<1)1(1<y<3)\\frac{1}{5}xy(1-x+y)\\\\\n",
    "&\\Rightarrow&f_{X,Y}(x,2)=1(0<x<1)\\frac{2}{5}x(3-x) \\\\\n",
    "&\\Rightarrow&f_{X|Y}(x|2)\\propto 1(0<x<1)x(3-x) \\\\\n",
    "&\\Rightarrow&f_{X|Y}(x|2)= 1(0<x<1)x(3-x) /\\int_0^1x(3-x)dx \\\\\n",
    "&\\Rightarrow&f_{X|Y}(x|2)=\\left\\{\\begin{array}{ll}\n",
    "\\frac{6}{7}x(3-x)&\\mbox{for}\\ 0<x<1\\\\\n",
    "0&\\mbox{otherwise}\n",
    "\\end{array}\\right.\n",
    "\\end{array}$$\n",
    "$$$$\n",
    "$$\\begin{array}{lll}\n",
    "E(X|Y=2)\n",
    "&=&\\int_{-\\infty}^\\infty x f_{X|Y}(x|2)dx\\\\\n",
    "&=&\\int_0^1 x*\\frac{6}{7}x(3-x)dx\\\\\n",
    "&=&\\int_0^1 \\frac{6}{7}x^2(3-x)dx\\\\\n",
    "&=&\\frac{9}{14}\\\\\n",
    "\\end{array}$$"
   ]
  },
  {
   "cell_type": "code",
   "execution_count": null,
   "metadata": {},
   "outputs": [],
   "source": []
  }
 ],
 "metadata": {
  "kernelspec": {
   "display_name": "Python 3",
   "language": "python",
   "name": "python3"
  },
  "language_info": {
   "codemirror_mode": {
    "name": "ipython",
    "version": 3
   },
   "file_extension": ".py",
   "mimetype": "text/x-python",
   "name": "python",
   "nbconvert_exporter": "python",
   "pygments_lexer": "ipython3",
   "version": "3.6.9"
  }
 },
 "nbformat": 4,
 "nbformat_minor": 2
}
