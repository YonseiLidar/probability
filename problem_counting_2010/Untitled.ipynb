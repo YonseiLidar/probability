{
 "cells": [
  {
   "cell_type": "markdown",
   "metadata": {},
   "source": [
    "<div align=\"center\"><img src=\"img/2010-1.png\" width=\"70%\"></div>"
   ]
  },
  {
   "cell_type": "markdown",
   "metadata": {},
   "source": [
    "$$\\begin{array}{ccc}\n",
    "x&y+z&\\mbox{Number of Case}\\\\\n",
    "\\hline\n",
    "0&&\\\\\n",
    "1&&\\\\\n",
    "2&&\\\\\n",
    "3&&\\\\\n",
    "4&&\\\\\n",
    "5&&\\\\\n",
    "6&&\\\\\n",
    "7&&\\\\\n",
    "8&&\\\\\n",
    "9&&\\\\\n",
    "\\hline\n",
    "10&&\\\\\n",
    "11&&\\\\\n",
    "12&&\\\\\n",
    "13&&\\\\\n",
    "14&&\\\\\n",
    "15&&\\\\\n",
    "16&&\\\\\n",
    "17&&\\\\\n",
    "18&&\\\\\n",
    "19&&\\\\\n",
    "20&&\\\\\n",
    "\\end{array}$$"
   ]
  },
  {
   "cell_type": "markdown",
   "metadata": {},
   "source": [
    "$$\\begin{array}{ccc}\n",
    "x&y+z&\\mbox{Number of Case}\\\\\n",
    "\\hline\n",
    "0&30&\\\\\n",
    "1&29&\\\\\n",
    "2&28&\\\\\n",
    "3&27&\\\\\n",
    "4&26&\\\\\n",
    "5&25&\\\\\n",
    "6&24&\\\\\n",
    "7&23&\\\\\n",
    "8&22&\\\\\n",
    "9&21&\\\\\n",
    "\\hline\n",
    "10&20&\\\\\n",
    "11&19&\\\\\n",
    "12&18&\\\\\n",
    "13&17&\\\\\n",
    "14&16&\\\\\n",
    "15&15&\\\\\n",
    "16&14&\\\\\n",
    "17&13&\\\\\n",
    "18&12&\\\\\n",
    "19&11&\\\\\n",
    "20&10&\\\\\n",
    "\\end{array}$$"
   ]
  },
  {
   "cell_type": "markdown",
   "metadata": {},
   "source": [
    "$$\\begin{array}{ccc}\n",
    "x&y+z&\\mbox{Number of Case}\\\\\n",
    "\\hline\n",
    "0&30&\\\\\n",
    "1&29&\\\\\n",
    "2&28&\\\\\n",
    "3&27&\\\\\n",
    "4&26&\\\\\n",
    "5&25&\\\\\n",
    "6&24&\\\\\n",
    "7&23&\\\\\n",
    "8&22&\\\\\n",
    "9&21&\\\\\n",
    "\\hline\n",
    "10&20&21\\\\\n",
    "11&19&20\\\\\n",
    "12&18&19\\\\\n",
    "13&17&18\\\\\n",
    "14&16&17\\\\\n",
    "15&15&16\\\\\n",
    "16&14&15\\\\\n",
    "17&13&14\\\\\n",
    "18&12&13\\\\\n",
    "19&11&12\\\\\n",
    "20&10&11\\\\\n",
    "\\end{array}$$"
   ]
  },
  {
   "cell_type": "markdown",
   "metadata": {},
   "source": [
    "$$\\begin{array}{ccc}\n",
    "x&y+z&\\mbox{Number of Case}\\\\\n",
    "\\hline\n",
    "0&30&11\\\\\n",
    "1&29&12\\\\\n",
    "2&28&13\\\\\n",
    "3&27&14\\\\\n",
    "4&26&15\\\\\n",
    "5&25&16\\\\\n",
    "6&24&17\\\\\n",
    "7&23&18\\\\\n",
    "8&22&19\\\\\n",
    "9&21&20\\\\\n",
    "\\hline\n",
    "10&20&21\\\\\n",
    "11&19&20\\\\\n",
    "12&18&19\\\\\n",
    "13&17&18\\\\\n",
    "14&16&17\\\\\n",
    "15&15&16\\\\\n",
    "16&14&15\\\\\n",
    "17&13&14\\\\\n",
    "18&12&13\\\\\n",
    "19&11&12\\\\\n",
    "20&10&11\\\\\n",
    "\\end{array}$$"
   ]
  },
  {
   "cell_type": "code",
   "execution_count": null,
   "metadata": {},
   "outputs": [],
   "source": []
  }
 ],
 "metadata": {
  "kernelspec": {
   "display_name": "Python 3",
   "language": "python",
   "name": "python3"
  },
  "language_info": {
   "codemirror_mode": {
    "name": "ipython",
    "version": 3
   },
   "file_extension": ".py",
   "mimetype": "text/x-python",
   "name": "python",
   "nbconvert_exporter": "python",
   "pygments_lexer": "ipython3",
   "version": "3.6.9"
  }
 },
 "nbformat": 4,
 "nbformat_minor": 2
}
