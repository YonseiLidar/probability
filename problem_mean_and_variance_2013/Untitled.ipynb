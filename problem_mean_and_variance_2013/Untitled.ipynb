{
 "cells": [
  {
   "cell_type": "markdown",
   "metadata": {},
   "source": [
    "<div align=\"center\"><img src=\"img/2013-2.png\" width=\"70%\"></div>"
   ]
  },
  {
   "cell_type": "markdown",
   "metadata": {},
   "source": [
    "$$\n",
    "Eg(X)=\\int_{-\\infty}^\\infty g(x)*f_X(x)dx\n",
    "$$\n",
    "$$$$\n",
    "$$\n",
    "EY=E\\frac{2}{X}=\\int_{-\\infty}^\\infty \\frac{2}{x}*f_X(x)dx\n",
    "=\\int_1^2 \\frac{2}{x}*\\frac{2}{3}xdx=\\frac{4}{3}\n",
    "$$"
   ]
  },
  {
   "cell_type": "code",
   "execution_count": null,
   "metadata": {},
   "outputs": [],
   "source": []
  }
 ],
 "metadata": {
  "kernelspec": {
   "display_name": "Python 3",
   "language": "python",
   "name": "python3"
  },
  "language_info": {
   "codemirror_mode": {
    "name": "ipython",
    "version": 3
   },
   "file_extension": ".py",
   "mimetype": "text/x-python",
   "name": "python",
   "nbconvert_exporter": "python",
   "pygments_lexer": "ipython3",
   "version": "3.6.9"
  }
 },
 "nbformat": 4,
 "nbformat_minor": 2
}
