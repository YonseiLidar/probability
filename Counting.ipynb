{
 "cells": [
  {
   "cell_type": "markdown",
   "metadata": {},
   "source": [
    "# Counting"
   ]
  },
  {
   "cell_type": "markdown",
   "metadata": {},
   "source": [
    "<a href=\"#Introduction\">Introduction</a>\n",
    "\n",
    "<a href=\"#Enumeration\">Enumeration</a>\n",
    "\n",
    "<a href=\"#Tree-Diagram\">Tree Diagram</a>\n",
    "\n",
    "<a href=\"#Divide-and-Conquer\">Divide and Conquer</a>\n",
    "\n",
    "<a href=\"#One-to-One-Matching\">One to One Matching</a>\n",
    "\n",
    "<a href=\"#Permutation-and-Combination\">Permutation and Combination</a>\n",
    "\n",
    "<a href=\"#Two-Different-Ways-of-Counting\">Two Different Ways of Counting</a>\n",
    "\n",
    "<a href=\"#Binomial-Expansion\">Binomial Expansion</a>\n",
    "\n",
    "<a href=\"#Inclusion-Exclusion-Principle\">Inclusion Exclusion Principle</a>\n",
    "\n",
    "<a href=\"#Complement\">Complement</a>"
   ]
  },
  {
   "cell_type": "markdown",
   "metadata": {},
   "source": [
    "# Introduction"
   ]
  },
  {
   "cell_type": "markdown",
   "metadata": {},
   "source": [
    "### Ranks of cards"
   ]
  },
  {
   "cell_type": "markdown",
   "metadata": {},
   "source": [
    "<div align=\"center\"><img src=\"img/Poker_Hands.jpg\" width=\"80%\"></div>\n",
    "\n",
    "http://www.casinoreviewbank.com/dictionary_images/Poker_Hands.jpg"
   ]
  },
  {
   "cell_type": "markdown",
   "metadata": {},
   "source": [
    "### Why Counting?"
   ]
  },
  {
   "cell_type": "markdown",
   "metadata": {},
   "source": [
    "<div align=\"center\"><img src=\"img/Why Counting.png\" width=\"80%\"></div>\n",
    "\n",
    "허영만 - 타짜"
   ]
  },
  {
   "cell_type": "markdown",
   "metadata": {
    "collapsed": true
   },
   "source": [
    "[<a href=\"#Counting\">Back to top</a>]"
   ]
  },
  {
   "cell_type": "markdown",
   "metadata": {},
   "source": [
    "# Enumeration"
   ]
  },
  {
   "cell_type": "markdown",
   "metadata": {},
   "source": [
    "List all the cases in $\\Omega$ and count them."
   ]
  },
  {
   "cell_type": "markdown",
   "metadata": {},
   "source": [
    "[<a href=\"#Counting\">Back to top</a>]"
   ]
  },
  {
   "cell_type": "markdown",
   "metadata": {},
   "source": [
    "# Tree Diagram"
   ]
  },
  {
   "cell_type": "markdown",
   "metadata": {},
   "source": [
    "Enumerate all the cases using tree diagram and count them.\n",
    "\n",
    "<div align=\"center\"><img src=\"img/trees.3.gif\" width=\"30%\"></div>\n",
    "\n",
    "https://www.ltcconline.net/greenl/courses/201/probdist/trees.3.gif"
   ]
  },
  {
   "cell_type": "markdown",
   "metadata": {},
   "source": [
    "### Example - Number of paths from $A$ to $C$\n",
    "\n",
    "Count number of paths from $A$ to $C$, where there are paths from $A$ to $B$ and from $B$ to $C$ as follows:\n",
    "\n",
    "<div align=\"center\"><img src=\"img/Number of paths from $A$ to $C$.png\" width=\"40%\"></div>"
   ]
  },
  {
   "cell_type": "markdown",
   "metadata": {},
   "source": [
    "##### Branching of paths from $A$ to $B$\n",
    "\n",
    "<div align=\"center\"><img src=\"img/Branching of paths from $A$ to $B$.png\" width=\"30%\"></div>"
   ]
  },
  {
   "cell_type": "markdown",
   "metadata": {},
   "source": [
    "##### Branching of paths from $B$ to $C$\n",
    "\n",
    "<div align=\"center\"><img src=\"img/Branching of paths from $B$ to $C$.png\" width=\"60%\"></div>"
   ]
  },
  {
   "cell_type": "markdown",
   "metadata": {},
   "source": [
    "##### Tree diagram of paths from $A$ to $C$\n",
    "\n",
    "<div align=\"center\"><img src=\"img/Tree diagram of paths from $A$ to $C$.png\" width=\"60%\"></div>"
   ]
  },
  {
   "cell_type": "markdown",
   "metadata": {},
   "source": [
    "[<a href=\"#Counting\">Back to top</a>]"
   ]
  },
  {
   "cell_type": "markdown",
   "metadata": {},
   "source": [
    "# Divide and Conquer"
   ]
  },
  {
   "cell_type": "markdown",
   "metadata": {},
   "source": [
    "[Step 1] Divide all the cases into several disjoint categories $A_i$.\n",
    "\n",
    "[Step 2] Count all the cases in each category $A_i$.\n",
    "\n",
    "[Step 3] $|\\Omega|=\\sum_i|A_i|$."
   ]
  },
  {
   "cell_type": "markdown",
   "metadata": {},
   "source": [
    "[<a href=\"#Counting\">Back to top</a>]"
   ]
  },
  {
   "cell_type": "markdown",
   "metadata": {},
   "source": [
    "# One to One Matching"
   ]
  },
  {
   "cell_type": "markdown",
   "metadata": {},
   "source": [
    "### One-to-one\n",
    "<div align=\"center\"><img src=\"img/One-to-one.png\" width=\"40%\"></div>"
   ]
  },
  {
   "cell_type": "markdown",
   "metadata": {},
   "source": [
    "### Many-to-one\n",
    "<div align=\"center\"><img src=\"img/Many-to-one.png\" width=\"60%\"></div>"
   ]
  },
  {
   "cell_type": "markdown",
   "metadata": {},
   "source": [
    "### One-to-many\n",
    "<div align=\"center\"><img src=\"img/One-to-many.png\" width=\"60%\"></div>"
   ]
  },
  {
   "cell_type": "markdown",
   "metadata": {},
   "source": [
    "### Many-to-many\n",
    "<div align=\"center\"><img src=\"img/soccer.jpg\" width=\"30%\"></div>\n",
    "\n",
    "http://www.tricitynews.com/sports/tri-city-soccer-squads-off-to-fraser-valley-tourney-1.2243182"
   ]
  },
  {
   "cell_type": "markdown",
   "metadata": {},
   "source": [
    "### Example -   Number of words made from $BOB$"
   ]
  },
  {
   "cell_type": "markdown",
   "metadata": {},
   "source": [
    "##### Attach indices\n",
    "$$\n",
    "\\mbox{Number of words made from $B_1OB_2$}\\quad\\quad\\quad\\quad3\\times 2\\times 1=3!\n",
    "$$"
   ]
  },
  {
   "cell_type": "markdown",
   "metadata": {},
   "source": [
    "##### Remove indices\n",
    "<div align=\"center\"><img src=\"img/Remove indices.png\" width=\"40%\"></div>\n",
    "\n",
    "This is 2-to-1."
   ]
  },
  {
   "cell_type": "markdown",
   "metadata": {},
   "source": [
    "##### Many-to-one\n",
    "$$\n",
    "\\mbox{Number of words made from $BOB$}\\quad\\quad\\quad\\quad\n",
    "\\frac{3!}{2}\n",
    "$$"
   ]
  },
  {
   "cell_type": "markdown",
   "metadata": {},
   "source": [
    "### 연습문제"
   ]
  },
  {
   "cell_type": "markdown",
   "metadata": {},
   "source": [
    "1.  Count the number of words made from $BBOOO$."
   ]
  },
  {
   "cell_type": "markdown",
   "metadata": {},
   "source": [
    "[<a href=\"#Counting\">Back to top</a>]"
   ]
  },
  {
   "cell_type": "markdown",
   "metadata": {},
   "source": [
    "# Permutation and Combination"
   ]
  },
  {
   "cell_type": "markdown",
   "metadata": {},
   "source": [
    "### Permutation ($n$ choose $k$ with order)\n",
    "$$\n",
    "n\\times(n-1)\\times(n-2)\\cdots\\times(n-(k-1))\n",
    "$$\n",
    "\n",
    "### Combination ($n$ choose $k$ without order)\n",
    "$$\n",
    "{n\\choose k}=\\frac{n!}{k!(n-k)!}\n",
    "$$"
   ]
  },
  {
   "cell_type": "markdown",
   "metadata": {},
   "source": [
    "#### Binomial coefficient"
   ]
  },
  {
   "cell_type": "markdown",
   "metadata": {},
   "source": [
    "$$\n",
    "{n\\choose k}=\\frac{n!}{(n-k)!k!}\n",
    "$$"
   ]
  },
  {
   "cell_type": "code",
   "execution_count": 6,
   "metadata": {},
   "outputs": [
    {
     "name": "stdout",
     "output_type": "stream",
     "text": [
      "n          :  [10 11]\n",
      "k          :  [3 4]\n",
      "n_choose_k :  [120. 330.]\n",
      "\n",
      "10_choose_3 :  120.0\n",
      "11_choose_4 :  330.0\n"
     ]
    }
   ],
   "source": [
    "# n_choose_k computation using ss.comb\n",
    "\n",
    "import numpy as np\n",
    "import scipy.special as ss\n",
    "\n",
    "if 0:\n",
    "    n = 3\n",
    "    k = 2\n",
    "elif 0:\n",
    "    n = [10, 11] \n",
    "    k = [ 3,  4] \n",
    "elif 1:\n",
    "    n = np.array([10, 11]) \n",
    "    k = np.array([ 3,  4]) \n",
    "\n",
    "n_choose_k = ss.comb(n, k)\n",
    "\n",
    "print(\"n          : \", n)\n",
    "print(\"k          : \", k)\n",
    "print(\"n_choose_k : \", n_choose_k)\n",
    "print()\n",
    "\n",
    "print(\"10_choose_3 : \", (10*9*8) / (3*2*1))\n",
    "print(\"11_choose_4 : \", (11*10*9*8) / (4*3*2*1))"
   ]
  },
  {
   "cell_type": "markdown",
   "metadata": {},
   "source": [
    "### Number of choosing president, vice-president, secretary\n",
    "\\begin{eqnarray}\n",
    "&&\\mbox{There are $n$ people}\\nonumber\\\\\n",
    "&&\\mbox{Choose president - Number of branching $n$}\\nonumber\\\\\n",
    "&&\\mbox{Choose vice-president - Number of branching $n-1$}\\nonumber\\\\\n",
    "&&\\mbox{Choose secretary - Number of branching $n-2$}\\nonumber\\\\\n",
    "\\mbox{Tree diagram}&\\quad\\Rightarrow\\quad&\\mbox{Number of choosing president, vice-president, secretary is}\\nonumber\\\\\n",
    "&&n\\times(n-1)\\times(n-2)\\nonumber\n",
    "\\end{eqnarray}"
   ]
  },
  {
   "cell_type": "markdown",
   "metadata": {},
   "source": [
    "### Number of choosing three committee members\n",
    "\\begin{eqnarray}\n",
    "&&\\mbox{There are $n$ people}\\nonumber\\\\\n",
    "&&\\mbox{Choose president - Number of branching $n$}\\nonumber\\\\\n",
    "&&\\mbox{Choose vice-president - Number of branching $n-1$}\\nonumber\\\\\n",
    "&&\\mbox{Choose secretary - Number of branching $n-2$}\\nonumber\\\\\n",
    "\\mbox{Tree diagram}&\\Rightarrow&\\mbox{Number of choosing presi, vice-presi, secretary is}\\nonumber\\\\\n",
    "&&n\\times(n-1)\\times(n-2)\\nonumber\\\\\n",
    "&&\\mbox{Remove rank or indices}\\nonumber\\\\\n",
    "\\mbox{$3!$-to-1}&\\quad\\Rightarrow\\quad&\\mbox{Number of choosing three committee members is}\\nonumber\\\\\n",
    "&&\\frac{n\\times(n-1)\\times(n-2)}{3!}\\nonumber\n",
    "\\end{eqnarray}"
   ]
  },
  {
   "cell_type": "markdown",
   "metadata": {},
   "source": [
    "[<a href=\"#Counting\">Back to top</a>]"
   ]
  },
  {
   "cell_type": "markdown",
   "metadata": {},
   "source": [
    "# Two Different Ways of Counting"
   ]
  },
  {
   "cell_type": "markdown",
   "metadata": {},
   "source": [
    "### Number of ways of forming a committee of size $k$ from $n$ people\n",
    "\n",
    "$${n\\choose k}={n\\choose n-k}$$\n",
    "\n",
    "$$\\begin{array}{llc}\n",
    "\\mbox{Choose $k$ people without order and form a committee}&&\\displaystyle {n\\choose k}\\\\\n",
    "\\\\\n",
    "\\mbox{Choose $n-k$ people without order and remove them}&&\\displaystyle {n\\choose n-k}\\\\\n",
    "\\mbox{Form a committee with remaining $k$ people}&&\\\\\n",
    "\\end{array}$$"
   ]
  },
  {
   "cell_type": "markdown",
   "metadata": {},
   "source": [
    "### Number of ways of forming a committee of size $k$ with president from $n$ people\n",
    "\n",
    "$$k {n\\choose k}=n{n-1\\choose k-1}$$\n",
    "\n",
    "$$\\begin{array}{llc}\n",
    "\\mbox{Choose $k$ people without order and form a committee}&&\\displaystyle {n\\choose k}\\\\\n",
    "\\mbox{Elect one as president from $k$ members}&&\\displaystyle k{n\\choose k}\\\\\n",
    "\\\\\n",
    "\\mbox{Elect one as president from $n$ people}&&\\displaystyle n\\\\\n",
    "\\mbox{Choose remaining $k-1$ members to form a committee}&&\\displaystyle n{n-1\\choose k-1}\\\\\n",
    "\\end{array}$$"
   ]
  },
  {
   "cell_type": "markdown",
   "metadata": {},
   "source": [
    "### Number of ways of forming a committee of size $k$ from $m$ men and $n$ women (Vandermonde's identity)\n",
    "\n",
    "$$\n",
    "\\displaystyle \n",
    "{m+n\\choose k}=\\sum_{max(0,k-n)\\le l\\le min(m,k)}{m\\choose l}{n\\choose k-l}$$\n",
    "\n",
    "$$\\begin{array}{llc}\n",
    "\\mbox{Choose $k$ people and form a committee}&&\\displaystyle {m+n\\choose k}\\\\\n",
    "\\\\\n",
    "\\mbox{Choose $l$ male, $k-l$ female, form a committee }&&\\displaystyle {m\\choose l}{n\\choose k-l}\\\\\n",
    "\\mbox{Choose male, female, and form a committee}&&\\displaystyle \\sum_{max(0,k-n)\\le l\\le min(m,k)}{m\\choose l}{n\\choose k-l}\\\\\n",
    "\\end{array}$$"
   ]
  },
  {
   "cell_type": "markdown",
   "metadata": {},
   "source": [
    "[<a href=\"#Counting\">Back to top</a>]"
   ]
  },
  {
   "cell_type": "markdown",
   "metadata": {},
   "source": [
    "# Binomial Expansion"
   ]
  },
  {
   "cell_type": "markdown",
   "metadata": {},
   "source": [
    "### Binomial expansion\n",
    "\n",
    "$$\n",
    "\\displaystyle \n",
    "(x+y)^n=\\sum_{k=0}^n{n\\choose k}x^ky^{n-k}\n",
    "$$\n",
    "\n",
    "where\n",
    "\n",
    "$$\n",
    "\\displaystyle \n",
    "\\mbox{Binomial coefficient}\\quad\\quad\\quad\\quad\n",
    "{n\\choose k}=\\frac{n!}{k!(n-k)!}\n",
    "$$"
   ]
  },
  {
   "cell_type": "markdown",
   "metadata": {},
   "source": [
    "### Multinomial expansion\n",
    "\n",
    "$$\n",
    "\\displaystyle \n",
    "(x_1+\\cdots+x_m)^n=\\sum_{k_1+\\cdots+k_m=n}{n\\choose k_1 \\cdots k_m}x_1^{k_1}\\cdots x_m^{k_m}\n",
    "$$\n",
    "\n",
    "where\n",
    "\n",
    "$$\n",
    "\\displaystyle \n",
    "\\mbox{Multinomial coefficient}\\quad\\quad\\quad\\quad\n",
    "{n\\choose k_1 \\cdots k_m}=\\frac{n!}{k_1! \\cdots k_m!}\n",
    "$$"
   ]
  },
  {
   "cell_type": "markdown",
   "metadata": {},
   "source": [
    "[<a href=\"#Counting\">Back to top</a>]"
   ]
  },
  {
   "cell_type": "markdown",
   "metadata": {},
   "source": [
    "# Inclusion Exclusion Principle"
   ]
  },
  {
   "cell_type": "markdown",
   "metadata": {},
   "source": [
    "\\begin{eqnarray}\n",
    "\\displaystyle\n",
    "\\left|\\cup_{i=1}^nA_i\\right|&=&\\sum_{i=1}^n\\left|A_i\\right|-\\sum_{1\\le i<j\\le n}\\left|A_iA_j\\right|+\\cdots+(-1)^{n+1}\\left|A_1A_2\\cdots A_n\\right|\\nonumber\n",
    "\\end{eqnarray}"
   ]
  },
  {
   "cell_type": "markdown",
   "metadata": {},
   "source": [
    "### Two sets\n",
    "\\begin{eqnarray}\n",
    "\\displaystyle \\left|A\\cup B\\right|&\\le&\\displaystyle  \\left|A\\right|+\\left|B\\right|\\nonumber\\\\\n",
    "\\displaystyle \\left|A\\cup B\\right|&=&\\displaystyle  \\left|A\\right|+\\left|B\\right|-\\left|A\\cap B\\right|\\nonumber\n",
    "\\end{eqnarray}"
   ]
  },
  {
   "cell_type": "code",
   "execution_count": 11,
   "metadata": {},
   "outputs": [
    {
     "data": {
      "image/png": "[encoded data removed]",
      "text/plain": [
       "<Figure size 432x288 with 1 Axes>"
      ]
     },
     "metadata": {},
     "output_type": "display_data"
    }
   ],
   "source": [
    "# Venn diagram of two sets\n",
    "\n",
    "import matplotlib.pyplot as plt\n",
    "import matplotlib_venn as ve # $ pip install matplotlib_venn\n",
    "\n",
    "A = {1,2,3,4,5,6,7}\n",
    "B = {4,5,6,7,8,9}\n",
    "\n",
    "# shows number of elements in each region\n",
    "ve.venn2(subsets=[A,B], set_labels=(\"A\",\"B\"))\n",
    "plt.title(\"Venn diagram\")\n",
    "plt.show()"
   ]
  },
  {
   "cell_type": "markdown",
   "metadata": {},
   "source": [
    "### Three sets\n",
    "\\begin{eqnarray}\n",
    "\\displaystyle \\left|A\\cup B\\cup C\\right|&\\le&\\displaystyle  \\left|A\\right|+\\left|B\\right|+\\left|C\\right|\\nonumber\\\\\n",
    "\\displaystyle \\left|A\\cup B\\cup C\\right|&\\ge&\\displaystyle  \\left|A\\right|+\\left|B\\right|+\\left|C\\right|-\\left|AB\\right|-\\left|BC\\right|-\\left|CA\\right|\\nonumber\\\\\n",
    "\\displaystyle \\left|A\\cup B\\cup C\\right|&=&\\displaystyle  \\left|A\\right|+\\left|B\\right|+\\left|C\\right|-\\left|AB\\right|-\\left|BC\\right|-\\left|CA\\right|+\\left|ABC\\right|\\nonumber\n",
    "\\end{eqnarray}"
   ]
  },
  {
   "cell_type": "code",
   "execution_count": 12,
   "metadata": {},
   "outputs": [
    {
     "data": {
      "image/png": "[encoded data removed]",
      "text/plain": [
       "<Figure size 432x288 with 1 Axes>"
      ]
     },
     "metadata": {},
     "output_type": "display_data"
    }
   ],
   "source": [
    "# Venn diagram of three sets\n",
    "\n",
    "import matplotlib.pyplot as plt\n",
    "import matplotlib_venn as ve # pip install matplotlib_venn\n",
    "\n",
    "A = {1,2,3,4,5,6,7}\n",
    "B = {4,5,6,7,8,9}\n",
    "C = {1,4,9,10,11,12,13}\n",
    "\n",
    "# shows number of elements in each region\n",
    "ve.venn3(subsets=[A,B,C], set_labels=(\"A\",\"B\",\"C\"))\n",
    "plt.title(\"Venn diagram\")\n",
    "plt.show()"
   ]
  },
  {
   "cell_type": "markdown",
   "metadata": {},
   "source": [
    "### Many sets\n",
    "\\begin{eqnarray}\n",
    "\\left|\\cup_{i=1}^nA_i\\right|&\\le& \\sum_{i=1}^n\\left|A_i\\right|\\nonumber\\\\\n",
    "\\left|\\cup_{i=1}^nA_i\\right|&\\ge& \\sum_{i=1}^n\\left|A_i\\right|-\\sum_{1\\le i<j\\le n}\\left|A_iA_j\\right|\\nonumber\\\\\n",
    "\\left|\\cup_{i=1}^nA_i\\right|&\\le& \\sum_{i=1}^n\\left|A_i\\right|-\\sum_{1\\le i<j\\le n}\\left|A_iA_j\\right|+\\sum_{1\\le i<j<k\\le n}\\left|A_iA_jA_k\\right|\\nonumber\\\\\n",
    "&&\\cdots\\nonumber\\\\\n",
    "\\left|\\cup_{i=1}^nA_i\\right|&=&\\sum_{i=1}^n\\left|A_i\\right|-\\sum_{1\\le i<j\\le n}\\left|A_iA_j\\right|+\\cdots+(-1)^{n+1}\\left|A_1A_2\\cdots A_n\\right|\\nonumber\n",
    "\\end{eqnarray}"
   ]
  },
  {
   "cell_type": "markdown",
   "metadata": {},
   "source": [
    "### Example - Minesweeper"
   ]
  },
  {
   "cell_type": "markdown",
   "metadata": {},
   "source": [
    "<div align=\"center\"><img src=\"img/Minesweeper 1.png\" width=\"100%\"></div>"
   ]
  },
  {
   "cell_type": "markdown",
   "metadata": {
    "collapsed": true
   },
   "source": [
    "<div align=\"center\"><img src=\"img/Minesweeper 2.png\" width=\"100%\"></div>"
   ]
  },
  {
   "cell_type": "markdown",
   "metadata": {},
   "source": [
    "### Example - Matching problem\n",
    "\n",
    "For a bijective function $f$ on $\\{1,2,\\cdots,n\\},$ \n",
    "$x$ is called a fixed point of $f$ if $f(x)=x$.\n",
    "Count the number of the bijective functions $f$ on $\\{1,2,\\cdots,n\\}$ with no fixed points."
   ]
  },
  {
   "cell_type": "markdown",
   "metadata": {},
   "source": [
    "$$\\begin{array}{llll}\n",
    "\\Omega&\\mbox{Set of all the bijective functions $f$ on $\\{1,2,\\cdots,n\\}$}\\\\\n",
    "\\\\\n",
    "A_i&\\mbox{Set of the bijective functions $f$  which fixes $i$}\\\\\n",
    "\\\\\n",
    "A=\\cup_{i=1}^nA_i&\\mbox{Set of the bijective functions $f$  which fixes some $i$}\\\\\n",
    "\\\\\n",
    "B=\\Omega\\setminus\\cup_{i=1}^nA_i&\\mbox{Set of the bijective functions $f$ with no fixed points}\\\\\n",
    "\\end{array}$$"
   ]
  },
  {
   "cell_type": "markdown",
   "metadata": {},
   "source": [
    "##### $A=\\cup_iA_i$ bijective functions that fix some $i$\n",
    "By the inclusion-exclusion principle  \n",
    "\\begin{eqnarray}\n",
    "\\left|\\cup_{i=1}^nA_i\\right|\n",
    "&=&\\sum_{i=1}^n\\left|A_i\\right|-\\sum_{1\\le i<j\\le n}\\left|A_iA_j\\right|+\\cdots+(-1)^{n+1}\\left|A_1A_2\\cdots A_n\\right|\\nonumber\\\\\n",
    "&=&{n\\choose 1}\\times (n-1)!-{n\\choose 2}\\times (n-2)!+\\cdots+(-1)^{n+1}{n\\choose n}\\times (n-n)!\\nonumber\\\\\n",
    "&=&n!\\left(\\frac{1}{1!}-\\frac{1}{2!}+\\cdots+(-1)^{n+1}\\frac{1}{n!}\\right)\\nonumber\n",
    "\\end{eqnarray}"
   ]
  },
  {
   "cell_type": "markdown",
   "metadata": {},
   "source": [
    "##### $B=\\Omega\\setminus\\cup_{i=1}^nA_i$ bijective functions with no fixed points\n",
    "$$\n",
    "|B|=|\\Omega|-\\left|\\cup_{i=1}^nA_i\\right|\n",
    "=n!-n!\\left(\\frac{1}{1!}-\\frac{1}{2!}+\\cdots+(-1)^{n+1}\\frac{1}{n!}\\right)\n",
    "=n!\\left(1-\\frac{1}{1!}+\\frac{1}{2!}-\\cdots+(-1)^{n}\\frac{1}{n!}\\right)\n",
    "$$"
   ]
  },
  {
   "cell_type": "markdown",
   "metadata": {},
   "source": [
    "$$\n",
    "\\displaystyle\n",
    "\\mathbb{P}\\left(B\\right)=\\frac{|B|}{|\\Omega|}=1-\\frac{1}{1!}+\\frac{1}{2!}-\\cdots+(-1)^{n}\\frac{1}{n!}\\sim e^{-1}\n",
    "$$"
   ]
  },
  {
   "cell_type": "code",
   "execution_count": 28,
   "metadata": {},
   "outputs": [
    {
     "name": "stdout",
     "output_type": "stream",
     "text": [
      "prob_B_by_simulation    :  0.3671\n",
      "prob_B_by_approximation :  0.36787944117144233\n"
     ]
    }
   ],
   "source": [
    "# Probability of choosing f with no fixed points\n",
    "\n",
    "import numpy as np\n",
    "\n",
    "n = 100\n",
    "n_simulation = 10000\n",
    "x = np.arange(n)\n",
    "\n",
    "num_f_with_fixed_points = 0\n",
    "for i in range(n_simulation):\n",
    "    y = np.random.permutation(n)\n",
    "    if np.sum(x == y) > 0:\n",
    "        num_f_with_fixed_points += 1\n",
    "\n",
    "# prob_A : probability of choosing f with fixed points\n",
    "prob_A_by_simulation = num_f_with_fixed_points / n_simulation\n",
    "\n",
    "# prob_B : probability of choosing f with no fixed points\n",
    "prob_B_by_simulation = 1 - prob_A_by_simulation\n",
    "prob_B_by_approximation = np.exp(-1)\n",
    "\n",
    "print(\"prob_B_by_simulation    : \", prob_B_by_simulation)\n",
    "print(\"prob_B_by_approximation : \", prob_B_by_approximation)"
   ]
  },
  {
   "cell_type": "markdown",
   "metadata": {},
   "source": [
    "[<a href=\"#Counting\">Back to top</a>]"
   ]
  },
  {
   "cell_type": "markdown",
   "metadata": {},
   "source": [
    "# Complement"
   ]
  },
  {
   "cell_type": "markdown",
   "metadata": {},
   "source": [
    "$$|A|=|\\Omega|-|A^c|$$"
   ]
  },
  {
   "cell_type": "markdown",
   "metadata": {},
   "source": [
    "[<a href=\"#Counting\">Back to top</a>]"
   ]
  }
 ],
 "metadata": {
  "kernelspec": {
   "display_name": "Python 3",
   "language": "python",
   "name": "python3"
  },
  "language_info": {
   "codemirror_mode": {
    "name": "ipython",
    "version": 3
   },
   "file_extension": ".py",
   "mimetype": "text/x-python",
   "name": "python",
   "nbconvert_exporter": "python",
   "pygments_lexer": "ipython3",
   "version": "3.5.0"
  }
 },
 "nbformat": 4,
 "nbformat_minor": 2
}
