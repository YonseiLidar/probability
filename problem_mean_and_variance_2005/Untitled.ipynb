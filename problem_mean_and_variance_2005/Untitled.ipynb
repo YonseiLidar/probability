{
 "cells": [
  {
   "cell_type": "markdown",
   "metadata": {},
   "source": [
    "<div align=\"center\"><img src=\"img/2005.png\" width=\"70%\"></div>"
   ]
  },
  {
   "cell_type": "markdown",
   "metadata": {},
   "source": [
    "$$\n",
    "f(x)=\\left\\{\\begin{array}{ll}\n",
    "\\frac{1}{4}&\\mbox{for}\\ 1<x<5\\\\\n",
    "0&\\mbox{otherwise}\\\\\n",
    "\\end{array}\\right.$$\n",
    "$$$$\n",
    "$$\n",
    "EX=\\int_{-\\infty}^\\infty xf(x)dx=\\int_1^5 x*\\frac{1}{4}dx\n",
    "$$\n",
    "$$$$\n",
    "$$\n",
    "EX^2=\\int_{-\\infty}^\\infty x^2f(x)dx=\\int_1^5 x^2*\\frac{1}{4}dx\n",
    "$$\n",
    "$$$$\n",
    "$$\n",
    "Var(X)=EX^2-(EX)^2\n",
    "$$"
   ]
  },
  {
   "cell_type": "code",
   "execution_count": null,
   "metadata": {},
   "outputs": [],
   "source": []
  }
 ],
 "metadata": {
  "kernelspec": {
   "display_name": "Python 3",
   "language": "python",
   "name": "python3"
  },
  "language_info": {
   "codemirror_mode": {
    "name": "ipython",
    "version": 3
   },
   "file_extension": ".py",
   "mimetype": "text/x-python",
   "name": "python",
   "nbconvert_exporter": "python",
   "pygments_lexer": "ipython3",
   "version": "3.6.9"
  }
 },
 "nbformat": 4,
 "nbformat_minor": 2
}
