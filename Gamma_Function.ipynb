{
 "cells": [
  {
   "cell_type": "code",
   "execution_count": 1,
   "metadata": {},
   "outputs": [
    {
     "name": "stdout",
     "output_type": "stream",
     "text": [
      "362880.0\n"
     ]
    }
   ],
   "source": [
    "# https://docs.scipy.org/doc/scipy/reference/special.html\n",
    "\n",
    "import scipy.special as ss \n",
    "\n",
    "print(ss.gamma(10))"
   ]
  },
  {
   "cell_type": "markdown",
   "metadata": {},
   "source": [
    "$$\n",
    "\\Gamma(\\alpha)=\\int_0^\\infty x^{\\alpha-1}e^{-x}dx\n",
    "$$"
   ]
  },
  {
   "cell_type": "code",
   "execution_count": 3,
   "metadata": {},
   "outputs": [
    {
     "name": "stdout",
     "output_type": "stream",
     "text": [
      "362880.0\n",
      "362880.0\n"
     ]
    }
   ],
   "source": [
    "import scipy.special as ss \n",
    "import numpy as np\n",
    "\n",
    "print(ss.gamma(10))\n",
    "\n",
    "x = np.linspace(0., 100, num=1000, endpoint=False)\n",
    "f = x**(10-1) * np.exp(-x)\n",
    "dx = x[1] - x[0]\n",
    "integral = np.sum(f*dx)\n",
    "print(integral)"
   ]
  },
  {
   "cell_type": "markdown",
   "metadata": {},
   "source": [
    "$$\n",
    "\\Gamma(1/2)=\\sqrt{\\pi}\n",
    "$$"
   ]
  },
  {
   "cell_type": "code",
   "execution_count": 3,
   "metadata": {},
   "outputs": [
    {
     "name": "stdout",
     "output_type": "stream",
     "text": [
      "1.7724538509055159\n",
      "1.7724538509055159\n"
     ]
    }
   ],
   "source": [
    "import scipy.special as ss \n",
    "import numpy as np\n",
    "\n",
    "print(ss.gamma(0.5))\n",
    "print(np.sqrt(np.pi))"
   ]
  },
  {
   "cell_type": "markdown",
   "metadata": {},
   "source": [
    "$$\n",
    "\\Gamma(n+1)=n!\n",
    "$$"
   ]
  },
  {
   "cell_type": "code",
   "execution_count": 4,
   "metadata": {},
   "outputs": [
    {
     "name": "stdout",
     "output_type": "stream",
     "text": [
      "362880.0\n",
      "362880.0\n"
     ]
    }
   ],
   "source": [
    "import scipy.special as ss \n",
    "\n",
    "print(ss.gamma(10))\n",
    "print(ss.factorial(9))"
   ]
  }
 ],
 "metadata": {
  "kernelspec": {
   "display_name": "Python [conda env:anaconda3]",
   "language": "python",
   "name": "conda-env-anaconda3-py"
  },
  "language_info": {
   "codemirror_mode": {
    "name": "ipython",
    "version": 3
   },
   "file_extension": ".py",
   "mimetype": "text/x-python",
   "name": "python",
   "nbconvert_exporter": "python",
   "pygments_lexer": "ipython3",
   "version": "3.5.0"
  }
 },
 "nbformat": 4,
 "nbformat_minor": 2
}
