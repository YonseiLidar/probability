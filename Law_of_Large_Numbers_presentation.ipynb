{
 "cells": [
  {
   "cell_type": "markdown",
   "metadata": {},
   "source": [
    "# Law of Large Numbers"
   ]
  },
  {
   "cell_type": "markdown",
   "metadata": {},
   "source": [
    "<a href=\"#Weak-and-Strong-Convergence\">Weak and Strong Convergence</a>\n",
    "\n",
    "<a href=\"#Weak-and-Strong-Law-of-Large-Numbers\">Weak and Strong Law of Large Numbers</a>\n",
    "\n",
    "<a href=\"#Which-One-is-Weak-Law-of-Large-Numbers?\">Which One is Law of Large Numbers?</a>\n",
    "\n",
    "<a href=\"#CLT-+-LLN\">CLT + LLN</a>"
   ]
  },
  {
   "cell_type": "markdown",
   "metadata": {},
   "source": [
    "# Weak and Strong Convergence"
   ]
  },
  {
   "cell_type": "markdown",
   "metadata": {},
   "source": [
    "$$\n",
    "\\displaystyle \n",
    "X_n\n",
    "\\approx\n",
    "X\n",
    "$$"
   ]
  },
  {
   "cell_type": "markdown",
   "metadata": {},
   "source": [
    "##### Weak convergence\n",
    "\n",
    "$$\n",
    "\\displaystyle \n",
    "X_n\\rightarrow X\\quad\\mbox{in probability}\n",
    "\\quad\\mbox{if}\\quad\n",
    "P\\left(|X_n-X|>\\varepsilon\\right)\\rightarrow 0\\quad\\mbox{for any $\\varepsilon>0$}\n",
    "$$"
   ]
  },
  {
   "cell_type": "markdown",
   "metadata": {},
   "source": [
    "##### Strong convergence\n",
    "\n",
    "$$\n",
    "\\displaystyle \n",
    "X_n\\rightarrow X\\quad\\mbox{a.s. (almost surely)}\n",
    "\\quad\\mbox{if}\\quad\n",
    "P\\left(X_n\\rightarrow X\\ \\mbox{as $n\\rightarrow\\infty$}\\right)=1\n",
    "$$"
   ]
  },
  {
   "cell_type": "markdown",
   "metadata": {},
   "source": [
    "[<a href=\"#Law-of-Large-Numbers\">Back to top</a>]"
   ]
  },
  {
   "cell_type": "markdown",
   "metadata": {},
   "source": [
    "# Weak and Strong Law of Large Numbers"
   ]
  },
  {
   "cell_type": "markdown",
   "metadata": {},
   "source": [
    "$$EX\\approx\\frac{1}{n}\\sum_{i=1}^nX_i$$"
   ]
  },
  {
   "cell_type": "markdown",
   "metadata": {},
   "source": [
    "##### Weak law of large numbers\n",
    "\n",
    "$$\n",
    "\\mbox{$X_i$ iid with $E|X_i|<\\infty$}\n",
    "\\quad\\Rightarrow\\quad\n",
    "\\frac{1}{n}\\sum_{i=1}^nX_i\\rightarrow EX\\quad\\mbox{in probability}\n",
    "$$"
   ]
  },
  {
   "cell_type": "markdown",
   "metadata": {},
   "source": [
    "##### Strong law of large numbers\n",
    "\n",
    "$$\n",
    "\\mbox{$X_i$ iid with $E|X_i|<\\infty$}\n",
    "\\quad\\Rightarrow\\quad\n",
    "\\frac{1}{n}\\sum_{i=1}^nX_i\\rightarrow EX\\quad\\mbox{a.s.}\n",
    "$$"
   ]
  },
  {
   "cell_type": "markdown",
   "metadata": {},
   "source": [
    "##### Proof of weak law of large numbers (with finite 2nd moment)\n",
    "\n",
    "$$\\begin{array}{lll}\n",
    "\\mbox{Mean}&&\\displaystyle \\mathbb{E}\\left(\\frac{S_n}{n}\\right)=\\mu\\nonumber\\\\\n",
    "\\mbox{Variance}&&\\displaystyle Var\\left(\\frac{S_n}{n}\\right)=\\frac{\\sigma^2}{n}\\nonumber\\\\\n",
    "\\mbox{Chebyshev}&&\\displaystyle \\mathbb{P}\\left(\\left|\\frac{S_n}{n}-\\mu\\right|>\\varepsilon\\right)\\le \\frac{Var(\\frac{S_n}{n})}{\\varepsilon^2}=\\frac{\\sigma^2/n}{\\varepsilon^2}=Cn^{-1}\\rightarrow 0\\nonumber\\\\\n",
    "\\end{array}$$"
   ]
  },
  {
   "cell_type": "markdown",
   "metadata": {},
   "source": [
    "##### Proof of strong law of large numbers (with finite 4th moment)\n",
    "\n",
    "\\begin{eqnarray}\n",
    "\\sum_{n=1}^{\\infty}\n",
    "\\mathbb{E}\\left(\\frac{S_n-n\\mu}{n}\\right)^4\n",
    "\\le\n",
    "C\n",
    "\\sum_{n=1}^{\\infty}\n",
    "n^{-2}\n",
    "<\\infty\n",
    "&\\Rightarrow&\n",
    "\\sum_{n=1}^{\\infty}\n",
    "\\left(\\frac{S_n-n\\mu}{n}\\right)^4<\\infty\n",
    "\\quad\\mbox{a.s.}\\nonumber\\\\\n",
    "&\\Rightarrow&\n",
    "\\left(\\frac{S_n-n\\mu}{n}\\right)^4\\rightarrow 0\n",
    "\\quad\\mbox{a.s.}\\nonumber\\\\\n",
    "&\\Rightarrow&\n",
    "\\frac{S_n}{n}\\rightarrow \\mu\n",
    "\\quad\\mbox{a.s.}\\nonumber\n",
    "\\end{eqnarray}"
   ]
  },
  {
   "cell_type": "markdown",
   "metadata": {},
   "source": [
    "[<a href=\"#Law-of-Large-Numbers\">Back to top</a>]"
   ]
  },
  {
   "cell_type": "markdown",
   "metadata": {},
   "source": [
    "# Which One is Law of Large Numbers?"
   ]
  },
  {
   "cell_type": "markdown",
   "metadata": {},
   "source": [
    "We flip a fair coin and record 1 if head, 0 otherwise.\n",
    "In the top we flip a fair coin many times and record the sample mean as a function of the number of flips. In the bottom we flip a fair coin 1000 times and record the sample mean. We do this 1000 times and draw the histogram of the sample mean of the 1000 flips.\n",
    "Which one is the weak law and which one is the strong law?\n",
    "\n",
    "<div align=\"center\"><img src=\"img/Screen Shot 2017-12-15 at 2.05.39 PM.png\" width=\"40%\"></div>\n",
    "\n",
    "<div align=\"center\"><img src=\"img/Screen Shot 2017-12-15 at 2.05.47 PM.png\" width=\"40%\"></div>"
   ]
  },
  {
   "cell_type": "markdown",
   "metadata": {},
   "source": [
    "[<a href=\"#Law-of-Large-Numbers\">Back to top</a>]"
   ]
  },
  {
   "cell_type": "markdown",
   "metadata": {},
   "source": [
    "# CLT + LLN"
   ]
  },
  {
   "cell_type": "markdown",
   "metadata": {},
   "source": [
    "If $X_i$ are iid with $EX_i^2<\\infty$,\n",
    "\n",
    "$$\n",
    "\\displaystyle \n",
    "\\frac{\\bar{X}-\\mu}{\\sigma/\\sqrt{n}}\n",
    "\\approx \n",
    "\\frac{\\bar{X}-\\mu}{S/\\sqrt{n}}\n",
    "\\approx \n",
    "N(0,1)\n",
    "$$\n",
    "where\n",
    "$$\n",
    "\\bar{X}=\\frac{1}{n}\\sum_{i=1}^nX_i\n",
    "\\quad\\mbox{and}\\quad\n",
    "S^2=\\frac{1}{n-1}\\sum_{i=1}^n(X_i-\\bar{X})^2\n",
    "$$"
   ]
  },
  {
   "cell_type": "markdown",
   "metadata": {},
   "source": [
    "##### If we know $\\sigma$\n",
    "\n",
    "$$\n",
    "\\frac{\\bar{X}-\\mu}{\\sigma/\\sqrt{n}}\n",
    "\\approx N(0,1)\n",
    "\\quad\\mbox{by CLT}\n",
    "$$"
   ]
  },
  {
   "cell_type": "markdown",
   "metadata": {},
   "source": [
    "##### If we don't know $\\sigma$\n",
    "\n",
    "$$\n",
    "\\frac{\\bar{X}-\\mu}{S/\\sqrt{n}}\n",
    "\\approx N(0,1)\n",
    "\\quad\\mbox{by CLT + LLN}\n",
    "$$"
   ]
  },
  {
   "cell_type": "markdown",
   "metadata": {},
   "source": [
    "\\begin{eqnarray}\n",
    "\\displaystyle \n",
    "\\sum_{i=1}^n(X_i-\\mu)^2\n",
    "&=&\\displaystyle \\sum_{i=1}^n((X_i-\\bar{X})+(\\bar{X}-\\mu))^2\\nonumber\\\\\n",
    "&=&\\displaystyle \\sum_{i=1}^n(X_i-\\bar{X})^2+n(\\bar{X}-\\mu)^2+2(\\bar{X}-\\mu)\\sum_{i=1}^n(X_i-\\bar{X})\\nonumber\\\\\n",
    "&=&\\displaystyle \\sum_{i=1}^n(X_i-\\bar{X})^2+n(\\bar{X}-\\mu)^2\\nonumber\n",
    "\\end{eqnarray}\n",
    "\n",
    "$$\n",
    "\\displaystyle \n",
    "\\frac{1}{n-1}\\sum_{i=1}^n(X_i-\\mu)^2\n",
    "=S^2+\\frac{n}{n-1}(\\bar{X}-\\mu)^2\\nonumber\n",
    "$$\n",
    "\n",
    "$$\n",
    "\\displaystyle \n",
    "P(|\\bar{X}-\\mu|\\ge\\varepsilon)\\le\\frac{\\sigma^2/n}{\\varepsilon^2}\\rightarrow 0,\\quad\n",
    "\\frac{1}{n}\\sum_{i=1}^n(X_i-\\mu)^2\n",
    "\\rightarrow \\sigma^2\n",
    "\\quad\\Rightarrow\\quad\n",
    "S^2\\rightarrow \\sigma^2\n",
    "$$\n"
   ]
  },
  {
   "cell_type": "markdown",
   "metadata": {},
   "source": [
    "[<a href=\"#Law-of-Large-Numbers\">Back to top</a>]"
   ]
  },
  {
   "cell_type": "markdown",
   "metadata": {},
   "source": [
    "### Example - Monte Carlo Estimation of PI"
   ]
  },
  {
   "cell_type": "markdown",
   "metadata": {},
   "source": [
    "- Draw $n$ random points $X_i$ from $[-1,1]^2$\n",
    "\n",
    "- Record $R_i$ whether the point is inside of the unit circle.\n",
    "$$\n",
    "R_i=\\left\\{\\begin{array}{ll}\n",
    "1&\\mbox{if $X_i$ is inside of the unit circle}\\\\\n",
    "0&\\mbox{otherwise}\n",
    "\\end{array}\\right.\n",
    "$$"
   ]
  },
  {
   "cell_type": "markdown",
   "metadata": {},
   "source": [
    "$$\n",
    "\\frac{\\pi}{4}\\quad=\\quad\\mathbb{E}R\\quad\\approx\\quad\\frac{1}{n}\\sum_{i=1}^nR_i\n",
    "$$\n",
    "or\n",
    "$$\n",
    "\\pi\\quad\\approx\\quad\\frac{4}{n}\\sum_{i=1}^nR_i\n",
    "$$"
   ]
  },
  {
   "cell_type": "markdown",
   "metadata": {},
   "source": [
    "### Example -  Buffon's Needle"
   ]
  },
  {
   "cell_type": "markdown",
   "metadata": {},
   "source": [
    "- On a paper we draw parallel lines 1 units apart.\n",
    "\n",
    "- We drop a needle of length 1 onto the paper $n$ times and record $R_i$ whether the needle intersect the line.\n",
    "$$\n",
    "R_i=\\left\\{\\begin{array}{ll}\n",
    "1&\\mbox{if the needle intersect the line at the $i$-th drop}\\\\\n",
    "0&\\mbox{otherwise}\n",
    "\\end{array}\\right.\n",
    "$$"
   ]
  },
  {
   "cell_type": "markdown",
   "metadata": {},
   "source": [
    "$$\n",
    "\\frac{2}{\\pi}\\quad=\\quad\\mathbb{E}R\\quad\\approx\\quad\\frac{1}{n}\\sum_{i=1}^nR_i\n",
    "$$\n",
    "or\n",
    "$$\n",
    "\\pi\\quad\\approx\\quad\\frac{2n}{\\sum_{i=1}^nR_i}\n",
    "$$"
   ]
  },
  {
   "cell_type": "markdown",
   "metadata": {},
   "source": [
    "### Example - Coupon Collector Problem"
   ]
  },
  {
   "cell_type": "markdown",
   "metadata": {},
   "source": [
    "Let $T_n$ be time to collect all $n$ different coupons. Then\n",
    "\n",
    "$$\n",
    "\\displaystyle \n",
    "\\frac{T_n}{n\\log n}\\rightarrow 1\\quad\\mbox{in probability}\n",
    "$$"
   ]
  },
  {
   "cell_type": "markdown",
   "metadata": {},
   "source": [
    "Let $\\tau_i$ be the minimum number of the happy meals that I have to eat\n",
    "to collect the $i$-th new toy after I get the $(i-1)$-th new toy.\n",
    "Then,\n",
    "\n",
    "\\begin{eqnarray}\n",
    "(1)&&\\quad\\displaystyle T_n=\\sum_{i=1}^n\\tau_i\\nonumber\\\\\n",
    "(2)&&\\quad\\displaystyle \\tau_i\\ \\mbox{is $Geo(\\frac{N-(i-1)}{N})$}\\nonumber\\\\\n",
    "(3)&&\\quad\\displaystyle \\tau_i\\ \\mbox{are independent}\\nonumber\n",
    "\\end{eqnarray}"
   ]
  },
  {
   "cell_type": "markdown",
   "metadata": {},
   "source": [
    "[Step 1] Compute the mean.\n",
    "\n",
    "$$\n",
    "\\displaystyle \n",
    "\\mathbb{E}T_n=\\sum_{i=1}^n\\mathbb{E}\\tau_i=n\\left(1+\\frac{1}{2}+\\frac{1}{3}+\\cdots+\\frac{1}{n}\\right)\\sim n\\log n\n",
    "$$\n",
    "\n",
    "[Step 2] Compute the variance.\n",
    "\n",
    "$$\n",
    "\\displaystyle \n",
    "Var(T_n)=\\sum_{i=1}^nVar(\\tau_i)\\le Cn^2\n",
    "$$\n",
    "\n",
    "[Step 3] Apply Chebyshev's inequality.\n",
    "\n",
    "$$\n",
    "\\displaystyle \n",
    "\\mathbb{P}\\left(\\left|\\frac{T_n-ET_n}{a_n}\\right|>\\varepsilon\\right)\\le \\frac{Var(T_n)}{\\varepsilon^2a_n^2}\\rightarrow 0\n",
    "$$\n",
    "\n",
    "where we choose $a_n$ as $a_n=n\\log n$ so that\n",
    "\n",
    "\\begin{eqnarray}\n",
    "(A)&&\\displaystyle \\frac{Var(T_n)}{a_n^2}\\rightarrow 0\\nonumber\\\\\n",
    "(B)&&\\displaystyle \\frac{ET_n}{a_n}\\rightarrow 1\\nonumber\n",
    "\\end{eqnarray}"
   ]
  }
 ],
 "metadata": {
  "kernelspec": {
   "display_name": "Python 3",
   "language": "python",
   "name": "python3"
  },
  "language_info": {
   "codemirror_mode": {
    "name": "ipython",
    "version": 3
   },
   "file_extension": ".py",
   "mimetype": "text/x-python",
   "name": "python",
   "nbconvert_exporter": "python",
   "pygments_lexer": "ipython3",
   "version": "3.5.0"
  }
 },
 "nbformat": 4,
 "nbformat_minor": 2
}
