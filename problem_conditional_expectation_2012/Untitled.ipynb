{
 "cells": [
  {
   "cell_type": "markdown",
   "metadata": {},
   "source": [
    "<div align=\"center\"><img src=\"img/2012-2.png\" width=\"70%\"></div>"
   ]
  },
  {
   "cell_type": "markdown",
   "metadata": {},
   "source": [
    "$$\\begin{array}{llllllllll}\n",
    "P(X=1|Y=1)&\\propto&\\frac{3*1-1}{12}&\\propto&2&\\propto&\\frac{2}{7}\\\\\n",
    "P(X=2|Y=1)&\\propto&\\frac{3*2-1}{12}&\\propto&5&\\propto&\\frac{5}{7}\\\\\n",
    "\\end{array}$$\n",
    "$$$$\n",
    "$$\\begin{array}{lll}\n",
    "E(X|Y=1)\n",
    "&=&\\sum_x xP(X=x|Y=1)\\\\\n",
    "&=&1*\\frac{2}{7}+2*\\frac{5}{7}=\\frac{12}{7}\n",
    "\\end{array}$$"
   ]
  },
  {
   "cell_type": "code",
   "execution_count": null,
   "metadata": {},
   "outputs": [],
   "source": []
  }
 ],
 "metadata": {
  "kernelspec": {
   "display_name": "Python 3",
   "language": "python",
   "name": "python3"
  },
  "language_info": {
   "codemirror_mode": {
    "name": "ipython",
    "version": 3
   },
   "file_extension": ".py",
   "mimetype": "text/x-python",
   "name": "python",
   "nbconvert_exporter": "python",
   "pygments_lexer": "ipython3",
   "version": "3.6.9"
  }
 },
 "nbformat": 4,
 "nbformat_minor": 2
}
