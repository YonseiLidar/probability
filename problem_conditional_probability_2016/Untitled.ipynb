{
 "cells": [
  {
   "cell_type": "markdown",
   "metadata": {},
   "source": [
    "<div align=\"center\"><img src=\"img/2016-1.png\" width=\"70%\"></div>"
   ]
  },
  {
   "cell_type": "markdown",
   "metadata": {},
   "source": [
    "For $n\\ge 2$\n",
    "$$\\begin{array}{lll}\n",
    "P(A=0,B=2)&=&\\frac{2n(2n-1)}{2}*(1-p)^n*p^2(1-p)^{2n-2}\\\\\n",
    "P(A=1,B=1)&=&n(2n)*p(1-p)^{n-1}*p(1-p)^{2n-1}\\\\\n",
    "P(A=2,B=0)&=&\\frac{n(n-1)}{2}*p^2(1-p)^{n-2}*(1-p)^{2n}\\\\\n",
    "\\end{array}$$\n",
    "$$$$\n",
    "$$\\begin{array}{lll}\n",
    "\\displaystyle\n",
    "P(A=1|A+B=2)\n",
    "&=&\n",
    "\\displaystyle\n",
    "\\frac{n(2n)}{\\frac{2n(2n-1)}{2}+n(2n)+\\frac{n(n-1)}{2}}\\\\\n",
    "&=&\n",
    "\\displaystyle\n",
    "\\frac{2n}{\\frac{2(2n-1)}{2}+2n+\\frac{n-1}{2}}\\\\\n",
    "&=&\n",
    "\\displaystyle\n",
    "\\frac{2n}{(2n-1)+2n+\\frac{n-1}{2}}\\\\\n",
    "&=&\n",
    "\\displaystyle\n",
    "\\frac{4n}{2*(2n-1)+4n+(n-1)}\\\\\n",
    "&=&\n",
    "\\displaystyle\n",
    "\\frac{4n}{9n-3}\\\\\n",
    "&=&\n",
    "\\displaystyle\n",
    "\\frac{6}{13}\\\\\n",
    "\\end{array}$$\n",
    "$$$$\n",
    "$$\n",
    "n=9\n",
    "$$\n",
    "$$$$\n",
    "For $n=1$\n",
    "$$\n",
    "P(A=1|A+B=2)=\\frac{2}{3}\n",
    "$$"
   ]
  },
  {
   "cell_type": "code",
   "execution_count": null,
   "metadata": {},
   "outputs": [],
   "source": []
  }
 ],
 "metadata": {
  "kernelspec": {
   "display_name": "Python 3",
   "language": "python",
   "name": "python3"
  },
  "language_info": {
   "codemirror_mode": {
    "name": "ipython",
    "version": 3
   },
   "file_extension": ".py",
   "mimetype": "text/x-python",
   "name": "python",
   "nbconvert_exporter": "python",
   "pygments_lexer": "ipython3",
   "version": "3.6.9"
  }
 },
 "nbformat": 4,
 "nbformat_minor": 2
}
