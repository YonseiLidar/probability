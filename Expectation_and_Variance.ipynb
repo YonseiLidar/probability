{
 "cells": [
  {
   "cell_type": "markdown",
   "metadata": {},
   "source": [
    "# Expectation and Variance\n",
    "\n",
    "<a href=\"#Expectation\">Expectation</a>\n",
    "\n",
    "<a href=\"#Properties-of-Expectation\">Properties of Expectation</a>\n",
    "\n",
    "<a href=\"#Variance\">Variance</a>\n",
    "\n",
    "<a href=\"#Properties-of-Variance\">Properties of Variance</a>\n",
    "\n",
    "<a href=\"#Mean-and-Variance-of-Sum-of-Random-Variables\">Mean and Variance of Sum of Random Variables</a>\n",
    "\n",
    "<a href=\"#Mean-and-Variance-of-Weighted-Sum-of-Random-Variables\">Mean and Variance of Weighted Sum of Random Variables</a>\n",
    "\n",
    "<a href=\"#Mean-and-Variance-of-Weighted-Sum-of-Random-Variables---Matrix-Form\">Mean and Variance of Weighted Sum of Random Variables - Matrix Form</a>\n",
    "\n",
    "<a href=\"#Standard-Deviation\">Standard Deviation</a>\n",
    "\n",
    "<a href=\"#Standardization-and-Reverse-Standardization\">Standardization and Reverse Standardization</a>\n",
    "\n",
    "<a href=\"#scipy.stats\">scipy.stats</a>\n",
    "\n",
    "<a href=\"#Skewness-and-Kurtosis\">Skewness and Kurtosis</a>"
   ]
  },
  {
   "cell_type": "markdown",
   "metadata": {},
   "source": [
    "# Expectation"
   ]
  },
  {
   "cell_type": "markdown",
   "metadata": {},
   "source": [
    "### Definition\n",
    "\n",
    "$$\\begin{array}{lllllllll}\n",
    "\\mbox{Discrete}&EX&=&\\displaystyle\\sum_x x * P(X=x)\\\\\n",
    "\\mbox{Continuous}&EX&=&\\displaystyle\\int_{-\\infty}^{\\infty} x f(x)dx\\\\\n",
    "\\end{array}$$"
   ]
  },
  {
   "cell_type": "markdown",
   "metadata": {},
   "source": [
    "### Interpretation 1\n",
    "\\begin{eqnarray}\n",
    "\\underbrace{\\mathbb{E}(X)}_{\\mbox{Expected payoff}}\n",
    "&=&\\quad\\quad\\sum_{x_i}\\quad \\underbrace{x_i}_{\\mbox{Payoff}}\\quad\\times \\underbrace{p_{x_i}}_{\\mbox{ Probability}}\\nonumber\n",
    "\\end{eqnarray}"
   ]
  },
  {
   "cell_type": "markdown",
   "metadata": {},
   "source": [
    "### Interpretation 2\n",
    "\\begin{eqnarray}\n",
    "\\underbrace{\\mathbb{E}(X)}_{\\mbox{Area under curve}}\n",
    "&=&\\quad\\quad\\sum_{x_i}\\quad \\underbrace{x_i}_{\\mbox{Height}}\\quad\\times\\quad \\underbrace{P(X=x_i)}_{\\mbox{Width}}\\nonumber\n",
    "\\end{eqnarray}"
   ]
  },
  {
   "cell_type": "markdown",
   "metadata": {},
   "source": [
    "<div align=\"center\"><img src=\"img/interpretation 2.png\" width=\"50%\"></div>"
   ]
  },
  {
   "cell_type": "markdown",
   "metadata": {
    "collapsed": true
   },
   "source": [
    "[<a href=\"#Expectation-and-Variance\">Back to top</a>]"
   ]
  },
  {
   "cell_type": "markdown",
   "metadata": {},
   "source": [
    "# Properties of Expectation"
   ]
  },
  {
   "cell_type": "markdown",
   "metadata": {},
   "source": [
    "### Expectation as a linear operator\n",
    "\\begin{eqnarray}\n",
    "(1)&&\\quad\\displaystyle \\mathbb{E}(X+Y)=\\mathbb{E}(X)+\\mathbb{E}(Y)\\nonumber\\\\\n",
    "(2)&&\\quad\\displaystyle \\mathbb{E}(aX)=a\\mathbb{E}(X)\\nonumber\\\\\n",
    "(3)&&\\quad\\displaystyle \\mathbb{E}(a)=a\\nonumber\n",
    "\\end{eqnarray}"
   ]
  },
  {
   "cell_type": "markdown",
   "metadata": {},
   "source": [
    "### Change of variable \n",
    "\\begin{eqnarray}\n",
    "(4)&&\\quad\\displaystyle \\mathbb{E}[g(X)]=\\sum_{x_i}g(x_i)p_{x_i}\\nonumber\\\\\n",
    "(5)&&\\quad\\displaystyle \\mathbb{E}[g(X,Y)]=\\sum_{x_i}\\sum_{y_j}g(x_i,y_j)p_{x_i,y_j}\\nonumber\n",
    "\\end{eqnarray}"
   ]
  },
  {
   "cell_type": "markdown",
   "metadata": {},
   "source": [
    "### Product of independent random variables\n",
    "\\begin{array}{llllllll}\n",
    "(6)&&\\quad\\displaystyle \\mathbb{E}\\left[XY\\right]=\\mathbb{E}\\left[X\\right]\\mathbb{E}\\left[Y\\right]&&\\mbox{if $X$ and $Y$ are independent}\\nonumber\\\\\n",
    "\\nonumber\\\\\n",
    "(7)&&\\quad\\displaystyle \\mathbb{E}\\left[g(X)h(Y)\\right]=\\mathbb{E}\\left[g(X)\\right]\\mathbb{E}\\left[h(Y)\\right]&&\\mbox{if $X$ and $Y$ are independent}\\nonumber\n",
    "\\end{array}"
   ]
  },
  {
   "cell_type": "markdown",
   "metadata": {},
   "source": [
    "### No free lunch\n",
    "\\begin{eqnarray}\n",
    "(8)\\ &&\\quad\\displaystyle X\\ge 0\\  \\quad\\Rightarrow\\quad \\mathbb{E}(X)\\ge 0\\nonumber\\\\\n",
    "\\nonumber\\\\\n",
    "(9)\\ &&\\quad\\displaystyle X\\ge Y\\quad\\Rightarrow\\quad \\mathbb{E}(X)\\ge \\mathbb{E}(Y)\\nonumber\\\\\n",
    "\\nonumber\\\\\n",
    "(10)&&\\quad\\displaystyle |\\mathbb{E}(X)|\\le \\mathbb{E}(|X|)\\nonumber\n",
    "\\end{eqnarray}"
   ]
  },
  {
   "cell_type": "markdown",
   "metadata": {},
   "source": [
    "### Cauchy-Schwartz inequality\n",
    "\\begin{eqnarray}\n",
    "(11)&&\\quad\\displaystyle \\mathbb{E}|XY|\\le (\\mathbb{E}X^2)^{1/2}(\\mathbb{E}Y^2)^{1/2}\\nonumber\n",
    "\\end{eqnarray}"
   ]
  },
  {
   "cell_type": "markdown",
   "metadata": {},
   "source": [
    "\\begin{eqnarray}\n",
    "\\mathbb{E}(X+Y)\n",
    "&=&\\sum_{x_i}\\sum_{y_j}(x_i+y_j)p_{x_i,y_j}\\nonumber\\\\\n",
    "&=&\\sum_{x_i}\\sum_{y_j}x_ip_{x_i,y_j}+\\sum_{x_i}\\sum_{y_j}y_jp_{x_i,y_j}\\nonumber\\\\\n",
    "&=&\\sum_{x_i}x_i\\left(\\sum_{y_j}p_{x_i,y_j}\\right)+\\sum_{y_j}y_j\\left(\\sum_{x_i}p_{x_i,y_j}\\right)\\nonumber\\\\\n",
    "&=&\\sum_{x_i}x_ip_{x_i}+\\sum_{y_j}y_jp_{y_j}\\nonumber\\\\\n",
    "&=&\\mathbb{E}(X)+\\mathbb{E}(Y)\\nonumber\n",
    "\\end{eqnarray}"
   ]
  },
  {
   "cell_type": "markdown",
   "metadata": {},
   "source": [
    "<div align=\"center\"><img src=\"img/Change of variable.png\" width=\"50%\"></div>"
   ]
  },
  {
   "cell_type": "markdown",
   "metadata": {},
   "source": [
    "\\begin{eqnarray}\n",
    "\\mathbb{E}[g(X)]\n",
    "&=&\\sum_{g_k}g_kP(g(X)=g_k)\\nonumber\\\\\n",
    "&=&\\sum_{g_k}g_k\\left(\\sum_{x_i,\\ g(x_i)=g_k}p_{x_i}\\right)\\nonumber\\\\\n",
    "%&=&\\sum_{g_k}\\left(\\sum_{x_i,\\ g(x_i)=g_k}{\\color{red}g_k}p_{x_i}\\right)\\nonumber\\\\\n",
    "&=&\n",
    "\\sum_{g_k}\\left(\\sum_{x_i,\\ g(x_i)=g_k}g(x_i)p_{x_i}\\right)\\nonumber\\\\\n",
    "%&=&\\sum_{g_k}\\sum_{x_i,\\ g(x_i)=g_k}g(x_i)p_{x_i}\\nonumber\\\\\n",
    "&=&\\sum_{x_i}\\ g(x_i)p_{x_i}\\nonumber\n",
    "\\end{eqnarray}"
   ]
  },
  {
   "cell_type": "markdown",
   "metadata": {},
   "source": [
    "\\begin{eqnarray}\n",
    "\\mathbb{E}[XY]\n",
    "&=&\n",
    "\\sum_{x_i}\\sum_{y_j}x_iy_jp_{x_i,y_j}\n",
    "=\n",
    "\\sum_{x_i}\\sum_{y_j}x_iy_jp_{x_i}p_{y_j}\\nonumber\\\\\n",
    "&=&\n",
    "\\left(\\sum_{x_i}x_ip_{x_i}\\right)\n",
    "\\left(\\sum_{y_j}y_jp_{y_j}\\right)\n",
    "=\\mathbb{E}[X]\\mathbb{E}[Y]\\nonumber\n",
    "\\end{eqnarray}"
   ]
  },
  {
   "cell_type": "markdown",
   "metadata": {},
   "source": [
    "$$\n",
    "X\\ge 0\n",
    "\\ \\ \\Rightarrow\\ \\ \n",
    "x_i\\ge 0\n",
    "\\ \\ \\Rightarrow\\ \\ \n",
    "\\mathbb{E}(X)=\\sum_{x_i}x_ip_{x_i}\\ge 0\n",
    "$$"
   ]
  },
  {
   "cell_type": "markdown",
   "metadata": {},
   "source": [
    "\\begin{eqnarray}\n",
    "X\\ge Y\n",
    "\\quad\\Rightarrow\\quad\n",
    "X-Y\\ge 0\n",
    "&\\Rightarrow&\n",
    "\\mathbb{E}(X-Y)\\ge 0\\nonumber\\\\\n",
    "&\\Rightarrow&\n",
    "\\mathbb{E}(X)-\\mathbb{E}(Y)\\ge 0\n",
    "\\quad\\Rightarrow\\quad\n",
    "\\mathbb{E}(X)\\ge \\mathbb{E}(Y)\\nonumber\n",
    "\\end{eqnarray}"
   ]
  },
  {
   "cell_type": "markdown",
   "metadata": {},
   "source": [
    "### Proof of Cauchy-Schwartz inequality\n",
    "\n",
    "If $\\mathbb{E}X^2=0$, $X=0$ with probability 1 and hence $\\mathbb{E}|XY|=0$.\n",
    "By the same token, \n",
    "if $\\mathbb{E}Y^2=0$, then $\\mathbb{E}|XY|=0$.\n",
    "In these two extreme cases (11) holds trivially.\n",
    "So, without loss of generality\n",
    "we assume that $\\mathbb{E}X^2>0$ and $\\mathbb{E}Y^2>0$.\n",
    "\n",
    "With $t=-\\mathbb{E}|XY|/\\mathbb{E}Y^2$\n",
    "\\begin{eqnarray}\n",
    "\\displaystyle \n",
    "(|X|+t|Y|)^2\n",
    "=X^2+2t|XY|+t^2Y^2\\ge 0\n",
    "&\\quad\\Rightarrow\\quad&\\displaystyle \n",
    "\\mathbb{E}X^2+2t\\mathbb{E}|XY|+t^2\\mathbb{E}Y^2\\ge 0\\nonumber\\\\\n",
    "&\\quad\\Rightarrow\\quad&\\displaystyle \n",
    "(\\mathbb{E}X^2)(\\mathbb{E}Y^2)\\ge (\\mathbb{E}|XY|)^2\\nonumber\n",
    "\\end{eqnarray}"
   ]
  },
  {
   "cell_type": "markdown",
   "metadata": {},
   "source": [
    "### Example - Expectation of coin related random variables\n",
    "\n",
    "\\begin{array}{ccc}\\hline\n",
    "\\mbox{Distribution}&\\mbox{Expectation}&\\mbox{Variance}\\\\\\hline\n",
    "B(p)&p&pq\\\\\n",
    "B(n,p)&np&npq\\\\\n",
    "Geo(p)&\\frac{1}{p}&\\frac{q}{p^2}\\\\\n",
    "NB(r,p)&\\frac{r}{p}&\\frac{rq}{p^2}\\\\\\hline\n",
    "\\end{array}"
   ]
  },
  {
   "cell_type": "markdown",
   "metadata": {},
   "source": [
    "$$\n",
    "X\\sim B(p)\\ \\ \\Rightarrow\\ \\ \\mathbb{E}(X)=1\\times p+0\\times q=p\n",
    "$$\n",
    "\n",
    "\n",
    "\\begin{eqnarray}\n",
    "X\\sim B(n,p)\n",
    "&\\Rightarrow&X=\\sum_{i=1}^nX_i,\\ X_i\\ \\mbox{iid}\\ B(p)\\nonumber\\\\\n",
    "&\\Rightarrow&\\mathbb{E}(X)=\\sum_{i=1}^n\\mathbb{E}(X_i)=np\\nonumber\n",
    "\\end{eqnarray}\n",
    "\n",
    "\n",
    "\n",
    "\\begin{eqnarray}\n",
    "1+x+x^2+\\cdots=\\frac{1}{1-x}\n",
    "&\\stackrel{\\mbox{Diff wrt $x$}}{\\Rightarrow}&1+2x+3x^2+\\cdots=\\frac{1}{(1-x)^2}\\nonumber\\\\\n",
    "&\\stackrel{\\mbox{Let $x=q$}}{\\Rightarrow}&1+2q+3q^2+\\cdots=\\frac{1}{p^2}\\nonumber\\\\\n",
    "&\\Rightarrow&X\\sim Geo(p)\\ \\ \\Rightarrow\\ \\  \\mathbb{E}(X)=\\left(\\sum_{k=1}^{\\infty} kq^{k-1}\\right)p=\\frac{1}{p}\\nonumber\n",
    "\\end{eqnarray}\n",
    "\n",
    "\n",
    "\\begin{eqnarray}\n",
    "X\\sim NB(r,p)\n",
    "&\\Rightarrow&X=\\sum_{i=1}^rX_i,\\ X_i\\ \\mbox{iid}\\ Geo(p)\\nonumber\\\\\n",
    "&\\Rightarrow&\\mathbb{E}(X)=\\sum_{i=1}^r\\mathbb{E}(X_i)=\\frac{r}{p}\\nonumber\n",
    "\\end{eqnarray}"
   ]
  },
  {
   "cell_type": "markdown",
   "metadata": {},
   "source": [
    "### Example - Maximization of expected profit\n",
    "\n",
    "A newsboy purchases papers at 10 cents and sells them at 15 cents. However, he is not allowed to return unsold papers. \n",
    "If his daily demand $X$ is $B(n,p)$ \n",
    "with $n=10$, $p=0.4$, \n",
    "approximately how many papers should he purchase \n",
    "so as to maximize his expected profit?"
   ]
  },
  {
   "cell_type": "markdown",
   "metadata": {},
   "source": [
    "With $t$ purchase,\n",
    "his profit $Y(t)$ and expected profit $f(t)=EY(t)$ are\n",
    "\\begin{eqnarray}\n",
    "Y(t)\n",
    "&=&\n",
    "\\left\\{\\begin{array}{ll}\n",
    "5t&\\mbox{if}\\ X\\ge t\\\\ \n",
    "5X-10(t-X)&\\mbox{if}\\ X< t\n",
    "\\end{array}\\right.\\nonumber\\\\\n",
    "f(t)\n",
    "&=&\n",
    "5tP(X\\ge t)+\\sum_{i=0}^{t-1}(15i-10t)P(X=i)\\nonumber\n",
    "\\end{eqnarray}\n",
    "\n",
    "\n",
    "To find an optimal $t_0$ that maximize $f(t)$,\n",
    "differentiate $f(t)$ discretely:\n",
    "Find $t_0$ with\n",
    "\\begin{eqnarray}\n",
    "f(t_0)-f(t_0-1)&=&15P(X\\ge t_0)-10\\ge 0\\nonumber\\\\\n",
    "f(t_0+1)-f(t_0)&=&15P(X\\ge t_0+1)-10\\le 0\\nonumber\n",
    "\\end{eqnarray}\n",
    "or\n",
    "$$\n",
    "P(X\\le t_0-1)\\le \\frac{1}{3}\\ \\ \\ \\ \\ \\mbox{and}\\ \\ \\ \\ \\ P(X\\le t_0)\\ge \\frac{1}{3}\n",
    "$$"
   ]
  },
  {
   "cell_type": "markdown",
   "metadata": {},
   "source": [
    "[<a href=\"#Expectation-and-Variance\">Back to top</a>]"
   ]
  },
  {
   "cell_type": "markdown",
   "metadata": {},
   "source": [
    "# Variance"
   ]
  },
  {
   "cell_type": "markdown",
   "metadata": {},
   "source": [
    "### Variance\n",
    "$$Var(X)=\\mathbb{E}(X-\\mathbb{E}X)^2=\\mathbb{E}X^2-\\left(\\mathbb{E}X\\right)^2$$\n",
    "\n",
    "### Covariance\n",
    "$$Cov(X,Y)=\\mathbb{E}[(X-\\mathbb{E}X)(Y-\\mathbb{E}Y)]\n",
    "=\\mathbb{E}(XY)-(\\mathbb{E}X)(\\mathbb{E}Y)$$\n",
    "\n",
    "### Correlation coefficient\n",
    "$$-1\\le \\rho=\\frac{Cov(X,Y)}{\\sqrt{Var(X)}\\sqrt{Var(Y)}}\\le 1$$"
   ]
  },
  {
   "cell_type": "markdown",
   "metadata": {},
   "source": [
    "\\begin{eqnarray}\n",
    "Var(X)\n",
    "&=&\\mathbb{E}(X-\\mathbb{E}X)^2\\nonumber\\\\\n",
    "&=&\\mathbb{E}(X^2-2(\\mathbb{E}X)X+(\\mathbb{E}X)^2)\\nonumber\\\\\n",
    "&=&\\mathbb{E}X^2-2(\\mathbb{E}X)\\mathbb{E}X+(\\mathbb{E}X)^2\\nonumber\\\\\n",
    "&=&\\mathbb{E}X^2-(\\mathbb{E}X)^2\\nonumber\n",
    "\\end{eqnarray}\n",
    "\n",
    "\n",
    "\\begin{eqnarray}\n",
    "Cov(X,Y)\n",
    "&=&\\mathbb{E}[(X-\\mathbb{E}X)(Y-\\mathbb{E}Y)]\\nonumber\\\\\n",
    "&=&\\mathbb{E}[XY-(\\mathbb{E}Y)X-(\\mathbb{E}X)Y+(\\mathbb{E}X)(\\mathbb{E}Y)]\\nonumber\\\\\n",
    "&=&\\mathbb{E}(XY)-(\\mathbb{E}Y)(\\mathbb{E}X)-(\\mathbb{E}X)(\\mathbb{E}Y)+(\\mathbb{E}X)(\\mathbb{E}Y)\\nonumber\\\\\n",
    "&=&\\mathbb{E}(XY)-(\\mathbb{E}Y)(\\mathbb{E}X)\\nonumber\n",
    "\\end{eqnarray}\n",
    "\n",
    "\n",
    "\\begin{eqnarray}\n",
    "|Cov(X,Y)|\n",
    "&\\le& \\mathbb{E}\\left|(X-\\mathbb{E}X)(Y-\\mathbb{E}Y)\\right|\\nonumber\\\\\n",
    "&\\le& (\\mathbb{E}(X-\\mathbb{E}X)^2)^{1/2}(\\mathbb{E}(Y-\\mathbb{E}Y)^2)^{1/2}=\\sqrt{Var(X)}\\sqrt{Var(Y)}\\nonumber\n",
    "\\end{eqnarray}"
   ]
  },
  {
   "cell_type": "markdown",
   "metadata": {},
   "source": [
    "$$\\begin{array}{lllllllll}\n",
    "\\mbox{Discrete}&EX^2&=&\\displaystyle\\sum_x x^2 * P(X=x)\\\\\n",
    "\\mbox{Continuous}&EX^2&=&\\displaystyle\\int_{-\\infty}^{\\infty} x^2 f(x)dx\\\\\n",
    "\\end{array}$$"
   ]
  },
  {
   "cell_type": "markdown",
   "metadata": {},
   "source": [
    "$$\\begin{array}{lllllllll}\n",
    "\\mbox{Discrete}&Var(X)&=&E(X-EX)^2&=&\\displaystyle\\sum_x (x-EX)^2 * P(X=x)\\\\\n",
    "\\mbox{Continuous}&Var(X)&=&E(X-EX)^2&=&\\displaystyle\\int_{-\\infty}^{\\infty} (x-EX)^2 f(x)dx\\\\\n",
    "\\end{array}$$"
   ]
  },
  {
   "cell_type": "markdown",
   "metadata": {},
   "source": [
    "### Covariance and correlation coefficient"
   ]
  },
  {
   "cell_type": "markdown",
   "metadata": {},
   "source": [
    "### np.cov\n",
    "\n",
    "- Sample variance\n",
    "\n",
    "### np.var\n",
    "\n",
    "- Population variance\n",
    "\n",
    "### np.corrcoef"
   ]
  },
  {
   "cell_type": "code",
   "execution_count": 7,
   "metadata": {},
   "outputs": [
    {
     "name": "stdout",
     "output_type": "stream",
     "text": [
      "[[0.06850187 0.07579437 0.14465894]\n",
      " [0.07579437 0.15955842 0.2263271 ]\n",
      " [0.14465894 0.2263271  0.44345162]]\n",
      "\n",
      "[[1.         0.72497975 0.82998629]\n",
      " [0.72497975 1.         0.85085113]\n",
      " [0.82998629 0.85085113 1.        ]]\n",
      "\n",
      "0.0685018746996935\n",
      "0.06781685595269657\n",
      "\n",
      "0.0685018746996935\n",
      "0.06781685595269657\n"
     ]
    }
   ],
   "source": [
    "import numpy as np\n",
    "\n",
    "n = 100\n",
    "x = np.random.uniform(0, 1, (1, n))\n",
    "y = x + np.random.uniform(0, 1, (1, n))\n",
    "z = x + y + np.random.uniform(0, 1, (1, n))\n",
    "X = np.vstack([x,y,z])\n",
    "\n",
    "# covariance\n",
    "print(np.cov(X)) # sample covariance\n",
    "print()\n",
    "\n",
    "# correlation coefficient\n",
    "print(np.corrcoef(X))\n",
    "print()\n",
    "\n",
    "# variance\n",
    "print(np.cov(x)) # sample variance\n",
    "print(np.var(x)) # population variance\n",
    "print()\n",
    "\n",
    "print(np.sum((x-(np.sum(x)/n))**2)/(n-1)) # sample variance\n",
    "print(np.sum((x-(np.sum(x)/n))**2)/n) # population variance"
   ]
  },
  {
   "cell_type": "markdown",
   "metadata": {},
   "source": [
    "[<a href=\"#Expectation-and-Variance\">Back to top</a>]"
   ]
  },
  {
   "cell_type": "markdown",
   "metadata": {},
   "source": [
    "# Properties of Variance"
   ]
  },
  {
   "cell_type": "markdown",
   "metadata": {},
   "source": [
    "\\begin{eqnarray}\n",
    "(1)&&\\quad\\displaystyle Var(X)=Cov(X,X)\\nonumber\\\\\n",
    "(2)&&\\quad\\displaystyle Cov(aX+bY,Z)=a Cov(X,Z)+b Cov(Y,Z)\\nonumber\\\\\n",
    "(2)&&\\quad\\displaystyle Cov(Z,aX+bY)=a Cov(Z,X)+b Cov(Z,Y)\\nonumber\\\\\n",
    "(3)&&\\quad\\displaystyle Cov(X,Y)=Cov(Y,X)\\nonumber\\\\\n",
    "(4)&&\\quad\\displaystyle Cov(X,a)=Cov(a,X)=0\\nonumber\\\\\n",
    "(5)&&\\quad\\displaystyle Cov(X,Y)=0\\ \\ \\ \\ \\ \\mbox{if $X$ and $Y$ are independent}\\nonumber\n",
    "\\end{eqnarray}"
   ]
  },
  {
   "cell_type": "markdown",
   "metadata": {},
   "source": [
    "$$\n",
    "Var(X)\n",
    "=\\mathbb{E}(X-\\mathbb{E}X)^2\n",
    "=\\mathbb{E}[(X-\\mathbb{E}X)(X-\\mathbb{E}X)]\n",
    "=Cov(X,X)\n",
    "$$\n",
    "\n",
    "\n",
    "\\begin{eqnarray}\n",
    "Cov(aX+bY,Z)\n",
    "&=&\\mathbb{E}(aX+bY-a\\mathbb{E}X-b\\mathbb{E}Y)(Z-\\mathbb{E}Z)\\nonumber\\\\\n",
    "&=&\\mathbb{E}[a(X-\\mathbb{E}X)+b(Y-\\mathbb{E}Y)](Z-\\mathbb{E}Z)\\nonumber\\\\\n",
    "&=&a\\mathbb{E}[(X-\\mathbb{E}X)(Z-\\mathbb{E}Z)]+b\\mathbb{E}[(Y-\\mathbb{E}Y)(Z-\\mathbb{E}Z)]\\nonumber\\\\\n",
    "&=&aCov(X,Z)+bCov(Y,Z)\\nonumber\n",
    "\\end{eqnarray}\n",
    "\n",
    "\n",
    "$$\n",
    "Cov(X,Y)\n",
    "=\\mathbb{E}[(X-\\mathbb{E}X)(Y-\\mathbb{E}Y)]\n",
    "=\\mathbb{E}[(Y-\\mathbb{E}Y)(X-\\mathbb{E}X)]\n",
    "=Cov(Y,X)\n",
    "$$\n",
    "\n",
    "\n",
    "$$\n",
    "Cov(X,a)\n",
    "=\\mathbb{E}[(X-\\mathbb{E}X)(a-a)]\n",
    "=0\n",
    "$$\n",
    "\n",
    "\n",
    "\\begin{eqnarray}\n",
    "X,\\ Y\\ \\mbox{independent}\n",
    "&\\Rightarrow&\\mathbb{E}(XY)=\\mathbb{E}(X)\\mathbb{E}(Y)\\nonumber\\\\\n",
    "&\\Rightarrow&Cov(X,Y)=\\mathbb{E}(XY)-\\mathbb{E}(X)\\mathbb{E}(Y)=0\\nonumber\n",
    "\\end{eqnarray}"
   ]
  },
  {
   "cell_type": "markdown",
   "metadata": {},
   "source": [
    "### Jensen's inequality"
   ]
  },
  {
   "cell_type": "markdown",
   "metadata": {},
   "source": [
    "##### Definition\n",
    "\n",
    "$\\varphi:\\mathbb{R}\\rightarrow\\mathbb{R}$ is \n",
    "convex if for any $x$, $y$ and $0<\\lambda<1$\n",
    "$$\n",
    "\\varphi(\\lambda x+(1-\\lambda)y)\n",
    "\\le\n",
    "\\lambda \\varphi(x)+(1-\\lambda)\\varphi(y)\n",
    "$$\n",
    "$\\varphi:\\mathbb{R}\\rightarrow\\mathbb{R}$ is \n",
    "strictly convex if for any $x$, $y$ and $0<\\lambda<1$\n",
    "$$\n",
    "\\varphi(\\lambda x+(1-\\lambda)y)\n",
    "<\n",
    "\\lambda \\varphi(x)+(1-\\lambda)\\varphi(y)\n",
    "$$"
   ]
  },
  {
   "cell_type": "markdown",
   "metadata": {},
   "source": [
    "##### Jensen's inequality\n",
    "\n",
    "\\begin{array}{llllll}\n",
    "\\mbox{If $\\varphi$ convex,}&&\\mathbb{E}\\varphi(X)\\ge\\varphi(\\mathbb{E}X)\\nonumber\\\\\n",
    "\\nonumber\\\\\n",
    "\\mbox{If $\\varphi$ strictly convex,}&&\\mathbb{E}\\varphi(X)=\\varphi(\\mathbb{E}X)\\ \\ \\Leftrightarrow\\ \\ X=\\mathbb{E}X\\nonumber\n",
    "\\end{array}"
   ]
  },
  {
   "cell_type": "markdown",
   "metadata": {},
   "source": [
    "##### Example\n",
    "\n",
    "\\begin{array}{lllll}\n",
    "\\varphi(x)=x^2\\quad\\quad\\ &\\quad\\Rightarrow\\quad&\\mathbb{E}X^2\\ge (\\mathbb{E}X)^2\\nonumber\\\\\n",
    "\\nonumber\\\\\n",
    "\\varphi(x)=|x|\\quad\\quad\\ &\\quad\\Rightarrow\\quad&\\mathbb{E}|X|\\ge |\\mathbb{E}X|\\nonumber\\\\\n",
    "\\nonumber\\\\\n",
    "\\varphi(x)=e^x\\quad\\quad\\ &\\quad\\Rightarrow\\quad&\\mathbb{E}e^X\\ge e^{\\mathbb{E}X}\\nonumber\\\\\n",
    "\\nonumber\\\\\n",
    "\\varphi(x)=-\\log x\\ &\\quad\\Rightarrow\\quad&\\mathbb{E}\\log X\\le \\log \\mathbb{E}X\\ \\ \\mbox{for $X>0$}\\nonumber\n",
    "\\end{array}"
   ]
  },
  {
   "cell_type": "markdown",
   "metadata": {},
   "source": [
    "<div align=\"center\"><img src=\"img/Jensen ineq.png\" width=\"40%\"></div>\n",
    "\n",
    "$$\n",
    "\\varphi(X)\\ge \\alpha(X-\\mu)+\\varphi(\\mu)\n",
    "\\ \\ \\stackrel{\\mbox{Take expectation}}{\\Rightarrow}\\ \\ \n",
    "\\mathbb{E}\\varphi(X)\\ge \\alpha\\mathbb{E}(X-\\mu)+\\varphi(\\mu)=\\varphi(\\mu)=\\varphi(\\mathbb{E}X)\n",
    "$$"
   ]
  },
  {
   "cell_type": "markdown",
   "metadata": {},
   "source": [
    "[<a href=\"#Expectation-and-Variance\">Back to top</a>]"
   ]
  },
  {
   "cell_type": "markdown",
   "metadata": {},
   "source": [
    "# Mean and Variance of Sum of Random Variables"
   ]
  },
  {
   "cell_type": "markdown",
   "metadata": {},
   "source": [
    "### Example - How to compute the variance\n",
    "\n",
    "Let $Var(X)=2$, $Var(Y)=2$, $Var(Z)=3$, $Cov(X,Y)=0.25$.\n",
    "If $Z$ is independent to both $X$ and $Y$, compute the variance of $V$, where $V$ is given by\n",
    "$$\n",
    "V=X+2Y-3Z-2\n",
    "$$"
   ]
  },
  {
   "cell_type": "markdown",
   "metadata": {},
   "source": [
    "$$Var(V)\\stackrel{(1)}{=}Cov(V,V)=Cov(X+2Y-3Z-2,X+2Y-3Z-2)$$\n",
    "\n",
    "$$\\begin{array}{lllllllllllllllllll}\n",
    "Cov(X+2Y-3Z-2,X+2Y-3Z-2)\n",
    "&\\stackrel{(2)}{=}&Cov(X,X)&+2Cov(X,Y)&-3Cov(X,Z)&-2Cov(X,1)\\nonumber\\\\\n",
    "&&2Cov(Y,X)&+4Cov(Y,Y)&-6Cov(Y,Z)&-4Cov(Y,1)\\nonumber\\\\\n",
    "&&-3Cov(Z,X)&-6Cov(Z,Y)&+9Cov(Z,Z)&+6Cov(Z,1)\\nonumber\\\\\n",
    "&&-2Cov(1,X)&-4Cov(1,Y)&+6Cov(1,Z)&+4Cov(1,1)\\nonumber\\\\\n",
    "&\\stackrel{(3)}{=}&Cov(X,X)&+2Cov(X,Y)&-3Cov(X,Z)&-2Cov(X,1)\\nonumber\\\\\n",
    "&&2Cov(X,Y)&+4Cov(Y,Y)&-6Cov(Y,Z)&-4Cov(Y,1)\\nonumber\\\\\n",
    "&&-3Cov(X,Z)&-6Cov(Y,Z)&+9Cov(Z,Z)&+6Cov(Z,1)\\nonumber\\\\\n",
    "&&-2Cov(X,1)&-4Cov(Y,1)&+6Cov(Z,1)&+4Cov(1,1)\\nonumber\\\\\n",
    "&=&Cov(X,X)&+4Cov(X,Y)&-6Cov(X,Z)&-4Cov(X,1)\\nonumber\\\\\n",
    "&&&+4Cov(Y,Y)&-12Cov(Y,Z)&-8Cov(Y,1)\\nonumber\\\\\n",
    "&&&&+9Cov(Z,Z)&+12Cov(Z,1)\\nonumber\\\\\n",
    "&&&&&+4Cov(1,1)\\nonumber\\\\\n",
    "&\\stackrel{(4)}{=}&Cov(X,X)&+4Cov(X,Y)&-6Cov(X,Z)\\nonumber\\\\\n",
    "&&&+4Cov(Y,Y)&-12Cov(Y,Z)\\nonumber\\\\\n",
    "&&&&+9Cov(Z,Z)\\nonumber\\\\\n",
    "&\\stackrel{(5)}{=}&Cov(X,X)&+4Cov(X,Y)\\nonumber\\\\\n",
    "&&&+4Cov(Y,Y)\\nonumber\\\\\n",
    "&&&&+9Cov(Z,Z)\\nonumber\\\\\n",
    "&\\stackrel{(1)}{=}&Var(X)&+4Cov(X,Y)\\nonumber\\\\\n",
    "&&&+4Var(Y)\\nonumber\\\\\n",
    "&&&&+9Var(Z)\\nonumber\\\\\n",
    "&=&2&+4\\cdot 0.25&\\nonumber\\\\\n",
    "&&&+4\\cdot 2\\nonumber\\\\\n",
    "&&&&+9\\cdot 3\\nonumber\\\\\n",
    "&=& 38\\nonumber\n",
    "\\end{array}$$"
   ]
  },
  {
   "cell_type": "markdown",
   "metadata": {},
   "source": [
    "### In general\n",
    "\n",
    "$$\n",
    "\\begin{array}{lll}\n",
    "\\displaystyle \n",
    "\\mathbb{E}\\left(\\sum_{i=1}^nX_i\\right)&=&\\displaystyle \\sum_{i=1}^n\\mathbb{E}(X_i)\\nonumber\\\\\n",
    "\\displaystyle \n",
    "Var\\left(\\sum_{i=1}^nX_i\\right)&=&\\displaystyle \\sum_{i=1}^nVar(X_i)+\\sum_{i\\neq j}Cov(X_i,X_j)\\nonumber\\\\\n",
    "&=&\\displaystyle \\sum_{i=1}^nVar(X_i)+2\\sum_{1\\le i< j\\le n}Cov(X_i,X_j)\\nonumber\n",
    "\\end{array}\n",
    "$$"
   ]
  },
  {
   "cell_type": "markdown",
   "metadata": {},
   "source": [
    "### If $X_i$ are independent\n",
    "\n",
    "$$\n",
    "\\begin{array}\n",
    "\\displaystyle \\mathbb{E}\\left(\\sum_{i=1}^nX_i\\right)&=&\\displaystyle \\sum_{i=1}^n\\mathbb{E}(X_i)\\nonumber\\\\\n",
    "\\displaystyle Var\\left(\\sum_{i=1}^nX_i\\right)&=&\\displaystyle \\sum_{i=1}^nVar(X_i)\\nonumber\n",
    "\\end{array}\n",
    "$$"
   ]
  },
  {
   "cell_type": "markdown",
   "metadata": {},
   "source": [
    "### If $X_i$ are iid\n",
    "\n",
    "\\begin{array}{lllllll}\n",
    "\\displaystyle \\mathbb{E}\\left(\\sum_{i=1}^nX_i\\right)&=&\\displaystyle \\sum_{i=1}^n\\mathbb{E}(X_i)&=&\\displaystyle n\\mathbb{E}(X_1)\\nonumber\\\\\n",
    "\\displaystyle Var\\left(\\sum_{i=1}^nX_i\\right)&=&\\displaystyle \\sum_{i=1}^nVar(X_i)&=&\\displaystyle nVar(X_1)\\nonumber\n",
    "\\end{array}"
   ]
  },
  {
   "cell_type": "markdown",
   "metadata": {},
   "source": [
    "[<a href=\"#Expectation-and-Variance\">Back to top</a>]"
   ]
  },
  {
   "cell_type": "markdown",
   "metadata": {},
   "source": [
    "# Mean and Variance of Weighted Sum of Random Variables"
   ]
  },
  {
   "cell_type": "markdown",
   "metadata": {},
   "source": [
    "### In general\n",
    "\n",
    "\\begin{array}{lll}\n",
    "\\displaystyle \\mathbb{E}\\left(\\sum_{i=1}^na_iX_i\\right)&=&\\displaystyle \\sum_{i=1}^na_i\\mathbb{E}(X_i)\\nonumber\\\\\n",
    "\\displaystyle Var\\left(\\sum_{i=1}^na_iX_i\\right)&=&\\displaystyle \\sum_{i=1}^na_i^2Var(X_i)+\\sum_{i\\neq j}a_ia_jCov(X_i,X_j)\\nonumber\\\\\n",
    "&=&\\displaystyle \\sum_{i=1}^na_i^2Var(X_i)+2\\sum_{1\\le i< j\\le n}a_ia_jCov(X_i,X_j)\\nonumber\n",
    "\\end{array}"
   ]
  },
  {
   "cell_type": "markdown",
   "metadata": {},
   "source": [
    "### If $X_i$ are independent\n",
    "\n",
    "\\begin{array}{llllll}\n",
    "\\displaystyle \\mathbb{E}\\left(\\sum_{i=1}^na_iX_i\\right)&=&\\displaystyle \\sum_{i=1}^na_i\\mathbb{E}(X_i)\\nonumber\\\\\n",
    "\\displaystyle Var\\left(\\sum_{i=1}^na_iX_i\\right)&=&\\displaystyle \\sum_{i=1}^na_i^2Var(X_i)\\nonumber\n",
    "\\end{array}"
   ]
  },
  {
   "cell_type": "markdown",
   "metadata": {},
   "source": [
    "### If $X_i$ are iid\n",
    "\n",
    "\\begin{array}{lllll}\n",
    "\\displaystyle \\mathbb{E}\\left(\\sum_{i=1}^na_iX_i\\right)&=&\\displaystyle \\sum_{i=1}^na_i\\mathbb{E}(X_i)&=&\\displaystyle \\left(\\sum_{i=1}^na_i\\right)\\mathbb{E}(X_1)\\nonumber\\\\\n",
    "\\displaystyle Var\\left(\\sum_{i=1}^na_iX_i\\right)&=&\\displaystyle \\sum_{i=1}^na_i^2Var(X_i)&=&\\displaystyle \\left(\\sum_{i=1}^na_i^2\\right)Var(X_1)\\nonumber\n",
    "\\end{array}"
   ]
  },
  {
   "cell_type": "markdown",
   "metadata": {},
   "source": [
    "# Mean and Variance of Weighted Sum of Random Variables - Matrix Form"
   ]
  },
  {
   "cell_type": "markdown",
   "metadata": {},
   "source": [
    "$$\n",
    "\\displaystyle \n",
    "S=\\sum_{i=1}^na_iX_i\n",
    "$$\n",
    "\n",
    "where\n",
    "\n",
    "\\begin{eqnarray}\n",
    "\\mu_i&&\\quad \\mbox{mean of $X_i$}\\nonumber\\\\\n",
    "\\sigma^2&&\\quad \\mbox{variance of $X_i$}\\nonumber\\\\\n",
    "\\sigma_{ij}&&\\quad \\mbox{covariance between $X_i$ and $X_j$}\\nonumber\\\\ \n",
    "\\rho_{ij}&&\\quad \\mbox{correlation between $X_i$ and $X_j$}\\nonumber\n",
    "\\end{eqnarray}"
   ]
  },
  {
   "cell_type": "markdown",
   "metadata": {},
   "source": [
    "### Mean\n",
    "\n",
    "$$\n",
    "\\displaystyle \n",
    "\\mathbb{E}S=\\sum_{i=1}^na_i\\mathbb{E}X_i=\\sum_{i=1}^na_i\\mu_i\n",
    "$$"
   ]
  },
  {
   "cell_type": "markdown",
   "metadata": {},
   "source": [
    "### Variance\n",
    "\n",
    "\\begin{eqnarray}\n",
    "\\displaystyle \n",
    "Var(S)&=&\\displaystyle Cov\\left(\\sum_{i=1}^na_iX_i,\\sum_{j=1}^na_jX_j\\right)\\nonumber\\\\\n",
    "&=&\\displaystyle \\sum_{i=j}a_ia_jCov\\left(X_i,X_j\\right)+\\sum_{i\\neq j}a_ia_jCov\\left(X_i,X_j\\right)\\nonumber\\\\\n",
    "&=&\\displaystyle \\sum_{i=1}^na_i^2Var\\left(X_i\\right)+2\\sum_{1\\le i< j\\le n}a_ia_jCov\\left(X_i,X_j\\right)\\nonumber\\\\\n",
    "&=&\\displaystyle \\sum_{i=1}^na_i^2\\sigma_i^2+2\\sum_{1\\le i<j\\le n}a_ia_j\\sigma_{ij}\\nonumber\\\\\n",
    "&=&\\displaystyle \\sum_{i=1}^na_i\\sigma_i^2+2\\sum_{1\\le i<j\\le n}a_ia_j\\rho_{ij}\\sigma_i\\sigma_j\\nonumber\n",
    "\\end{eqnarray}\n",
    "\n",
    "Or in matrix form \n",
    "\n",
    "$$\n",
    "\\displaystyle \n",
    "Var(S)\n",
    "=\n",
    "\\left[\\begin{array}{cccc}a_1&a_2&\\cdots&a_n\\end{array}\\right]\n",
    "\\underbrace{\\left[\\begin{array}{cccc}\\sigma_1^2&\\sigma_{12}&\\cdots&\\sigma_{1n}\\\\\n",
    "\\sigma_{21}&\\sigma_2^2&\\cdots&\\sigma_{2n}\\\\\n",
    "\\vdots&\\vdots&\\ddots&\\vdots\\\\\n",
    "\\sigma_{n1}&\\sigma_{n2}&\\cdots&\\sigma_n^2\\end{array}\\right]}_{\\Sigma\\quad \\mbox{Covariance matrix}}\n",
    "\\left[\\begin{array}{c}a_1\\\\a_2\\\\\\vdots\\\\a_n\\end{array}\\right]\n",
    "$$"
   ]
  },
  {
   "cell_type": "markdown",
   "metadata": {},
   "source": [
    "### Example - Variance of coin related random variables\n",
    "\\begin{array}{ccc}\\hline\n",
    "\\mbox{Distribution}&\\mbox{Expectation}&\\mbox{Variance}\\\\\\hline\n",
    "B(p)&p&pq\\\\\n",
    "B(n,p)&np&npq\\\\\n",
    "Geo(p)&\\frac{1}{p}&\\frac{q}{p^2}\\\\\n",
    "NB(r,p)&\\frac{r}{p}&\\frac{rq}{p^2}\\\\\\hline\n",
    "\\end{array}"
   ]
  },
  {
   "cell_type": "markdown",
   "metadata": {},
   "source": [
    "\\begin{eqnarray}\n",
    "X\\sim B(p)\n",
    "&\\Rightarrow&\\mathbb{E}(X^2)=\\mathbb{E}(X)=p\\nonumber\\\\\n",
    "&\\Rightarrow&Var(X)=\\mathbb{E}(X^2)-(\\mathbb{E}X)^2=p-p^2=p(1-p)=pq\\nonumber\n",
    "\\end{eqnarray}\n",
    "\n",
    "\n",
    "\\begin{eqnarray}\n",
    "X\\sim B(n,p)\n",
    "&\\Rightarrow&X=\\sum_{i=1}^nX_i,\\ X_i\\ \\mbox{iid}\\ B(p)\\nonumber\\\\\n",
    "&\\Rightarrow&Var(X)=\\sum_{i=1}^nVar(X_i)=npq\\nonumber\n",
    "\\end{eqnarray}\n",
    "\n",
    "\n",
    "\n",
    "\\begin{eqnarray}\n",
    "1+x+x^2+\\cdots=\\frac{1}{1-x}\n",
    "&\\stackrel{\\mbox{Diff wrt $x$}}{\\Rightarrow}&1+2x+3x^2+\\cdots=\\frac{1}{(1-x)^2}\\nonumber\\\\\n",
    "&\\stackrel{\\mbox{Diff wrt $x$}}{\\Rightarrow}&2\\cdot 1+3\\cdot 2 x+4\\cdot 3 x^2\\cdots=\\frac{2}{(1-x)^3}\\nonumber\\\\\n",
    "&\\stackrel{\\mbox{Let $x=q$}}{\\Rightarrow}&2\\cdot 1+3\\cdot 2 q+4\\cdot 3 q^2\\cdots=\\frac{2}{p^3}\\nonumber\n",
    "\\end{eqnarray}\n",
    "\\begin{eqnarray}\n",
    "X\\sim Geo(p)\n",
    "&\\Rightarrow&\\mathbb{E}[X(X-1)]=\\left(\\sum_{k=1}^{\\infty} k(k-1)q^{k-2}\\right)qp=\\frac{2q}{p^2}\\nonumber\\\\\n",
    "&\\Rightarrow&\\mathbb{E}X^2=\\mathbb{E}[X(X-1)+X]=\\mathbb{E}[X(X-1)]+\\mathbb{E}X=\\frac{2q}{p^2}+\\frac{1}{p}\\nonumber\\\\\n",
    "&\\Rightarrow&Var(X)=\\mathbb{E}X^2-(\\mathbb{E}X)^2=\\frac{2q}{p^2}+\\frac{1}{p}-\\frac{1}{p^2}=\\frac{q}{p^2}\\nonumber\n",
    "\\end{eqnarray}\n",
    "\n",
    "\n",
    "\\begin{eqnarray}\n",
    "X\\sim NB(r,p)\n",
    "&\\Rightarrow&X=\\sum_{i=1}^rX_i,\\ X_i\\ \\mbox{iid}\\ Geo(p)\\nonumber\\\\\n",
    "&\\Rightarrow&Var(X)=\\sum_{i=1}^rVar(X_i)=\\frac{rq}{p^2}\\nonumber\n",
    "\\end{eqnarray}"
   ]
  },
  {
   "cell_type": "markdown",
   "metadata": {},
   "source": [
    "[<a href=\"#Expectation-and-Variance\">Back to top</a>]"
   ]
  },
  {
   "cell_type": "markdown",
   "metadata": {},
   "source": [
    "# Standard Deviation"
   ]
  },
  {
   "cell_type": "markdown",
   "metadata": {},
   "source": [
    "### How to measure the typical size of error or deviation from mean"
   ]
  },
  {
   "cell_type": "markdown",
   "metadata": {},
   "source": [
    "##### First try\n",
    "$$\n",
    "\\underbrace{\\mathbb{E}}_{\\mbox{Average}}\n",
    "\\underbrace{(X-\\mathbb{E}X)}_{\\mbox{Error}}\n",
    "$$\n",
    "However, this try is fertile:\n",
    "$\n",
    "\\mathbb{E}(X-\\mathbb{E}X)=\\mathbb{E}X-\\mathbb{E}X=0\n",
    "$."
   ]
  },
  {
   "cell_type": "markdown",
   "metadata": {},
   "source": [
    "##### Second try\n",
    "$$\n",
    "\\underbrace{\\mathbb{E}}_{\\mbox{Average}} \n",
    "\\Big|\n",
    "\\underbrace{X-\\mathbb{E}X}_{\\mbox{Error}}\n",
    "\\Big|\n",
    "$$\n",
    "Due to computational difficulties,\n",
    "this measure of typical  error size is not popular."
   ]
  },
  {
   "cell_type": "markdown",
   "metadata": {},
   "source": [
    "##### Standard way to measure typical  error size\n",
    "$$\n",
    "\\underbrace{SD(X)}_{\\mbox{Standard deviation}}\n",
    "\\quad=\\quad\n",
    "\\sqrt{\n",
    "\\underbrace{\\mathbb{E}}_{\\mbox{Average}} \n",
    "\\Big(\n",
    "\\underbrace{X-\\mathbb{E}X}_{\\mbox{Error}}\n",
    "\\Big)^2\n",
    "}\n",
    "\\quad=\\quad\n",
    "\\sqrt{\n",
    "Var(X)\n",
    "}\n",
    "$$"
   ]
  },
  {
   "cell_type": "code",
   "execution_count": 8,
   "metadata": {},
   "outputs": [
    {
     "name": "stdout",
     "output_type": "stream",
     "text": [
      "Mean:                3.5\n",
      "Variance:            2.916666666666666\n",
      "Standard deviation:  1.707825127659933\n"
     ]
    }
   ],
   "source": [
    "import numpy as np\n",
    "\n",
    "x = np.array([1,2,3,4,5,6])\n",
    "pmf = np.array([1/6,1/6,1/6,1/6,1/6,1/6])\n",
    "\n",
    "mean = np.sum(x*pmf)\n",
    "second_moment = np.sum((x**2)*pmf) \n",
    "variance = second_moment - mean**2\n",
    "std = np.sqrt(variance)\n",
    "\n",
    "print(\"Mean:               \", mean)\n",
    "print(\"Variance:           \", variance)\n",
    "print(\"Standard deviation: \", std)"
   ]
  },
  {
   "cell_type": "markdown",
   "metadata": {},
   "source": [
    "[<a href=\"#Expectation-and-Variance\">Back to top</a>]"
   ]
  },
  {
   "cell_type": "markdown",
   "metadata": {},
   "source": [
    "# Standardization and Reverse Standardization"
   ]
  },
  {
   "cell_type": "markdown",
   "metadata": {},
   "source": [
    "### Mean and variance lemma for standardization and reverse standardization\n",
    "\\begin{eqnarray}\n",
    "\\mathbb{E}(aX+b)\\quad&=&a\\mathbb{E}(X)+b\\nonumber\\\\\n",
    "Var(aX+b)&=&Var(aX)=a^2Var(X)\\nonumber\n",
    "\\end{eqnarray}"
   ]
  },
  {
   "cell_type": "markdown",
   "metadata": {},
   "source": [
    "### Standardization\n",
    "If $X$ has mean $\\mu$ and standard deviation $\\sigma$,\n",
    "then\n",
    "$$\n",
    "\\frac{X-\\mu}{\\sigma}\\quad\\mbox{has mean 0 and standard deviation 1}\n",
    "$$"
   ]
  },
  {
   "cell_type": "markdown",
   "metadata": {},
   "source": [
    "### Reverse standardization\n",
    "\n",
    "If $X$ has mean 0 and standard deviation 1,\n",
    "then\n",
    "$$\n",
    "\\mu+\\sigma*X\\quad\\mbox{has mean $\\mu$ and standard deviation $\\sigma$}\n",
    "$$"
   ]
  },
  {
   "cell_type": "markdown",
   "metadata": {},
   "source": [
    "### Example - Standardization\n",
    "\n",
    "We flips a fair coin many times.\n",
    "\\begin{eqnarray}\n",
    "X_i\\quad\\quad\\quad\\quad\\ \\  &&\\mbox{$i^{th}$ flip record,\n",
    "where $H$ and $T$ are recorded as 1 and 0}\\nonumber\\\\\n",
    "Y_i:=2X_i-1&&\\mbox{$i^{th}$ flip record,\n",
    "where $H$ and $T$ are recorded as 1 and $-1$}\\nonumber\n",
    "\\end{eqnarray}\n",
    "\n",
    "Calculate the mean and variance of the following related random variables,\n",
    "i.e., fill up blanks of the below table.\n",
    "\n",
    "\\begin{array}{ccc}\\hline\n",
    "\\mbox{Random variable}&\\mbox{Mean}&\\mbox{Variance}\\\\\\hline\n",
    "Y_i&&\\\\\n",
    "\\sum_{i=1}^nY_i&&\\\\\n",
    "\\frac{\\sum_{i=1}^nY_i}{\\sqrt{n}}&&\\\\\\hline\n",
    "\\end{array}"
   ]
  },
  {
   "cell_type": "markdown",
   "metadata": {},
   "source": [
    "\\begin{eqnarray}\n",
    "X_i\\ \\mbox{iid}\\ B(0.5)\n",
    "&\\Rightarrow&\\mathbb{E}X_i=0.5,\\ Var(X_i)=0.5*(1-0.5)=0.25\\nonumber\\\\\n",
    "&\\Rightarrow&Y_i\\ \\mbox{iid with}\\ \\mathbb{E}Y_i=0,\\ Var(Y_i)=1\\nonumber\\\\\n",
    "&\\Rightarrow&\\mathbb{E}\\left(\\sum_{i=1}^nY_i\\right)=0,\\ Var\\left(\\sum_{i=1}^nY_i\\right)=n\\nonumber\\\\\n",
    "&\\stackrel{\\mbox{Standardization}}{\\Rightarrow}&\\frac{\\sum_{i=1}^nY_i}{\\sqrt{n}}\\quad\\mbox{has mean 0, variance 1}\\nonumber\n",
    "\\end{eqnarray}\n",
    "\n",
    "\\begin{array}{ccc}\\hline\n",
    "\\mbox{Random variable}&\\mbox{Mean}&\\mbox{Variance}\\\\\\hline\n",
    "Y_i&0&1\\\\\n",
    "\\sum_{i=1}^nY_i&0&n\\\\\n",
    "\\frac{\\sum_{i=1}^nY_i}{\\sqrt{n}}&0&1\\\\\\hline\n",
    "\\end{array}"
   ]
  },
  {
   "cell_type": "markdown",
   "metadata": {},
   "source": [
    "[<a href=\"#Expectation-and-Variance\">Back to top</a>]"
   ]
  },
  {
   "cell_type": "markdown",
   "metadata": {},
   "source": [
    "# scipy.stats"
   ]
  },
  {
   "cell_type": "markdown",
   "metadata": {},
   "source": [
    "<div align=\"center\"><img src=\"img/Order statistics.png\" width=\"80%\"></div>\n",
    "\n",
    "https://docs.scipy.org/doc/numpy-1.13.0/reference/routines.statistics.html#histograms"
   ]
  },
  {
   "cell_type": "markdown",
   "metadata": {},
   "source": [
    "<div align=\"center\"><img src=\"img/Averages and variances.png\" width=\"80%\"></div>\n",
    "\n",
    "https://docs.scipy.org/doc/numpy-1.13.0/reference/routines.statistics.html#histograms"
   ]
  },
  {
   "cell_type": "markdown",
   "metadata": {},
   "source": [
    "<div align=\"center\"><img src=\"img/Correlating.png\" width=\"80%\"></div>\n",
    "\n",
    "https://docs.scipy.org/doc/numpy-1.13.0/reference/routines.statistics.html#histograms"
   ]
  },
  {
   "cell_type": "markdown",
   "metadata": {},
   "source": [
    "<div align=\"center\"><img src=\"img/Histograms.png\" width=\"80%\"></div>\n",
    "\n",
    "https://docs.scipy.org/doc/numpy-1.13.0/reference/routines.statistics.html#histograms"
   ]
  },
  {
   "cell_type": "markdown",
   "metadata": {},
   "source": [
    "[<a href=\"#Expectation-and-Variance\">Back to top</a>]"
   ]
  },
  {
   "cell_type": "markdown",
   "metadata": {},
   "source": [
    "# Skewness and Kurtosis"
   ]
  },
  {
   "cell_type": "markdown",
   "metadata": {},
   "source": [
    "$$\\begin{array}{lll}\n",
    "\\mbox{Skewness}(X)&=&\\displaystyle E\\left(\\frac{X-\\mu}{\\sigma}\\right)^3\\nonumber\\\\\n",
    "\\mbox{Kurtosis}(X)&=&\\displaystyle E\\left(\\frac{X-\\mu}{\\sigma}\\right)^4\\nonumber\\\\\n",
    "\\mbox{Excess_Kurtosis}(X)&=&\\displaystyle \\mbox{Kurtosis}(X)-3\\nonumber\\\\\n",
    "\\end{array}$$"
   ]
  },
  {
   "cell_type": "code",
   "execution_count": 3,
   "metadata": {},
   "outputs": [
    {
     "name": "stdout",
     "output_type": "stream",
     "text": [
      "Minimum:             -3.0354733793984288\n",
      "Maximum:             3.0725357028737514\n",
      "Mean:                -0.0354427882624812\n",
      "Median:              -0.0813885874966274\n",
      "Variance:            0.9766286497285154\n",
      "Standard deviation:  0.9882452376452494\n",
      "Skewness:            0.08288308067303092\n",
      "Kurtosis:            -0.10431286470175172\n"
     ]
    }
   ],
   "source": [
    "import numpy as np\n",
    "import scipy.stats as st\n",
    "\n",
    "x = np.random.normal(0, 1, (1000,)) \n",
    "\n",
    "# kurtosis is normalized so that it is zero for the normal distribution\n",
    "# Excess_Kurtosis(X) = Kurtosis(X) − 3\n",
    "print(\"Minimum:            \", np.min(x))\n",
    "print(\"Maximum:            \", np.max(x))\n",
    "print(\"Mean:               \", np.mean(x))\n",
    "print(\"Median:             \", np.median(x))\n",
    "print(\"Variance:           \", np.var(x)) # population variance\n",
    "print(\"Standard deviation: \", np.std(x))\n",
    "print(\"Skewness:           \", st.skew(x))\n",
    "print(\"Kurtosis:           \", st.kurtosis(x)) # Excess_Kurtosis(X)"
   ]
  },
  {
   "cell_type": "code",
   "execution_count": 4,
   "metadata": {},
   "outputs": [
    {
     "name": "stdout",
     "output_type": "stream",
     "text": [
      "Number of samples:   1000\n",
      "Minimum of samples:  0.0004502645090431745\n",
      "Maximum of samples:  0.9995639077404074\n",
      "Mean:                0.4927559166188729\n",
      "Variance:            0.08582685802197292\n",
      "Skewness:            0.02134107861041948\n",
      "Kurtosis:            -1.2357290459110941\n"
     ]
    }
   ],
   "source": [
    "import numpy as np\n",
    "import scipy.stats as st\n",
    "\n",
    "x = np.random.uniform(0, 1, (1000,))\n",
    "\n",
    "# kurtosis is normalized so that it is zero for the normal distribution\n",
    "# Excess_Kurtosis(X) = Kurtosis(X) − 3 \n",
    "n, min_max, mean, var, skew, kurt = st.describe(x)\n",
    "print(\"Number of samples:  \", n)\n",
    "print(\"Minimum of samples: \", min_max[0])\n",
    "print(\"Maximum of samples: \", min_max[1])\n",
    "print(\"Mean:               \", mean)\n",
    "print(\"Variance:           \", var) # population variance\n",
    "print(\"Skewness:           \", skew)\n",
    "print(\"Kurtosis:           \", kurt) # Excess_Kurtosis(X)"
   ]
  },
  {
   "cell_type": "markdown",
   "metadata": {},
   "source": [
    "[<a href=\"#Expectation-and-Variance\">Back to top</a>]"
   ]
  }
 ],
 "metadata": {
  "kernelspec": {
   "display_name": "Python 3",
   "language": "python",
   "name": "python3"
  },
  "language_info": {
   "codemirror_mode": {
    "name": "ipython",
    "version": 3
   },
   "file_extension": ".py",
   "mimetype": "text/x-python",
   "name": "python",
   "nbconvert_exporter": "python",
   "pygments_lexer": "ipython3",
   "version": "3.5.0"
  }
 },
 "nbformat": 4,
 "nbformat_minor": 2
}
