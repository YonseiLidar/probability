{
 "cells": [
  {
   "cell_type": "markdown",
   "metadata": {},
   "source": [
    "# CLT"
   ]
  },
  {
   "cell_type": "markdown",
   "metadata": {},
   "source": [
    "<a href=\"#Central-Limit-Theorem\">Central Limit Theorem</a>"
   ]
  },
  {
   "cell_type": "markdown",
   "metadata": {},
   "source": [
    "# Central Limit Theorem"
   ]
  },
  {
   "cell_type": "markdown",
   "metadata": {},
   "source": [
    "$$\n",
    "\\begin{array}{ccccccccc}\\hline\n",
    "X_i\\ \\mbox{iid}&\\mbox{Mean}&\\mbox{Variance}&\\mbox{Distribution}\\\\\\hline\n",
    "X_i&\\mu&\\sigma^2&\\mbox{Not Normal}\\\\\n",
    "S_n&\\mu n&\\sigma^2n&\\mbox{Not Normal, but approximately normal for large $n$}\\\\\n",
    "\\frac{S_n-\\mu n}{\\sigma \\sqrt{n}}&0&1&\\mbox{Not Normal, but approximately normal for large $n$}\\\\\\hline\n",
    "\\end{array}\n",
    "$$\n",
    "\n",
    "Let $X_k$ be iid with mean $\\mu$ and variance $\\sigma^2$\n",
    "and let $S_n=X_1+X_2+\\cdots+X_n$.\n",
    "Then, \n",
    "\\begin{eqnarray}\n",
    "(1)&&\\mbox{$S_n$ has mean $\\mu n$ and variance $\\sigma^2 n$}\\nonumber\\\\\n",
    "(2)&&\\mbox{Dist of $S_n$}\\approx\\mbox{Normal dist with same mean and variance if $n$ is large}\\nonumber\\\\\n",
    "&&\\mbox{[CLT]}\n",
    "\\quad\\quad\\quad\\quad\\\n",
    "\\mbox{Dist of $S_n$}\\quad\\approx\\quad N(\\mu n,\\sigma^2 n)\n",
    "\\quad\\quad\n",
    "\\mbox{if $n$ is large}\\nonumber\\\\\n",
    "(3)&&\\mbox{Dist of $\\frac{S_n-\\mu n}{\\sigma \\sqrt{n}}$}\\approx\\mbox{Normal dist with same mean and variance if $n$ is large}\\nonumber\\\\\n",
    "&&\n",
    "\\mbox{[CLT]}\n",
    "\\quad\\quad\\quad\\quad\\\n",
    "\\mbox{Dist of $\\frac{S_n-n\\mu}{\\sigma \\sqrt{n}}$}\n",
    "\\quad\\approx\\quad\n",
    "N(0,1)\n",
    "\\quad\\quad\n",
    "\\mbox{if $n$ is large}\\nonumber\n",
    "\\end{eqnarray}\n",
    "meaning, for any $x$\n",
    "$$\n",
    "P\\left(\\frac{S_n-\\mu n}{\\sigma \\sqrt{n}}\\le x\\right)\n",
    "\\quad\\rightarrow\\quad\n",
    "N(x)=\\int_{-\\infty}^x\\frac{1}{\\sqrt{2\\pi}}e^{-\\frac{s^2}{2}}ds\n",
    "$$\n",
    "\n",
    "\n",
    "\n",
    "\n",
    "\n",
    "\n",
    "With $Y_k=\\frac{X_k-\\mu}{\\sigma }$, iid with mean 0 and variance 1\n",
    "$$\n",
    "\\phi_{\\frac{S_n-\\mu n}{\\sigma \\sqrt{n}}}(t)\n",
    "=\n",
    "\\phi_{\\frac{\\sum_{k=1}^nY_k}{\\sqrt{n}}}(t)\n",
    "=\n",
    "\\left(Ee^{\\frac{t}{\\sqrt{n}}Y_1}\\right)^n=\\left(\\phi_{Y_1}\\left(\\frac{t}{\\sqrt{n}}\\right)\\right)^n\n",
    "$$\n",
    "\n",
    "\n",
    "\n",
    "\\begin{eqnarray}\n",
    "\\phi_{Y_1}(t)\n",
    "&=&Ee^{tY_1}\n",
    "=E\\left(1+tY_1+\\frac{(tY_1)^2}{2!}+\\cdots\\right)\\nonumber\\\\\n",
    "&\\approx&E\\left(1+tY_1+\\frac{(tY_1)^2}{2!}\\right)\n",
    "=1+tEY_1+\\frac{t^2}{2}EY_1^2\n",
    "=1+\\frac{1}{2}t^2\n",
    "\\nonumber\n",
    "\\end{eqnarray}\n",
    "\n",
    "\n",
    "\n",
    "$$\n",
    "\\phi_{\\frac{S_n-n\\mu}{\\sigma \\sqrt{n}}}(t)\n",
    "=\\left(\\phi_{Y_1}\\left(\\frac{t}{\\sqrt{n}}\\right)\\right)^n\n",
    "\\approx\\left(1+\\frac{t^2}{2n}\\right)^n\n",
    "\\approx e^{\\frac{t^2}{2}}=\\phi_{N(0,1)}(t)\n",
    "$$"
   ]
  },
  {
   "cell_type": "code",
   "execution_count": 3,
   "metadata": {},
   "outputs": [
    {
     "data": {
      "image/png": "[encoded data removed]",
      "text/plain": [
       "<Figure size 432x288 with 1 Axes>"
      ]
     },
     "metadata": {
      "needs_background": "light"
     },
     "output_type": "display_data"
    }
   ],
   "source": [
    "# CLT - Sum of Uniform Random Variables\n",
    "\n",
    "import numpy as np\n",
    "import matplotlib.pyplot as plt\n",
    "\n",
    "# Sum of Uniform Random Variables\n",
    "n_sum = 10\n",
    "num_samples = 1000\n",
    "x = np.random.uniform(0, 1, (num_samples, n_sum))\n",
    "x = np.sum(x,axis=1)\n",
    "\n",
    "# plot pdf of samples using plt.hist \n",
    "plt.hist(x, bins=25, color='red', alpha=0.5, density=True) \n",
    "\n",
    "# estimate mu and sigma from the sample\n",
    "mu_hat = np.sum(x) / num_samples\n",
    "sigma_square_hat = np.sum((x - mu_hat)**2) / num_samples\n",
    "sigma_hat = np.sqrt(sigma_square_hat)\n",
    "\n",
    "# compute pdf of normal distribution with estimated mu and sigma\n",
    "xp = mu_hat + sigma_hat * np.linspace(-3,3,100) # x values where we compute pdf\n",
    "yp = np.exp(-(xp-mu_hat)**2/(2*sigma_hat**2)) / np.sqrt(2*np.pi*sigma_hat**2) # computed pdf values\n",
    "\n",
    "# plot pdf of normal distribution with estimated mu and sigma \n",
    "plt.plot(xp,yp,'--r')\n",
    "plt.show()"
   ]
  },
  {
   "cell_type": "code",
   "execution_count": 12,
   "metadata": {},
   "outputs": [
    {
     "data": {
      "image/png": "[encoded data removed]",
      "text/plain": [
       "<Figure size 432x288 with 1 Axes>"
      ]
     },
     "metadata": {
      "needs_background": "light"
     },
     "output_type": "display_data"
    }
   ],
   "source": [
    "# CLT - Sum of Bernoulli Random Variables\n",
    "\n",
    "import numpy as np\n",
    "import matplotlib.pyplot as plt\n",
    "\n",
    "# B(n,p) - Sum of Bernoulli Random Variables\n",
    "n = 500\n",
    "p = 0.5\n",
    "num_samples = 1000\n",
    "x = np.random.binomial(n, p, (num_samples,))\n",
    "\n",
    "# plot pdf of samples using plt.hist \n",
    "plt.hist(x, bins=25, color='red', alpha=0.5, density=True) \n",
    "\n",
    "# estimate mu and sigma from the sample\n",
    "mu_hat = np.sum(x) / num_samples\n",
    "sigma_square_hat = np.sum((x - mu_hat)**2) / num_samples\n",
    "sigma_hat = np.sqrt(sigma_square_hat)\n",
    "\n",
    "# compute pdf of normal distribution with estimated mu and sigma\n",
    "xp = mu_hat + sigma_hat * np.linspace(-3,3,100) # x values where we compute pdf\n",
    "yp = np.exp(-(xp-mu_hat)**2/(2*sigma_hat**2)) / np.sqrt(2*np.pi*sigma_hat**2) # computed pdf values\n",
    "\n",
    "# plot pdf of normal distribution with estimated mu and sigma \n",
    "plt.plot(xp,yp,'--r')\n",
    "plt.show()"
   ]
  },
  {
   "cell_type": "markdown",
   "metadata": {
    "collapsed": true
   },
   "source": [
    "[<a href=\"#CLT\">Back to top</a>]"
   ]
  },
  {
   "cell_type": "code",
   "execution_count": null,
   "metadata": {},
   "outputs": [],
   "source": []
  }
 ],
 "metadata": {
  "kernelspec": {
   "display_name": "Python 3",
   "language": "python",
   "name": "python3"
  },
  "language_info": {
   "codemirror_mode": {
    "name": "ipython",
    "version": 3
   },
   "file_extension": ".py",
   "mimetype": "text/x-python",
   "name": "python",
   "nbconvert_exporter": "python",
   "pygments_lexer": "ipython3",
   "version": "3.5.0"
  }
 },
 "nbformat": 4,
 "nbformat_minor": 2
}
