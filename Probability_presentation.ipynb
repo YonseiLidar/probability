{
 "cells": [
  {
   "cell_type": "markdown",
   "metadata": {},
   "source": [
    "# Probability\n",
    "\n",
    "<a href=\"#Sample\">Sample</a>\n",
    "\n",
    "<a href=\"#Sample-Space\">Sample Space</a>\n",
    "\n",
    "<a href=\"#Event\">Event</a>\n",
    "\n",
    "<a href=\"#Probability-Measure\">Probability Measure</a>\n",
    "\n",
    "<a href=\"#Equally-Likely-Probability-Measure\">Equally Likely Probability Measure</a>\n",
    "\n",
    "<a href=\"#Urn-Problems\">Urn Problems</a>\n",
    "\n",
    "<a href=\"#Probability-of-full-house\">Probability of full house</a>\n",
    "\n",
    "<a href=\"#Fermat-and-Pascal:-Gambling,-Triangles,-and-the-Birth-of-Probability\">Fermat and Pascal: Gambling, Triangles, and the Birth of Probability</a>\n",
    "\n",
    "<a href=\"#Newton-Pepys-problem-(1693)\">Newton-Pepys problem (1693)</a>\n",
    "\n",
    "<a href=\"#Bertrand's-ballot-theorem-(1887)\">Bertrand's ballot theorem (1887)</a>"
   ]
  },
  {
   "cell_type": "markdown",
   "metadata": {},
   "source": [
    "Norvig [ipynb](http://nbviewer.jupyter.org/url/norvig.com/ipython/Probability.ipynb)"
   ]
  },
  {
   "cell_type": "markdown",
   "metadata": {},
   "source": [
    "In 1814, Pierre-Simon Laplace [wrote](https://en.wikipedia.org/wiki/Classical_definition_of_probability):\n",
    "\n",
    ">*Probability ... is thus simply a fraction whose numerator is the number of favorable cases and whose denominator is the number of all the cases possible ... when nothing leads us to expect that any one of these cases should occur more than any other.*\n",
    "\n",
    "![Laplace](https://upload.wikimedia.org/wikipedia/commons/thumb/3/30/AduC_197_Laplace_%28P.S.%2C_marquis_de%2C_1749-1827%29.JPG/180px-AduC_197_Laplace_%28P.S.%2C_marquis_de%2C_1749-1827%29.JPG)\n",
    "<center><a href=\"https://en.wikipedia.org/wiki/Pierre-Simon_Laplace\">Pierre-Simon Laplace</a><br>1814</center>\n",
    "\n",
    "Norvig [ipynb](http://nbviewer.jupyter.org/url/norvig.com/ipython/Probability.ipynb)"
   ]
  },
  {
   "cell_type": "markdown",
   "metadata": {},
   "source": [
    "# Sample"
   ]
  },
  {
   "cell_type": "markdown",
   "metadata": {},
   "source": [
    "Possible outcome $\\omega$ of an experiment is a sample."
   ]
  },
  {
   "cell_type": "markdown",
   "metadata": {
    "collapsed": true
   },
   "source": [
    "[<a href=\"#Probability\">Back to top</a>]"
   ]
  },
  {
   "cell_type": "markdown",
   "metadata": {},
   "source": [
    "# Sample Space"
   ]
  },
  {
   "cell_type": "markdown",
   "metadata": {},
   "source": [
    "Collect all samples.\n",
    "The set $\\Omega$ of all samples is a sample space."
   ]
  },
  {
   "cell_type": "markdown",
   "metadata": {},
   "source": [
    "[<a href=\"#Probability\">Back to top</a>]"
   ]
  },
  {
   "cell_type": "markdown",
   "metadata": {},
   "source": [
    "# Event"
   ]
  },
  {
   "cell_type": "markdown",
   "metadata": {},
   "source": [
    "Collect all samples of interest.\n",
    "Technically this is a subset of $\\Omega$.  \n",
    "Any subset $A$ of $\\Omega$ is an event."
   ]
  },
  {
   "cell_type": "markdown",
   "metadata": {},
   "source": [
    "[<a href=\"#Probability\">Back to top</a>]"
   ]
  },
  {
   "cell_type": "markdown",
   "metadata": {},
   "source": [
    "# Probability Measure"
   ]
  },
  {
   "cell_type": "markdown",
   "metadata": {},
   "source": [
    "For each $\\omega$ in $\\Omega$\n",
    "we attach a brick. \n",
    "Each brick may has different weights, but\n",
    "the total weights of the bricks is 1.\n",
    "This weight distribution over the sample space $\\Omega$ is\n",
    "a probability measure.\n",
    "\\begin{eqnarray}\n",
    "P(\\omega)&=&\\mbox{Weight of the brick attached to $\\omega$}\\nonumber\\\\\n",
    "P(A)&=&\\sum_{\\omega\\in A}P(\\omega)=\\mbox{Weight of the bricks attached to $A$}\\nonumber\n",
    "\\end{eqnarray}"
   ]
  },
  {
   "cell_type": "markdown",
   "metadata": {},
   "source": [
    "### Properties of probability measure\n",
    "\n",
    "A probability measure $P$ is in a nutshell a real-valued function defined on events $A$:\n",
    "$$\n",
    "A\\ \\ \\stackrel{P}{\\rightarrow}\\ \\ P(A)\n",
    "$$\n",
    "More precisely, a probability measure $P$  is a real-valued function defined on events $A$ which satisfies the following three\n",
    "$$\\begin{array}{llll}\n",
    "(1)&&\\displaystyle P(\\Omega)=1,\\ P(\\emptyset)=0\\nonumber\\\\\n",
    "\\\\\n",
    "(2)&&\\displaystyle 0\\le P(A)\\le 1\\nonumber\\\\\n",
    "\\\\\n",
    "(3)&&\\displaystyle P\\left(\\cup_{i=1}^{\\infty}A_i\\right)=\\sum_{i=1}^{\\infty}P\\left(A_i\\right)\\quad\\mbox{for any {\\color{red}disjoint events} $A_i$}\\nonumber\n",
    "\\end{array}$$"
   ]
  },
  {
   "cell_type": "markdown",
   "metadata": {},
   "source": [
    "$$\\begin{array}{llll}\n",
    "(4)&&\\displaystyle P\\left(\\cup_{i=1}^{n}A_i\\right)=\\sum_{i=1}^{n}P\\left(A_i\\right)\\quad\\mbox{for any {\\color{red}disjoint events}  $A_i$}\\nonumber\\\\\n",
    "\\\\\n",
    "(5)&&\\displaystyle P(A)\\le P(B)\\quad\\mbox{for $A\\subset B$}\\nonumber\\\\\n",
    "\\\\\n",
    "(6)&&\\displaystyle P(A)=1-P(A^c)\\nonumber\n",
    "\\end{array}$$"
   ]
  },
  {
   "cell_type": "markdown",
   "metadata": {},
   "source": [
    "### Inclusion-exclusion principle"
   ]
  },
  {
   "cell_type": "markdown",
   "metadata": {},
   "source": [
    "##### Two events\n",
    "\\begin{eqnarray}\n",
    "(7)\\quad P(A\\cup B)&\\le& P(A)+P(B)\\nonumber\\\\\n",
    "(7)\\quad P(A\\cup B)&=&P(A)+P(B)-P(A\\cap B)\\nonumber\n",
    "\\end{eqnarray}"
   ]
  },
  {
   "cell_type": "markdown",
   "metadata": {},
   "source": [
    "##### Three events\n",
    "\\begin{eqnarray}\n",
    "(7)\\ P(A\\cup B\\cup C)&\\le& P(A)+P(B)+P(C)\\nonumber\\\\\n",
    "(7)\\ P(A\\cup B\\cup C)&\\ge& P(A)+P(B)+P(C)-P(AB)-P(BC)-P(CA)\\nonumber\\\\\n",
    "(7)\\ P(A\\cup B\\cup C)&=&P(A)+\\cdots-P(AB)-\\cdots+P(ABC)\\nonumber\n",
    "\\end{eqnarray}"
   ]
  },
  {
   "cell_type": "markdown",
   "metadata": {},
   "source": [
    "##### Many events\n",
    "\\begin{eqnarray}\n",
    "(7)\\quad P(\\cup_{i=1}^nA_i)&\\le& \\sum_{i=1}^nP(A_i)\\nonumber\\\\\n",
    "(7)\\quad P(\\cup_{i=1}^nA_i)&\\ge& \\sum_{i=1}^nP(A_i)-\\sum_{1\\le i<j\\le n}P(A_iA_j)\\nonumber\\\\\n",
    "(7)\\quad P(\\cup_{i=1}^nA_i)&\\le& \\sum_{i=1}^nP(A_i)-\\sum_{1\\le i<j\\le n}P(A_iA_j)+\\sum_{1\\le i<j<k\\le n}P(A_iA_jA_k)\\nonumber\\\\\n",
    "&&\\cdots\\nonumber\\\\\n",
    "(7)\\quad P(\\cup_{i=1}^nA_i)&=&\\sum_{i=1}^nP(A_i)-\\sum_{1\\le i<j\\le n}P(A_iA_j)+\\cdots+(-1)^{n+1}P(A_1A_2\\cdots A_n)\\nonumber\n",
    "\\end{eqnarray}"
   ]
  },
  {
   "cell_type": "markdown",
   "metadata": {},
   "source": [
    "##### Names\n",
    "$$\\begin{array}{ll}\n",
    "\\mbox{First inequalities}&\\mbox{Boole's inequality}\\\\\n",
    "\\mbox{All inequalities}&\\mbox{Bonferroni's inequality}\\\\\n",
    "\\mbox{Last equalities}&\\mbox{Inclusion-exclusion principle}\n",
    "\\end{array}$$"
   ]
  },
  {
   "cell_type": "markdown",
   "metadata": {},
   "source": [
    "[<a href=\"#Probability\">Back to top</a>]"
   ]
  },
  {
   "cell_type": "markdown",
   "metadata": {},
   "source": [
    "# Equally Likely Probability Measure"
   ]
  },
  {
   "cell_type": "markdown",
   "metadata": {},
   "source": [
    "\\begin{eqnarray}\n",
    "P(\\omega)&=&\\frac{1}{|\\Omega|}\\nonumber\\\\\n",
    "P(A)&=&\\frac{|A|}{|\\Omega|}\\nonumber\n",
    "\\end{eqnarray}"
   ]
  },
  {
   "cell_type": "markdown",
   "metadata": {},
   "source": [
    "### Example - Flip a fair coin three times\n",
    "\n",
    "$$\n",
    "P(HHH)=P(HHT)=\\cdots=P(TTT)=\\frac{1}{8}\n",
    "$$"
   ]
  },
  {
   "cell_type": "markdown",
   "metadata": {},
   "source": [
    "[<a href=\"#Probability\">Back to top</a>]"
   ]
  },
  {
   "cell_type": "markdown",
   "metadata": {},
   "source": [
    "# Urn Problems"
   ]
  },
  {
   "cell_type": "markdown",
   "metadata": {},
   "source": [
    "Around 1700, Jacob Bernoulli wrote about removing colored balls from an urn in his landmark treatise *[Ars Conjectandi](https://en.wikipedia.org/wiki/Ars_Conjectandi)*, and ever since then, explanations of probability have relied on [urn problems](https://www.google.com/webhp?sourceid=chrome-instant&ion=1&espv=2&ie=UTF-8#q=probability%20ball%20urn). (You'd think the urns would be empty by now.) \n",
    "\n",
    "![Jacob Bernoulli](http://www2.stetson.edu/~efriedma/periodictable/jpg/Bernoulli-Jacob.jpg)\n",
    "<center><a href=\"https://en.wikipedia.org/wiki/Jacob_Bernoulli\">Jacob Bernoulli</a><br>1700</center>\n",
    "\n",
    "For example, here is a three-part problem [adapted](http://mathforum.org/library/drmath/view/69151.html)  from mathforum.org:\n",
    "\n",
    "> An urn contains 23 balls: 8 white, 6 blue, and 9 red.  We select six balls at random (each possible selection is equally likely). What is the probability of each of these possible outcomes:\n",
    "\n",
    "A: all balls are red\n",
    "\n",
    "B: 3 are blue, 2 are white, and 1 is red\n",
    "\n",
    "C: exactly 4 balls are white\n",
    "\n",
    "Norvig\n",
    "[ipynb](http://nbviewer.jupyter.org/url/norvig.com/ipython/Probability.ipynb)"
   ]
  },
  {
   "cell_type": "markdown",
   "metadata": {},
   "source": [
    "$$\\begin{array}{lll}\n",
    "P(A)&=&\\frac{{9\\choose 6}}{{23\\choose 6}}=0.000832119825255\\\\\n",
    "P(B)&=&\\frac{{8\\choose 2}{6\\choose 3}{9\\choose 1}}{{23\\choose 6}}=0.0499271895153\\\\\n",
    "P(C)&=&\\frac{{8\\choose 4}{15\\choose 2}}{{23\\choose 6}}=0.0728104847098\\\\\n",
    "\\end{array}$$"
   ]
  },
  {
   "cell_type": "markdown",
   "metadata": {},
   "source": [
    "[<a href=\"#Probability\">Back to top</a>]"
   ]
  },
  {
   "cell_type": "markdown",
   "metadata": {},
   "source": [
    "# Probability of full house"
   ]
  },
  {
   "cell_type": "markdown",
   "metadata": {},
   "source": [
    "The number $|\\Omega|$ of ways of choosing 5 cards simultaneously is \n",
    "$$\\Omega={52 \\choose 5}$$\n",
    "To choose a particular full house\n",
    "$$\\begin{array}{ll}\n",
    "\\mbox{decide the rank of the three equal-rank cards}&\\mbox{13 choices}\\\\\n",
    "\\mbox{pick the suits of the three equal-rank cards}&\\mbox{${4\\choose 3}$ choices}\\\\\n",
    "\\mbox{determine the rank of the two equal-rank cards}&\\mbox{12 choices}\\\\\n",
    "\\mbox{choose the suits of the two equal-rank cards}&\\mbox{${4\\choose 2}$ choices}\\\\\n",
    "\\end{array}$$\n",
    "So, the number $|A|$ of ways of choosing a full house is   \n",
    "$$|A|=13\\cdot {4\\choose 3}\\cdot 12 \\cdot {4\\choose 2}$$\n",
    "and \n",
    "the probability $P(A)$ that  we have full house is\n",
    "$$\n",
    "P(A)=\\frac{|A|}{|\\Omega|}=\\frac{13\\cdot {4\\choose 3}\\cdot 12 \\cdot {4\\choose 2}}{{52 \\choose 5}}\n",
    "$$"
   ]
  },
  {
   "cell_type": "markdown",
   "metadata": {},
   "source": [
    "[<a href=\"#Probability\">Back to top</a>]"
   ]
  },
  {
   "cell_type": "markdown",
   "metadata": {},
   "source": [
    "# Fermat and Pascal: Gambling, Triangles, and the Birth of Probability\n",
    "\n",
    "<table>\n",
    "<tr><td><img src=\"https://upload.wikimedia.org/wikipedia/commons/thumb/9/98/Pierre_de_Fermat2.png/140px-Pierre_de_Fermat2.png\"><center><a href=\"https://en.wikipedia.org/wiki/Pierre_de_Fermat\">Pierre de Fermat</a><br>1654\n",
    "<td><img src=\"https://www.umass.edu/wsp/images/pascal.jpg\"><center><a href=\"https://en.wikipedia.org/wiki/Blaise_Pascal\">Blaise Pascal]</a><br>1654\n",
    "</table>\n",
    "\n",
    "Consider a gambling game consisting of tossing a coin. Player H wins the game if 10 heads come up, and T wins if 10 tails come up. If the game is interrupted when H has 8 heads and T has 7 tails, how should the pot of money (which happens to be 100 Francs) be split?\n",
    "In 1654, Blaise Pascal and Pierre de Fermat corresponded on this problem, with Fermat [writing](http://mathforum.org/isaac/problems/prob1.html):\n",
    "\n",
    ">Dearest Blaise,\n",
    "\n",
    ">As to the problem of how to divide the 100 Francs, I think I have found a solution that you will find to be fair. Seeing as I needed only two points to win the game, and you needed 3, I think we can establish that after four more tosses of the coin, the game would have been over. For, in those four tosses, if you did not get the necessary 3 points for your victory, this would imply that I had in fact gained the necessary 2 points for my victory. In a similar manner, if I had not achieved the necessary 2 points for my victory, this would imply that you had in fact achieved at least 3 points and had therefore won the game. Thus, I believe the following list of possible endings to the game is exhaustive. I have denoted 'heads' by an 'h', and tails by a 't.' I have starred the outcomes that indicate a win for myself.\n",
    "\n",
    "    h h h h *       h h h t *       h h t h *       h h t t *\n",
    "    h t h h *       h t h t *       h t t h *       h t t t\n",
    "    t h h h *       t h h t *       t h t h *       t h t t\n",
    "    t t h h *       t t h t         t t t h         t t t t\n",
    "\n",
    ">I think you will agree that all of these outcomes are equally likely. Thus I believe that we should divide the stakes by the ration 11:5 in my favor, that is, I should receive (11/16)*100 = 68.75 Francs, while you should receive 31.25 Francs.\n",
    "\n",
    ">I hope all is well in Paris,\n",
    "\n",
    ">Your friend and colleague,\n",
    "\n",
    ">Pierre\n",
    "\n",
    "Pascal agreed with this solution, and [replied](http://mathforum.org/isaac/problems/prob2.html) with a generalization that made use of his previous invention, Pascal's Triangle. There's even [a book](https://smile.amazon.com/Unfinished-Game-Pascal-Fermat-Seventeenth-Century/dp/0465018963?sa-no-redirect=1) about it.\n",
    "\n",
    "Norvig\n",
    "[ipynb](http://nbviewer.jupyter.org/url/norvig.com/ipython/Probability.ipynb)"
   ]
  },
  {
   "cell_type": "markdown",
   "metadata": {},
   "source": [
    "[<a href=\"#Probability\">Back to top</a>]"
   ]
  },
  {
   "cell_type": "markdown",
   "metadata": {},
   "source": [
    "# Newton-Pepys problem (1693)"
   ]
  },
  {
   "cell_type": "markdown",
   "metadata": {},
   "source": [
    "Which of the following three has the greatest chance of success?\n",
    "\\begin{eqnarray}\n",
    "A&&\\mbox{Six fair dice are tossed independently and at least one ``6\" appears.}\\nonumber\\\\\n",
    "B&&\\mbox{Twelve fair dice are tossed independently and at least two ``6\"s appear.}\\nonumber\\\\\n",
    "C&&\\mbox{Eighteen fair dice are tossed independently and at least three ``6\"s appear.}\\nonumber\n",
    "\\end{eqnarray}\n",
    "Pepys initially thought $C$ had the highest probability, \n",
    "but Newton showed $A$ has."
   ]
  },
  {
   "cell_type": "markdown",
   "metadata": {},
   "source": [
    "##### $P(A)$\n",
    "$$\n",
    "|\\Omega_A|=6^6,\\quad |A^c|=5^6\n",
    "\\quad\\Rightarrow\\quad\n",
    "P(A)=1-P(A^c)=1-\\frac{5^6}{6^6}=0.6651\n",
    "$$"
   ]
  },
  {
   "cell_type": "markdown",
   "metadata": {},
   "source": [
    "##### $P(B)$\n",
    "$$\\begin{array}{ll}\n",
    "\\mbox{Number of twelve fair dice toss outcomes}&\\displaystyle |\\Omega_B|=6^{12}\\nonumber\\\\\n",
    "\\mbox{Number of outcomes with no ``6''}&\\displaystyle |B_0|=5^{12}\\nonumber\\\\\n",
    "\\mbox{Number of outcomes with exactly one ``6''}&\\displaystyle |B_1|={12\\choose 1}\\times 1\\times 5^{11}\\nonumber\n",
    "\\end{array}$$\n",
    "$$\n",
    "\\Rightarrow\\quad\n",
    "P(B)=1-P(B_0)-P(B_1)=1-\\frac{5^{12}}{6^{12}}-\\frac{{12\\choose 1}5^{11}}{6^{12}}\n",
    "=0.6187\n",
    "$$"
   ]
  },
  {
   "cell_type": "markdown",
   "metadata": {},
   "source": [
    "##### $P(C)$\n",
    "$$\\begin{array}{ll}\n",
    "\\mbox{Number of eighteen fair dice toss outcomes}&\\displaystyle |\\Omega_C|=6^{18}\\nonumber\\\\\n",
    "\\mbox{Number of outcomes with no ``6''}&\\displaystyle |C_0|=5^{18}\\nonumber\\\\\n",
    "\\mbox{Number of outcomes with exactly one ``6''}&\\displaystyle |C_1|={18\\choose 1}\\times 1\\times 5^{17}\\nonumber\\\\\n",
    "\\mbox{Number of outcomes with exactly two ``6''}&\\displaystyle |C_2|={18\\choose 2}\\times 1\\times 1\\times 5^{16}\\nonumber\n",
    "\\end{array}$$\n",
    "$$\n",
    "\\Rightarrow\\quad\n",
    "P(C)=1-P(C_0)-P(C_1)-P(C_2)\n",
    "=\n",
    "1-\\frac{5^{18}}{6^{18}}-\\frac{{18\\choose 1}5^{17}}{6^{18}}\n",
    "-\\frac{{18\\choose 2}5^{16}}{6^{18}}\n",
    "=0.5973\n",
    "$$"
   ]
  },
  {
   "cell_type": "markdown",
   "metadata": {},
   "source": [
    "[<a href=\"#Probability\">Back to top</a>]"
   ]
  },
  {
   "cell_type": "markdown",
   "metadata": {},
   "source": [
    "# Bertrand's ballot theorem (1887)"
   ]
  },
  {
   "cell_type": "markdown",
   "metadata": {},
   "source": [
    "During the election\n",
    "$A$ wins against $B$,\n",
    "where\n",
    "$A$ receives $a$ votes and $B$ receives $b$ votes with $a > b$. \n",
    "The probability $P(A)$ that $A$ will be strictly ahead of $B$ throughout the count is\n",
    "$$\\frac{a-b}{a+b}$$"
   ]
  },
  {
   "cell_type": "markdown",
   "metadata": {},
   "source": [
    "##### Count pattern as a path from $(0,0)$ to $(b,a)$\n",
    "\n",
    "Starting from $(0,0)$,\n",
    "whenever we have a new vote for $A$, we move one unit up ($U$). \n",
    "Whenever we have a new vote for $B$, we move one unit right ($R$). \n",
    "$$\n",
    "AABABBABAAABAAA\n",
    "\\quad\\stackrel{A\\leftrightarrow U, B\\leftrightarrow R}{\\Longleftrightarrow}\\quad\n",
    "UURURRURUUURUUU\n",
    "$$"
   ]
  },
  {
   "cell_type": "markdown",
   "metadata": {},
   "source": [
    "##### Reflection principle\n",
    "$$\\begin{array}{ll}\n",
    "\\mbox{Number of count patterns}&\\displaystyle |\\Omega|={a+b \\choose b}\\nonumber\\\\\n",
    "\\mbox{Number of count patterns staring with $B$}&\\displaystyle |B_1|={a+b-1 \\choose b-1}\\nonumber\\\\\n",
    "\\mbox{Number of count patterns staring with $A$ but}\\nonumber\\\\\n",
    "\\quad\\mbox{failing to be strictly ahead of $B$ all the time}&\\displaystyle |B_2|=|B_1|={a+b-1 \\choose b-1}\\nonumber\\\\\n",
    "\\mbox{Number of count patterns staring with $A$ and}\\\\\n",
    "\\quad\\mbox{being strictly ahead of $B$ all the time}&\\displaystyle |A|=|\\Omega|-|B_1|-|B_2|\\nonumber\n",
    "\\end{array}$$\n",
    "$$\n",
    "\\Rightarrow\\quad\n",
    "P(A)=1-P(B_1)-P(B_2)\n",
    "=1-\\frac{{a+b-1 \\choose b-1}}{{a+b \\choose b}}-\\frac{{a+b-1 \\choose b-1}}{{a+b \\choose b}}\n",
    "=\\frac{a-b}{a+b}\n",
    "$$"
   ]
  },
  {
   "cell_type": "markdown",
   "metadata": {},
   "source": [
    "[<a href=\"#Probability\">Back to top</a>]"
   ]
  }
 ],
 "metadata": {
  "kernelspec": {
   "display_name": "Python 3",
   "language": "python",
   "name": "python3"
  },
  "language_info": {
   "codemirror_mode": {
    "name": "ipython",
    "version": 3
   },
   "file_extension": ".py",
   "mimetype": "text/x-python",
   "name": "python",
   "nbconvert_exporter": "python",
   "pygments_lexer": "ipython3",
   "version": "3.5.0"
  }
 },
 "nbformat": 4,
 "nbformat_minor": 2
}
