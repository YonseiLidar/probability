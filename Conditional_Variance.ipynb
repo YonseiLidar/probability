{
 "cells": [
  {
   "cell_type": "markdown",
   "metadata": {},
   "source": [
    "# Conditional Variance"
   ]
  },
  {
   "cell_type": "markdown",
   "metadata": {},
   "source": [
    "<a href=\"#Definition---Conditional-Variance\">Definition - Conditional Variance</a>\n",
    "\n",
    "<a href=\"#Properties-of-Conditional-Variance\">Properties of Conditional Variance</a>"
   ]
  },
  {
   "cell_type": "markdown",
   "metadata": {},
   "source": [
    "# Definition - Conditional Variance"
   ]
  },
  {
   "cell_type": "markdown",
   "metadata": {},
   "source": [
    "### $Var(X|Y=y)$ is a number, which is given by\n",
    "\\begin{eqnarray}\n",
    "Var(X)=E(X-E(X))^2\n",
    "&\\quad\\Rightarrow\\quad& \n",
    "Var(X|Y=y)=E((X-E(X|Y=y))^2|Y=y)\\nonumber\\\\\n",
    "Var(X)=EX^2-(EX)^2\n",
    "&\\quad\\Rightarrow\\quad& \n",
    "Var(X|Y=y)=E(X^2|Y=y)-\\left(E(X|Y=y)\\right)^2\\nonumber\n",
    "\\end{eqnarray}"
   ]
  },
  {
   "cell_type": "markdown",
   "metadata": {},
   "source": [
    "### $Var(X|Y)$ is a random variable, not a number. It is a random variable,  which is given by\n",
    "$$\n",
    "\\omega\n",
    "\\quad\\rightarrow\\quad\n",
    "y=Y(\\omega)\n",
    "\\quad\\rightarrow\\quad\n",
    "P(X=x|Y=y)\n",
    "\\quad\\rightarrow\\quad\n",
    "Var(X|Y=y)\n",
    "$$\n",
    "or\n",
    "\\begin{eqnarray}\n",
    "Var(X|Y)(\\omega)\n",
    "&=&\n",
    "Var(X|Y=Y(\\omega))\\nonumber\n",
    "\\end{eqnarray}"
   ]
  },
  {
   "cell_type": "markdown",
   "metadata": {
    "collapsed": true
   },
   "source": [
    "[<a href=\"#Conditional-Variance\">Back to top</a>]"
   ]
  },
  {
   "cell_type": "markdown",
   "metadata": {},
   "source": [
    "# Properties of Conditional Variance"
   ]
  },
  {
   "cell_type": "markdown",
   "metadata": {},
   "source": [
    "### Properties of conditional expectation"
   ]
  },
  {
   "cell_type": "markdown",
   "metadata": {},
   "source": [
    "\\begin{eqnarray}\n",
    "(1)&&\\mathbb{E}(X+Y|Z)=\\mathbb{E}(X|Z)+\\mathbb{E}(Y|Z)\\nonumber\\\\\n",
    "(2)&&\\mathbb{E}(aX|Y)=a\\mathbb{E}(X|Y)\\nonumber\\\\\n",
    "(3)&&\\mathbb{E}(g(Y)|Y)=g(Y)\\nonumber\\\\\n",
    "(4)&&\\mathbb{E}(g(Y)X|Y)=g(Y)\\mathbb{E}(X|Y)\\nonumber\\\\\n",
    "(5)&&\\mathbb{E}(X|Y)=\\mathbb{E}(X)\\ \\mbox{if $X$ and $Y$ are independent}\\nonumber\\\\\n",
    "(6)&&\\mathbb{E}(X)=\\mathbb{E}\\mathbb{E}(X|Y)\\nonumber\n",
    "\\end{eqnarray}"
   ]
  },
  {
   "cell_type": "markdown",
   "metadata": {},
   "source": [
    "### Properties of conditional variance"
   ]
  },
  {
   "cell_type": "markdown",
   "metadata": {},
   "source": [
    "\\begin{eqnarray}\n",
    "(7)&&Var(X)=\\mathbb{E}Var(X|Y)+Var(\\mathbb{E}(X|Y))\\nonumber\\\\\n",
    "(8)&&Var(X)\\ge \\mathbb{E}Var(X|Y)\\ \\ \\ \\ \\ \\mbox{and}\\ \\ \\ \\ \\ Var(X)\\ge Var(\\mathbb{E}(X|Y))\\nonumber\n",
    "\\end{eqnarray}"
   ]
  },
  {
   "cell_type": "markdown",
   "metadata": {},
   "source": [
    "$$\n",
    "\\mathbb{E}(X|Y)\n",
    "=\n",
    "\\left\\{\\begin{array}{ll}\n",
    "\\mathbb{E}(X|Y=y_1)&\\mbox{if $Y=y_1$ with probability $P(Y=y_1)$}\\\\\n",
    "\\mathbb{E}(X|Y=y_2)&\\mbox{if $Y=y_2$ with probability $P(Y=y_2)$}\\\\\n",
    "\\cdots&\\mbox{if}\\ \\cdots\\\\\n",
    "\\mathbb{E}(X|Y=y_n)&\\mbox{if $Y=y_n$ with probability $P(Y=y_n)$}\\\\\n",
    "\\end{array}\\right.\n",
    "$$\n",
    "\n",
    "$$\\begin{array}{lll}\n",
    "\\mathbb{E}\\mathbb{E}(X|Y)\n",
    "&=&\\sum_{y_j}\\mathbb{E}(X|Y=y_j)\\mathbb{P}(Y=y_j)\\nonumber\\\\\n",
    "&=&\\sum_{y_j}\\left(\\sum_{x_i}x_i\\mathbb{P}(X=x_i|Y=y_j)\\right)\\mathbb{P}(Y=y_j)\\nonumber\\\\\n",
    "&=&\\sum_{x_i}x_i\\left(\\sum_{y_j}\\mathbb{P}(X=x_i|Y=y_j)\\mathbb{P}(Y=y_j)\\right)\\nonumber\\\\\n",
    "&=&\\sum_{x_i}x_i\\mathbb{P}(X=x_i)\\nonumber\\\\\n",
    "&=&\\mathbb{E}X\\nonumber\n",
    "\\end{array}$$"
   ]
  },
  {
   "cell_type": "markdown",
   "metadata": {},
   "source": [
    "### Example - From joint to conditional\n",
    "\n",
    "Compute $E(X|Y = y)$,\n",
    "where\n",
    "the joint PDF of $X$ and $Y$ is given by\n",
    "$$\n",
    "\\displaystyle \n",
    "f(x,y)=\\frac{e^{-\\frac{x}{y}}e^{-y}}{y}\\quad  0 < x < \\infty,\\ 0 < y < \\infty\n",
    "$$"
   ]
  },
  {
   "cell_type": "markdown",
   "metadata": {},
   "source": [
    "##### $\\displaystyle X|Y=y\\sim Exp(\\lambda),\\ \\lambda=\\frac{1}{y}$\n",
    "\n",
    "$$\n",
    "\\displaystyle \n",
    "f_{X|Y}(x|y)\n",
    "\\quad\\propto\\quad \n",
    "\\frac{e^{-\\frac{x}{y}}e^{-y}}{y}\n",
    "\\quad\\propto\\quad \n",
    "e^{-\\frac{x}{y}}\n",
    "\\quad\\propto\\quad\n",
    "\\frac{1}{y} e^{-\\frac{x}{y}}\n",
    "$$\n",
    "$$\n",
    "\\displaystyle \n",
    "X|Y=y \n",
    "\\quad\\sim\\quad \n",
    "Exp(\\lambda),\\ \\lambda=\\frac{1}{y}\n",
    "$$\n",
    "\n",
    "##### $\\displaystyle E(X|Y=y)=y,\\ Var(X|Y=y)=y^2$\n",
    "\n",
    "$$\n",
    "\\displaystyle \n",
    "E(X|Y=y)=\\frac{1}{\\lambda}=y\n",
    "\\quad\\mbox{and}\\quad\n",
    "Var(X|Y=y)=\\frac{1}{\\lambda^2}=y^2\n",
    "$$\n",
    "\n",
    "##### $\\displaystyle E(X|Y)=Y,\\ Var(X|Y)=Y^2$"
   ]
  },
  {
   "cell_type": "markdown",
   "metadata": {},
   "source": [
    "### Example - Expected amount of money spent in the store\n",
    "\n",
    "Suppose that the number of people entering a department store on a given day is \n",
    "a random variable with mean 50 and variance 100. \n",
    "Suppose further that the amounts of money spent by these customers are \n",
    "iid with mean \\$8 and standard deviation \\$4. \n",
    "Finally, suppose also that the amount of money spent by a customer is also \n",
    "independent of the total number of customers who enter the store. \n",
    "What is the expected amount of money spent in the store on a given day?"
   ]
  },
  {
   "cell_type": "markdown",
   "metadata": {},
   "source": [
    "Let $N$ be the number of people entering a department store on a given day, \n",
    "with mean 50 and variance 100, \n",
    "and let $X_i$ be the amounts of money spent by the $i$-th customer, iid with mean \\$8 and standard deviation \\$4. Let $T$ be the amount of money spent in the store on a given day.\n",
    "Then, $T$ can be represented in terms of $N$ and $X_i$:\n",
    "$$\n",
    "\\displaystyle \n",
    "T=\\sum_{i=1}^NX_i\n",
    "$$\n",
    "\n",
    "\n",
    "##### $E(T|N)$ is a function of $N$\n",
    "\n",
    "$$\n",
    "\\displaystyle \n",
    "E(T|N)\n",
    "=E(\\sum_{i=1}^NX_i|N)\n",
    "=\\sum_{i=1}^NE(X_i|N)\n",
    "=\\sum_{i=1}^NE(X_i)\n",
    "=\\sum_{i=1}^N8=8N\n",
    "$$\n",
    "\n",
    "##### $ET=EE(T|N)$\n",
    "\n",
    "$$\n",
    "\\displaystyle \n",
    "ET=EE(T|N)\n",
    "=E8N=8EN=8\\times 50=400\n",
    "$$\n",
    "\n",
    "##### $Var(T|N)$ is a function of $N$\n",
    "\n",
    "$$\n",
    "\\displaystyle \n",
    "Var(T|N)\n",
    "=Var(\\sum_{i=1}^NX_i|N)\n",
    "=\\sum_{i=1}^NVar(X_i|N)\n",
    "=\\sum_{i=1}^NVar(X_i)\n",
    "=\\sum_{i=1}^N16=16N\n",
    "$$\n",
    "\n",
    "\n",
    "##### $Var(T)=Var(E(T|N))+EVar(T|N)$\n",
    "\n",
    "$$\n",
    "\\begin{array}{lllllllll}\n",
    "Var(E(T|N))&=&Var(8N)&=&64Var(N)&=&64\\times 100&=&6400\\\\\n",
    "\\\\\n",
    "EVar(T|N)&=&E16N&=&16EN&=&16\\times 50&=&800\\\\\n",
    "\\\\\n",
    "Var(T)&=&Var(E(T|N))+EVar(T|N)&=&6400+800&=&7200\n",
    "\\end{array}\n",
    "$$"
   ]
  },
  {
   "cell_type": "markdown",
   "metadata": {},
   "source": [
    "### Example -  Trapped miner\n",
    "\n",
    "A miner is trapped in a mine containing 3 doors. The first door leads to a tunnel that will take him to safety after 3 hours of travel. The second door leads to a tunnel that will return him to the mine after 5 hours of travel. The third door leads to a tunnel that will return him to the mine after 7 hours. If we assume that the miner is at all times equally likely to choose any one of the doors, what is the expected time $ET$ until he reaches safety? Can you get $Var(T)$?"
   ]
  },
  {
   "cell_type": "markdown",
   "metadata": {},
   "source": [
    "##### Trapped miner - Expectation\n",
    "\n",
    "Let $T$ be the exit time\n",
    "and let $X$ be the first choice of the door he takes.\n",
    "\n",
    "$$\n",
    "\\displaystyle \n",
    "\\mathbb{E}(T|X=x)\n",
    "\\quad=\\quad\\left\\{\\begin{array}{ll}\n",
    "3&\\mbox{for $x=1$}\\\\\n",
    "5+\\mathbb{E}T&\\mbox{for $x=2$}\\\\\n",
    "7+\\mathbb{E}T&\\mbox{for $x=3$}\\\\\n",
    "\\end{array}\\right.\n",
    "$$\n",
    "\n",
    "$$\n",
    "\\displaystyle \n",
    "\\mathbb{E}(T|X)\n",
    "\\quad=\\quad\\left\\{\\begin{array}{ll}\n",
    "3&\\mbox{with probability $1/3$}\\\\\n",
    "5+\\mathbb{E}T&\\mbox{with probability $1/3$}\\\\\n",
    "7+\\mathbb{E}T&\\mbox{with probability $1/3$}\\\\\n",
    "\\end{array}\\right.\n",
    "$$\n",
    "\n",
    "$$\n",
    "\\displaystyle \n",
    "\\mathbb{E}T=\n",
    "\\mathbb{E}\\mathbb{E}(T|X)\n",
    "=\n",
    "3*\\frac{1}{3}\n",
    "+(5+\\mathbb{E}T)*\\frac{1}{3}\n",
    "+(7+\\mathbb{E}T)*\\frac{1}{3}\n",
    "\\ \\ \\Rightarrow\\ \\ \n",
    "\\mathbb{E}T=15\n",
    "$$"
   ]
  },
  {
   "cell_type": "markdown",
   "metadata": {},
   "source": [
    "##### Trapped miner - Variance\n",
    "\n",
    "> $\\displaystyle Var(\\mathbb{E}(T|X))$\n",
    "\n",
    "$$\n",
    "\\displaystyle \n",
    "\\mathbb{E}(T|X)\n",
    "\\quad=\\quad\\left\\{\\begin{array}{ll}\n",
    "3&\\mbox{with probability $1/3$}\\\\\n",
    "5+\\mathbb{E}T=20&\\mbox{with probability $1/3$}\\\\\n",
    "7+\\mathbb{E}T=22&\\mbox{with probability $1/3$}\\\\\n",
    "\\end{array}\\right.\n",
    "$$\n",
    "\n",
    "\\begin{eqnarray}\n",
    "\\displaystyle \n",
    "Var(\\mathbb{E}(T|X))\n",
    "&=&\\displaystyle \\mathbb{E}\\mathbb{E}(T|X)^2-(\\mathbb{E}\\mathbb{E}(T|X))^2\\nonumber\\\\\n",
    "&=&\\displaystyle \\mathbb{E}\\mathbb{E}(T|X)^2-(\\mathbb{E}T)^2\\nonumber\\\\\n",
    "&=&\\displaystyle (3)^2*\\frac{1}{3}+(20)^2*\\frac{1}{3}+(22)^2*\\frac{1}{3}-(15)^2=72.6667\\nonumber\n",
    "\\end{eqnarray}\n",
    "\n",
    "> $\\mathbb{E}Var(T|X)$\n",
    "\n",
    "$$\n",
    "\\displaystyle \n",
    "Var(T|X=x)\n",
    "\\quad=\\quad\\left\\{\\begin{array}{ll}\n",
    "0&\\mbox{for $x=1$}\\\\\n",
    "Var(T)&\\mbox{for $x=2$}\\\\\n",
    "Var(T)&\\mbox{for $x=3$}\\\\\n",
    "\\end{array}\\right.\n",
    "$$\n",
    "\n",
    "$$\n",
    "\\displaystyle \n",
    "Var(T|X)\n",
    "\\quad=\\quad\\left\\{\\begin{array}{ll}\n",
    "0&\\mbox{with probability $1/3$}\\\\\n",
    "Var(T)&\\mbox{with probability $1/3$}\\\\\n",
    "Var(T)&\\mbox{with probability $1/3$}\\\\\n",
    "\\end{array}\\right.\n",
    "$$\n",
    "\n",
    "$$\n",
    "\\displaystyle \\mathbb{E}Var(T|X)=0*\\frac{1}{3}+Var(T)*\\frac{1}{3}+Var(T)*\\frac{1}{3}\n",
    "$$\n",
    "\n",
    "> $Var(T)=Var(\\mathbb{E}(T|X))+\\mathbb{E}Var(T|X)$\n",
    "\n",
    "\\begin{eqnarray}\n",
    "\\displaystyle \n",
    "Var(T)\n",
    "&=&Var(\\mathbb{E}(T|X))+\\mathbb{E}Var(T|X)\\nonumber\\\\\n",
    "&=&72.6667+0*\\frac{1}{3}+Var(T)*\\frac{1}{3}+Var(T)*\\frac{1}{3}=218\\nonumber\n",
    "\\end{eqnarray}"
   ]
  },
  {
   "cell_type": "markdown",
   "metadata": {},
   "source": [
    "<div align=\"center\"><img src=\"img/miner.png\" width=\"30%\"></div>"
   ]
  },
  {
   "cell_type": "markdown",
   "metadata": {},
   "source": [
    "### Example -  Waiting time for $HT$\n",
    "\n",
    "Flip the fair coin until we get the pattern $HT$.\n",
    "Let $W_{HT}$ be the number of flips to get the first $HT$.\n",
    "Calculate the mean and variance of $W_{HT}$."
   ]
  },
  {
   "cell_type": "markdown",
   "metadata": {},
   "source": [
    "##### $W_{HT}=X+Y$\n",
    "\n",
    "$$\n",
    "\\underbrace{TTTTTTTTTTTTTH}_{X\\ \\mbox{is}\\ Geo(1/2)}\\underbrace{HHHHHHHHHT}_{Y\\ \\mbox{is}\\ Geo(1/2)}\n",
    "$$\n",
    "By their construction\n",
    "\\begin{eqnarray}\n",
    "(1)&&X\\ \\mbox{is}\\ Geo(1/2)\\ \\mbox{and}\\ Y\\ \\mbox{is also}\\ Geo(1/2)\\nonumber\\\\\n",
    "(2)&&X\\ \\mbox{and $Y$ are independent}\\nonumber\\\\ \n",
    "(3)&&W_{HT}=X+Y\\nonumber\n",
    "\\end{eqnarray}\n",
    "\n",
    "##### $EW_{HT}=EX+EY$\n",
    "\n",
    "$$\n",
    "\\displaystyle \n",
    "EW_{HT}=EX+EY=\\frac{1}{1/2}+\\frac{1}{1/2}=4\n",
    "$$\n",
    "\n",
    "##### $Var(W_{HT})=Var(X)+Var(Y)$\n",
    "\n",
    "$$\n",
    "\\displaystyle \n",
    "Var(W_{HT})=Var(X)+Var(Y)=\\frac{1/2}{(1/2)^2}+\\frac{1/2}{(1/2)^2}=4\n",
    "$$"
   ]
  },
  {
   "cell_type": "markdown",
   "metadata": {},
   "source": [
    "### Example -  Waiting time for $HH$\n",
    "\n",
    "Flip the fair coin until we get the pattern $HH$.\n",
    "Let $W_{HH}$ be the number of flips to get the first $HH$.\n",
    "Calculate the mean and variance of $W_{HH}$."
   ]
  },
  {
   "cell_type": "markdown",
   "metadata": {},
   "source": [
    "##### Waiting time for $HH$ -Expectation\n",
    "\n",
    "\n",
    "$$\n",
    "\\displaystyle \n",
    "\\underbrace{TTTTTTTTTTTTTH}_{X\\ \\mbox{is}\\ Geo(1/2)}\n",
    "$$\n",
    "\n",
    "After we have the first head at the $X$-th flip,\n",
    "we record the next coin flip result as $Y$.\n",
    "\n",
    "$$\n",
    "\\displaystyle \n",
    "\\mathbb{E}(W_{HH}|Y=y)\n",
    "=\\left\\{\\begin{array}{ll}\n",
    "\\mathbb{E}X+1=3&\\mbox{for $y=1$}\\\\\n",
    "\\mathbb{E}X+1+\\mathbb{E}W_{HH}=3+\\mathbb{E}W_{HH}&\\mbox{for $y=0$}\\\\\n",
    "\\end{array}\\right.\n",
    "$$\n",
    "\n",
    "$$\n",
    "\\displaystyle \n",
    "\\mathbb{E}(W_{HH}|Y)\n",
    "=\\left\\{\\begin{array}{ll}\n",
    "3&\\mbox{with probability $1/2$}\\\\\n",
    "3+\\mathbb{E}W_{HH}&\\mbox{with probability $1/2$}\\\\\n",
    "\\end{array}\\right.\n",
    "$$\n",
    "\n",
    "$$\n",
    "\\displaystyle \n",
    "\\mathbb{E}W_{HH}\n",
    "=\\mathbb{E}\\mathbb{E}(W_{HH}|Y)\n",
    "=(3)*\\frac{1}{2}+(3+\\mathbb{E}W_{HH})*\\frac{1}{2}\\ \\  \\Rightarrow\\ \\ \\mathbb{E}W_{HH}=6\n",
    "$$"
   ]
  },
  {
   "cell_type": "markdown",
   "metadata": {},
   "source": [
    "##### Waiting time for $HH$ - Variance\n",
    "\n",
    "> $\\displaystyle Var(\\mathbb{E}(W_{HH}|Y))$\n",
    "\n",
    "$$\n",
    "\\displaystyle \n",
    "\\mathbb{E}(W_{HH}|Y)\n",
    "=\\left\\{\\begin{array}{ll}\n",
    "3&\\mbox{with probability $1/2$}\\\\\n",
    "9&\\mbox{with probability $1/2$}\\\\\n",
    "\\end{array}\\right.\n",
    "$$\n",
    "\n",
    "\\begin{eqnarray}\n",
    "\\displaystyle \n",
    "Var(\\mathbb{E}(W_{HH}|Y))\n",
    "&=&\\displaystyle \\mathbb{E}\\mathbb{E}(W_{HH}|Y)^2-(\\mathbb{E}\\mathbb{E}(W_{HH}|Y))^2\\nonumber\\\\\n",
    "&=&\\displaystyle \\mathbb{E}\\mathbb{E}(W_{HH}|Y)^2-(\\mathbb{E}W_{HH})^2\\nonumber\\\\\n",
    "&=&\\displaystyle (3)^2*\\frac{1}{2}+(9)^2*\\frac{1}{2}-(6)^2=9\\nonumber\n",
    "\\end{eqnarray}\n",
    "\n",
    "> $\\displaystyle \\mathbb{E}Var(W_{HH}|Y)$\n",
    "\n",
    "$$\n",
    "\\displaystyle \n",
    "Var(W_{HH}|Y=y)\n",
    "\\quad=\\quad\\left\\{\\begin{array}{ll}\n",
    "Var(X)=2&\\mbox{for $y=1$}\\\\\n",
    "Var(X)+Var(W_{HH})=2+Var(W_{HH})&\\mbox{for $y=0$}\\\\\n",
    "\\end{array}\\right.\n",
    "$$\n",
    "\n",
    "$$\n",
    "\\displaystyle \n",
    "Var(W_{HH}|Y)\n",
    "\\quad=\\quad\\left\\{\\begin{array}{ll}\n",
    "2&\\mbox{with probability $1/2$}\\\\\n",
    "2+Var(W_{HH})&\\mbox{with probability $1/2$}\\\\\n",
    "\\end{array}\\right.\n",
    "$$\n",
    "\n",
    "$$\n",
    "\\displaystyle \\mathbb{E}Var(W_{HH}|Y)=(2)*\\frac{1}{2}+(2+Var(W_{HH}))*\\frac{1}{2}\n",
    "$$\n",
    "\n",
    "> $\\displaystyle Var(W_{HH})=Var(\\mathbb{E}(W_{HH}|Y))+\\mathbb{E}Var(W_{HH}|Y)$\n",
    "\n",
    "\\begin{eqnarray}\n",
    "\\displaystyle \n",
    "Var(W_{HH})\n",
    "&=&\\displaystyle Var(\\mathbb{E}(W_{HH}|Y))+\\mathbb{E}Var(W_{HH}|Y)\\nonumber\\\\\n",
    "&=&\\displaystyle 9+(2)*\\frac{1}{2}+(2+Var(W_{HH}))*\\frac{1}{2}=22\\nonumber\n",
    "\\end{eqnarray}"
   ]
  },
  {
   "cell_type": "markdown",
   "metadata": {
    "collapsed": true
   },
   "source": [
    "[<a href=\"#Conditional-Variance\">Back to top</a>]"
   ]
  }
 ],
 "metadata": {
  "kernelspec": {
   "display_name": "Python 3",
   "language": "python",
   "name": "python3"
  },
  "language_info": {
   "codemirror_mode": {
    "name": "ipython",
    "version": 3
   },
   "file_extension": ".py",
   "mimetype": "text/x-python",
   "name": "python",
   "nbconvert_exporter": "python",
   "pygments_lexer": "ipython3",
   "version": "3.5.0"
  }
 },
 "nbformat": 4,
 "nbformat_minor": 2
}
