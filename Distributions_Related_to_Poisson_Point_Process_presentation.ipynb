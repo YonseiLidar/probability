{
 "cells": [
  {
   "cell_type": "markdown",
   "metadata": {},
   "source": [
    "# Distributions Related to Poisson Distribution\n",
    "\n",
    "<a href=\"#Uniform-Distribution\">Uniform Distribution</a>\n",
    "\n",
    "<a href=\"#Convolution\">Convolution</a>\n",
    "\n",
    "<a href=\"#Gamma-Function\">Gamma Function</a>\n",
    "\n",
    "<a href=\"#Gamma-Distribution\">Gamma Distribution</a>\n",
    "\n",
    "<a href=\"#Properties-of-Gamma-Distribution\">Properties of Gamma Distribution</a>\n",
    "\n",
    "<a href=\"#How-to-Get-PDF\">How to Get PDF</a>\n",
    "\n",
    "<a href=\"#Beta-Function\">Beta Function</a>\n",
    "\n",
    "<a href=\"#Beta-Distribution\">Beta Distribution</a>"
   ]
  },
  {
   "cell_type": "markdown",
   "metadata": {},
   "source": [
    "# Uniform Distribution"
   ]
  },
  {
   "cell_type": "markdown",
   "metadata": {},
   "source": [
    "### PDF\n",
    "\n",
    "$$\n",
    "f(x)=\\frac{1}{b-a}\\quad \\mbox{for $a<x<b$}\n",
    "$$"
   ]
  },
  {
   "cell_type": "markdown",
   "metadata": {},
   "source": [
    "### Intuition\n",
    "$$\n",
    "\\mbox{Position of Poisson Point given $N_{PPP(\\lambda)}([a,b])=1$}\n",
    "$$"
   ]
  },
  {
   "cell_type": "markdown",
   "metadata": {},
   "source": [
    "### Mean and variance\n",
    "$$\n",
    "\\mathbb{E}X=\\frac{a+b}{2},\n",
    "\\quad\\quad\\quad\\quad\n",
    "Var(X)=\\frac{1}{12}(b-a)^2\n",
    "$$\n",
    "\n",
    "\n",
    "\\begin{eqnarray}\n",
    "a^2-b^2&=&(a+b)(a-b)\\nonumber\n",
    "\\end{eqnarray}\n",
    "\n",
    "\n",
    "$$\n",
    "\\mathbb{E}X\n",
    "=\\int_a^bxf(x)dx\n",
    "=\\frac{1}{b-a}\\int_a^bxdx\n",
    "=\\frac{1}{b-a}\\left[\\frac{x^2}{2}\\right]_a^b\n",
    "=\\frac{a+b}{2}\n",
    "$$\n",
    "\n",
    "\n",
    "\\begin{eqnarray}\n",
    "a^3+b^3&=&(a+b)(a^2+b^2-ab)\\nonumber\\\\\n",
    "a^3-b^3&=&(a-b)(a^2+b^2+ab)\\nonumber\n",
    "\\end{eqnarray}\n",
    "\n",
    "$$\n",
    "\\mathbb{E}X^2\n",
    "=\\int_a^bx^2f(x)dx\n",
    "=\\frac{1}{b-a}\\int_a^bx^2dx\n",
    "=\\frac{1}{b-a}\\left[\\frac{x^3}{3}\\right]_a^b\n",
    "=\\frac{a^2+b^2+ab}{3}\n",
    "$$"
   ]
  },
  {
   "cell_type": "markdown",
   "metadata": {},
   "source": [
    "### Example - Break the stick\n",
    "\n",
    "We break the stick of length $L$ into two pieces\n",
    "by choosing the break point uniformly over the interval $[0,L]$.\n",
    "Let $X$ be the length of the longer stick.\n",
    "Find its mean and variance.\n",
    "\n",
    "\n",
    "$$\n",
    "X\n",
    "\\quad=\\quad\n",
    "\\underbrace{\\frac{L}{2}}_{\\mbox{Half of the stick}}\n",
    "\\quad+\\quad\\underbrace{Y}_{\\mbox{The rest, Uniform on $[0,L/2]$}}\n",
    "$$\n",
    "\n",
    "\n",
    "\\begin{eqnarray}\n",
    "\\mathbb{E}[X]\n",
    "&=&\n",
    "\\frac{L}{2}+\\mathbb{E}[Y]=\\frac{L}{2}+\\frac{L}{4}=\\frac{3L}{4}\\nonumber\\\\\n",
    "&&\\nonumber\\\\\n",
    "Var(X)\n",
    "&=&\n",
    "Var(Y)=\\frac{1}{12}\\left(\\frac{L}{2}\\right)^2=\\frac{L^2}{48}\\nonumber\n",
    "\\end{eqnarray}"
   ]
  },
  {
   "cell_type": "markdown",
   "metadata": {},
   "source": [
    "### Example - Simulation of a random variable $X$ with a CDF $F$, using $U(0,1)$\n",
    "\n",
    "[Step 1] Generate a random number $U$ from $U(0,1)$.\n",
    "\n",
    "[Step 2] $X=F^{-1}(U)$, or  $X=\\sup\\{x\\in{\\bf R}; F(x)<U\\}$ if $F$ is not bijective.\n",
    "\n",
    "$$\n",
    "\\mathbb{P}(X\\le x)\n",
    "=\\mathbb{P}(F^{-1}(U)\\le x)\n",
    "=\\mathbb{P}(U\\le F(x))\n",
    "=F(x)\n",
    "$$"
   ]
  },
  {
   "cell_type": "markdown",
   "metadata": {},
   "source": [
    "### Example - Simulation of a random variable $X\\sim Exp(0.5)$\n",
    "Suppose you have a random number generator which generates \n",
    "a random number $U$ from $U(0,1)$.\n",
    "Generate a random number $X$ from $Exp(0.5)$, using $U$.\n",
    "\n",
    "\n",
    "\\begin{eqnarray}\n",
    "{\\bar F}(x)=e^{-0.5x}\n",
    "\\quad\n",
    "\\mbox{for $x\\ge 0$}\n",
    "&\\Rightarrow&\n",
    "F(x)=1-e^{-0.5x}\n",
    "\\quad\n",
    "\\mbox{for $x\\ge 0$}\\nonumber\\\\\n",
    "&\\Rightarrow&\n",
    "X=F^{-1}(U)=-2\\log(1-U)\\sim Exp(0.5)\\nonumber\n",
    "\\end{eqnarray}\n",
    "\n",
    "\n",
    "$$\n",
    "U\\sim U(0,1)\\ \\ \\Rightarrow\\ \\ 1-U\\sim U(0,1)\\ \\ \\Rightarrow\\ \\ \n",
    "X=-2\\log(U)\\sim Exp(0.5)\n",
    "$$"
   ]
  },
  {
   "cell_type": "markdown",
   "metadata": {},
   "source": [
    "[<a href=\"#Distributions-Related-to-Poisson-Distribution\">Back to top</a>]"
   ]
  },
  {
   "cell_type": "markdown",
   "metadata": {},
   "source": [
    "# Convolution"
   ]
  },
  {
   "cell_type": "markdown",
   "metadata": {},
   "source": [
    "### Definition\n",
    "\\begin{eqnarray}\n",
    "F_X\\mathbin{*}F_Y\n",
    "&&\\quad\\quad\n",
    "\\mbox{CDF of $X+Y$, when $X$ and $Y$ are independent}\\nonumber\\\\\n",
    "p_X\\mathbin{*}p_Y\n",
    "&&\\quad\\quad\n",
    "\\mbox{PMF of $X+Y$, when $X$ and $Y$ are independent}\\nonumber\\\\\n",
    "f_X\\mathbin{*}f_Y\n",
    "&&\\quad\\quad\n",
    "\\mbox{PDF of $X+Y$, when $X$ and $Y$ are independent}\\nonumber\n",
    "\\end{eqnarray}"
   ]
  },
  {
   "cell_type": "markdown",
   "metadata": {},
   "source": [
    "### Computation\n",
    "\\begin{eqnarray}\n",
    "(F_X\\mathbin{*}F_Y)(a)\n",
    "&=&\n",
    "F_{X+Y}(a)= \\int_{-\\infty}^{\\infty}F_Y(a-b)\\underbrace{dF_X(b)}_{P(b\\le X\\le b+db)}\\nonumber\\\\\n",
    "(p_X\\mathbin{*}p_Y)(a)\n",
    "&=&\n",
    "p_{X+Y}(a)=\\sum_bp_Y(a-b)\\underbrace{p_X(b)}_{P(X=b)}\\nonumber\\\\\n",
    "(f_X\\mathbin{*}f_Y)(a)\n",
    "&=&\n",
    "f_{X+Y}(a)=\\int_{-\\infty}^{\\infty}f_Y(a-b)\\underbrace{f_X(b)db}_{P(b\\le X\\le b+db)}\\nonumber\n",
    "\\end{eqnarray}"
   ]
  },
  {
   "cell_type": "markdown",
   "metadata": {},
   "source": [
    "### Example - Convolution of two Poisson\n",
    "$$\n",
    "Po(\\lambda_1)*Po(\\lambda_2)\n",
    "=\n",
    "Po(\\lambda_1+\\lambda_2)\n",
    "$$"
   ]
  },
  {
   "cell_type": "markdown",
   "metadata": {},
   "source": [
    "With two independent $X\\sigma m Po(\\lambda_1)$ and $Y\\sigma m Po(\\lambda_2)$,\n",
    "for a non-negative integer $a$\n",
    "\\begin{eqnarray}\n",
    "p_{X+Y}(a)\n",
    "&=&\n",
    "\\sum_bp_X(b)p_Y(a-b)\\quad(\\mbox{$b\\ge 0$, $a-b\\ge 0$ $\\Rightarrow$ $0\\le b\\le a$ integer})\\nonumber\\\\\n",
    "&=&\n",
    "\\sum_{b=0}^a\\frac{\\lambda_1^b}{b!}e^{-\\lambda_1}\\frac{\\lambda_2^{a-b}}{(a-b)!}e^{-\\lambda_2}\\nonumber\\\\\n",
    "&=&\n",
    "e^{-(\\lambda_1+\\lambda_2)}\\sum_{b=0}^a\\frac{\\lambda_1^b}{b!}\\frac{\\lambda_2^{a-b}}{(a-b)!}\n",
    "=\\frac{e^{-(\\lambda_1+\\lambda_2)}}{a!}\\sum_{b=0}^a\\frac{a!}{b!(a-b)!}\\lambda_1^b\\lambda_2^{a-b}\\nonumber\\\\\n",
    "&=&\n",
    "\\frac{(\\lambda_1+\\lambda_2)^a}{a!}e^{-(\\lambda_1+\\lambda_2)}\n",
    "\\nonumber\n",
    "\\end{eqnarray}"
   ]
  },
  {
   "cell_type": "markdown",
   "metadata": {},
   "source": [
    "### Example - Convolution of two Uniform\n",
    "$$\n",
    "U\\left(-\\frac{1}{2},\\frac{1}{2}\\right)\n",
    "*\n",
    "U\\left(-\\frac{1}{2},\\frac{1}{2}\\right)\n",
    "=\n",
    "\\left(1-|x|\\right)^+\n",
    "$$"
   ]
  },
  {
   "cell_type": "markdown",
   "metadata": {},
   "source": [
    "With two independent $X\\sim U\\left(-\\frac{1}{2},\\frac{1}{2}\\right)$ and $Y\\sim U\\left(-\\frac{1}{2},\\frac{1}{2}\\right)$,\n",
    "for $0\\le a\\le 1$ (By symmetry we can figure out the rest if we understand the region $0\\le a\\le 1$)\n",
    "$$\n",
    "f_{X+Y}(a)\n",
    "\\quad=\\quad\n",
    "\\int_{-\\infty}^{\\infty}f_X(b)f_Y(a-b)db\n",
    "$$\n",
    "\n",
    "\n",
    "\\begin{eqnarray}\n",
    "-\\frac{1}{2}\\le b\\le \\frac{1}{2},\\ \n",
    "-\\frac{1}{2}\\le a-b\\le \\frac{1}{2}\n",
    "&\\Rightarrow&\n",
    "-\\frac{1}{2}\\le b\\le \\frac{1}{2},\\ \n",
    "-\\frac{1}{2}\\le a-b,\\\n",
    "a-b\\le \\frac{1}{2}\\nonumber\\\\\n",
    "&\\Rightarrow&\n",
    "-\\frac{1}{2}\\le b\\le \\frac{1}{2},\\ \n",
    "b\\le a+\\frac{1}{2},\\\n",
    "a-\\frac{1}{2}\\le b\n",
    "\\quad(\\mbox{$0\\le a\\le 1$})\\nonumber\\\\\n",
    "&\\Rightarrow&\n",
    "-\\frac{1}{2}\\le b\\le \\frac{1}{2},\\ \n",
    "b\\le \\frac{1}{2},\\\n",
    "a-\\frac{1}{2}\\le b\\nonumber\\\\\n",
    "&\\Rightarrow&\n",
    "a-\\frac{1}{2}\\le b\\le \\frac{1}{2}\n",
    "\\nonumber\n",
    "\\end{eqnarray}\n",
    "\n",
    "\n",
    "$$\n",
    "f_{X+Y}(a)\n",
    "\\quad=\\quad\n",
    "\\int_{-\\infty}^{\\infty}f_X(b)f_Y(a-b)db\n",
    "\\quad=\\quad\n",
    "\\int_{a-\\frac{1}{2}}^{\\frac{1}{2}}1db\n",
    "\\quad=\\quad\n",
    "1-a\n",
    "$$"
   ]
  },
  {
   "cell_type": "markdown",
   "metadata": {},
   "source": [
    "[<a href=\"#Distributions-Related-to-Poisson-Distribution\">Back to top</a>]"
   ]
  },
  {
   "cell_type": "markdown",
   "metadata": {},
   "source": [
    "# Gamma Function"
   ]
  },
  {
   "cell_type": "markdown",
   "metadata": {},
   "source": [
    "### Definition\n",
    "For $\\alpha>0$\n",
    "$$\n",
    "\\Gamma(\\alpha)=\\int_0^{\\infty}x^{\\alpha-1}e^{-x}dx\n",
    "$$"
   ]
  },
  {
   "cell_type": "markdown",
   "metadata": {},
   "source": [
    "### Properties\n",
    "\\begin{eqnarray}\n",
    "(1)&&\\Gamma(\\alpha+1)=\\alpha \\Gamma(\\alpha)\\nonumber\\\\\n",
    "(2)&&\\Gamma(1/2)=\\sqrt{\\pi},\\ \\Gamma(1)=1,\\ \\Gamma(2)=1\\nonumber\\\\\n",
    "(3)&&\\Gamma(n+1)=n!\\nonumber\n",
    "\\end{eqnarray}"
   ]
  },
  {
   "cell_type": "markdown",
   "metadata": {},
   "source": [
    "\\begin{eqnarray}\n",
    "\\Gamma(\\alpha+1)\n",
    "&=&\n",
    "\\int_0^{\\infty}x^{(\\alpha+1)-1}e^{-x}dx\n",
    "=\n",
    "\\int_0^{\\infty}-x^{(\\alpha+1)-1}\\left(e^{-x}\\right)'dx\\nonumber\\\\\n",
    "&=&\n",
    "\\left[-x^{(\\alpha+1)-1}e^{-x}\\right]_0^{\\infty}\n",
    "-\n",
    "\\int_0^{\\infty}\\left(-x^{(\\alpha+1)-1}\\right)'e^{-x}dx\\nonumber\\\\\n",
    "&=&\n",
    "\\alpha\n",
    "\\int_0^{\\infty}x^{\\alpha-1}e^{-x}dx\n",
    "=\n",
    "\\alpha\\Gamma(\\alpha)\n",
    "\\nonumber\n",
    "\\end{eqnarray}\n",
    "\n",
    "With $s=\\sqrt{x}$, $ds=\\frac{dx}{2\\sqrt{x}}$,\n",
    "using the integration technique on the normal distribution\n",
    "(You will see this integration technique in the chapter on the normal distribution)\n",
    "$$\n",
    "\\Gamma(1/2)\n",
    "\\quad=\\quad\n",
    "\\int_0^{\\infty}x^{-1/2}e^{-x}dx\n",
    "\\quad=\\quad\n",
    "2\\int_0^{\\infty}e^{-s^2}ds\n",
    "\\quad=\\quad\n",
    "\\sqrt{\\pi}\n",
    "$$"
   ]
  },
  {
   "cell_type": "markdown",
   "metadata": {},
   "source": [
    "[<a href=\"#Distributions-Related-to-Poisson-Distribution\">Back to top</a>]"
   ]
  },
  {
   "cell_type": "markdown",
   "metadata": {},
   "source": [
    "# Gamma Distribution"
   ]
  },
  {
   "cell_type": "markdown",
   "metadata": {},
   "source": [
    "### PDF\n",
    "$$\n",
    "f(x)dx=\\frac{(\\lambda x)^{\\alpha-1}e^{-\\lambda x}}{\\Gamma(\\alpha)}\\lambda dx\\quad\\mbox{for $x>0$}\n",
    "$$"
   ]
  },
  {
   "cell_type": "markdown",
   "metadata": {},
   "source": [
    "### Intuition\n",
    "$$\n",
    "\\mbox{$\\alpha$-th arrival time of Poisson point of intensity $\\lambda$}\n",
    "$$"
   ]
  },
  {
   "cell_type": "markdown",
   "metadata": {},
   "source": [
    "### Mean and variance\n",
    "$$\n",
    "\\begin{array}{ccc} \\hline\n",
    "                   &\\mbox{mean}                & \\mbox{variance} \\\\\\hline\\hline\n",
    "Geo(p)  & \\frac{1}{p}  & \\frac{q}{p^2}\\\\\\hline\n",
    "\\frac{1}{n}Geo(p)  & \\frac{1}{np}  & \\frac{q}{(np)^2}\\\\\\hline\n",
    "Exp(\\lambda)  & \\frac{1}{\\lambda}  & \\frac{1}{\\lambda^2}\\\\\\hline\n",
    "\\Gamma(n,\\lambda)  & \\frac{n}{\\lambda}  & \\frac{n}{\\lambda^2}\\\\\\hline\n",
    "\\Gamma(\\alpha,\\lambda)  & \\frac{\\alpha}{\\lambda}  & \\frac{\\alpha}{\\lambda^2}\\\\\\hline\n",
    "\\end{array}\n",
    "$$"
   ]
  },
  {
   "cell_type": "markdown",
   "metadata": {},
   "source": [
    "### Related distributions\n",
    "$$\\begin{array}{llllll}\n",
    "\\mbox{Exponential distribution $Exp(\\lambda)$}&&\\Gamma(1,\\lambda)\\\\\n",
    "\\\\\n",
    "\\mbox{Erlang distribution}&&\\Gamma(2,\\lambda)\\\\\n",
    "\\\\\n",
    "\\mbox{Chi-square distribution $\\chi^2_1$}&&\\Gamma\\left(\\frac{1}{2},\\frac{1}{2}\\right)\\\\\n",
    "\\\\\n",
    "\\mbox{Chi-square distribution $\\chi^2_d$}&&\\Gamma\\left(\\frac{d}{2},\\frac{1}{2}\\right)\\\\\n",
    "\\\\\n",
    "\\mbox{Inverse gamma distribution $IG(\\alpha,\\lambda)$}&&\\mbox{Distribution of}\\ \\frac{1}{X},\\ \\ X\\sim\\Gamma(\\alpha,\\lambda)\\\\\n",
    "\\end{array}$$"
   ]
  },
  {
   "cell_type": "markdown",
   "metadata": {},
   "source": [
    "\\begin{eqnarray}\n",
    "\\mathbb{E}[X]\n",
    "&=&\\int_0^{\\infty}x\\frac{\\lambda(\\lambda x)^{\\alpha-1}e^{-\\lambda x}}{\\Gamma(\\alpha)}dx\\nonumber\\\\\n",
    "&=&\\frac{\\Gamma(\\alpha+1)}{\\lambda\\Gamma(\\alpha)}\\int_0^{\\infty}\\underbrace{\\frac{\\lambda(\\lambda x)^{(\\alpha+1)-1}e^{-\\lambda x}}{\\Gamma(\\alpha+1)}}_{\\mbox{PDF of $\\Gamma(\\alpha+1,\\lambda)$}}dx=\\frac{\\alpha\\Gamma(\\alpha)}{\\lambda\\Gamma(\\alpha)}=\\frac{\\alpha}{\\lambda}\\nonumber\\\\\n",
    "&&\\nonumber\\\\&&\\nonumber\\\\\n",
    "\\mathbb{E}[X^2]\n",
    "&=&\\int_0^{\\infty}x^2\\frac{\\lambda(\\lambda x)^{\\alpha-1}e^{-\\lambda x}}{\\Gamma(\\alpha)}dx\\nonumber\\\\\n",
    "&=&\\frac{\\Gamma(\\alpha+2)}{\\lambda^2\\Gamma(\\alpha)}\\int_0^{\\infty}\\underbrace{\\frac{\\lambda(\\lambda x)^{(\\alpha+2)-1}e^{-\\lambda x}}{\\Gamma(\\alpha+2)}}_{\\mbox{PDF of $\\Gamma(\\alpha+2,\\lambda)$}}dx=\\frac{(\\alpha+1)\\alpha\\Gamma(\\alpha)}{\\lambda^2\\Gamma(\\alpha)}=\\frac{\\alpha(\\alpha+1)}{\\lambda^2}\\nonumber\\\\\n",
    "&&\\nonumber\\\\&&\\nonumber\\\\\n",
    "Var(X)\n",
    "&=&\n",
    "\\frac{\\alpha}{\\lambda^2}\\nonumber\n",
    "\\end{eqnarray}"
   ]
  },
  {
   "cell_type": "markdown",
   "metadata": {},
   "source": [
    "[<a href=\"#Distributions-Related-to-Poisson-Distribution\">Back to top</a>]"
   ]
  },
  {
   "cell_type": "markdown",
   "metadata": {},
   "source": [
    "# Properties of Gamma Distribution"
   ]
  },
  {
   "cell_type": "markdown",
   "metadata": {},
   "source": [
    "\\begin{eqnarray}\n",
    "(1)&&Exp(\\lambda)\\stackrel{d}{=}\\Gamma(1,\\lambda)\\nonumber\\\\\n",
    "(2)&&Exp(\\lambda)\\mathbin{*}Exp(\\lambda)\\stackrel{d}{=}\\Gamma(2,\\lambda)\\nonumber\\\\\n",
    "(3)&&Exp(\\lambda)\\mathbin{*}Exp(\\lambda)\\mathbin{*}\\cdots \\mathbin{*}Exp(\\lambda)\\stackrel{d}{=}\\Gamma(n,\\lambda)\\nonumber\\\\\n",
    "(4)&&\\Gamma(\\alpha,\\lambda)\\mathbin{*}\\Gamma(\\beta,\\lambda)\\stackrel{d}{=}\\Gamma(\\alpha+\\beta,\\lambda)\\nonumber\n",
    "\\end{eqnarray}"
   ]
  },
  {
   "cell_type": "markdown",
   "metadata": {},
   "source": [
    "$$\n",
    "\\underbrace{\\lambda e^{-\\lambda x}}_{Exp(\\lambda)}\n",
    "\\quad=\\quad\n",
    "\\underbrace{\\frac{\\lambda (\\lambda x)^{1-1} e^{-\\lambda x}}{\\Gamma(1)}}_{\\Gamma(1,\\lambda)}\n",
    "\\quad\\quad\\quad\\quad\n",
    "\\mbox{for $x\\ge 0$}\n",
    "$$\n",
    "\n",
    "\n",
    "With independent $X$ and $Y$, where $X\\sigma m\\Gamma(\\alpha,\\lambda)$, $Y\\sigma m\\Gamma(\\beta,\\lambda)$,\n",
    "for $x\\ge 0$\n",
    "\\begin{eqnarray}\n",
    "f_{X+Y}(x)\n",
    "&=&\n",
    "\\int_{-\\infty}^{\\infty}f_X(s)f_Y(x-s)ds\n",
    "\\quad\\quad\n",
    "\\mbox{($x\\ge 0,\\ s\\ge 0,\\ x-s\\ge 0\n",
    "\\ \\Rightarrow\\ \n",
    "0\\le s\\le x$)}\\nonumber\\\\\n",
    "&=&\n",
    "\\int_0^x\n",
    "\\frac{\\lambda(\\lambda s)^{\\alpha-1}e^{-\\lambda s}}{\\Gamma(\\alpha)}\n",
    "\\cdot\n",
    "\\frac{\\lambda(\\lambda (x-s))^{\\beta-1}e^{-\\lambda (x-s)}}{\\Gamma(\\beta)}\n",
    "ds\\nonumber\\\\\n",
    "&=&\n",
    "\\frac{1}{\\Gamma(\\alpha)\\Gamma(\\beta)}\n",
    "\\left[\\int_0^x\n",
    "\\lambda(\\lambda s)^{\\alpha-1}\n",
    "\\lambda(\\lambda (x-s))^{\\beta-1}\n",
    "ds\\right]\n",
    "e^{-\\lambda x}\\nonumber\\\\\n",
    "&=&\n",
    "\\frac{1}{\\Gamma(\\alpha)\\Gamma(\\beta)}\n",
    "\\left[\\int_0^x\n",
    "\\left(\\frac{\\lambda s}{\\lambda x}\\right)^{\\alpha-1}\n",
    "\\left(\\frac{\\lambda (x-s)}{\\lambda x}\\right)^{\\beta-1}\n",
    "\\frac{ds}{x}\\right]\n",
    "\\lambda(\\lambda x)^{\\alpha+\\beta-1}e^{-\\lambda x}\\nonumber\\\\\n",
    "&=&\n",
    "\\underbrace{\\frac{1}{\\Gamma(\\alpha)\\Gamma(\\beta)}\n",
    "\\left[\\int_0^1\n",
    "t^{\\alpha-1}\n",
    "(1-t)^{\\beta-1}\n",
    "dt\\right]}_{\\mbox{Constant; should be $\\frac{1}{\\Gamma(\\alpha+\\beta)}$}}\n",
    "\\lambda(\\lambda x)^{\\alpha+\\beta-1}e^{-\\lambda x}\\nonumber\n",
    "\\end{eqnarray}\n"
   ]
  },
  {
   "cell_type": "markdown",
   "metadata": {},
   "source": [
    "### Example - Paradox of inter arrival times\n",
    "\n",
    "We run the Poisson point process with intensity $\\lambda$ from $t=-\\infty$ to $t=\\infty$.\n",
    "$T_1$ is the first arrival time after $t=0$,\n",
    "$T_2$ is the inter arrival time between the first and second arrival,...,  and\n",
    "$T_n$ is the inter arrival time between the $(n-1)$-th and $n$-th arrival.  \n",
    "Let $\\tau$ be the inter arrival time containing 04/15/2013.\n",
    "Then,\n",
    "\\begin{eqnarray}\n",
    "(1)&&T_i\\ \\mbox{are iid $Exp(\\lambda)$}\\nonumber\\\\\n",
    "(2)&&ET_i=\\frac{1}{\\lambda},\\ Var(T_i)=\\frac{1}{\\lambda^2}\\nonumber\\\\\n",
    "(3)&&\\tau\\ \\mbox{is $Exp(\\lambda)\\mathbin{*}Exp(\\lambda)\\stackrel{d}{=}\\Gamma(2,\\lambda)$, not $Exp(\\lambda)$}\\nonumber\\\\\n",
    "(4)&&E\\tau=\\frac{2}{\\lambda},\\ Var(\\tau)=\\frac{2}{\\lambda^2}\\nonumber\n",
    "\\end{eqnarray}"
   ]
  },
  {
   "cell_type": "markdown",
   "metadata": {
    "collapsed": true
   },
   "source": [
    "[<a href=\"#Distributions-Related-to-Poisson-Distribution\">Back to top</a>]"
   ]
  },
  {
   "cell_type": "markdown",
   "metadata": {},
   "source": [
    "# How to Get PDF"
   ]
  },
  {
   "cell_type": "markdown",
   "metadata": {},
   "source": [
    "### From CDF to PDF\n",
    "$$\n",
    "P(X\\le x)\n",
    "\\quad\n",
    "\\stackrel{\\mbox{Differentiate}}{\\Rightarrow}\n",
    "\\quad\n",
    "f_X(x)\n",
    "$$"
   ]
  },
  {
   "cell_type": "markdown",
   "metadata": {},
   "source": [
    "### From  Jacobian to PDF\n",
    "\\begin{eqnarray}\n",
    "f_{Y}(y)&=&f_{X}(x)\\left|\\frac{dx}{dy}\\right|\\nonumber\\\\\n",
    "f_{U,V}(u,v)&=&f_{X,Y}(x,y)\\left|\\frac{\\partial (x,y)}{\\partial (u,v)}\\right|\\nonumber\\\\\n",
    "f_{Y_1,\\ldots,Y_n}(y_1,\\ldots,y_n)&=&f_{X_1,\\ldots,X_n}(x_1,\\ldots,x_n)\\left|\\frac{\\partial (x_1,\\ldots,x_n)}{\\partial (y_1,\\ldots,y_n)}\\right|\\nonumber\n",
    "\\end{eqnarray}\n",
    "where\n",
    "$$\n",
    "\\left|\\frac{\\partial (x_1,\\ldots,x_n)}{\\partial (y_1,\\ldots,y_n)}\\right|\n",
    "=\n",
    "\\left|det\\left(\\begin{array}{ccc}\\frac{\\partial x_1}{\\partial y_1}&\\cdots&\\frac{\\partial x_1}{\\partial y_n}\\\\\\cdots&\\cdots&\\cdots\\\\\\frac{\\partial x_n}{\\partial y_1}&\\cdots&\\frac{\\partial x_n}{\\partial y_n}\\end{array}\\right)\\right|\n",
    "$$"
   ]
  },
  {
   "cell_type": "markdown",
   "metadata": {},
   "source": [
    "### Property of Jacobian\n",
    "$$\n",
    "\\left|\\frac{\\partial (x_1,\\ldots,x_n)}{\\partial (y_1,\\ldots,y_n)}\\right|\n",
    "=\n",
    "\\frac{1}{\\left|\\frac{\\partial (y_1,\\ldots,y_n)}{\\partial (x_1,\\ldots,x_n)}\\right|}\n",
    "$$\n",
    "\n",
    "$$\n",
    "P(Y\\le y)=P(X\\le x)\n",
    "\\quad\\Rightarrow\\quad\n",
    "f_Y(y)=f_X(x)\\left|\\frac{dx}{dy}\\right|\n",
    "$$\n",
    "\n",
    "$$\\begin{array}{llll}\n",
    "\\mbox{Hight on left}&&f_{U,V}(u_0,v_0)\\nonumber\\\\\n",
    "\\\\\n",
    "\\mbox{Area on left}&&dudv\\nonumber\\\\\n",
    "\\\\\n",
    "\\mbox{Volumn on left}&&f_{U,V}(u_0,v_0)dudv\\nonumber\\\\\n",
    "\\\\\n",
    "\\mbox{Hight on right}&&f_{X,Y}(x_0,x_0)\\nonumber\\\\\n",
    "\\\\\n",
    "\\mbox{Area on right}&&\\left|\\frac{\\partial (x,y)}{\\partial (u,v)}\\right|dudv\\nonumber\\\\\n",
    "\\\\\n",
    "\\mbox{Volumn on right}&&f_{X,Y}(x_0,x_0)\\left|\\frac{\\partial (x,y)}{\\partial (u,v)}\\right|dudv\\nonumber\n",
    "\\end{array}$$\n",
    "\n",
    "$$\n",
    "f_{U,V}(u,v)dudu\n",
    "=\n",
    "f_{X,Y}(x,y)\\left|\\frac{\\partial (x,y)}{\\partial (u,v)}\\right|dudv\n",
    "\\quad\\Rightarrow\\quad\n",
    "f_{U,V}(u,v)=f_{X,Y}(x,y)\\left|\\frac{\\partial (x,y)}{\\partial (u,v)}\\right|\n",
    "$$"
   ]
  },
  {
   "cell_type": "markdown",
   "metadata": {},
   "source": [
    "### Example - PDF of  $Y=X^3$, where $X\\sim U(0,1)$"
   ]
  },
  {
   "cell_type": "markdown",
   "metadata": {},
   "source": [
    "##### Use CDF\n",
    "$$\n",
    "P(Y\\le y)\n",
    "=P(X\\le y^{1/3})=y^{1/3}\n",
    "\\quad\n",
    "\\stackrel{\\mbox{Differentiate}}{\\Rightarrow}\n",
    "\\quad\n",
    "f_Y(y)\n",
    "=\n",
    "\\frac{1}{3}y^{-2/3}\\quad\\mbox{for $0<y<1$}\n",
    "$$"
   ]
  },
  {
   "cell_type": "markdown",
   "metadata": {},
   "source": [
    "##### Use Jacobean\n",
    "$$\n",
    "\\frac{dy}{dx}=3x^2=3\\left(x^3\\right)^{2/3}=3y^{2/3}\n",
    "\\quad\\Rightarrow\\quad\n",
    "\\frac{dx}{dy}=1/\\left(\\frac{dy}{dx}\\right)=\\frac{1}{3}y^{-2/3}\n",
    "\\quad\\Rightarrow\\quad\n",
    "\\left|\\frac{dx}{dy}\\right|=\\frac{1}{3}y^{-2/3}\n",
    "$$\n",
    "\n",
    "\n",
    "$$\n",
    "f_{Y}(y)=f_{X}(x)\\left|\\frac{dx}{dy}\\right|=\\frac{1}{3}y^{-2/3}\\quad\\mbox{for $0<y<1$}\n",
    "$$"
   ]
  },
  {
   "cell_type": "markdown",
   "metadata": {},
   "source": [
    "[<a href=\"#Distributions-Related-to-Poisson-Distribution\">Back to top</a>]"
   ]
  },
  {
   "cell_type": "markdown",
   "metadata": {},
   "source": [
    "# Beta Function"
   ]
  },
  {
   "cell_type": "markdown",
   "metadata": {},
   "source": [
    "### Definition\n",
    "$$\n",
    "B(\\alpha,\\beta)=\\int_0^1x^{\\alpha-1}(1-x)^{\\beta-1}dx\n",
    "\\quad\\quad\\quad\\quad\\mbox{for $\\alpha>0$, $\\beta>0$}\n",
    "$$"
   ]
  },
  {
   "cell_type": "markdown",
   "metadata": {},
   "source": [
    "### Properties of Beta function\n",
    "$$\n",
    "B(\\alpha,\\beta)=\\frac{\\Gamma(\\alpha)\\Gamma(\\beta)}{\\Gamma(\\alpha+\\beta)}\n",
    "$$"
   ]
  },
  {
   "cell_type": "markdown",
   "metadata": {},
   "source": [
    "[<a href=\"#Distributions-Related-to-Poisson-Distribution\">Back to top</a>]"
   ]
  },
  {
   "cell_type": "markdown",
   "metadata": {},
   "source": [
    "# Beta Distribution"
   ]
  },
  {
   "cell_type": "markdown",
   "metadata": {},
   "source": [
    "### PDF\n",
    "For $0<x<1$\n",
    "$$\n",
    "f(x)\\propto x^{\\alpha-1}(1-x)^{\\beta-1}\n",
    "\\ \\ \\Rightarrow\\ \\ \n",
    "f(x)=\\frac{x^{\\alpha-1}(1-x)^{\\beta-1}}{B(\\alpha,\\beta)}\n",
    "$$"
   ]
  },
  {
   "cell_type": "markdown",
   "metadata": {},
   "source": [
    "### Mean and variance of $Beta(\\alpha,\\beta)$\n",
    "$$\n",
    "\\frac{\\alpha}{\\alpha+\\beta},\n",
    "\\quad\\quad\\quad\\quad\n",
    "\\frac{\\alpha\\beta}{(\\alpha+\\beta)^2(\\alpha+\\beta+1)}\n",
    "$$"
   ]
  },
  {
   "cell_type": "markdown",
   "metadata": {},
   "source": [
    "### Intuition - Fraction of waiting time\n",
    "If $X\\sim\\Gamma(\\alpha,\\lambda)$ and $Y\\sim\\Gamma(\\beta,\\lambda)$ are independent,\n",
    "then\n",
    "\\begin{eqnarray}\n",
    "(1)&&T=X+Y\\sim\\Gamma(\\alpha+\\beta,\\lambda)\\nonumber\\\\\n",
    "(2)&&F=\\frac{X}{X+Y}\\sim Beta(\\alpha,\\beta)\\nonumber\\\\\n",
    "(3)&&\\mbox{$T$ and $F$ are independent}\\nonumber\\\\\n",
    "(4)&&B(\\alpha,\\beta)=\\frac{\\Gamma(\\alpha)\\Gamma(\\beta)}{\\Gamma(\\alpha+\\beta)}\\nonumber\n",
    "\\end{eqnarray}"
   ]
  },
  {
   "cell_type": "markdown",
   "metadata": {},
   "source": [
    "With $t=x+y$ and $f=\\frac{x}{x+y}$,\n",
    "$$\n",
    "\\left|\\frac{\\partial (x,y)}{\\partial (t,f)}\\right|\n",
    "=\n",
    "\\left|\\frac{\\partial (t,f)}{\\partial (x,y)}\\right|^{-1}\n",
    "=\n",
    "\\left|det\\left(\\begin{array}{cc}1&1\\\\ \\frac{t-x}{t^2}&-\\frac{x}{t^2}\\end{array}\\right)\\right|^{-1}\n",
    "=\n",
    "t\n",
    "$$\n",
    "\n",
    "\n",
    "\\begin{eqnarray}\n",
    "f_{T,F}(t,f)\n",
    "&=&\n",
    "f_{X,Y}(x,y)\\left|\\frac{\\partial (x,y)}{\\partial (t,f)}\\right|\\nonumber\\\\\n",
    "&=&\n",
    "\\frac{\\lambda (\\lambda x)^{\\alpha-1}e^{-\\lambda x}}{\\Gamma(\\alpha)}\n",
    "\\cdot\n",
    "\\frac{\\lambda (\\lambda y)^{\\beta-1}e^{-\\lambda y}}{\\Gamma(\\beta)}\n",
    "\\cdot\n",
    "t\\nonumber\\\\\n",
    "&=&\\underbrace{\\left(\\frac{f^{\\alpha-1} (1-f)^{\\beta-1}}{\\Gamma(\\alpha)\\Gamma(\\beta)/\\Gamma(\\alpha+\\beta)}\\right)}_{\\mbox{a function of $f$ only!}}\\underbrace{\\left(\\frac{1}{\\Gamma(\\alpha+\\beta)}\\lambda(\\lambda t)^{(\\alpha+\\beta)-1}e^{-\\lambda t}\\right)}_{\\mbox{a function of $t$ only!}}\\nonumber\\\\\n",
    "&=&\n",
    "\\left(\\frac{f^{\\alpha-1} (1-f)^{\\beta-1}}{B(\\alpha,\\beta)}\\right)\n",
    "\\left(\\frac{\\lambda(\\lambda t)^{(\\alpha+\\beta)-1}e^{-\\lambda t}}{\\Gamma(\\alpha+\\beta)}\\right)\\nonumber\n",
    "\\end{eqnarray}"
   ]
  },
  {
   "cell_type": "markdown",
   "metadata": {},
   "source": [
    "### Example - Joint PDF of depen random variables\n",
    "The joint PDF $f(x,y)$ of $X$ and $Y$ is given by\n",
    "$$\n",
    "f(x,y)=cxy,\\ \\ \\ \\ \\ \\mbox{for $0\\le x\\le 1$,  $0\\le y\\le 1$, and $0\\le x+y\\le 1$}\n",
    "$$\n",
    "\\begin{eqnarray} \n",
    "(a)\n",
    "&&\n",
    "\\mbox{Find $c$.}\\nonumber\\\\\n",
    "(b)\n",
    "&&\n",
    "\\mbox{Find the PDF $f_{X}(x)$ of $X$ and the PDF $f_{Y}(y)$ of $Y$.}\\nonumber\\\\\n",
    "(c)\n",
    "&&\n",
    "\\mbox{Are $X$ and $Y$ independent?}\\nonumber\n",
    "\\end{eqnarray}"
   ]
  },
  {
   "cell_type": "markdown",
   "metadata": {},
   "source": [
    "$$\n",
    "\\begin{array}{lll}\n",
    "(a)\\quad\n",
    "\\int_{-\\infty}^{\\infty}\\int_{-\\infty}^{\\infty}f(x,y)dxdy\n",
    "&=&\n",
    "c\\int_{0}^{1}\\int_{0}^{1-y}xydxdy=\\frac{c}{2}\\int_{0}^{1}y(1-y)^2dy\\nonumber\\\\\n",
    "&=&\n",
    "\\frac{c}{2}B(2,3)\\int_{0}^{1}\\underbrace{\\frac{y^{2-1}(1-y)^{3-1}}{B(2,3)}}_{\\mbox{ PDF of $Beta(2,3)$}}dy\\nonumber\\\\\n",
    "&=&\n",
    "\\frac{c}{2}B(2,3)=\\frac{c}{2}\\frac{\\Gamma(2)\\Gamma(3)}{\\Gamma(5)}=\\frac{c}{2}\\frac{(1!)(2!)}{4!}\n",
    "\\stackrel{\\mbox{should be}}{=}\n",
    "1\\nonumber\n",
    "\\end{array}\n",
    "$$\n",
    "\n",
    "$$\n",
    "\\Rightarrow\\quad\n",
    "c\n",
    "=\n",
    "4!\n",
    "$$"
   ]
  },
  {
   "cell_type": "markdown",
   "metadata": {},
   "source": [
    "$(b)$ For $0\\le x\\le 1$\n",
    "\\begin{eqnarray}\n",
    "f_X(x)\n",
    "&=&\n",
    "\\int_{-\\infty}^{\\infty}f(x,y)dy\n",
    "=\\int_{0}^{1-x}f(x,y)dy\\nonumber\\\\\n",
    "&=&\n",
    "4!\\int_0^{1-x}xydy\n",
    "=12x(1-x)^2\n",
    "=\\frac{x^{2-1}(1-x)^{3-1}}{B(2,3)}\\nonumber\n",
    "\\end{eqnarray}\n",
    "$$\n",
    "\\Rightarrow\\quad\n",
    "X\\sim Beta(2,3)\n",
    "\\quad\n",
    "\\mbox{and by symmetry}\n",
    "\\quad\n",
    "Y\\sim Beta(2,3)\n",
    "$$"
   ]
  },
  {
   "cell_type": "markdown",
   "metadata": {},
   "source": [
    "$(c)$ $0\\le X\\le 1$ and $0\\le Y\\le 1$.\n",
    "If they are independent, $X+Y$ can take values from 0 to 2.\n",
    "However, the joint PDF $f(x,y)$ does not put any mass on the region $x+y>1$. So, they cannot be independent, i.e., they are depen.\n",
    "\n",
    "You can see this dependency also from the joint PDF.\n",
    "$$\n",
    "f(x,y)\n",
    "\\quad=\\quad\n",
    "24xy1(0\\le x\\le 1)1(0\\le y\\le 1)\\underbrace{1(0\\le x+y\\le 1)}_{\\mbox{Cannot decompose further}}\n",
    "$$"
   ]
  },
  {
   "cell_type": "markdown",
   "metadata": {},
   "source": [
    "### Example - Fraction of waiting time at bank\n",
    "When I enter the bank, there is only one person in line waiting for the service and I join the queue. \n",
    "In the bank there are five service desks and we assume the service time is iid $Exp(\\lambda_B)$, $\\lambda_B^{-1} = 10$ (in minutes). \n",
    "After I got serviced at bank, I visit the post office.\n",
    "When I enter the post office,  there are already two people in line waiting for the service and I join the queue. \n",
    "In the post office\n",
    "there are two service desks and we assume the service time is iid $Exp(\\lambda_P)$, $\\lambda_P^{-1} = 4$ (in minutes). \n",
    "Let $F$ be the fraction of waiting time spent at bank\n",
    "among the total waiting time spent in both the bank and the post office.\n",
    "Calculate\n",
    "the mean and variance of $F$."
   ]
  },
  {
   "cell_type": "markdown",
   "metadata": {},
   "source": [
    "Waiting time $T_B$ at bank is $T_B=X_1+X_2$\n",
    "where $X_i$ are iid $Exp(5\\lambda_B)=Exp(0.5)$.\n",
    "Hence\n",
    "$$T_B=X_1+X_2\\sim\\Gamma(2,0.5)$$\n",
    "\n",
    "Waiting time $T_P$ at post office is $T_P=Y_1+Y_2+Y_3$\n",
    "where $Y_i$ are iid $Exp(2\\lambda_P)=Exp(0.5)$.\n",
    "Hence\n",
    "$$T_P=Y_1+Y_2+Y_3\\sim\\Gamma(3,0.5)$$\n",
    "\n",
    "$$\n",
    "T_B\\sim\\Gamma(2,0.5),\\quad\n",
    "T_P\\sim\\Gamma(3,0.5)\\quad\n",
    "\\Rightarrow\\quad\n",
    "F=\\frac{T_B}{T_B+T_P}\\sigma m Beta(2,3)\n",
    "$$\n",
    "\n",
    "With $\\alpha=2,\\quad \\beta=3$,\n",
    "$$\n",
    "EF=\\frac{\\alpha}{\\alpha+\\beta},\n",
    "\\quad\\quad\\quad\\quad\n",
    "Var(F)=\\frac{\\alpha\\beta}{(\\alpha+\\beta)^2(\\alpha+\\beta+1)}\n",
    "$$"
   ]
  },
  {
   "cell_type": "markdown",
   "metadata": {},
   "source": [
    "[<a href=\"#Distributions-Related-to-Poisson-Distribution\">Back to top</a>]"
   ]
  }
 ],
 "metadata": {
  "kernelspec": {
   "display_name": "Python 3",
   "language": "python",
   "name": "python3"
  },
  "language_info": {
   "codemirror_mode": {
    "name": "ipython",
    "version": 3
   },
   "file_extension": ".py",
   "mimetype": "text/x-python",
   "name": "python",
   "nbconvert_exporter": "python",
   "pygments_lexer": "ipython3",
   "version": "3.5.0"
  }
 },
 "nbformat": 4,
 "nbformat_minor": 2
}
