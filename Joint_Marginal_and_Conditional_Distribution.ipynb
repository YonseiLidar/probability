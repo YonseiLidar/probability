{
 "cells": [
  {
   "cell_type": "markdown",
   "metadata": {},
   "source": [
    "# Joint, Marginal, and Conditional Distribution\n",
    "\n",
    "<a href=\"#Distribution\">Distribution</a>\n",
    "\n",
    "<a href=\"#Joint,-Marginal,-Conditional Distribution\">Joint, Marginal, Conditional Distribution</a>\n",
    "\n",
    "<a href=\"#Independent-Random-Variables\">Independent Random Variables</a>\n",
    "\n",
    "<a href=\"#Distributions-related-to-Coin-Flips\">Distributions related to Coin Flips</a>\n",
    "\n",
    "<a href=\"#Distributions-related-to-Dice-Rolling\">Distributions related to Dice Rolling</a>"
   ]
  },
  {
   "cell_type": "markdown",
   "metadata": {},
   "source": [
    "# Distribution"
   ]
  },
  {
   "cell_type": "markdown",
   "metadata": {},
   "source": [
    "### Random variable\n",
    "\n",
    "$$\n",
    "X:\\Omega\\longrightarrow \\mathbb{R}\n",
    "$$"
   ]
  },
  {
   "cell_type": "markdown",
   "metadata": {},
   "source": [
    "### Distribution\n",
    "\n",
    "Let $X$ be a random variable.\n",
    "We move a brick attached to $\\omega$,\n",
    "to $X(\\omega)$ in the real line $\\mathbb{R}$.\n",
    "In this way we move all the bricks in $\\Omega$ to $\\mathbb{R}$.\n",
    "Then\n",
    "the total weights of the bricks moved into  $\\mathbb{R}$ is 1.\n",
    "This brick or weight distribution over the real line $\\mathbb{R}$ is\n",
    "the distribution of $X$.\n",
    "$$\\begin{array}{llll}\n",
    "\\mathbb{P}(X=a)&=&\\mbox{Weight of the bricks at $a$}\\nonumber\\\\\n",
    "\\\\\n",
    "\\mathbb{P}(X\\in A)&=&\\mbox{Weight of the bricks in $A$}\\nonumber\\\\\n",
    "\\end{array}$$"
   ]
  },
  {
   "cell_type": "markdown",
   "metadata": {},
   "source": [
    "### PMF/PDF\n",
    "\n",
    "$$\\begin{array}{llll}\n",
    "\\mbox{PMF}&p_{x_i}&=&\\mbox{Weight of the bricks attached to $x_i$}\\nonumber\\\\\n",
    "\\\\\n",
    "\\mbox{PDF}&f(x)dx&=&\\mbox{Weight of the bricks in $[x,x+dx]$}\\nonumber\n",
    "\\end{array}$$"
   ]
  },
  {
   "cell_type": "markdown",
   "metadata": {},
   "source": [
    "### CDF\n",
    "\n",
    "\\begin{eqnarray}\n",
    "F(x)&=&\\mathbb{P}(X\\le x)\\nonumber\\\\\n",
    "\\nonumber\\\\\n",
    "&=&\\left\\{\\begin{array}{ll}\\displaystyle\\sum_{x_i\\le x}p_{x_i}&\\mbox{if $X$ is discrete}\\\\\\displaystyle\\int_{-\\infty}^x f(s)ds&\\mbox{if $X$ is continuous}\\end{array}\\right.\\nonumber\\\\\n",
    "\\nonumber\\\\\n",
    "&=&\\mbox{Weight of the bricks cumulatively stacked from $-\\infty$ up to $x$}\\nonumber\n",
    "\\end{eqnarray}"
   ]
  },
  {
   "cell_type": "markdown",
   "metadata": {
    "collapsed": true
   },
   "source": [
    "[<a href=\"#Joint,-Marginal,-and-Conditional Distribution\">Back to top</a>]"
   ]
  },
  {
   "cell_type": "markdown",
   "metadata": {},
   "source": [
    "# Joint, Marginal, Conditional Distribution"
   ]
  },
  {
   "cell_type": "markdown",
   "metadata": {},
   "source": [
    "### Random vector\n",
    "\n",
    "$$\n",
    "{\\bf X}:\\Omega\\longrightarrow \\mathbb{R}^d\n",
    "$$"
   ]
  },
  {
   "cell_type": "markdown",
   "metadata": {},
   "source": [
    "### Joint distribution\n",
    "\n",
    "Let ${\\bf X}$ be a random vector.\n",
    "We move a brick attached to $\\omega$,\n",
    "to ${\\bf X}(\\omega)$ in $\\mathbb{R}^d$.\n",
    "In this way we move all the bricks in $\\Omega$ to $\\mathbb{R}^d$.\n",
    "Then\n",
    "the total weights of the bricks moved into  $\\mathbb{R}^d$ is 1.\n",
    "This brick or weight distribution over $\\mathbb{R}^d$ is\n",
    "the joint distribution of ${\\bf X}$.\n",
    "$$\\begin{array}{llll}\n",
    "\\mathbb{P}({\\bf X}={\\bf a})&=&\\mbox{Weight of the bricks at ${\\bf a}$}\\nonumber\\\\\n",
    "\\\\\n",
    "\\mathbb{P}({\\bf X}\\in A)&=&\\mbox{Weight of the bricks in $A$}\\nonumber\\\\\n",
    "\\end{array}$$"
   ]
  },
  {
   "cell_type": "markdown",
   "metadata": {},
   "source": [
    "### Joint PMF/PDF\n",
    "$$\\begin{array}{llll}\n",
    "\\mbox{Joint PMF}&p_{{\\bf x}}&=&\\mbox{Weight of the bricks attached to ${\\bf x}$}\\\\\n",
    "\\\\\n",
    "\\mbox{Joint PDF}&f({\\bf x})d{\\bf x}&=&\\mbox{Weight of the bricks in $\\prod_{i=1}^d[x_i,x_i+dx_i]$}\n",
    "\\end{array}$$"
   ]
  },
  {
   "cell_type": "markdown",
   "metadata": {},
   "source": [
    "### Joint CDF\n",
    "\\begin{eqnarray}\n",
    "F({\\bf x})&=&\\mathbb{P}({\\bf X}\\le {\\bf x})\\nonumber\\\\\n",
    "\\nonumber\\\\\n",
    "&=&\\left\\{\\begin{array}{ll}\\displaystyle\\sum_{{\\bf x}_i\\le {\\bf x}} p_{{\\bf x}_i}&\\mbox{if ${\\bf X}$ is discrete}\\\\\\displaystyle\\int_{-\\infty}^{{\\bf x}} f({\\bf s})d{\\bf s}&\\mbox{if ${\\bf X}$ is continuous}\\end{array}\\right.\\nonumber\\\\\n",
    "\\nonumber\\\\\n",
    "&=&\\mbox{Weight of the bricks cumulatively stacked from $-\\infty$ up to ${\\bf x}$}\\nonumber\n",
    "\\end{eqnarray}"
   ]
  },
  {
   "cell_type": "markdown",
   "metadata": {},
   "source": [
    "### Joint, marginal, conditional distribution"
   ]
  },
  {
   "cell_type": "markdown",
   "metadata": {},
   "source": [
    "<div align=\"center\"><img src=\"img/Screen Shot 2018-01-31 at 1.53.03 AM.png\" width=\"50%\"></div>\n",
    "\n",
    "Bayesian Methods for Machine Learning (Udacity)"
   ]
  },
  {
   "cell_type": "markdown",
   "metadata": {},
   "source": [
    "### How to get joint, marginal, conditional from other two\n",
    "$$\\begin{array}{llll}\n",
    "\\mbox{Chain rule}&\\displaystyle p(x,y)=p(x)p(y|x)\\\\\n",
    "\\\\\n",
    "\\mbox{Marginalization}&\\displaystyle p(x)=\\sum_yp(x,y)\\\\\n",
    "\\mbox{Conditioning}&\\displaystyle p(y|x)=\\frac{p(x,y)}{p(x)}\n",
    "\\end{array}$$"
   ]
  },
  {
   "cell_type": "markdown",
   "metadata": {},
   "source": [
    "### Example - From joint to marginal and conditional\n",
    "The joint PMF of $X$ and $Y$ are given by\n",
    "\n",
    "$$\n",
    "\\begin{array}{|c||c|c|c||c|} \\hline\n",
    "{\\bf y_j}&&&&                                     \\\\\\hline\\hline  \n",
    "{\\bf 3}&\\frac{1}{10}&\\frac{1}{10}&\\frac{1}{10}&\\\\\\hline\n",
    "{\\bf 2}&\\frac{1}{10}&0&\\frac{1}{10}&\\\\\\hline\n",
    "{\\bf 1}&0&\\frac{2}{10}&\\frac{1}{10}&\\\\\\hline\n",
    "{\\bf 0}&\\frac{1}{10}&0&\\frac{1}{10}&\\\\\\hline\\hline\n",
    "&{\\bf 0}&{\\bf 1}&{\\bf 2}&{\\bf x_i}\\\\\\hline\n",
    "\\end{array}\n",
    "$$\n",
    "\n",
    "1.\n",
    "Find the marginal PMF of $X$.\n",
    "\n",
    "2.\n",
    "Find the marginal PMF of $Y$.\n",
    "\n",
    "3.\n",
    "Find the conditional PMF of $X$ given $Y=1$.\n",
    "\n",
    "4.\n",
    "Find the conditional PMF of $Y$ given $X=2$."
   ]
  },
  {
   "cell_type": "markdown",
   "metadata": {},
   "source": [
    "1.\n",
    "Do the column  sum\n",
    "and\n",
    "get \n",
    "the marginal PMF of $X$.\n",
    "\n",
    "$$\n",
    "\\begin{array}{|c||c|c|c||c|} \\hline\n",
    "{\\bf y_j}&&&&                                     \\\\\\hline\\hline  \n",
    "{\\bf 3}&\\frac{1}{10}&\\frac{1}{10}&\\frac{1}{10}&\\\\\\hline\n",
    "{\\bf 2}&\\frac{1}{10}&0&\\frac{1}{10}&\\\\\\hline\n",
    "{\\bf 1}&0&\\frac{2}{10}&\\frac{1}{10}&\\\\\\hline\n",
    "{\\bf 0}&\\frac{1}{10}&0&\\frac{1}{10}&\\\\\\hline\\hline\n",
    "&{\\bf 0}&{\\bf 1}&{\\bf 2}&{\\bf x_i}\\\\\\hline\n",
    "&\\frac{3}{10}&\\frac{3}{10}&\\frac{4}{10}&{\\bf \\mathbb{P}(X=x_i)}\\\\\\hline\n",
    "\\end{array}\n",
    "$$\n",
    "\n",
    "2.\n",
    "Do the  row sum\n",
    "and\n",
    "get \n",
    "the marginal PMF of $Y$.\n",
    "\n",
    "$$\n",
    "\\begin{array}{|c|c||c|c|c||c|} \\hline\n",
    "{\\bf \\mathbb{P}(Y=y_j)}& {\\bf y_j}&&&&                                     \\\\\\hline\\hline  \n",
    "\\frac{3}{10}&{\\bf 3}&\\frac{1}{10}&\\frac{1}{10}&\\frac{1}{10}&\\\\\\hline\n",
    "\\frac{2}{10}&{\\bf 2}&\\frac{1}{10}&0&\\frac{1}{10}&\\\\\\hline\n",
    "\\frac{3}{10}&{\\bf 1}&0&\\frac{2}{10}&\\frac{1}{10}&\\\\\\hline\n",
    "\\frac{2}{10}&{\\bf 0}&\\frac{1}{10}&0&\\frac{1}{10}&\\\\\\hline\\hline\n",
    "&&{\\bf 0}&{\\bf 1}&{\\bf 2}&{\\bf x_i}\\\\\\hline\n",
    "\\end{array}\n",
    "$$\n",
    "\n",
    "3.\n",
    "To find the conditional PMF of $X$ given $Y=1$\n",
    "we remove all the masses except the masses on the line $y=1$\n",
    "and then normalize the masses so that the total mass of the remaining masses is 1.\n",
    "\n",
    "$$\n",
    "\\begin{array}{|c||c|c|c||c|} \\hline\n",
    "{\\bf y_j}&&&&                                     \\\\\\hline\\hline  \n",
    "{\\bf 3}&&&&\\\\\\hline\n",
    "{\\bf 2}&&&&\\\\\\hline\n",
    "{\\bf 1}&0&\\frac{2}{10}&\\frac{1}{10}&\\\\\\hline\n",
    "{\\bf 0}&&&&\\\\\\hline\\hline\n",
    "&{\\bf 0}&{\\bf 1}&{\\bf 2}&{\\bf x_i}\\\\\\hline\n",
    "\\end{array}\n",
    "$$\n",
    "\n",
    "$$\n",
    "\\begin{array}{|c||c|c|c||c|} \\hline\n",
    "{\\bf y_j}&&&&                                     \\\\\\hline\\hline  \n",
    "{\\bf 3}&&&&\\\\\\hline\n",
    "{\\bf 2}&&&&\\\\\\hline\n",
    "{\\bf 1}&0&\\frac{2}{3}&\\frac{1}{3}&\\\\\\hline\n",
    "{\\bf 0}&&&&\\\\\\hline\\hline\n",
    "&{\\bf 0}&{\\bf 1}&{\\bf 2}&{\\bf x_i}\\\\\\hline\n",
    "&0&\\frac{2}{3}&\\frac{1}{3}&{\\bf \\mathbb{P}(X=x_i|Y=1)}\\\\\\hline\n",
    "\\end{array}\n",
    "$$\n",
    "\n",
    "\n",
    "4.\n",
    "To find the conditional PMF of $Y$ given $X=2$\n",
    "we remove all the masses except the masses on the line $x=2$\n",
    "and then normalize the masses so that the total mass of the remaining masses is 1.\n",
    "\n",
    "$$\n",
    "\\begin{array}{|c||c|c|c||c|} \\hline\n",
    "{\\bf y_j}&&&&                                     \\\\\\hline\\hline  \n",
    "{\\bf 3}&&&\\frac{1}{10}&\\\\\\hline\n",
    "{\\bf 2}&&&\\frac{1}{10}&\\\\\\hline\n",
    "{\\bf 1}&&&\\frac{1}{10}&\\\\\\hline\n",
    "{\\bf 0}&&&\\frac{1}{10}&\\\\\\hline\\hline\n",
    "&{\\bf 0}&{\\bf 1}&{\\bf 2}&{\\bf x_i}\\\\\\hline\n",
    "\\end{array}\n",
    "$$\n",
    "\n",
    "$$\n",
    "\\begin{array}{|c|c||c|c|c||c|} \\hline\n",
    "{\\bf \\mathbb{P}(Y=y_j|X=2)}&{\\bf y_j}&&&&                                     \\\\\\hline\\hline  \n",
    "\\frac{1}{4}&{\\bf 3}&&&\\frac{1}{4}&\\\\\\hline\n",
    "\\frac{1}{4}&{\\bf 2}&&&\\frac{1}{4}&\\\\\\hline\n",
    "\\frac{1}{4}&{\\bf 1}&&&\\frac{1}{4}&\\\\\\hline\n",
    "\\frac{1}{4}&{\\bf 0}&&&\\frac{1}{4}&\\\\\\hline\\hline\n",
    "&&{\\bf 0}&{\\bf 1}&{\\bf 2}&{\\bf x_i}\\\\\\hline\n",
    "\\end{array}\n",
    "$$"
   ]
  },
  {
   "cell_type": "markdown",
   "metadata": {},
   "source": [
    "### Example - 3 red balls and 1 blue ball\n",
    "\n",
    "There are 3 red balls and 1 blue ball in the bin.\n",
    "$$\n",
    "\\{{\\color{red}r}, {\\color{red}r}, {\\color{red}r}, {\\color{blue}b}\\}\n",
    "$$\n",
    "We choose the first ball and record its color.\n",
    "After the record remove the first ball from the bin.\n",
    "Then\n",
    "we choose the second ball and record its color.\n",
    "Find the probability that the first ball is red and the second is blue.\n",
    "\n",
    "\n",
    "\n",
    "$$\n",
    "X_i=\\left\\{\\begin{array}{ll}\n",
    "1&\\mbox{if $i$-th chosen ball blue}\\\\\n",
    "0&\\mbox{otherwise}\n",
    "\\end{array}\\right.\n",
    "$$\n",
    "\n",
    "\n",
    "$$\\mathbb{P}(X_1=0,X_2=1)=\\mathbb{P}(X_1=0)\\mathbb{P}(X_2=1|X_1=0)=\\frac{3}{4}\\times \\frac{1}{3}=\\frac{1}{4}$$"
   ]
  },
  {
   "cell_type": "markdown",
   "metadata": {},
   "source": [
    "### Example - CDF\n",
    "\n",
    "Using the below CDF find $\\mathbb{P}(X=5)$ and $\\mathbb{P}(X\\ge20)$.\n",
    "\n",
    "\n",
    "$$\\mathbb{P}(X=5)=F(5)-F(5-)=0.2-0=0.2$$\n",
    "\n",
    "\n",
    "$$\\mathbb{P}(X<20)=F(20-)=0.6\\ \\ \\Rightarrow\\ \\ \n",
    "\\mathbb{P}(X\\ge20)=1-\\mathbb{P}(X<20)=0.4$$"
   ]
  },
  {
   "cell_type": "markdown",
   "metadata": {},
   "source": [
    "[<a href=\"#Joint,-Marginal,-and-Conditional Distribution\">Back to top</a>]"
   ]
  },
  {
   "cell_type": "markdown",
   "metadata": {},
   "source": [
    "# Independent Random Variables"
   ]
  },
  {
   "cell_type": "markdown",
   "metadata": {},
   "source": [
    "<div align=\"center\"><img src=\"img/Screen Shot 2018-01-31 at 1.14.18 PM.png\" width=\"30%\"></div>\n",
    "\n",
    "Bayesian Methods for Machine Learning (Coursera)"
   ]
  },
  {
   "cell_type": "markdown",
   "metadata": {},
   "source": [
    "<div align=\"center\"><img src=\"img/Screen Shot 2018-01-31 at 1.18.03 PM.png\" width=\"30%\"></div>\n",
    "\n",
    "Bayesian Methods for Machine Learning (Coursera)"
   ]
  },
  {
   "cell_type": "markdown",
   "metadata": {},
   "source": [
    "### independent random variables\n",
    "\n",
    "$X$ and $Y$ are independent if for any $x$ and $y$\n",
    "$$\n",
    "p(x,y)=p(x)p(y)\n",
    "$$\n",
    "\n",
    "$X_1, X_2, \\cdots, X_n$ are independent if for any $x_1$, $x_2$,$\\cdots$, $x_n$\n",
    "$$\n",
    "p(x_1,x_2,\\ldots,x_n)=p(x_1)p(x_2)\\cdots p(x_n)\n",
    "$$"
   ]
  },
  {
   "cell_type": "markdown",
   "metadata": {},
   "source": [
    "### Pairwise independent random variables\n",
    "\n",
    "$X_1, X_2, \\cdots, X_n$ are pairwise independent if for any pair $X_i$, $X_j$\n",
    "$$\n",
    "\\mbox{$X_i$ and $X_j$ are independent}\n",
    "$$"
   ]
  },
  {
   "cell_type": "markdown",
   "metadata": {},
   "source": [
    "### Conditionally independent random variables\n",
    "\n",
    "$X_1$, $\\cdots$, $X_n$ are conditionally independent conditioned on $Y$ if\n",
    "for any $x_1$, $\\cdots$, $x_n$, $y$\n",
    "$$\n",
    "p(x_1,x_2,\\ldots,x_n|y)=p(x_1|y)p(x_2|y)\\cdots p(x_n|y)\n",
    "$$"
   ]
  },
  {
   "cell_type": "markdown",
   "metadata": {},
   "source": [
    "### Example - Two independent random variables\n",
    "\n",
    "The marginal PMFs of $X$ and $Y$ are given by\n",
    "\n",
    "$$\n",
    "\\begin{array}{|c|c||c|c|c||c|} \\hline\n",
    "{\\bf \\mathbb{P}(Y=y_j)}&{\\bf y_j}&&&&                                     \\\\\\hline\\hline  \n",
    "\\frac{3}{10}&{\\bf 3}&&&&\\\\\\hline\n",
    "\\frac{2}{10}&{\\bf 2}&&&&\\\\\\hline\n",
    "\\frac{3}{10}&{\\bf 1}&&&&\\\\\\hline\n",
    "\\frac{2}{10}&{\\bf 0}&&&&\\\\\\hline\\hline\n",
    "&&{\\bf 0}&{\\bf 1}&{\\bf 2}&{\\bf x_i}\\\\\\hline\n",
    "&&\\frac{2}{10}&\\frac{3}{10}&\\frac{5}{10}&{\\bf \\mathbb{P}(X=x_i)}\\\\\\hline\n",
    "\\end{array}\n",
    "$$\n",
    "\n",
    "Suppose $X$ and $Y$ are independent.\n",
    "Find the joint PMF of $X$ and $Y$, i.e., fill up the blank in below table.\n",
    "\n",
    "$$\n",
    "\\begin{array}{|c||c|c|c||c|} \\hline\n",
    "{\\bf y_j}&&&&                                     \\\\\\hline\\hline  \n",
    "{\\bf 3}&&&&\\\\\\hline\n",
    "{\\bf 2}&&&&\\\\\\hline\n",
    "{\\bf 1}&&&&\\\\\\hline\n",
    "{\\bf 0}&&&&\\\\\\hline\\hline\n",
    "&{\\bf 0}&{\\bf 1}&{\\bf 2}&{\\bf x_i}\\\\\\hline\n",
    "\\end{array}\n",
    "$$\n",
    "\n",
    "$$\n",
    "\\begin{array}{|c|c||c|c|c||c|} \\hline\n",
    "{\\bf \\mathbb{P}(Y=y_j)}&{\\bf y_j}&&&&                                     \\\\\\hline\\hline  \n",
    "\\frac{3}{10}&{\\bf 3}&\\frac{2}{10}\\times\\frac{3}{10}=\\frac{6}{100}&\\frac{3}{10}\\times\\frac{3}{10}=\\frac{9}{100}&\\frac{5}{10}\\times\\frac{3}{10}=\\frac{15}{100}&\\\\\\hline\n",
    "\\frac{2}{10}&{\\bf 2}&\\frac{2}{10}\\times\\frac{2}{10}=\\frac{6}{100}&\\frac{3}{10}\\times\\frac{2}{10}=\\frac{6}{100}&\\frac{5}{10}\\times\\frac{2}{10}=\\frac{10}{100}&\\\\\\hline\n",
    "\\frac{3}{10}&{\\bf 1}&\\frac{2}{10}\\times\\frac{3}{10}=\\frac{6}{100}&\\frac{3}{10}\\times\\frac{3}{10}=\\frac{9}{100}&\\frac{5}{10}\\times\\frac{3}{10}=\\frac{15}{100}&\\\\\\hline\n",
    "\\frac{2}{10}&{\\bf 0}&\\frac{2}{10}\\times\\frac{2}{10}=\\frac{6}{100}&\\frac{3}{10}\\times\\frac{2}{10}=\\frac{6}{100}&\\frac{5}{10}\\times\\frac{2}{10}=\\frac{10}{100}&\\\\\\hline\\hline\n",
    "&&{\\bf 0}&{\\bf 1}&{\\bf 2}&{\\bf x_i}\\\\\\hline\n",
    "&&\\frac{2}{10}&\\frac{3}{10}&\\frac{5}{10}&{\\bf \\mathbb{P}(X=x_i)}\\\\\\hline\n",
    "\\end{array}\n",
    "$$"
   ]
  },
  {
   "cell_type": "markdown",
   "metadata": {},
   "source": [
    "### Example - Two dependent random variables\n",
    "\n",
    "The joint PMF of $X$ and $Y$ is given by\n",
    "\n",
    "$$\n",
    "\\begin{array}{|c||c|c|c||c|} \\hline\n",
    "{\\bf y_j}&&&&                                     \\\\\\hline\\hline  \n",
    "{\\bf 3}&\\frac{1}{6}&\\frac{1}{6}&\\frac{1}{6}&\\\\\\hline\n",
    "{\\bf 2}&\\frac{1}{6}&\\frac{1}{6}&0&\\\\\\hline\n",
    "{\\bf 1}&\\frac{1}{6}&0&0&\\\\\\hline\n",
    "{\\bf 0}&0&0&0&\\\\\\hline\\hline\n",
    "&{\\bf 0}&{\\bf 1}&{\\bf 2}&{\\bf x_i}\\\\\\hline\n",
    "\\end{array}\n",
    "$$\n",
    "\n",
    "Determine whether $X$ and $Y$ are independent.\n",
    "\n",
    "\n",
    "\\begin{eqnarray}\n",
    "\\mbox{Conditional PMF $X$ given $Y=1$}\n",
    "&&\n",
    "p_{0|1}=1\\nonumber\\\\\n",
    "\\mbox{Conditional PMF $X$ given $Y=2$}\n",
    "&&\n",
    "p_{0|2}=1/2,\n",
    "\\quad\n",
    "p_{1|2}=1/2\\nonumber\\\\\n",
    "\\mbox{Conditional PMF $X$ given $Y=3$}\n",
    "&&\n",
    "p_{0|3}=1/3,\n",
    "\\quad\n",
    "p_{1|3}=1/3,\n",
    "\\quad\n",
    "p_{2|3}=1/3\\nonumber\n",
    "\\end{eqnarray}\n",
    "The conditional PMF of $X$ given $Y=y_j$ depends on $y_j$\n",
    "and hence $X$ and $Y$ are depen.\n",
    "\n",
    "\n",
    "\n",
    "\\begin{eqnarray}\n",
    "\\mbox{Conditional PMF $Y$ given $X=0$}\n",
    "&&\n",
    "p_{1|0}=1/3,\n",
    "\\quad\n",
    "p_{2|0}=1/3,\n",
    "\\quad\n",
    "p_{3|0}=1/3\\nonumber\\\\\n",
    "\\mbox{Conditional PMF $Y$ given $X=1$}\n",
    "&&\n",
    "p_{2|1}=1/2,\n",
    "\\quad\n",
    "p_{3|1}=1/2\\nonumber\\\\\n",
    "\\mbox{Conditional PMF $Y$ given $X=2$}\n",
    "&&\n",
    "p_{3|2}=1\\nonumber\n",
    "\\end{eqnarray}\n",
    "The conditional PMF of $Y$ given $X=x_i$ depends on $x_i$\n",
    "and hence $X$ and $Y$ are dependent.\n"
   ]
  },
  {
   "cell_type": "markdown",
   "metadata": {},
   "source": [
    "[<a href=\"#Joint,-Marginal,-and-Conditional Distribution\">Back to top</a>]"
   ]
  },
  {
   "cell_type": "markdown",
   "metadata": {},
   "source": [
    "# Distributions related to Coin Flips"
   ]
  },
  {
   "cell_type": "markdown",
   "metadata": {},
   "source": [
    "\\begin{array}{cl}\\hline\n",
    "\\mbox{Distribution}&\\mbox{Random variable}\\\\\\hline\n",
    "B(p)&\\mbox{Flip a $p$-coin and check whether we have a head}\\\\\n",
    "B(n,p)&\\mbox{Flip a $p$-coin $n$ times and count the number of heads}\\\\\n",
    "Geo(p)&\\mbox{Flip a $p$-coin until first head and count the number of flips}\\\\\n",
    "NB(r,p)&\\mbox{Flip a $p$-coin until $r$-th head and count the number of flips}\\\\\\hline\n",
    "\\end{array}\n",
    "\n",
    "\\begin{array}{ccc}\\hline\n",
    "\\mbox{Distribution}&\\mbox{Mean}&\\mbox{Variance}\\\\\\hline\n",
    "B(p)&p&pq\\\\\n",
    "B(n,p)&np&npq\\\\\n",
    "G(p)&\\frac{1}{p}&\\frac{q}{p^2}\\\\\n",
    "NB(r,p)&\\frac{r}{p}&\\frac{rq}{p^2}\\\\\\hline\n",
    "\\end{array}"
   ]
  },
  {
   "cell_type": "markdown",
   "metadata": {},
   "source": [
    "### Example - How to generate $\\pm 1$ random variables from Bernoulli random variables\n",
    "\n",
    "If $X$ has a Bernoulli distribution $\\text{B}(p)$ with success rate $p$,\n",
    "then \n",
    "$$\n",
    "Y:=2X-1=\\left\\{\\begin{array}{rl}\n",
    "1&\\mbox{with probability}\\ p\\\\\n",
    "-1&\\mbox{with probability}\\ 1-p\n",
    "\\end{array}\\right.\n",
    "$$\n",
    "\n",
    "In particular,\n",
    "suppose we flip a fair coin $n$ times independently\n",
    "and we record the $i$-th flip result as $X_i$\n",
    "by converting $H$ and $T$ to 1 and 0 respectively.\n",
    "Then $X_i$ is either 1 or 0 equally likely.\n",
    "Now, let $Y_i=2X_i-1$.\n",
    "Then\n",
    "$$\n",
    "\\mbox{$X_i$ iid with}\\\n",
    "X_i=\\left\\{\\begin{array}{ll}\n",
    "1&\\mbox{with prob}\\ 0.5\\\\\n",
    "0&\\mbox{with prob}\\ 0.5\n",
    "\\end{array}\\right.\n",
    "\\Rightarrow \n",
    "\\mbox{$Y_i$ iid with}\\\n",
    "Y_i=\\left\\{\\begin{array}{rl}\n",
    "1&\\mbox{with prob}\\ 0.5\\\\\n",
    "-1&\\mbox{with prob}\\ 0.5\n",
    "\\end{array}\\right.\n",
    "$$"
   ]
  },
  {
   "cell_type": "markdown",
   "metadata": {},
   "source": [
    "### $X+Y$ when $X\\sim B(n,p)$, $Y\\sim B(m,p)$\n",
    "\n",
    "\\begin{array}{lllllllll}\n",
    "\\mbox{$X\\sim B(n,p)$, $Y\\sim B(m,p)$}\n",
    "&\\quad\\Rightarrow\\quad&\n",
    "X+Y\\sim B(n+m,p)\n",
    "&&\\mbox{Not true in general}\\nonumber\\\\\n",
    "\\mbox{$X\\sim B(n,p)$, $Y\\sim B(m,p)$}\n",
    "&\\quad\\Rightarrow\\quad&\n",
    "X+Y\\sim B(n+m,p)\n",
    "&&\\mbox{True if $X$, $Y$ independent}\\nonumber\n",
    "\\end{array}"
   ]
  },
  {
   "cell_type": "markdown",
   "metadata": {},
   "source": [
    "### Proof.\n",
    "We flip the $p$-coin $n$ times and count the number $X$ of heads. \n",
    "We flip this coin $m$ times additionally and count the number $Y$ of heads in these additional coin flips. \n",
    "Then,\n",
    "$X+Y$ is simply the number of heads in these $n+m$ coin flips.\n",
    "So, $X+Y$ is $B(n+m,p)$. "
   ]
  },
  {
   "cell_type": "markdown",
   "metadata": {},
   "source": [
    "### Proof. (Divide and conquer)\n",
    "\n",
    "Divide:\n",
    "$$\\mathbb{P}(X+Y=k)=\\sum_{0\\le l\\le n,\\ 0\\le k-l\\le m}\\mathbb{P}(X=l,Y=k-l)$$\n",
    "\n",
    "\n",
    "Conquer: \n",
    "\\begin{eqnarray}\n",
    "\\mathbb{P}(X=l,Y=k-l)\n",
    "&=&\\mathbb{P}(X=l)\\mathbb{P}(Y=k-l|X=l)\\quad(\\mbox{$X$ and $Y$ are independent})\\nonumber\\\\\n",
    "&=&\\mathbb{P}(X=l)\\mathbb{P}(Y=k-l)\\quad(\\mbox{$X\\sim B(n,p)$, $Y\\sim B(m,p)$})\\nonumber\\\\\n",
    "&=&{n\\choose l}p^lq^{n-l}{m\\choose k-l}p^{k-l}q^{m-(k-l)}\\nonumber\n",
    "\\end{eqnarray}\n",
    "\n",
    "\n",
    "By Vandermonde's iity\n",
    "\\begin{eqnarray}\n",
    "\\mathbb{P}(X+Y=k)\n",
    "&=&\\sum_{0\\le l\\le n, 0\\le k-l\\le m}{n\\choose l}p^lq^{n-l}{m\\choose k-l}p^{k-l}q^{m-(k-l)}\\nonumber\\\\\n",
    "&=&\\left[\\sum_{0\\le l\\le n, 0\\le k-l\\le m}{n\\choose l}{m\\choose k-l}\\right]p^{k}q^{n+m-k}\\nonumber\\\\\n",
    "&=&{n+m\\choose k}p^{k}q^{n+m-k}\\nonumber\n",
    "\\end{eqnarray}"
   ]
  },
  {
   "cell_type": "markdown",
   "metadata": {},
   "source": [
    "### Example - Number of couples with same birthday\n",
    "\n",
    "There are $n$ people in the class.\n",
    "Suppose each one choose one's birthday independently and uniformly over the 365 days.\n",
    "For each pair $i$ and $j$\n",
    "we let $A_{ij}$ be the event that $i$ and $j$ share the common birthday\n",
    "and let $1_{A_{ij}}$ be its indicator.\n",
    "Then, the number $X$ of common birthday pairs can be represented as \n",
    "$$\n",
    "X=\\sum_{1\\le i<j\\le n}^n1_{A_{ij}}\n",
    "$$\n",
    "Is $X$ binomial?"
   ]
  },
  {
   "cell_type": "markdown",
   "metadata": {},
   "source": [
    "The indicator random $1_{A_{ij}}$ is either 1 or 0.\n",
    "So it is a Bernoulli random variable with success rate $p=P(A_{ij})=1/365$;\n",
    "$$1_{A_{ij}}\\sim B(p)$$\n",
    "\n",
    "\\begin{eqnarray}\n",
    "\\mbox{$1_{A_{ij}}$ are  independent}\\quad\\ \\\n",
    "\\ \\ \\Rightarrow\\ \\ \n",
    "X\\sim B(m,p),\\quad m={n\\choose 2}\n",
    "&&\\mbox{Not true}\\nonumber\\\\\n",
    "\\mbox{$1_{A_{ij}}$ are not independent}\n",
    "\\ \\ \\Rightarrow\\ \\ \n",
    "X\\ \\mbox{not binomial}\\quad\\quad\\quad\\quad\\ \\\n",
    "&&\\mbox{True}\\nonumber\n",
    "\\end{eqnarray}\n",
    "\n",
    "Suppose 1 and 2 share the common birthday\n",
    "and suppose 1 and 3 share the common birthday.\n",
    "Then, of course 2 and 3 share the common birthday.\n",
    "In other word\n",
    "$$\n",
    "P(A_{23}|A_{12},A_{13})=1\\neq\\frac{1}{365}=P(A_{23})\n",
    "$$"
   ]
  },
  {
   "cell_type": "markdown",
   "metadata": {},
   "source": [
    "# Distributions related to Dice Rolling"
   ]
  },
  {
   "cell_type": "markdown",
   "metadata": {},
   "source": [
    "\\begin{array}{cl}\\hline\n",
    "\\mbox{Distribution}&\\mbox{Random variable}\\\\\\hline\n",
    "Cat({\\bf p})&\\mbox{Roll a ${\\bf p}$-dice and check the result}\\\\\n",
    "Mul(n,{\\bf p})&\\mbox{Roll a ${\\bf p}$-dice $n$ times and count the number of out comes}\\\\\\hline\n",
    "\\end{array}\n",
    "\n",
    "### Parameter ${\\bf p}=(p_1,\\ldots,p_K)$ \n",
    "$$\n",
    "p_j\\ge 0,\\quad\\quad\\quad\\quad\\sum_{i=1}^Kp_j=1\n",
    "$$\n",
    "### Categorical distribution $Cat({\\bf p})$\n",
    "$$\n",
    "\\mathbb{P}(X_1=0,\\ldots,X_j=1,\\ldots,X_K=0)=p_j\n",
    "$$\n",
    "### Multinomial distribution $Mul(n,{\\bf p})$\n",
    "$$\n",
    "\\mathbb{P}(X_1=n_1,\\ldots,X_j=n_j,\\ldots,X_K=n_K)={n\\choose n_1\\cdots n_K}p_1^{n_1}\\cdots p_K^{n_K}\n",
    "$$"
   ]
  },
  {
   "cell_type": "markdown",
   "metadata": {},
   "source": [
    "[<a href=\"#Joint,-Marginal,-and-Conditional Distribution\">Back to top</a>]"
   ]
  }
 ],
 "metadata": {
  "kernelspec": {
   "display_name": "Python 3",
   "language": "python",
   "name": "python3"
  },
  "language_info": {
   "codemirror_mode": {
    "name": "ipython",
    "version": 3
   },
   "file_extension": ".py",
   "mimetype": "text/x-python",
   "name": "python",
   "nbconvert_exporter": "python",
   "pygments_lexer": "ipython3",
   "version": "3.5.0"
  }
 },
 "nbformat": 4,
 "nbformat_minor": 2
}
