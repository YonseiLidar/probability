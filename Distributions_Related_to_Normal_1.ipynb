{
 "cells": [
  {
   "cell_type": "markdown",
   "metadata": {},
   "source": [
    "# Distributions related to Normal"
   ]
  },
  {
   "cell_type": "markdown",
   "metadata": {},
   "source": [
    "<a href=\"#Log-normal-Distribution\">Log-normal Distribution</a>\n",
    "\n",
    "<a href=\"#Chi-square-Distribution\">Chi-square Distribution</a>"
   ]
  },
  {
   "cell_type": "markdown",
   "metadata": {},
   "source": [
    "# Log-normal Distribution"
   ]
  },
  {
   "cell_type": "markdown",
   "metadata": {},
   "source": [
    "### Definition\n",
    "$$\n",
    "X=e^Y\\sim \\mbox{Lognormal}(\\mu,\\sigma ^2)\n",
    "\\quad\\Leftrightarrow\\quad\n",
    "Y\\sim N(\\mu,\\sigma ^2)\n",
    "$$"
   ]
  },
  {
   "cell_type": "markdown",
   "metadata": {},
   "source": [
    "### PDF, Mean, Variance\n",
    "$$\n",
    "\\begin{array}{llll}\n",
    "\\mbox{PDF}&&\\frac{1}{x\\sqrt{2\\pi\\sigma ^2}}exp\\left(-\\frac{(\\log x-\\mu)^2}{2\\sigma ^2}\\right)\\nonumber\\\\\n",
    "\\nonumber\\\\\n",
    "\\mbox{Mean}&&e^{\\mu+\\frac{1}{2}\\sigma ^2}\\nonumber\\\\\n",
    "\\nonumber\\\\\n",
    "\\mbox{Variance}&&\\left(e^{\\sigma ^2}-1\\right)e^{2\\mu+\\sigma ^2}\\nonumber\n",
    "\\end{array}\n",
    "$$"
   ]
  },
  {
   "cell_type": "markdown",
   "metadata": {},
   "source": [
    "$$\n",
    "f_Y(y)=\\frac{1}{\\sqrt{2\\pi\\sigma ^2}}e^{-\\frac{(y-\\mu)^2}{2\\sigma ^2}}\\ \\ \\Rightarrow\\ \\\n",
    "f_X(x)=f_Y(y)\\left|\\frac{d y}{d x}\\right|\n",
    "=\\frac{1}{\\sqrt{2\\pi\\sigma ^2}}e^{-\\frac{(\\log x-\\mu)^2}{2\\sigma ^2}}\\cdot\\frac{1}{x}\\quad\\mbox{for $x>0$}\n",
    "$$"
   ]
  },
  {
   "cell_type": "code",
   "execution_count": 7,
   "metadata": {},
   "outputs": [
    {
     "data": {
      "image/png": "[encoded data removed]",
      "text/plain": [
       "<Figure size 432x288 with 1 Axes>"
      ]
     },
     "metadata": {
      "needs_background": "light"
     },
     "output_type": "display_data"
    }
   ],
   "source": [
    "# sampling from lognormal distribution\n",
    "\n",
    "import numpy as np\n",
    "import matplotlib.pyplot as plt\n",
    "\n",
    "np.random.seed(9)  \n",
    "\n",
    "sample_size = 10000 \n",
    "\n",
    "mu = 2 \n",
    "sigma = 1\n",
    "\n",
    "z = np.random.normal(mu, sigma, (sample_size,))  # sampling from normal distribution\n",
    "x = np.exp(z) # sampling from lognormal distribution\n",
    "\n",
    "plt.hist(x, bins=np.arange(0,50,0.5), density=True) \n",
    "plt.title('lognormal({}, {})'.format(mu, sigma)) \n",
    "plt.grid(True) \n",
    "plt.show()"
   ]
  },
  {
   "cell_type": "markdown",
   "metadata": {},
   "source": [
    "[<a href=\"#Distributions-related-to-Normal\">Back to top</a>]"
   ]
  },
  {
   "cell_type": "markdown",
   "metadata": {},
   "source": [
    "# Chi-square Distribution"
   ]
  },
  {
   "cell_type": "markdown",
   "metadata": {},
   "source": [
    "### Recall - Gamma distribution $\\Gamma(\\alpha,\\lambda)$\n",
    "\\begin{eqnarray}\n",
    "(1)&&Exp(\\lambda)\\stackrel{d}{=}\\Gamma(1,\\lambda)\\nonumber\\\\\n",
    "(2)&&Exp(\\lambda)\\mathbin{*}Exp(\\lambda)\\stackrel{d}{=}\\Gamma(2,\\lambda)\\nonumber\\\\\n",
    "(3)&&Exp(\\lambda)\\mathbin{*}Exp(\\lambda)\\mathbin{*}\\cdots \\mathbin{*}Exp(\\lambda)\\stackrel{d}{=}\\Gamma(n,\\lambda)\\nonumber\\\\\n",
    "(4)&&\\Gamma(\\alpha,\\lambda)\\mathbin{*}\\Gamma(\\beta,\\lambda)\\stackrel{d}{=}\\Gamma(\\alpha+\\beta,\\lambda)\\nonumber\n",
    "\\end{eqnarray}"
   ]
  },
  {
   "cell_type": "markdown",
   "metadata": {},
   "source": [
    "### Definition \n",
    "$$\n",
    "\\sum_{i=1}^dZ_i^2\\sim\\chi^2_d\\quad\\quad\\quad\\quad\\mbox{where$\\quad$ $Z_i\\quad$ iid $\\quad N(0,1^2)$}\n",
    "$$"
   ]
  },
  {
   "cell_type": "markdown",
   "metadata": {},
   "source": [
    "### Properties \n",
    "\\begin{eqnarray}\n",
    "(1)&&\\chi^2_1\\stackrel{d}{=}Z_1^2\\stackrel{d}{=}\\Gamma\\left(\\frac{1}{2},\\frac{1}{2}\\right)\\nonumber\\\\\n",
    "(2)&&\\chi^2_d\\stackrel{d}{=}Z_1^2+\\cdots+Z_d^2\\stackrel{d}{=}\n",
    "\\Gamma\\left(\\frac{1}{2},\\frac{1}{2}\\right)\\mathbin{*}\\cdots\\mathbin{*}\\Gamma\\left(\\frac{1}{2},\\frac{1}{2}\\right)\n",
    "\\stackrel{d}{=}\n",
    "\\Gamma\\left(\\frac{d}{2},\\frac{1}{2}\\right)\\nonumber\\\\\n",
    "(3)&&\\phi_{\\chi^2_d}(t)=\\left(\\frac{1}{\\sqrt{1-2t}}\\right)^d\\nonumber\n",
    "\\end{eqnarray}"
   ]
  },
  {
   "cell_type": "markdown",
   "metadata": {},
   "source": [
    "For $x>0$\n",
    "\\begin{eqnarray}\n",
    "P(Z_1^2\\le x)\n",
    "=P(-\\sqrt{x}\\le Z_1\\le \\sqrt{x})\n",
    "=\\int_{-\\sqrt{x}}^{\\sqrt{x}}\\frac{1}{\\sqrt{2\\pi}}e^{-\\frac{s^2}{2}}ds\n",
    "=2\\int_{0}^{\\sqrt{x}}\\frac{1}{\\sqrt{2\\pi}}e^{-\\frac{s^2}{2}}ds\\nonumber\n",
    "\\end{eqnarray}\n",
    "$$\\begin{array}{llll}\n",
    "&\\Rightarrow&\\displaystyle\n",
    "f_{Z_1^2}(x)=2\\frac{1}{\\sqrt{2\\pi}}e^{-\\frac{x}{2}}\\frac{1}{2}x^{-1/2}\n",
    "=\\frac{\\frac{1}{2}\\left(\\frac{1}{2}x\\right)^{\\frac{1}{2}-1}e^{-\\frac{1}{2}x}}{\\Gamma(\\frac{1}{2})}\n",
    "=f_{\\Gamma\\left(\\frac{1}{2},\\frac{1}{2}\\right)}(x)\\\\\n",
    "\\\\\n",
    "&\\Rightarrow&\\displaystyle\n",
    "(1)\\ \\ \\chi^2_1\\stackrel{d}{=}Z_1^2\\stackrel{d}{=}\\Gamma\\left(\\frac{1}{2},\\frac{1}{2}\\right)\n",
    "\\end{array}$$"
   ]
  },
  {
   "cell_type": "markdown",
   "metadata": {},
   "source": [
    "By the property (4) of Gamma distribution\n",
    "\\begin{eqnarray}\n",
    "(2)&&\\chi^2_d\\stackrel{d}{=}Z_1^2+\\cdots+Z_d^2\\stackrel{d}{=}\n",
    "\\Gamma\\left(\\frac{1}{2},\\frac{1}{2}\\right)\\mathbin{*}\\cdots\\mathbin{*}\\Gamma\\left(\\frac{1}{2},\\frac{1}{2}\\right)\n",
    "\\stackrel{d}{=}\n",
    "\\Gamma\\left(\\frac{d}{2},\\frac{1}{2}\\right)\\nonumber\n",
    "\\end{eqnarray}"
   ]
  },
  {
   "cell_type": "markdown",
   "metadata": {},
   "source": [
    "With $\\lambda=\\frac{1}{2}-t$\n",
    "\\begin{eqnarray}\n",
    "(3)\\ \\ \n",
    "\\phi_{\\chi^2_d}(t)\n",
    "&=&\n",
    "\\int_0^{\\infty}e^{tx}\\frac{\\frac{1}{2}\\left(\\frac{1}{2}x\\right)^{\\frac{d}{2}-1}e^{-\\frac{1}{2}x}}{\\Gamma(\\frac{d}{2})}dx\\nonumber\\\\\n",
    "&=&\n",
    "\\int_0^{\\infty}\\frac{\\frac{1}{2}\\left(\\frac{1}{2}x\\right)^{\\frac{d}{2}-1}e^{-(\\frac{1}{2}-t)x}}{\\Gamma(\\frac{d}{2})}dx\n",
    "\\nonumber\\\\\n",
    "&=&\n",
    "\\left(\\frac{1}{\\sqrt{1-2t}}\\right)^d\n",
    "\\int_0^{\\infty}\\underbrace{\\frac{\\lambda\\left(\\lambda x\\right)^{\\frac{d}{2}-1}e^{-\\lambda x}}{\\Gamma(\\frac{d}{2})}}_{\\mbox{PDF of $\\Gamma(\\frac{d}{2},\\lambda)$}}dx\n",
    "=\\left(\\frac{1}{\\sqrt{1-2t}}\\right)^d\n",
    "\\nonumber\n",
    "\\end{eqnarray}"
   ]
  },
  {
   "cell_type": "markdown",
   "metadata": {},
   "source": [
    "### Mean and variance\n",
    "\n",
    "$$\n",
    "\\begin{array}{ccccccccc} \\hline\n",
    "                   & \\mbox{mean}                & \\mbox{variance} \\\\\\hline \\hline\n",
    "Geo(p)  & \\frac{1}{p}  & \\frac{q}{p^2}\\\\\\hline\n",
    "\\frac{1}{n}Geo(p)  & \\frac{1}{np}  & \\frac{q}{(np)^2}\\\\\\hline\n",
    "Exp(\\lambda)=\\Gamma(1,\\lambda)  & \\frac{1}{\\lambda}  & \\frac{1}{\\lambda^2}\\\\\\hline\n",
    "\\Gamma(n,\\lambda)  & \\frac{n}{\\lambda}  & \\frac{n}{\\lambda^2}\\\\\\hline\n",
    "\\Gamma(\\alpha,\\lambda)  & \\frac{\\alpha}{\\lambda}  & \\frac{\\alpha}{\\lambda^2}\\\\\\hline\n",
    "\\chi^2_1=\\Gamma(\\frac{1}{2},\\frac{1}{2})  & \\frac{\\frac{1}{2}}{\\frac{1}{2}}=1  & \\frac{\\frac{1}{2}}{(\\frac{1}{2})^2}=2\\\\\\hline\n",
    "\\chi^2_d=\\Gamma(\\frac{d}{2},\\frac{1}{2})  & d  & 2d\\\\\\hline\n",
    "\\end{array}\n",
    "$$"
   ]
  },
  {
   "cell_type": "code",
   "execution_count": 8,
   "metadata": {},
   "outputs": [
    {
     "data": {
      "image/png": "[encoded data removed]",
      "text/plain": [
       "<Figure size 432x288 with 1 Axes>"
      ]
     },
     "metadata": {
      "needs_background": "light"
     },
     "output_type": "display_data"
    }
   ],
   "source": [
    "# sampling from chi-square distribution with degree 1\n",
    "\n",
    "import numpy as np\n",
    "import matplotlib.pyplot as plt\n",
    "\n",
    "np.random.seed(9)  \n",
    "\n",
    "sample_size = 10000 \n",
    "\n",
    "z = np.random.normal(0, 1, (sample_size,)) # sampling from standard normal distribution\n",
    "x = z**2 # sampling from chi-square distribution with degree 1\n",
    "\n",
    "plt.hist(x, bins=np.arange(0,5,0.1), density=True) \n",
    "plt.title('$\\chi^2_1$') \n",
    "plt.grid(True) \n",
    "plt.show()"
   ]
  },
  {
   "cell_type": "code",
   "execution_count": 11,
   "metadata": {},
   "outputs": [
    {
     "data": {
      "image/png": "[encoded data removed]",
      "text/plain": [
       "<Figure size 432x288 with 1 Axes>"
      ]
     },
     "metadata": {
      "needs_background": "light"
     },
     "output_type": "display_data"
    }
   ],
   "source": [
    "# sampling from chi-square distribution with degree d\n",
    "\n",
    "import numpy as np\n",
    "import matplotlib.pyplot as plt\n",
    "\n",
    "np.random.seed(9)  \n",
    "\n",
    "sample_size = 10000\n",
    "d = 5\n",
    "\n",
    "# sampling from standard normal distribution\n",
    "z = np.random.normal(0, 1, (d, sample_size)) \n",
    "\n",
    "# sampling from chi-square distribution with degree d\n",
    "x = np.sum(z**2, axis=0)\n",
    "\n",
    "plt.hist(x, bins=np.arange(0,20,0.1), density=True) \n",
    "plt.title('$\\chi^2_{}$'.format(d))\n",
    "plt.grid(True) \n",
    "plt.show()"
   ]
  },
  {
   "cell_type": "markdown",
   "metadata": {},
   "source": [
    "[<a href=\"#Distributions-related-to-Normal\">Back to top</a>]"
   ]
  },
  {
   "cell_type": "code",
   "execution_count": null,
   "metadata": {},
   "outputs": [],
   "source": []
  }
 ],
 "metadata": {
  "kernelspec": {
   "display_name": "Python 3",
   "language": "python",
   "name": "python3"
  },
  "language_info": {
   "codemirror_mode": {
    "name": "ipython",
    "version": 3
   },
   "file_extension": ".py",
   "mimetype": "text/x-python",
   "name": "python",
   "nbconvert_exporter": "python",
   "pygments_lexer": "ipython3",
   "version": "3.5.0"
  }
 },
 "nbformat": 4,
 "nbformat_minor": 2
}
