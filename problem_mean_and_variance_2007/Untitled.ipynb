{
 "cells": [
  {
   "cell_type": "markdown",
   "metadata": {},
   "source": [
    "<div align=\"center\"><img src=\"img/2007.png\" width=\"70%\"></div>"
   ]
  },
  {
   "cell_type": "markdown",
   "metadata": {},
   "source": [
    "$$\n",
    "\\sum_{k=0}^n{n\\choose k}p^kq^{n-k}=(p+q)^n\n",
    "$$\n",
    "Differentiate wrt $p$.\n",
    "$$\n",
    "\\sum_{k=0}^nk{n\\choose k}p^{k-1}q^{n-k}=n(p+q)^{n-1}\n",
    "$$\n",
    "Let $q=1-p$.\n",
    "$$\n",
    "\\sum_{k=0}^nk{n\\choose k}p^{k-1}(1-p)^{n-k}=n\n",
    "$$\n",
    "$$$$\n",
    "$$\n",
    "\\begin{array}{lll}\n",
    "EX\n",
    "&=&\\sum_{k=0}^nk{n\\choose k}p^k(1-p)^{n-k}\\\\\n",
    "&=&p\\sum_{k=0}^nk{n\\choose k}p^{k-1}(1-p)^{n-k}\\\\\n",
    "&=&np\\\\\n",
    "\\end{array}$$"
   ]
  },
  {
   "cell_type": "markdown",
   "metadata": {},
   "source": [
    "Let $X_i$ be iid $B(p)$. Then,\n",
    "$$\n",
    "S=\\sum_{i=1}^n X_i\\sim B(n,p)\n",
    "$$\n",
    "Since $EX_i=1*p+0*(1-p)=p$,\n",
    "$$\n",
    "ES=\\sum_{i=1}^n EX_i=np\n",
    "$$"
   ]
  },
  {
   "cell_type": "code",
   "execution_count": null,
   "metadata": {},
   "outputs": [],
   "source": []
  }
 ],
 "metadata": {
  "kernelspec": {
   "display_name": "Python 3",
   "language": "python",
   "name": "python3"
  },
  "language_info": {
   "codemirror_mode": {
    "name": "ipython",
    "version": 3
   },
   "file_extension": ".py",
   "mimetype": "text/x-python",
   "name": "python",
   "nbconvert_exporter": "python",
   "pygments_lexer": "ipython3",
   "version": "3.6.9"
  }
 },
 "nbformat": 4,
 "nbformat_minor": 2
}
