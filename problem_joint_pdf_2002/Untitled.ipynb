{
 "cells": [
  {
   "cell_type": "markdown",
   "metadata": {},
   "source": [
    "<div align=\"center\"><img src=\"img/2002-2A.png\" width=\"70%\"></div>\n",
    "<div align=\"center\"><img src=\"img/2002-2B.png\" width=\"70%\"></div>\n",
    "<div align=\"center\"><img src=\"img/2002-2C.png\" width=\"70%\"></div>\n",
    "<div align=\"center\"><img src=\"img/2002-2D.png\" width=\"70%\"></div>"
   ]
  },
  {
   "cell_type": "markdown",
   "metadata": {},
   "source": [
    "$$\\begin{array}{ccc}\n",
    "X&\\mbox{prob}&Y\\\\\n",
    "\\hline\n",
    "0&\\frac{1}{4}&0\\\\\n",
    "1&\\frac{1}{2}&1\\\\\n",
    "2&\\frac{1}{4}&0\\\\\n",
    "\\end{array}$$\n",
    "$$$$\n",
    "$$\\begin{array}{ccc}\n",
    "X&P(X)\\\\\n",
    "\\hline\n",
    "0&\\frac{1}{4}\\\\\n",
    "1&\\frac{1}{2}\\\\\n",
    "2&\\frac{1}{4}\\\\\n",
    "\\end{array}$$\n",
    "$$$$\n",
    "$$\\begin{array}{ccc}\n",
    "Y&P(Y)\\\\\n",
    "\\hline\n",
    "0&\\frac{1}{2}\\\\\n",
    "1&\\frac{1}{2}\\\\\n",
    "\\end{array}$$\n",
    "$$$$\n",
    "$$\\begin{array}{cccc}\n",
    "X\\backslash Y&|&0&1\\\\\n",
    "\\hline\n",
    "0&|&\\frac{1}{4}&0\\\\\n",
    "1&|&0&\\frac{1}{2}\\\\\n",
    "2&|&\\frac{1}{4}&0\\\\\n",
    "\\end{array}$$"
   ]
  },
  {
   "cell_type": "markdown",
   "metadata": {},
   "source": [
    "$$\n",
    "EX=0*\\frac{1}{4}+1*\\frac{1}{2}+2*\\frac{1}{4}\n",
    "$$\n",
    "$$$$\n",
    "$$\n",
    "EY=0*\\frac{1}{4}+1*\\frac{1}{2}+0*\\frac{1}{4}\n",
    "$$\n",
    "$$$$\n",
    "$$\n",
    "EXY=0*0*\\frac{1}{4}+1*1*\\frac{1}{2}+2*0*\\frac{1}{4}\n",
    "$$"
   ]
  },
  {
   "cell_type": "code",
   "execution_count": null,
   "metadata": {},
   "outputs": [],
   "source": []
  }
 ],
 "metadata": {
  "kernelspec": {
   "display_name": "Python 3",
   "language": "python",
   "name": "python3"
  },
  "language_info": {
   "codemirror_mode": {
    "name": "ipython",
    "version": 3
   },
   "file_extension": ".py",
   "mimetype": "text/x-python",
   "name": "python",
   "nbconvert_exporter": "python",
   "pygments_lexer": "ipython3",
   "version": "3.6.9"
  }
 },
 "nbformat": 4,
 "nbformat_minor": 2
}
