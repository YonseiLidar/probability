{
 "cells": [
  {
   "cell_type": "markdown",
   "metadata": {},
   "source": [
    "# Distributions related to Normal"
   ]
  },
  {
   "cell_type": "markdown",
   "metadata": {},
   "source": [
    "<a href=\"#Student-t-Distribution\">Student t Distribution</a>\n",
    " \n",
    "<a href=\"#F-Distribution\">F Distribution</a>"
   ]
  },
  {
   "cell_type": "markdown",
   "metadata": {},
   "source": [
    "# Student t Distribution"
   ]
  },
  {
   "cell_type": "markdown",
   "metadata": {},
   "source": [
    "<div align=\"center\"><img src=\"https://upload.wikimedia.org/wikipedia/commons/thumb/4/42/William_Sealy_Gosset.jpg/340px-William_Sealy_Gosset.jpg\" width=\"50%\"></div>"
   ]
  },
  {
   "cell_type": "markdown",
   "metadata": {},
   "source": [
    "### Definition\n",
    "$$\n",
    "\\frac{Z}{\\sqrt{\\frac{V}{d}}}\\sim t_d\\quad\\quad\\quad\\quad\\mbox{where$\\quad$ $Z\\sim N(0,1^2)$ and\n",
    "$V\\sim\\chi^2_d$ are independent}\n",
    "$$"
   ]
  },
  {
   "cell_type": "markdown",
   "metadata": {},
   "source": [
    "### Why chi-square and student $t$\n",
    "For $n$ iid samples $X_i$ from $N(\\mu,\\sigma ^2)$,\n",
    "$$\n",
    "\\frac{\\bar{X}-\\mu}{\\frac{\\sigma}{\\sqrt{n}}}=N(0,1)\n",
    "\\quad\\mbox{but}\\quad\n",
    "\\frac{\\bar{X}-\\mu}{\\frac{S}{\\sqrt{n}}}=t_{n-1}\n",
    "$$\n",
    "where\n",
    "$$\n",
    "\\bar{X}=\\frac{\\sum_{i=1}^nX_i}{n}\\ \\ \\ \\ \\ \\mbox{and}\\ \\ \\ \\ \\ \n",
    "S^2=\\frac{\\sum_{i=1}^n(X_i-\\bar{X})^2}{n-1}\n",
    "$$"
   ]
  },
  {
   "cell_type": "markdown",
   "metadata": {},
   "source": [
    "\\begin{eqnarray}\n",
    "(1)&&\\mbox{$\\bar{X}$ and $S^2$ are independent}\\nonumber\\\\\n",
    "(2)&&\\frac{\\bar{X}-\\mu}{\\frac{\\sigma }{\\sqrt{n}}}\\stackrel{d}{=}N(0,1^2)\\ \\ \\ \\ \\ \\mbox{and}\\ \\ \\ \\ \\ \\frac{(n-1)S^2}{\\sigma ^2}=\\sum_{i=1}^n\\left(\\frac{X_i-\\bar{X}}{\\sigma }\\right)^2\\stackrel{d}{=}\\chi^2_{n-1}\\nonumber\\\\\n",
    "(3)&&\\frac{\\bar{X}-\\mu}{\\frac{S}{\\sqrt{n}}}=\\frac{\\frac{\\bar{X}-\\mu}{\\frac{\\sigma }{\\sqrt{n}}}}{\\sqrt{\\frac{\\frac{(n-1)S^2}{\\sigma ^2}}{n-1}}}\n",
    "\\stackrel{(2)}{=}\\frac{N(0,1)}{\\sqrt{\\frac{\\chi^2_{n-1}}{n-1}}}\\stackrel{(1)}{=}t_{n-1}\\nonumber\n",
    "\\end{eqnarray}"
   ]
  },
  {
   "cell_type": "markdown",
   "metadata": {},
   "source": [
    "### PDF\n",
    "$$\n",
    "f(x)\\propto\\left(1+\\frac{1}{d}x^2\\right)^{-\\frac{d+1}{2}}\n",
    "\\ \\ \\Rightarrow\\ \\ \n",
    "f(x)\n",
    "=\n",
    "\\frac{1}{\\sqrt{d}B\\left(\\frac{1}{2},\\frac{d}{2}\\right)}\\left(1+\\frac{1}{d}x^2\\right)^{-\\frac{d+1}{2}}\n",
    "$$\n",
    "\n",
    "### Mean and variance\n",
    "$$\\begin{array}{llllll}\n",
    "\\mbox{Mean}&&0&&\\mbox{for $d>1$}\\\\\n",
    "\\\\\n",
    "\\mbox{Variance}&&\\displaystyle \\frac{d}{d-2}&&\\mbox{for $d>2$}\\\\\n",
    "\\end{array}$$"
   ]
  },
  {
   "cell_type": "markdown",
   "metadata": {},
   "source": [
    "### Related distribution - Cauchy distribution - $d=1$\n",
    "$$\n",
    "f(x)\\propto\\frac{1}{1+x^2}\n",
    "\\ \\ \\Rightarrow\\ \\ \n",
    "f(x)\n",
    "=\n",
    "\\frac{1}{\\pi}\\cdot\\frac{1}{1+x^2}\n",
    "$$"
   ]
  },
  {
   "cell_type": "markdown",
   "metadata": {},
   "source": [
    "### Recall - Multivariate normal ${\\bf x}\\sim N(\\mu,\\Sigma)$\n",
    "$$\\begin{array}{lllll}\n",
    "(1)&\\mbox{$\\mu$ and $\\Sigma$ completely determine the multivariate normal distribution}\\\\\n",
    "\\\\\n",
    "(2)&\\mbox{If off diagonals of $\\Sigma$ are all 0, then all the components of ${\\bf x}$ are independent}\\\\\n",
    "\\\\\n",
    "(3)&\\mbox{If for fixed $i$, $\\Sigma_{ij}=0$ for all $j\\neq i$, then ${\\bf x}_i$ is independent to ${\\bf x}_j$, $j\\neq i$}\\\\\n",
    "\\end{array}$$"
   ]
  },
  {
   "cell_type": "markdown",
   "metadata": {},
   "source": [
    "### Key fact\n",
    "Let $X_i$ be iid with mean $\\mu$ and variance $\\sigma^2$.\n",
    "With $\\bar{X}=\\frac{\\sum_{i=1}^nX_i}{n}$ we have\n",
    "\\begin{eqnarray}\n",
    "Cov(\\bar X,X_i-\\bar X)\n",
    "&=&Cov(\\bar X,X_i)-Cov(\\bar X,\\bar X)\\nonumber\\\\\n",
    "&=&Cov\\left(\\frac{\\sum_{j=1}^nX_j}{n},X_i\\right)-Cov\\left(\\frac{\\sum_{j=1}^nX_j}{n},\\frac{\\sum_{k=1}^nX_k}{n}\\right)\\nonumber\\\\\n",
    "&=&\\frac{1}{n}\\cdot\\sigma ^2-\\frac{1}{n^2}\\cdot n\\sigma ^2=0\\nonumber\n",
    "\\end{eqnarray}"
   ]
  },
  {
   "cell_type": "markdown",
   "metadata": {},
   "source": [
    "### Consequence\n",
    "\\begin{eqnarray}\n",
    "&&\n",
    "\\mbox{$\\bar X, X_1-\\bar X, X_2-\\bar X,\\cdots, X_n-\\bar X$ are multivariate normal}\\nonumber\\\\\n",
    "&\\Rightarrow&\n",
    "\\mbox{Since $Cov(\\bar X,X_i-\\bar X)=0$, $\\bar X$ and $X_1-\\bar X,\\cdots, X_n-\\bar X$ are independent}\\nonumber\\\\\n",
    "&\\Rightarrow&\n",
    "\\mbox{$\\bar X$ and $S^2$ are independent}\\nonumber\n",
    "\\end{eqnarray}"
   ]
  },
  {
   "cell_type": "markdown",
   "metadata": {},
   "source": [
    "\\begin{eqnarray}\n",
    "\\sum_{i=1}^n(X_i-\\mu)^2\n",
    "&=&\\sum_{i=1}^n((X_i-\\bar X)+(\\bar X-\\mu))^2\\nonumber\\\\\n",
    "&=&\\sum_{i=1}^n(X_i-\\bar X)^2+n(\\bar X-\\mu)^2+2(\\bar X-\\mu)\\sum_{i=1}^n(X_i-\\bar X)\\nonumber\\\\\n",
    "&=&\\sum_{i=1}^n(X_i-\\bar X)^2+n(\\bar X-\\mu)^2\\nonumber\n",
    "\\end{eqnarray}"
   ]
  },
  {
   "cell_type": "markdown",
   "metadata": {},
   "source": [
    "\\begin{eqnarray}\n",
    "&&\n",
    "\\underbrace{\\sum_{i=1}^n\\left(\\frac{X_i-\\mu}{\\sigma }\\right)^2}_{\\chi^2_n}\n",
    "\\quad=\\quad\n",
    "\\sum_{i=1}^n\\left(\\frac{X_i-\\bar X}{\\sigma }\\right)^2\n",
    "\\quad+\\quad\n",
    "\\underbrace{\\left(\\frac{\\bar X-\\mu}{\\frac{\\sigma }{\\sqrt{n}}}\\right)^2}_{\\chi^2_1}\\nonumber\\\\\n",
    "\\nonumber\\\\\n",
    "&\\stackrel{\\mbox{Consequence of key fact}}{\\Rightarrow}&\n",
    "\\left(\\frac{1}{\\sqrt{1-2t}}\\right)^n\n",
    "\\quad=\\quad\n",
    "\\phi_{\\sum_{i=1}^n\\left(\\frac{X_i-\\bar X}{\\sigma }\\right)^2}(t)\n",
    "\\quad\\cdot\\quad\n",
    "\\left(\\frac{1}{\\sqrt{1-2t}}\\right)\\nonumber\\\\\n",
    "\\nonumber\\\\\n",
    "&\\Rightarrow&\n",
    "\\phi_{\\sum_{i=1}^n\\left(\\frac{X_i-\\bar X}{\\sigma }\\right)^2}(t)\n",
    "\\quad=\\quad\n",
    "\\left(\\frac{1}{\\sqrt{1-2t}}\\right)^{n-1}\\nonumber\\\\\n",
    "\\nonumber\\\\\n",
    "&\\Rightarrow&\n",
    "\\sum_{i=1}^n\\left(\\frac{X_i-\\bar X}{\\sigma }\\right)^2\n",
    "\\quad\\sim\\quad\n",
    "\\chi^2_{n-1}\\nonumber\n",
    "\\end{eqnarray}"
   ]
  },
  {
   "cell_type": "markdown",
   "metadata": {},
   "source": [
    "With $t=\\frac{z}{\\sqrt{\\frac{v}{r}}}$ \n",
    "and $u=v$, \n",
    "where $Z\\sim N(0,1^2)$ and $V\\sim\\chi^2_d$ are independent,\n",
    "$$\n",
    "\\left|\\frac{\\partial (z,v)}{\\partial (t,u)}\\right|\n",
    "=\n",
    "\\left|\\frac{\\partial (t,u)}{\\partial (z,v)}\\right|^{-1}\n",
    "=\n",
    "\\left|det\\left(\\begin{array}{cc}\\frac{1}{\\sqrt{\\frac{v}{r}}}&*\\\\0&1\\end{array}\\right)\\right|^{-1}\n",
    "=\\sqrt{\\frac{v}{r}}\n",
    "$$"
   ]
  },
  {
   "cell_type": "markdown",
   "metadata": {},
   "source": [
    "With $\\lambda=\\frac{1+\\frac{t^2}{d}}{2}$,\n",
    "\\begin{eqnarray}\n",
    "f_{T,U}(t,u)\n",
    "&=&\n",
    "f_{Z,V}(z,v)\\left|\\frac{\\partial (z,v)}{\\partial (t,u)}\\right|\\nonumber\\\\\n",
    "&=&\n",
    "\\frac{\\frac{1}{2}(\\frac{1}{2}v)^{\\frac{d}{2}-1}}{\\sqrt{2\\pi}\\Gamma(\\frac{r}{2})}e^{-\\frac{z^2}{2}}e^{-\\frac{1}{2}v}\\sqrt{\\frac{v}{d}}\n",
    "\\nonumber\\\\\n",
    "&=&\n",
    "\\frac{\\frac{1}{2}(\\frac{1}{2}u)^{\\frac{d}{2}-1}}{\\sqrt{2\\pi}\\Gamma(\\frac{d}{2})}e^{-\\frac{1+\\frac{t^2}{d}}{2}u}\\sqrt{\\frac{u}{d}}\n",
    "\\nonumber\\\\\n",
    "&=&\n",
    "\\frac{1}{\\sqrt{d}B\\left(\\frac{1}{2},\\frac{d}{2}\\right)}\\left(1+\\frac{t^2}{d}\\right)^{-\\frac{d+1}{2}}\n",
    "\\quad\\cdot\\quad\n",
    "\\underbrace{\\left[\\frac{\\lambda \\left(\\lambda u\\right)^{\\frac{d+1}{2}-1}e^{-\\lambda u}}{\\Gamma(\\frac{r+1}{2})}\\right]}_{\\mbox{$U|T=t)$ is $Gamma(\\frac{d+1}{2},\\lambda)$}}\\nonumber\n",
    "\\end{eqnarray}"
   ]
  },
  {
   "cell_type": "markdown",
   "metadata": {},
   "source": [
    "$$\n",
    "\\Rightarrow\\quad\n",
    "f_{T}(t)\n",
    "\\quad=\\quad\n",
    "\\frac{1}{\\sqrt{d}B\\left(\\frac{1}{2},\\frac{d}{2}\\right)}\\left(1+\\frac{t^2}{d}\\right)^{-\\frac{d+1}{2}}\n",
    "$$"
   ]
  },
  {
   "cell_type": "code",
   "execution_count": 4,
   "metadata": {},
   "outputs": [
    {
     "data": {
      "image/png": "[encoded data removed]",
      "text/plain": [
       "<Figure size 432x288 with 1 Axes>"
      ]
     },
     "metadata": {
      "needs_background": "light"
     },
     "output_type": "display_data"
    }
   ],
   "source": [
    "# sampling from t distribution with degree n-1\n",
    "\n",
    "import numpy as np\n",
    "import matplotlib.pyplot as plt\n",
    "\n",
    "np.random.seed(9)  \n",
    "\n",
    "sample_size = 10000\n",
    "mu = 0\n",
    "sigma = 10\n",
    "n = 10\n",
    "\n",
    "# sampling from normal distribution\n",
    "x = np.random.normal(mu, sigma, (n, sample_size)) \n",
    "\n",
    "x_bar = np.sum(x, axis=0) / n \n",
    "s_square = np.sum((x - x_bar)**2, axis=0) / (n-1)\n",
    "s = np.sqrt(s_square)\n",
    "\n",
    "# sampling from t distribution with degree n-1\n",
    "t = (x_bar - mu) / (s/np.sqrt(n)) \n",
    "\n",
    "plt.hist(t, bins=np.arange(-6,6,0.1), density=True) \n",
    "plt.title('$t_{}$'.format(n-1))\n",
    "plt.grid(True) \n",
    "plt.show()"
   ]
  },
  {
   "cell_type": "markdown",
   "metadata": {},
   "source": [
    "[<a href=\"#Distributions-related-to-Normal\">Back to top</a>]"
   ]
  },
  {
   "cell_type": "markdown",
   "metadata": {},
   "source": [
    "# F Distribution"
   ]
  },
  {
   "cell_type": "markdown",
   "metadata": {},
   "source": [
    "### Definition\n",
    "\n",
    "$$\n",
    "\\displaystyle\\frac{X_{d_1}^2/d_1}{X_{d_2}^2/d_2}\\quad\\quad\\quad\\quad\\mbox{where$\\quad$ $X_{d_1}^2\\sim\\chi^2_{d_1}$,\n",
    "$\\quad X_{d_2}^2\\sim\\chi^2_{d_2}\\quad$ independent}\n",
    "$$"
   ]
  },
  {
   "cell_type": "markdown",
   "metadata": {},
   "source": [
    "### PDF\n",
    "\n",
    "$$\n",
    "f_{F}(x)\n",
    "\\quad\n",
    "=\n",
    "\\quad\n",
    "\\frac{1}{B\\left(\\frac{d_1}{2},\\frac{d_2}{2}\\right)x}\n",
    "\\quad\n",
    "\\cdot\n",
    "\\quad\n",
    "\\sqrt{\\frac{(d_1x)^{d_1}\\cdot d_2^{d_2}}{(d_1x+d_2)^{d_1+d_2}}}\n",
    "\\quad\\quad\\quad\\quad \n",
    "\\mbox{for $x>0$}\n",
    "$$"
   ]
  },
  {
   "cell_type": "markdown",
   "metadata": {},
   "source": [
    "With $f=\\frac{x/d_1}{y/d_2}$ and $z=y$,\n",
    "where $X\\sim \\chi^2_{d_1}$ and $Y\\sim \\chi^2_{d_2}$ are independent,\n",
    "$$\n",
    "\\left|\\frac{\\partial (x,y)}{\\partial (f,z)}\\right|\n",
    "=\n",
    "\\left|\\frac{\\partial (f,z)}{\\partial (x,y)}\\right|^{-1}\n",
    "=\n",
    "\\left|det\\left(\\begin{array}{cc}\\frac{1/d_1}{z/d_2}&\\mathbin{*}\\\\0&1\\end{array}\\right)\\right|^{-1}\n",
    "=\\frac{z/d_2}{1/d_1}\n",
    "$$"
   ]
  },
  {
   "cell_type": "markdown",
   "metadata": {},
   "source": [
    "With $\\lambda=\\frac{1}{2} (1+\\frac{d_1}{d_2}f)$\n",
    "\\begin{eqnarray}\n",
    "f_{F,Z}(f,z)\n",
    "&=&\n",
    "f_{X,Y}(x,y)\\left|\\frac{\\partial (x,y)}{\\partial (f,z)}\\right|\\nonumber\\\\\n",
    "&=&\n",
    "\\frac{\\frac{1}{2}\\left(\\frac{1}{2} x\\right)^{\\frac{d_1}{2}-1}e^{-\\frac{1}{2} x}}{\\Gamma\\left(\\frac{d_1}{2}\\right)}\n",
    "\\cdot\n",
    "\\frac{\\frac{1}{2}\\left(\\frac{1}{2} y\\right)^{\\frac{d_2}{2}-1}e^{-\\frac{1}{2} y}}{\\Gamma\\left(\\frac{d_2}{2}\\right)}\n",
    "\\cdot\n",
    "\\frac{z/d_2}{1/d_1}\\nonumber\\\\\n",
    "&=&\n",
    "\\frac{\\frac{1}{2}\\left(f\\frac{d_1}{d_2}\\right)^{\\frac{d_1}{2}-1}}{\\Gamma\\left(\\frac{d_1}{2}\\right)}\n",
    "\\cdot\n",
    "\\frac{\\left(\\frac{1}{2} z\\right)^{\\frac{d_1+d_2}{2}-1}e^{-\\frac{1}{2} (1+\\frac{d_1}{d_2}f)z}}{\\Gamma\\left(\\frac{d_2}{2}\\right)}\n",
    "\\cdot\n",
    "\\frac{1/d_2}{1/d_1}\\nonumber\\\\\n",
    "&=&\n",
    "\\frac{1}{B\\left(\\frac{d_1}{2},\\frac{d_2}{2}\\right) f}\n",
    "\\quad\n",
    "\\cdot\n",
    "\\quad\n",
    "\\sqrt{\\frac{\\left(d_1f\\right)^{d_1}\\cdot d_2^{d_2}}{(d_1f+d_2)^{d_1+d_2}}}\n",
    "\\quad\n",
    "\\cdot\n",
    "\\quad\n",
    "\\underbrace{\\left[\n",
    "\\frac{\\lambda\\left(\\lambda z\\right)^{\\frac{d_1+d_2}{2}-1}e^{-\\lambda z}}{\\Gamma\\left(\\frac{d_1+d_2}{2}\\right)}\n",
    "\\right]}_{\\mbox{$Z|F=f)$ is $Gamma(\\frac{d_1+d_2}{2},\\lambda)$}}\n",
    "\\nonumber\n",
    "\\end{eqnarray}"
   ]
  },
  {
   "cell_type": "markdown",
   "metadata": {},
   "source": [
    "$$\n",
    "\\Rightarrow\\quad\n",
    "f_{F}(f)\n",
    "\\quad\n",
    "=\n",
    "\\quad\n",
    "\\frac{1}{B\\left(\\frac{d_1}{2},\\frac{d_2}{2}\\right) f}\n",
    "\\quad\n",
    "\\cdot\n",
    "\\quad\n",
    "\\sqrt{\\frac{\\left(d_1f\\right)^{d_1}\\cdot d_2^{d_2}}{(d_1f+d_2)^{d_1+d_2}}}\n",
    "\\quad\\quad\\quad\\quad \n",
    "\\mbox{for $f>0$}\n",
    "$$"
   ]
  },
  {
   "cell_type": "code",
   "execution_count": 5,
   "metadata": {},
   "outputs": [
    {
     "data": {
      "image/png": "[encoded data removed]",
      "text/plain": [
       "<Figure size 432x288 with 1 Axes>"
      ]
     },
     "metadata": {
      "needs_background": "light"
     },
     "output_type": "display_data"
    }
   ],
   "source": [
    "# sampling from F distribution with degree d_1 and d_2\n",
    "\n",
    "import numpy as np\n",
    "import matplotlib.pyplot as plt\n",
    "\n",
    "np.random.seed(9)  \n",
    "\n",
    "sample_size = 10000\n",
    "d_1 = 5\n",
    "d_2 = 9\n",
    "\n",
    "# sampling from standard normal distribution\n",
    "z_1 = np.random.normal(0, 1, (d_1, sample_size)) \n",
    "\n",
    "# sampling from chi-square distribution with degree d_1\n",
    "x_1_square = np.sum(z_1**2, axis=0) \n",
    "\n",
    "# sampling from standard normal distribution\n",
    "z_2 = np.random.normal(0, 1, (d_2, sample_size))\n",
    "\n",
    "# sampling from chi-square distribution with degree d_2\n",
    "x_2_square = np.sum(z_2**2, axis=0) \n",
    "\n",
    "# sampling from F distribution with degree d_1 and d_2\n",
    "f = (x_1_square/d_1) / (x_2_square/d_2) \n",
    "\n",
    "plt.hist(f, bins=np.arange(0,6,0.1), density=True) \n",
    "plt.title('$f_{},_{}$'.format(d_1,d_2)) \n",
    "plt.grid(True) \n",
    "plt.show()"
   ]
  },
  {
   "cell_type": "markdown",
   "metadata": {},
   "source": [
    "[<a href=\"#Distributions-related-to-Normal\">Back to top</a>]"
   ]
  },
  {
   "cell_type": "code",
   "execution_count": null,
   "metadata": {},
   "outputs": [],
   "source": []
  }
 ],
 "metadata": {
  "kernelspec": {
   "display_name": "Python 3",
   "language": "python",
   "name": "python3"
  },
  "language_info": {
   "codemirror_mode": {
    "name": "ipython",
    "version": 3
   },
   "file_extension": ".py",
   "mimetype": "text/x-python",
   "name": "python",
   "nbconvert_exporter": "python",
   "pygments_lexer": "ipython3",
   "version": "3.5.0"
  }
 },
 "nbformat": 4,
 "nbformat_minor": 2
}
