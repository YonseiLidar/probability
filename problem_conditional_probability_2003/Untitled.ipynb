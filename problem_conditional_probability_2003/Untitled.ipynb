{
 "cells": [
  {
   "cell_type": "markdown",
   "metadata": {},
   "source": [
    "<div align=\"center\"><img src=\"img/2003.png\" width=\"70%\"></div>"
   ]
  },
  {
   "cell_type": "markdown",
   "metadata": {},
   "source": [
    "$$\\begin{array}{lll}\n",
    "P(C|D)\n",
    "&=&\\displaystyle\\frac{P(D|C)P(C)}{P(D)}\\\\\n",
    "&=&\\displaystyle\\frac{P(D|C)P(C)}{P(D|A)P(A)+P(D|B)P(B)+P(D|C)P(C)}\\\\\n",
    "&=&\\displaystyle\\frac{P(D|C)*0.5}{P(D|A)*0.2+P(D|B)*0.3+P(D|C)*0.5}\\\\\n",
    "&=&\\displaystyle\\frac{0.02*0.5}{0.005*0.2+0.01*0.3+0.02*0.5}\\\\\n",
    "\\end{array}$$"
   ]
  },
  {
   "cell_type": "code",
   "execution_count": null,
   "metadata": {},
   "outputs": [],
   "source": []
  }
 ],
 "metadata": {
  "kernelspec": {
   "display_name": "Python 3",
   "language": "python",
   "name": "python3"
  },
  "language_info": {
   "codemirror_mode": {
    "name": "ipython",
    "version": 3
   },
   "file_extension": ".py",
   "mimetype": "text/x-python",
   "name": "python",
   "nbconvert_exporter": "python",
   "pygments_lexer": "ipython3",
   "version": "3.6.9"
  }
 },
 "nbformat": 4,
 "nbformat_minor": 2
}
