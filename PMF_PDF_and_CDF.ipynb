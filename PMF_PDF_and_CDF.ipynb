{
 "cells": [
  {
   "cell_type": "markdown",
   "metadata": {},
   "source": [
    "# PMF, PDF, and CDF\n",
    "\n",
    "<a href=\"#Random-Variable\">Random Variable</a>\n",
    "\n",
    "<a href=\"#Distribution\">Distribution</a>\n",
    "\n",
    "<a href=\"#Probability-Mass-Function-(PMF)\">Probability Mass Function (PMF)</a>\n",
    "\n",
    "<a href=\"#Cummulative-Distribution-Function(CDF)\">Cummulative Distribution Function(CDF)</a>\n",
    "\n",
    "<a href=\"#[python]-Generate-Random-Samples-using-Smirov-Transform\">[python] Generate Random Samples using Smirov Transform</a>"
   ]
  },
  {
   "cell_type": "markdown",
   "metadata": {},
   "source": [
    "# Random Variable"
   ]
  },
  {
   "cell_type": "markdown",
   "metadata": {},
   "source": [
    "$$\n",
    "X:\\Omega\\longrightarrow \\mathbb{R}\n",
    "$$"
   ]
  },
  {
   "cell_type": "markdown",
   "metadata": {},
   "source": [
    "### Discrete and Continuous Random Variables "
   ]
  },
  {
   "cell_type": "markdown",
   "metadata": {},
   "source": [
    "<div align=\"center\"><img src=\"img/Screen Shot 2018-01-31 at 12.59.45 PM.png\" width=\"50%\"></div>\n",
    "\n",
    "Bayesian Methods for Machine Learning (Coursera)"
   ]
  },
  {
   "cell_type": "markdown",
   "metadata": {},
   "source": [
    "[<a href=\"#PMF,-PDF,-and-CDF\">Back to top</a>]"
   ]
  },
  {
   "cell_type": "markdown",
   "metadata": {},
   "source": [
    "# Distribution"
   ]
  },
  {
   "cell_type": "markdown",
   "metadata": {},
   "source": [
    "Let $X$ be a random variable.\n",
    "We move a brick attached to $\\omega$,\n",
    "to $X(\\omega)$ in the real line $\\mathbb{R}$.\n",
    "In this way we move all the bricks in $\\Omega$ to $\\mathbb{R}$.\n",
    "Then\n",
    "the total weights of the bricks moved into  $\\mathbb{R}$ is 1.\n",
    "This brick or weight distribution over the real line $\\mathbb{R}$ is\n",
    "the distribution of $X$.\n",
    "$$\\begin{array}{llll}\n",
    "\\mathbb{P}(X=a)&=&\\mbox{Weight of the bricks at $a$}\\nonumber\\\\\n",
    "\\\\\n",
    "\\mathbb{P}(X\\in A)&=&\\mbox{Weight of the bricks in $A$}\\nonumber\\\\\n",
    "\\end{array}$$"
   ]
  },
  {
   "cell_type": "markdown",
   "metadata": {},
   "source": [
    "[Distribution list](https://docs.scipy.org/doc/scipy/reference/stats.html)"
   ]
  },
  {
   "cell_type": "markdown",
   "metadata": {
    "collapsed": true
   },
   "source": [
    "[<a href=\"#PMF,-PDF,-and-CDF\">Back to top</a>]"
   ]
  },
  {
   "cell_type": "markdown",
   "metadata": {},
   "source": [
    "# Probability Mass Function (PMF)"
   ]
  },
  {
   "cell_type": "markdown",
   "metadata": {},
   "source": [
    "<div align=\"center\"><img src=\"img/Screen Shot 2017-12-06 at 2.40.02 PM.png\" width=\"80%\"></div>\n",
    "\n",
    "최윤제 \n",
    "[youtube](https://www.youtube.com/watch?v=odpjk7_tGY0)\n",
    "[pdf](http://localhost:8888/notebooks/Dropbox/Paper/generativeadversarialnetworks-170512104624.pdf)"
   ]
  },
  {
   "cell_type": "markdown",
   "metadata": {},
   "source": [
    "[<a href=\"#PMF,-PDF,-and-CDF\">Back to top</a>]"
   ]
  },
  {
   "cell_type": "markdown",
   "metadata": {},
   "source": [
    "# Cummulative Distribution Function(CDF)"
   ]
  },
  {
   "cell_type": "markdown",
   "metadata": {},
   "source": [
    "\\begin{eqnarray}\n",
    "F(x)&=&P(X\\le x)\\nonumber\\\\\n",
    "\\nonumber\\\\\n",
    "&=&\\left\\{\\begin{array}{ll}\\displaystyle\\sum_{x_i\\le x}p_{x_i}&\\mbox{if $X$ is discrete}\\\\\\displaystyle\\int_{-\\infty}^x f(s)ds&\\mbox{if $X$ is continuous}\\end{array}\\right.\\nonumber\\\\\n",
    "\\nonumber\\\\\n",
    "&=&\\mbox{Weight of the bricks cumulatively stacked from $-\\infty$ up to $x$}\\nonumber\n",
    "\\end{eqnarray}"
   ]
  },
  {
   "cell_type": "markdown",
   "metadata": {},
   "source": [
    "### PMF and CDF of Binomial Distribution\n",
    "\n",
    "> $P(X=k)={n\\choose k}p^k(1-p)^{n-k}$"
   ]
  },
  {
   "cell_type": "markdown",
   "metadata": {},
   "source": [
    "By default, \"import scipy\" does not import any subpackage. There are too many subpackages with large Fortran extension modules that are slow to load. I do not recommend doing import scipy or the abbreviated import scipy as sp. It's just not very useful. Use from scipy import special, from scipy import linalg, etc.\n",
    "\n",
    "https://stackoverflow.com/questions/9819733/scipy-special-import-issue"
   ]
  },
  {
   "cell_type": "code",
   "execution_count": 4,
   "metadata": {},
   "outputs": [
    {
     "data": {
      "image/png": "[encoded data removed]",
      "text/plain": [
       "<Figure size 432x288 with 1 Axes>"
      ]
     },
     "metadata": {
      "needs_background": "light"
     },
     "output_type": "display_data"
    }
   ],
   "source": [
    "import numpy as np\n",
    "import matplotlib.pyplot as plt\n",
    "import scipy.special as ss\n",
    "\n",
    "# B(n,p)\n",
    "n = 10\n",
    "p = 0.5\n",
    "\n",
    "k = np.arange(0, n+1) \n",
    "prob = ss.comb(n, k) * (p**k) * ((1-p)**(n-k))\n",
    "\n",
    "plt.plot(k, prob, \"o\")\n",
    "plt.title(\"PMF\")\n",
    "plt.show()"
   ]
  },
  {
   "cell_type": "code",
   "execution_count": 2,
   "metadata": {},
   "outputs": [
    {
     "data": {
      "image/png": "[encoded data removed]",
      "text/plain": [
       "<Figure size 432x288 with 1 Axes>"
      ]
     },
     "metadata": {
      "needs_background": "light"
     },
     "output_type": "display_data"
    }
   ],
   "source": [
    "import numpy as np\n",
    "import matplotlib.pyplot as plt\n",
    "import scipy.special as ss\n",
    "\n",
    "# B(n,p)\n",
    "n = 10\n",
    "p = 0.5\n",
    "\n",
    "k = np.arange(0, n+1) \n",
    "prob = ss.comb(n, k) * (p**k) * ((1-p)**(n-k))\n",
    "cum_prob = np.cumsum(prob)\n",
    "\n",
    "plt.plot(k, cum_prob, \"o\")\n",
    "plt.title(\"CDF\")\n",
    "plt.show()"
   ]
  },
  {
   "cell_type": "markdown",
   "metadata": {},
   "source": [
    "### PMF and CDF of Geometric Distribution\n",
    "\n",
    "> $P(X=k)=(1-p)^{k-1}p$"
   ]
  },
  {
   "cell_type": "code",
   "execution_count": 3,
   "metadata": {},
   "outputs": [
    {
     "data": {
      "image/png": "[encoded data removed]",
      "text/plain": [
       "<Figure size 432x288 with 1 Axes>"
      ]
     },
     "metadata": {
      "needs_background": "light"
     },
     "output_type": "display_data"
    }
   ],
   "source": [
    "import numpy as np\n",
    "import matplotlib.pyplot as plt\n",
    "\n",
    "# Geo(p)\n",
    "p = 0.5\n",
    "\n",
    "k = np.arange(1, int((1/p) + 3*np.sqrt((1-p)/p**2)))\n",
    "prob = (1-p)**(k-1) * p\n",
    "\n",
    "plt.plot(k, prob, \"o\")\n",
    "plt.title(\"PMF\")\n",
    "plt.show()"
   ]
  },
  {
   "cell_type": "code",
   "execution_count": 4,
   "metadata": {},
   "outputs": [
    {
     "data": {
      "image/png": "[encoded data removed]",
      "text/plain": [
       "<Figure size 432x288 with 1 Axes>"
      ]
     },
     "metadata": {
      "needs_background": "light"
     },
     "output_type": "display_data"
    }
   ],
   "source": [
    "import numpy as np\n",
    "import matplotlib.pyplot as plt\n",
    "\n",
    "# Geo(p)\n",
    "p = 0.5\n",
    "\n",
    "k = np.arange(1, int((1/p) + 3*np.sqrt((1-p)/p**2)))\n",
    "prob = (1-p)**(k-1) * p\n",
    "cum_prob = np.cumsum(prob)\n",
    "\n",
    "plt.plot(k, cum_prob, \"o\")\n",
    "plt.title(\"CDF\")\n",
    "plt.show()"
   ]
  },
  {
   "cell_type": "markdown",
   "metadata": {},
   "source": [
    "[<a href=\"#PMF,-PDF,-CDF\">Back to top</a>]"
   ]
  },
  {
   "cell_type": "markdown",
   "metadata": {},
   "source": [
    "# Probability Density Function (PDF)"
   ]
  },
  {
   "cell_type": "markdown",
   "metadata": {},
   "source": [
    "<div align=\"center\"><img src=\"img/Screen Shot 2018-01-31 at 1.06.57 PM.png\" width=\"30%\"></div>\n",
    "\n",
    "Bayesian Methods for Machine Learning (Coursera)"
   ]
  },
  {
   "cell_type": "markdown",
   "metadata": {},
   "source": [
    "### PMF and PDF\n",
    "\n",
    "> PMF: $a\\quad\\rightarrow\\quad P(X=a)$, weight of the bricks attached to $a$\n",
    "\n",
    "> PDF: $a\\quad\\rightarrow\\quad f(a)$, where $P(a\\le X\\le a+da)=f(a)da$ weight of the bricks in $[a,a+da]$"
   ]
  },
  {
   "cell_type": "code",
   "execution_count": 7,
   "metadata": {},
   "outputs": [
    {
     "data": {
      "image/png": "[encoded data removed]",
      "text/plain": [
       "<Figure size 432x288 with 1 Axes>"
      ]
     },
     "metadata": {
      "needs_background": "light"
     },
     "output_type": "display_data"
    }
   ],
   "source": [
    "import numpy as np\n",
    "import matplotlib.pyplot as plt\n",
    "\n",
    "# U(a,b)\n",
    "a = 0 # left end of support\n",
    "b = 1 # right end of support\n",
    "loc = a # left end of support\n",
    "scale = b-a # width of support\n",
    "\n",
    "x = np.linspace(loc-3*scale, loc+3*scale, 100)\n",
    "pdf = np.zeros_like(x)\n",
    "pdf[(a<x)*(x<b)] = 1/(b-a)\n",
    "\n",
    "plt.plot(x, pdf)\n",
    "plt.title(\"PDF\")\n",
    "plt.show()"
   ]
  },
  {
   "cell_type": "code",
   "execution_count": 8,
   "metadata": {},
   "outputs": [
    {
     "data": {
      "image/png": "[encoded data removed]",
      "text/plain": [
       "<Figure size 432x288 with 1 Axes>"
      ]
     },
     "metadata": {
      "needs_background": "light"
     },
     "output_type": "display_data"
    }
   ],
   "source": [
    "import numpy as np\n",
    "import matplotlib.pyplot as plt\n",
    "\n",
    "# U(a,b)\n",
    "a = 0 # left end of support\n",
    "b = 1 # right end of support\n",
    "loc = a # left end of support\n",
    "scale = b-a # width of support\n",
    "\n",
    "x = np.linspace(loc-3*scale, loc+3*scale, 100)\n",
    "pdf = np.zeros_like(x)\n",
    "pdf[(a<x)*(x<b)] = 1/(b-a)\n",
    "\n",
    "dx = x[1]-x[0]\n",
    "cdf = np.cumsum(pdf*dx)\n",
    "\n",
    "plt.plot(x, cdf)\n",
    "plt.title(\"CDF\")\n",
    "plt.show()"
   ]
  },
  {
   "cell_type": "markdown",
   "metadata": {},
   "source": [
    "### PMF and CDF of Nomal Distribution\n",
    "\n",
    "> $f(x)=\\frac{1}{\\sqrt{2\\pi\\sigma^2}} e^{-\\frac{(x-\\mu)^2}{2\\sigma^2}}$"
   ]
  },
  {
   "cell_type": "code",
   "execution_count": 9,
   "metadata": {},
   "outputs": [
    {
     "data": {
      "image/png": "[encoded data removed]",
      "text/plain": [
       "<Figure size 432x288 with 1 Axes>"
      ]
     },
     "metadata": {
      "needs_background": "light"
     },
     "output_type": "display_data"
    }
   ],
   "source": [
    "import numpy as np\n",
    "import matplotlib.pyplot as plt\n",
    "\n",
    "mu = 0\n",
    "sigma = 1\n",
    "\n",
    "x = np.linspace(mu-3*sigma, mu+3*sigma, 100)\n",
    "pdf = np.exp( - (x-mu)**2 / (2*sigma**2) ) / np.sqrt(2*np.pi*sigma**2)\n",
    "\n",
    "plt.plot(x, pdf)\n",
    "plt.title(\"PDF\")\n",
    "plt.show()"
   ]
  },
  {
   "cell_type": "code",
   "execution_count": 8,
   "metadata": {},
   "outputs": [
    {
     "data": {
      "image/png": "[encoded data removed]",
      "text/plain": [
       "<Figure size 432x288 with 1 Axes>"
      ]
     },
     "metadata": {
      "needs_background": "light"
     },
     "output_type": "display_data"
    }
   ],
   "source": [
    "import numpy as np\n",
    "import matplotlib.pyplot as plt\n",
    "\n",
    "mu = 0\n",
    "sigma = 1\n",
    "\n",
    "x = np.linspace(mu-3*sigma, mu+3*sigma, 100)\n",
    "pdf = np.exp( - (x-mu)**2 / (2*sigma**2)) / np.sqrt(2*np.pi*sigma**2)\n",
    "\n",
    "dx = x[1] - x[0]\n",
    "cdf = np.cumsum(pdf*dx) \n",
    "\n",
    "plt.plot(x, cdf)\n",
    "plt.title(\"CDF\")\n",
    "plt.show()"
   ]
  },
  {
   "cell_type": "markdown",
   "metadata": {},
   "source": [
    "[<a href=\"#PMF,-PDF,-CDF\">Back to top</a>]"
   ]
  },
  {
   "cell_type": "markdown",
   "metadata": {},
   "source": [
    "# Generate Random Samples using Smirov Transform"
   ]
  },
  {
   "cell_type": "markdown",
   "metadata": {},
   "source": [
    "<div align=\"center\"><img src=\"img/Screen Shot 2019-01-11 at 7.33.07 AM.png\" width=\"80%\"></div>\n",
    "\n",
    "https://www.countbayesie.com/blog/2015/4/4/parameter-estimation-the-pdf-cdf-and-quantile-function"
   ]
  },
  {
   "cell_type": "code",
   "execution_count": 10,
   "metadata": {},
   "outputs": [
    {
     "data": {
      "image/png": "[encoded data removed]",
      "text/plain": [
       "<Figure size 432x288 with 1 Axes>"
      ]
     },
     "metadata": {
      "needs_background": "light"
     },
     "output_type": "display_data"
    }
   ],
   "source": [
    "import numpy as np\n",
    "import matplotlib.pyplot as plt\n",
    "\n",
    "np.random.seed(337)\n",
    "\n",
    "x        = [ -3,  -1,   1,   2,   5]\n",
    "pmf      = [0.1, 0.1, 0.1, 0.5, 0.2]\n",
    "x_sample = np.random.choice(x, p=pmf, size=(1000,)) \n",
    "\n",
    "plt.hist(x_sample, bins=np.arange(-4,7), density=True)\n",
    "plt.show()"
   ]
  },
  {
   "cell_type": "code",
   "execution_count": 11,
   "metadata": {},
   "outputs": [
    {
     "data": {
      "image/png": "[encoded data removed]",
      "text/plain": [
       "<Figure size 432x288 with 1 Axes>"
      ]
     },
     "metadata": {
      "needs_background": "light"
     },
     "output_type": "display_data"
    }
   ],
   "source": [
    "import numpy as np\n",
    "import matplotlib.pyplot as plt\n",
    "\n",
    "np.random.seed(337)\n",
    "\n",
    "x     = [ -3,  -1,   1,   2,   5]\n",
    "pmf   = [0.1, 0.1, 0.1, 0.5, 0.2]\n",
    "n_samples = 1000\n",
    "\n",
    "\n",
    "def sample_x(x, pmf):\n",
    "    # for a given possible x values list x and pmf\n",
    "    # we sample a uniform sample u on [0,1]\n",
    "    # find the Smirov_index, that is the first i with cdf[i] - u > 0\n",
    "    # return this first index\n",
    "    u = np.random.uniform(0., 1., (1,))\n",
    "    cdf = np.cumsum(pmf)\n",
    "    cu = cdf - u # cu = [c]\n",
    "    Smirov_index = [i for i, c in enumerate(cu) if c>0 ][0]\n",
    "    return x[Smirov_index]\n",
    "\n",
    "\n",
    "x_sample = []\n",
    "for _ in range(n_samples): \n",
    "    x_temp = sample_x(x, pmf)\n",
    "    x_sample.append(x_temp)\n",
    "\n",
    "plt.hist(x_sample, bins=np.arange(-4,7), density=True)\n",
    "plt.show()"
   ]
  },
  {
   "cell_type": "markdown",
   "metadata": {},
   "source": [
    "### 연습문제"
   ]
  },
  {
   "cell_type": "markdown",
   "metadata": {},
   "source": [
    "1. \n",
    "Generate 5 Bernoulli random samples $B_i$ with success rate $p=0.49$, i.e, $P(B_i=1)=0.49$ and $P(B_i=0)=1-0.49$ using uniform samples $U_i$ from $[0,1]$."
   ]
  },
  {
   "cell_type": "markdown",
   "metadata": {
    "collapsed": true
   },
   "source": [
    "[<a href=\"#PMF,-PDF,-and-CDF\">Back to top</a>]"
   ]
  },
  {
   "cell_type": "code",
   "execution_count": null,
   "metadata": {},
   "outputs": [],
   "source": []
  }
 ],
 "metadata": {
  "kernelspec": {
   "display_name": "Python 3",
   "language": "python",
   "name": "python3"
  },
  "language_info": {
   "codemirror_mode": {
    "name": "ipython",
    "version": 3
   },
   "file_extension": ".py",
   "mimetype": "text/x-python",
   "name": "python",
   "nbconvert_exporter": "python",
   "pygments_lexer": "ipython3",
   "version": "3.5.0"
  }
 },
 "nbformat": 4,
 "nbformat_minor": 2
}
