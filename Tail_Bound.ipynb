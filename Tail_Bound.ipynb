{
 "cells": [
  {
   "cell_type": "markdown",
   "metadata": {},
   "source": [
    "# Tail Bound"
   ]
  },
  {
   "cell_type": "markdown",
   "metadata": {},
   "source": [
    "$$\\begin{array}{ll}\n",
    "\\mbox{[Markov's inequality]}&\\displaystyle\\quad \\mathbb{P}(|X|\\ge \\varepsilon)\\le \\frac{\\mathbb{E}|X|}{\\varepsilon}\\\\\n",
    "\\\\\n",
    "\\mbox{[Chebyshev's inequality]}&\\displaystyle\\quad \\mathbb{P}(|X-EX|\\ge \\varepsilon)\\le\\frac{Var(X)}{\\varepsilon^2}\\\\\n",
    "\\\\\n",
    "\\mbox{[One-sided Chebyshev's inequality]}&\\displaystyle\\quad \\mathbb{P}(X-\\mathbb{E}X\\ge\\ \\  \\varepsilon)\\le\\frac{Var(X)}{\\varepsilon^2+Var(X)}\\\\\n",
    "\\\\\n",
    "&\\displaystyle\\quad \\mathbb{P}(X-\\mathbb{E}X\\le -\\varepsilon)\\le\\frac{Var(X)}{\\varepsilon^2+Var(X)}\\\\\n",
    "\\\\\n",
    "\\mbox{[Chernoff's bound]}&\\displaystyle\\quad \\mathbb{P}(X\\ge \\varepsilon)\\le \\mbox{min}_{t>0}\\frac{\\mathbb{E}e^{t X}}{e^{t\\varepsilon}}\\\\\n",
    "\\end{array}$$"
   ]
  },
  {
   "cell_type": "markdown",
   "metadata": {},
   "source": [
    "<div align=\"center\"><img src=\"img/tail bound 1.png\" width=\"40%\"></div>"
   ]
  },
  {
   "cell_type": "markdown",
   "metadata": {},
   "source": [
    "<div align=\"center\"><img src=\"img/tail bound 2.png\" width=\"40%\"></div>"
   ]
  },
  {
   "cell_type": "markdown",
   "metadata": {},
   "source": [
    "For any $\\varepsilon>0$ and $b>0$\n",
    "\n",
    "\\begin{eqnarray}\n",
    "\\displaystyle \n",
    "X-\\mathbb{E}X\\ge \\varepsilon\n",
    "&\\Leftrightarrow&\\displaystyle X-\\mathbb{E}X+b\\ge \\varepsilon+b\\nonumber\\\\\n",
    "&\\Rightarrow&\\displaystyle (X-\\mathbb{E}X+b)^2\\ge (\\varepsilon+b)^2\\nonumber\n",
    "\\end{eqnarray}\n",
    "\n",
    "Hence, by Markov's inequality with $b=\\frac{\\sigma^2}{\\varepsilon}$\n",
    "\n",
    "$$\n",
    "\\displaystyle \n",
    "\\mathbb{P}(X-\\mathbb{E}X\\ge \\varepsilon)\n",
    "\\le \\frac{\\mathbb{E}(X-\\mathbb{E}X+b)^2}{(\\varepsilon+b)^2}\n",
    "= \\frac{\\sigma^2+b^2}{(\\varepsilon+b)^2}\n",
    "= \\frac{\\sigma^2}{\\varepsilon^2+\\sigma^2}\n",
    "$$"
   ]
  },
  {
   "cell_type": "markdown",
   "metadata": {},
   "source": [
    "### Example - Tail bound - Part 1\n",
    "\n",
    "\\begin{array}{cccccc}\\hline\n",
    "B(1000,0.01)&\\mbox{Markov}&\\mbox{Chebyshev}&\\mbox{one-sided Chebyshev}&\\mbox{Chernoff}&\\mbox{CLT approximation}\\\\\\hline\n",
    "\\mathbb{P}(X\\ge 20)&0.5&0.0990&0.0901&0.0210&7.4094\\times10^{-4}\\\\\n",
    "\\mathbb{P}(X\\ge 100)&0.1&0.0012&0.0012&1.2204\\times10^{-61}&0\\\\\\hline\n",
    "\\end{array}"
   ]
  },
  {
   "cell_type": "markdown",
   "metadata": {},
   "source": [
    "$$\n",
    "\\displaystyle \n",
    "\\mathbb{E}X=np=10,\\quad\n",
    "Var(X)=npq=9.9\n",
    "$$\n",
    "\n",
    "$$\n",
    "\\begin{array}{llllllll}\n",
    "\\mbox{[Markov]}&&\n",
    "\\displaystyle \\mathbb{P}(X\\ge 20)&\\le&\\displaystyle\\frac{\\mathbb{E}X}{20}=\\frac{10}{20}=0.5\\nonumber\\\\\n",
    "\\mbox{[Chebyshev]}&&\n",
    "\\displaystyle \\mathbb{P}(X\\ge 20)&\\displaystyle\\le&\\displaystyle \\mathbb{P}(|X-\\mathbb{E}X|\\ge 10)\\le \\frac{Var(X)}{10^2}=\\frac{9.9}{10^2}=0.0990\\nonumber\\\\\n",
    "\\mbox{[One-sided Chebyshev]}&&\n",
    "\\displaystyle \\mathbb{P}(X\\ge 20)&\\le&\\displaystyle\\frac{Var(X)}{10^2+Var(X)}=\\frac{9.9}{10^2+9.9}=0.0901\\nonumber\n",
    "\\end{array}\n",
    "$$"
   ]
  },
  {
   "cell_type": "markdown",
   "metadata": {},
   "source": [
    "To calculate Chernoff's bound\n",
    "we need the MGF of $X$.\n",
    "Let $X$ be $X=\\sum_{i=1}^{n}X_i$, where $X_i$ be iid $B(p)$.\n",
    "Then, we have the following upper bound of the MGF of $X$;\n",
    "\n",
    "$$\n",
    "\\displaystyle \n",
    "\\mathbb{E}e^{t X}=\\left(\\mathbb{E}e^{t X_1}\\right)^n=(e^t\\cdot p+1\\cdot(1-p))^n\n",
    "=(1+p(e^t-1))^n\n",
    "\\le(e^{p(e^t-1)})^n\n",
    "=e^{np(e^t-1)}\n",
    "$$\n",
    "\n",
    "So, with $t$ such that $e^t=2$\n",
    "\n",
    "$$\n",
    "\\displaystyle \n",
    "\\mbox{[Chernoff]}\\quad\n",
    "\\mathbb{P}(X\\ge 20)\\le\\mbox{min}_{t>0}\\frac{\\mathbb{E}e^{t X}}{e^{20t}}\\le\\mbox{min}_{t>0}\\frac{e^{10 (e^t-1)}}{e^{20t}}\n",
    "\\le \\frac{e^{10 (2-1)}}{e^{20\\log 2}}=0.0210$$\n",
    "\n",
    "\n",
    "We can also use the CLT approximation.\n",
    "\n",
    "$$\n",
    "\\displaystyle \n",
    "\\mathbb{P}(X\\ge 20)\n",
    "=\\mathbb{P}\\left(\\frac{X-10}{\\sqrt{9.9}}\\ge \\frac{20-10}{\\sqrt{9.9}}\\right)\n",
    "\\approx N\\left(-\\frac{20-10}{\\sqrt{9.9}}\\right)\n",
    "=7.4094\\times 10^{-4}\n",
    "$$"
   ]
  },
  {
   "cell_type": "markdown",
   "metadata": {},
   "source": [
    "### Example - Tail bound - Part 2\n",
    "\n",
    "\\begin{array}{cccccc}\\hline\n",
    "Po(100)&\\mbox{Markov}&\\mbox{Chebyshev}&\\mbox{one-sided Chebyshev}&\\mbox{Chernoff}&\\mbox{CLT approximation}\\\\\\hline\n",
    "\\mathbb{P}(X\\ge 200)&0.5&0.0100&0.0099&1.6728\\times 10^{-17}&7.6199\\times 10^{-24}\\\\\n",
    "\\mathbb{P}(X\\ge 110)&0.9091&1&0.5&0.6162&0.1587\\\\\\hline\n",
    "\\end{array}"
   ]
  },
  {
   "cell_type": "markdown",
   "metadata": {},
   "source": [
    "$$\n",
    "\\displaystyle \n",
    "\\mathbb{E}X=\\lambda=100,\\quad\n",
    "Var(X)=\\lambda=100\n",
    "$$\n",
    "\n",
    "$$\n",
    "\\begin{array}{llllll}\n",
    "\\mbox{[Markov]}&&\n",
    "\\displaystyle \\mathbb{P}(X\\ge 200)&\\le&\\displaystyle\\frac{\\mathbb{E}X}{200}=\\frac{100}{200}=0.5\\nonumber\\\\\n",
    "\\mbox{[Chebyshev]}&&\n",
    "\\displaystyle \\mathbb{P}(X\\ge 200)&\\le&\\displaystyle\\mathbb{P}(|X-\\mathbb{E}X|\\ge 100)\\le \\frac{Var(X)}{100^2}=0.0100\\nonumber\\\\\n",
    "\\mbox{[One-sided Chebyshev]}&&\n",
    "\\displaystyle \\mathbb{P}(X\\ge 200)&\\le&\\displaystyle\\frac{Var(X)}{100^2+Var(X)}=\\frac{9.9}{10^2+9.9}=0.0099\\nonumber\n",
    "\\end{array}\n",
    "$$"
   ]
  },
  {
   "cell_type": "markdown",
   "metadata": {},
   "source": [
    "To calculate Chernoff's bound\n",
    "we need the MGF of $X$.\n",
    "With $\\lambda=100$\n",
    "\n",
    "$$\n",
    "\\displaystyle \n",
    "\\mathbb{E}e^{t X}\n",
    "=\\sum_{k=0}^{\\infty}e^{tk}e^{-\\lambda}\\frac{\\lambda^k}{k!}\n",
    "=e^{-\\lambda}\\sum_{k=0}^{\\infty}\\frac{(\\lambda e^t)^k}{k!}\n",
    "=e^{-\\lambda}e^{\\lambda e^t}\n",
    "=\n",
    "e^{\\lambda(e^t-1)}\n",
    "$$\n",
    "\n",
    "So, with $t$ such that $e^t=2$\n",
    "\n",
    "$$\n",
    "\\displaystyle \n",
    "\\mbox{[Chernoff]}\\quad\n",
    "\\mathbb{P}(X\\ge 200)\\le\\mbox{min}_{t>0}\\frac{\\mathbb{E}e^{t X}}{e^{200t}}\\le\\mbox{min}_{t>0}\\frac{e^{\\lambda(e^t-1)}}{e^{200t}}\n",
    "\\le \\frac{e^{100}}{e^{200\\log 2}}=1.6728\\times 10^{-17}$$\n",
    "\n",
    "\n",
    "We can also use the CLT approximation.\n",
    "\n",
    "$$\n",
    "\\displaystyle \n",
    "\\mathbb{P}(X\\ge 200)\n",
    "=\\mathbb{P}\\left(\\frac{X-100}{\\sqrt{100}}\\ge 10\\right)\n",
    "\\approx \n",
    " N\\left(-10\\right)\n",
    "=7.6199\\times 10^{-24}\n",
    "$$\n"
   ]
  }
 ],
 "metadata": {
  "kernelspec": {
   "display_name": "Python 3",
   "language": "python",
   "name": "python3"
  },
  "language_info": {
   "codemirror_mode": {
    "name": "ipython",
    "version": 3
   },
   "file_extension": ".py",
   "mimetype": "text/x-python",
   "name": "python",
   "nbconvert_exporter": "python",
   "pygments_lexer": "ipython3",
   "version": "3.5.0"
  }
 },
 "nbformat": 4,
 "nbformat_minor": 2
}
