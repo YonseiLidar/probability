{
 "cells": [
  {
   "cell_type": "code",
   "execution_count": 54,
   "metadata": {},
   "outputs": [
    {
     "data": {
      "image/png": "[encoded data removed]",
      "text/plain": [
       "<Figure size 432x288 with 1 Axes>"
      ]
     },
     "metadata": {
      "needs_background": "light"
     },
     "output_type": "display_data"
    }
   ],
   "source": [
    "import numpy as np\n",
    "import matplotlib.pyplot as plt\n",
    "\n",
    "np.random.seed(0)\n",
    "\n",
    "n = 2  # X_1+...+X_n\n",
    "n_sim = 10000\n",
    "\n",
    "if 1:\n",
    "    x = np.random.uniform(low=-0.5, high=0.5, size=(n, n_sim)) # (2,4)\n",
    "elif 0:\n",
    "    x = np.random.poisson(size=(n, n_sim)) # (2,4)\n",
    "elif 0:\n",
    "    x = np.random.exponential(size=(n, n_sim)) # (2,4)\n",
    "elif 0:\n",
    "    x = np.random.chisquare(3, size=(n, n_sim)) # (2,4)\n",
    "elif 0:\n",
    "    x = np.random.beta(1, 3, size=(n, n_sim)) # (2,4)\n",
    "elif 1:\n",
    "    x = np.random.f(3, 3, size=(n, n_sim)) # (2,4)\n",
    "    \n",
    "x = np.sum(x, axis=0)\n",
    "\n",
    "plt.hist(x, density=True, bins=100)\n",
    "plt.show()"
   ]
  },
  {
   "cell_type": "code",
   "execution_count": null,
   "metadata": {},
   "outputs": [],
   "source": []
  }
 ],
 "metadata": {
  "kernelspec": {
   "display_name": "Python 3",
   "language": "python",
   "name": "python3"
  },
  "language_info": {
   "codemirror_mode": {
    "name": "ipython",
    "version": 3
   },
   "file_extension": ".py",
   "mimetype": "text/x-python",
   "name": "python",
   "nbconvert_exporter": "python",
   "pygments_lexer": "ipython3",
   "version": "3.6.9"
  }
 },
 "nbformat": 4,
 "nbformat_minor": 2
}
