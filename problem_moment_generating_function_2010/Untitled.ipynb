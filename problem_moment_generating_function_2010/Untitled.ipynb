{
 "cells": [
  {
   "cell_type": "markdown",
   "metadata": {},
   "source": [
    "<div align=\"center\"><img src=\"img/2010.png\" width=\"70%\"></div>"
   ]
  },
  {
   "cell_type": "markdown",
   "metadata": {},
   "source": [
    "$$\n",
    "M_X(t)=Ee^{tX}=\\frac{2}{5}+\\frac{1}{5}e^{-t}+\\frac{2}{5}e^{t}\n",
    "$$\n",
    "$$$$\n",
    "$$\n",
    "M_X'(t)=EXe^{tX}=-\\frac{1}{5}e^{-t}+\\frac{2}{5}e^{t}\n",
    "\\quad\\Rightarrow\\quad\n",
    "M_X'(0)=EX=-\\frac{1}{5}+\\frac{2}{5}=\\frac{1}{5}\n",
    "$$\n",
    "$$$$\n",
    "$$\n",
    "M_X''(t)=EX^2e^{tX}=\\frac{1}{5}e^{-t}+\\frac{2}{5}e^{t}\n",
    "\\quad\\Rightarrow\\quad\n",
    "M_X''(0)=EX^2=\\frac{1}{5}+\\frac{2}{5}=\\frac{3}{5}\n",
    "$$\n",
    "$$$$\n",
    "$$\n",
    "Var(X)=EX^2-(EX)^2=\\frac{3}{5}-\\left(\\frac{1}{5}\\right)^2\n",
    "$$"
   ]
  },
  {
   "cell_type": "code",
   "execution_count": null,
   "metadata": {},
   "outputs": [],
   "source": []
  }
 ],
 "metadata": {
  "kernelspec": {
   "display_name": "Python 3",
   "language": "python",
   "name": "python3"
  },
  "language_info": {
   "codemirror_mode": {
    "name": "ipython",
    "version": 3
   },
   "file_extension": ".py",
   "mimetype": "text/x-python",
   "name": "python",
   "nbconvert_exporter": "python",
   "pygments_lexer": "ipython3",
   "version": "3.6.9"
  }
 },
 "nbformat": 4,
 "nbformat_minor": 2
}
