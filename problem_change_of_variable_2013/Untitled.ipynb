{
 "cells": [
  {
   "cell_type": "markdown",
   "metadata": {},
   "source": [
    "<div align=\"center\"><img src=\"img/2013-2.png\" width=\"70%\"></div>"
   ]
  },
  {
   "cell_type": "markdown",
   "metadata": {},
   "source": [
    "$$\n",
    "Y=\\frac{2}{X}\n",
    "$$\n",
    "$$$$\n",
    "$$\n",
    "f_{X}(x)dx=f_{Y}(y)dy\n",
    "\\quad\\Rightarrow\\quad\n",
    "f_{Y}(y)=f_{X}(x)\\left(\\frac{dy}{dx}\\right)^{-1}\n",
    "$$\n",
    "$$$$\n",
    "$$\n",
    "\\frac{dy}{dx}\n",
    "=\n",
    "\\left|\\mbox{det}\\left(\\begin{array}{c}\n",
    "\\frac{dy}{\\partial x}\n",
    "\\end{array}\\right)\\right|\n",
    "=\n",
    "\\left|\\mbox{det}\\left(\\begin{array}{c}\n",
    "-\\frac{2}{x^2}\n",
    "\\end{array}\\right)\\right|\n",
    "=\\frac{2}{x^2}=\\frac{y^2}{2}\n",
    "$$\n",
    "$$$$\n",
    "$$\\begin{array}{lll}\n",
    "f_Y(y)\n",
    "&=&\n",
    "f_{X}(x)\\left(\\frac{dy}{dx}\\right)^{-1}\\\\\n",
    "&=&\\frac{2}{3}x*\\frac{2}{y^2}1(1<x<2)\\\\\n",
    "&=&\\frac{2}{3}*\\frac{2}{y}*\\frac{2}{y^2}1(1<y<2)\\\\\n",
    "&=&\\frac{8}{3y^3}1(1<y<2)\n",
    "\\end{array}$$\n",
    "$$$$\n",
    "$$\\begin{array}{lll}\n",
    "EY\n",
    "&=&\\int_{-\\infty}^\\infty yf_Y(y)dy\\\\\n",
    "&=&\\int_1^2 \\frac{8}{3y^2}dy\\\\\n",
    "&=&\\left[-\\frac{8}{3y}\\right]_1^2\\\\\n",
    "&=&\\frac{4}{3}\\\\\n",
    "\\end{array}$$"
   ]
  },
  {
   "cell_type": "code",
   "execution_count": null,
   "metadata": {},
   "outputs": [],
   "source": []
  }
 ],
 "metadata": {
  "kernelspec": {
   "display_name": "Python 3",
   "language": "python",
   "name": "python3"
  },
  "language_info": {
   "codemirror_mode": {
    "name": "ipython",
    "version": 3
   },
   "file_extension": ".py",
   "mimetype": "text/x-python",
   "name": "python",
   "nbconvert_exporter": "python",
   "pygments_lexer": "ipython3",
   "version": "3.6.9"
  }
 },
 "nbformat": 4,
 "nbformat_minor": 2
}
