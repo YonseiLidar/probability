{
 "cells": [
  {
   "cell_type": "markdown",
   "metadata": {},
   "source": [
    "<div align=\"center\"><img src=\"img/2019-1.png\" width=\"70%\"></div>"
   ]
  },
  {
   "cell_type": "markdown",
   "metadata": {},
   "source": [
    "$$\n",
    "Z=\\mbox{min}(X,Y)\n",
    "$$\n",
    "$$$$\n",
    "$$\n",
    "X\\sim Exp\\left(\\frac{1}{5}\\right),\\quad\n",
    "Y\\sim Exp\\left(\\frac{1}{10}\\right)\n",
    "$$\n",
    "$$$$\n",
    "$$\n",
    "P(X>t)=e^{-\\frac{1}{5}t},\\quad\n",
    "P(Y>t)=e^{-\\frac{1}{10}t}\n",
    "$$\n",
    "$$$$\n",
    "$$\\begin{array}{lll}\n",
    "P(Z>10)&=&P(X>10,Y>10)\\\\\n",
    "&=&P(X>10)P(Y>10)\\\\\n",
    "&=&e^{-\\frac{10}{5}}e^{-\\frac{10}{10}}\\\\\n",
    "&=&e^{-3}\n",
    "\\end{array}$$"
   ]
  },
  {
   "cell_type": "code",
   "execution_count": null,
   "metadata": {},
   "outputs": [],
   "source": []
  }
 ],
 "metadata": {
  "kernelspec": {
   "display_name": "Python 3",
   "language": "python",
   "name": "python3"
  },
  "language_info": {
   "codemirror_mode": {
    "name": "ipython",
    "version": 3
   },
   "file_extension": ".py",
   "mimetype": "text/x-python",
   "name": "python",
   "nbconvert_exporter": "python",
   "pygments_lexer": "ipython3",
   "version": "3.6.9"
  }
 },
 "nbformat": 4,
 "nbformat_minor": 2
}
