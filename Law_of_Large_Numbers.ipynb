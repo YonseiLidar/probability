{
 "cells": [
  {
   "cell_type": "markdown",
   "metadata": {},
   "source": [
    "# Law of Large Numbers"
   ]
  },
  {
   "cell_type": "markdown",
   "metadata": {},
   "source": [
    "<a href=\"#Which-One-is-Weak-Law-of-Large-Numbers?\">Which One is Law of Large Numbers?</a>\n",
    "\n",
    "<a href=\"#Monte-Carlo-Estimation-of-PI\">Monte Carlo Estimation of PI</a>\n",
    " \n",
    "<a href=\"#Buffon's-Needle\">Buffon's Needle</a>"
   ]
  },
  {
   "cell_type": "markdown",
   "metadata": {},
   "source": [
    "# Which One is Law of Large Numbers?"
   ]
  },
  {
   "cell_type": "markdown",
   "metadata": {},
   "source": [
    "We flip a fair coin and record 1 if head, 0 otherwise.\n",
    "In the top we flip a fair coin many times and record the sample mean as a function of the number of flips. In the bottom we flip a fair coin 1000 times and record the sample mean. We do this 10000 times and draw the histogram of the sample mean of the 1000 flips.\n",
    "Which one is the weak law and which one is the strong law?\n",
    "\n",
    "<div align=\"center\"><img src=\"img/Screen Shot 2019-01-13 at 8.44.48 PM.png\" width=\"40%\"></div>\n",
    "\n",
    "<div align=\"center\"><img src=\"img/Screen Shot 2019-01-13 at 8.45.03 PM.png\" width=\"40%\"></div>"
   ]
  },
  {
   "cell_type": "code",
   "execution_count": 4,
   "metadata": {},
   "outputs": [
    {
     "data": {
      "image/png": "[encoded data removed]",
      "text/plain": [
       "<Figure size 432x288 with 1 Axes>"
      ]
     },
     "metadata": {
      "needs_background": "light"
     },
     "output_type": "display_data"
    }
   ],
   "source": [
    "import numpy as np\n",
    "import matplotlib.pyplot as plt\n",
    "\n",
    "# B(n,p)\n",
    "n = 1\n",
    "p = 0.5\n",
    "\n",
    "n_simulations = 1000\n",
    "\n",
    "a = np.random.binomial(n, p, (n_simulations,))\n",
    "cum_average = np.cumsum(a)/(np.arange(n_simulations)+1)\n",
    "\n",
    "plt.plot(cum_average)\n",
    "plt.show()"
   ]
  },
  {
   "cell_type": "code",
   "execution_count": 20,
   "metadata": {},
   "outputs": [
    {
     "data": {
      "image/png": "[encoded data removed]",
      "text/plain": [
       "<Figure size 432x288 with 1 Axes>"
      ]
     },
     "metadata": {
      "needs_background": "light"
     },
     "output_type": "display_data"
    }
   ],
   "source": [
    "import numpy as np\n",
    "import matplotlib.pyplot as plt\n",
    "\n",
    "# B(n,p)\n",
    "n = 1\n",
    "p = 0.5\n",
    "\n",
    "n_samples = 10000\n",
    "n_coin_flips_for_each_sample = 1000\n",
    "\n",
    "a = np.random.binomial(n, p, (n_samples, n_coin_flips_for_each_sample))\n",
    "samples = np.sum(a,1) / n_coin_flips_for_each_sample\n",
    "\n",
    "plt.hist(samples, bins=10, density=True)\n",
    "plt.show()"
   ]
  },
  {
   "cell_type": "markdown",
   "metadata": {},
   "source": [
    "# Monte Carlo Estimation of PI"
   ]
  },
  {
   "cell_type": "markdown",
   "metadata": {},
   "source": [
    "- Draw $n$ random points $X_i$ from $[0,1]^2$\n",
    "\n",
    "- Record $R_i$ whether the point is inside of the unit circle.\n",
    "$$\n",
    "R_i=\\left\\{\\begin{array}{ll}\n",
    "1&\\mbox{if $X_i$ is inside of the unit circle}\\\\\n",
    "0&\\mbox{otherwise}\n",
    "\\end{array}\\right.\n",
    "$$"
   ]
  },
  {
   "cell_type": "markdown",
   "metadata": {},
   "source": [
    "$$\n",
    "\\frac{\\pi}{4}\\quad=\\quad\\mathbb{E}R\\quad\\approx\\quad\\frac{1}{n}\\sum_{i=1}^nR_i\n",
    "$$\n",
    "or\n",
    "$$\n",
    "\\pi\\quad\\approx\\quad\\frac{4}{n}\\sum_{i=1}^nR_i\n",
    "$$"
   ]
  },
  {
   "cell_type": "code",
   "execution_count": 21,
   "metadata": {},
   "outputs": [
    {
     "data": {
      "image/png": "[encoded data removed]",
      "text/plain": [
       "<Figure size 432x288 with 1 Axes>"
      ]
     },
     "metadata": {
      "needs_background": "light"
     },
     "output_type": "display_data"
    },
    {
     "name": "stdout",
     "output_type": "stream",
     "text": [
      "Number of generated points:  100\n",
      "Estimation of pi:            3.16\n"
     ]
    }
   ],
   "source": [
    "import numpy as np\n",
    "import matplotlib.pyplot as plt\n",
    "\n",
    "N_POINTS = 100\n",
    "\n",
    "# Random points in unit square \n",
    "x = np.random.uniform(0, 1, (2, N_POINTS))\n",
    "r_square = np.sum(x**2, axis=0)\n",
    "\n",
    "# Random points in unit square - red if points are inside unit circle, unit circle added\n",
    "plt.axis([0,1,0,1]) # [xmin, xmax, ymin, ymax]\n",
    "boundary_x = np.arange(0, 1, 0.01)\n",
    "boundary_y = np.sqrt(1 - boundary_x**2)\n",
    "plt.plot(boundary_x, boundary_y, 'r')\n",
    "for i in range(N_POINTS):\n",
    "    if x[0,i]**2 + x[1,i]**2 <1:\n",
    "        plt.plot(x[0,i], x[1,i], 'ro')\n",
    "    else:\n",
    "        plt.plot(x[0, i], x[1, i], 'bo')\n",
    "plt.show()\n",
    "\n",
    "print(\"Number of generated points: \", N_POINTS)\n",
    "print(\"Estimation of pi:           \", (4/N_POINTS) * np.sum(r_square < 1))"
   ]
  },
  {
   "cell_type": "code",
   "execution_count": 22,
   "metadata": {},
   "outputs": [
    {
     "name": "stdout",
     "output_type": "stream",
     "text": [
      "3.14\n",
      "3.1268\n",
      "3.14176\n",
      "3.1413\n",
      "3.1417028\n",
      "3.14129204\n"
     ]
    }
   ],
   "source": [
    "# - Tomáš Bouda\n",
    "# [Day 9: Monte carlo - π](https://medium.com/100-days-of-algorithms/day-9-monte-carlo-%CF%80-7ae010743bde)\n",
    "# [github](https://github.com/coells/100days)\n",
    "\n",
    "import numpy as np\n",
    "\n",
    "def pi(n, batch=1000):\n",
    "    t = 0\n",
    "    for i in range(n // batch):\n",
    "        p = np.random.uniform(0, 1, (batch, 2))\n",
    "        p = (p * p).sum(axis=1)\n",
    "        t += (p <= 1).sum()\n",
    "    return 4 * t / n\n",
    "\n",
    "print(pi(10 ** 3))\n",
    "print(pi(10 ** 4))\n",
    "print(pi(10 ** 5))\n",
    "print(pi(10 ** 6))\n",
    "print(pi(10 ** 7))\n",
    "print(pi(10 ** 8))"
   ]
  },
  {
   "cell_type": "markdown",
   "metadata": {},
   "source": [
    "[<a href=\"#Law-of-Large-Numbers\">Back to top</a>]"
   ]
  },
  {
   "cell_type": "markdown",
   "metadata": {},
   "source": [
    "# Buffon's Needle"
   ]
  },
  {
   "cell_type": "markdown",
   "metadata": {},
   "source": [
    "- On a paper we draw parallel lines 1 units apart.\n",
    "\n",
    "- We drop a needle of length 1 onto the paper $n$ times and record $R_i$ whether the needle intersect the line.\n",
    "$$\n",
    "R_i=\\left\\{\\begin{array}{ll}\n",
    "1&\\mbox{if the needle intersect the line at the $i$-th drop}\\\\\n",
    "0&\\mbox{otherwise}\n",
    "\\end{array}\\right.\n",
    "$$"
   ]
  },
  {
   "cell_type": "markdown",
   "metadata": {},
   "source": [
    "$$\n",
    "\\frac{2}{\\pi}\\quad=\\quad\\mathbb{E}R\\quad\\approx\\quad\\frac{1}{n}\\sum_{i=1}^nR_i\n",
    "$$\n",
    "or\n",
    "$$\n",
    "\\pi\\quad\\approx\\quad\\frac{2n}{\\sum_{i=1}^nR_i}\n",
    "$$"
   ]
  },
  {
   "cell_type": "markdown",
   "metadata": {},
   "source": [
    "<div align=\"center\"><img src=\"http://www.clayford.net/statistics/wp-content/uploads/2013/02/buf_02.png\" width=\"80%\"></div>\n",
    "\n",
    "http://www.clayford.net/statistics/wp-content/uploads/2013/02/buf_02.png"
   ]
  },
  {
   "cell_type": "code",
   "execution_count": 23,
   "metadata": {},
   "outputs": [
    {
     "name": "stdout",
     "output_type": "stream",
     "text": [
      "Number of Needles             :  1000\n",
      "Monte Carlo Estimate of $\\pi$ :  3.0721966205837172\n"
     ]
    },
    {
     "data": {
      "image/png": "[encoded data removed]",
      "text/plain": [
       "<Figure size 432x288 with 1 Axes>"
      ]
     },
     "metadata": {
      "needs_background": "light"
     },
     "output_type": "display_data"
    }
   ],
   "source": [
    "import numpy as np\n",
    "import matplotlib.pyplot as plt\n",
    "\n",
    "np.random.seed(423126515)\n",
    "\n",
    "n = 1000                           # Number of random samples generated\n",
    "x = np.random.uniform(0, 1, (n,2)) # 0th column = height of lower end, 1st column = angle/pi \n",
    "h = x[:,0] + np.sin(np.pi*x[:,1])  # Height of higher end\n",
    "N = np.sum(h>=1)                   # Number of random samples hit the upper bar at y=1\n",
    "Estimated_pi = 2*n/N               # Estimated pi\n",
    "\n",
    "print(\"Number of Needles             : \", n)\n",
    "print(\"Monte Carlo Estimate of $\\pi$ : \", Estimated_pi)\n",
    "\n",
    "# plot of Monte Carlo Estimate of $\\pi$ \n",
    "# as a function of Number of Buffon's Needles \n",
    "N_cum = np.cumsum(h>=1) \n",
    "Estimated_pi_cum = 2*(np.arange(0,n)+1)/(N_cum+0.00000001) \n",
    "plt.plot(Estimated_pi_cum)\n",
    "plt.show()"
   ]
  },
  {
   "cell_type": "markdown",
   "metadata": {},
   "source": [
    "[<a href=\"#Law-of-Large-Numbers\">Back to top</a>]"
   ]
  }
 ],
 "metadata": {
  "kernelspec": {
   "display_name": "Python 3",
   "language": "python",
   "name": "python3"
  },
  "language_info": {
   "codemirror_mode": {
    "name": "ipython",
    "version": 3
   },
   "file_extension": ".py",
   "mimetype": "text/x-python",
   "name": "python",
   "nbconvert_exporter": "python",
   "pygments_lexer": "ipython3",
   "version": "3.5.0"
  }
 },
 "nbformat": 4,
 "nbformat_minor": 2
}
