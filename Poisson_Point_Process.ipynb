{
 "cells": [
  {
   "cell_type": "markdown",
   "metadata": {},
   "source": [
    "# Poisson Point Process\n",
    "\n",
    "<a href=\"#Construction-of-PPP-using-p-Coin\">Construction of PPP using p-Coin</a>\n",
    "\n",
    "<a href=\"#Discrete-vs-Continuous-Random-Variables---Distribution\">Discrete vs Continuous Random Variables - Distribution</a>\n",
    "\n",
    "<a href=\"#Discrete-vs-Continuous-Random-Variables---Joint-Distribution\">Discrete vs Continuous Random Variables - Joint Distribution</a>\n",
    "\n",
    "<a href=\"#Discrete-vs-Continuous-Random-Variables---Joint,-Marginal,-Conditional-Distribution\">Discrete vs Continuous Random Variables - Joint, Marginal, Conditional Distribution</a>\n",
    "\n",
    "<a href=\"#Discrete-vs-Continuous-Random-Variables---Independence\">Discrete vs Continuous Random Variables - Independence</a>\n",
    "\n",
    "<a href=\"#CDF-and-Quantile\">CDF and Quantile</a>\n",
    "\n",
    "<a href=\"#Exponential-Distribution\">Exponential Distribution</a>\n",
    "\n",
    "<a href=\"#Exponential-Approximation\">Exponential Approximation</a>\n",
    "\n",
    "<a href=\"#Memoryless-Properties-of-Geometric-and-Exponential Distribution\">Memoryless Properties of Geometric and Exponential Distribution</a>\n",
    "\n",
    "<a href=\"#Construction-of-PPP-using-Exponential-Random-Variables\">Construction of PPP using Exponential Random Variables</a>\n",
    "\n",
    "<a href=\"#Thinning-and-Merger\">Thinning and Merger</a>"
   ]
  },
  {
   "cell_type": "markdown",
   "metadata": {},
   "source": [
    "# Construction of PPP  using p-Coin"
   ]
  },
  {
   "cell_type": "markdown",
   "metadata": {},
   "source": [
    "### Definition of $PPP(\\lambda)$"
   ]
  },
  {
   "cell_type": "markdown",
   "metadata": {},
   "source": [
    "For each finite interval $I$ we attach a random variable $N(I)$.\n",
    "A collection of random variables $N(I)$ is the Poisson point process $PPP(\\lambda)$ with intensity  $\\lambda$ if\n",
    "$$\\begin{array}{llll}\n",
    "(1)&&N([s,t])\\sim Po(\\lambda (t-s))\\\\\n",
    "(2)&&\\mbox{For any $t_0<t_1<t_2<\\cdots<t_m$, $N([t_{i-1},t_i])$ are all independent}\\\\\n",
    "\\end{array}$$ "
   ]
  },
  {
   "cell_type": "markdown",
   "metadata": {},
   "source": [
    "### Construction of PPP  using p-Coin\n",
    "$$\\begin{array}{ll}\\hline\n",
    "\\mbox{Number of ticks per year}&n\\\\\\hline\n",
    "\\mbox{$p$-coin flip at tick $k$}&\\mbox{$H$ with marker}\\\\\\hline\n",
    "\\mbox{Number of ticks between $0$ and $t$}&nt\\\\\\hline\n",
    "\\mbox{Number $N([0,t])$ of markers  between $0$ and $t$}&B(nt,p)\\approx Po(\\lambda t)\\\\\\hline\n",
    "\\mbox{Number of ticks between $s$ and $t$}&n(t-s)\\\\\\hline\n",
    "\\mbox{Number $N([s,t])$ of markers  between $s$ and $t$}&B(n(t-s),p)\\approx Po(\\lambda(t-s))\\\\\\hline\n",
    "\\end{array}$$"
   ]
  },
  {
   "cell_type": "markdown",
   "metadata": {},
   "source": [
    "(1)\n",
    "$$\n",
    "N([s,t])\\sim B(n(t-s),p)\\approx Po(\\lambda (t-s))\n",
    "\\quad\\mbox{if $n$ goes to the infinite}\n",
    "$$\n",
    "\n",
    "(2)\n",
    "For any \n",
    "$t_0<t_1<t_2<\\cdots<t_m$\n",
    "the coin flips in one time interval $[t_i,t_{i-1}]$\n",
    "are completely different from \n",
    "the coin flips in other time interval $[t_j,t_{j-1}]$.\n",
    "So, \n",
    "$$\n",
    "N([t_{i-1},t_i])\\ \\mbox{are all independent}\n",
    "$$"
   ]
  },
  {
   "cell_type": "markdown",
   "metadata": {},
   "source": [
    "[<a href=\"#Poisson-Point-Process\">Back to top</a>]"
   ]
  },
  {
   "cell_type": "markdown",
   "metadata": {},
   "source": [
    "# Discrete vs Continuous Random Variables - Distribution"
   ]
  },
  {
   "cell_type": "markdown",
   "metadata": {},
   "source": [
    "$$\n",
    "\\sum\\ \\mbox{with discrete random variable}\n",
    "\\quad\\Leftrightarrow\\quad\n",
    "\\int\\ \\mbox{with continuous random variable}\n",
    "$$\n",
    "\n",
    "\n",
    "$$\n",
    "\\begin{array}{ccc} \\hline\n",
    "& \\mbox{Discrete random variable}&\\mbox{Continuous random variable} \\\\\\hline \\hline\n",
    "\\mbox{Possible values}&\\mbox{Discrete}&\\mbox{Continuous}\\\\\\hline\n",
    "\\mbox{PMF/PDF} & \\displaystyle 0\\le p_x\\le 1 &  \\displaystyle 0\\le f(x)\\le\\infty\\\\\\hline\n",
    "\\end{array}\n",
    "$$\n",
    "\n",
    "##### Meaning\n",
    "$$\n",
    "\\mathbb{P}(X=x)=p_x,\\quad\\quad\\quad\\quad\n",
    "\\mathbb{P}(x\\le X\\le x+dx)=f(x)dx\n",
    "$$\n",
    "\n",
    "##### Total mass 1\n",
    "$$\n",
    "\\sum_xp_x=1,\\quad\\quad\\quad\\quad\n",
    "\\int_{-\\infty}^{\\infty}f(x)dx=1\n",
    "$$\n",
    "\n",
    "##### Expectation\n",
    "$$\n",
    "\\mathbb{E}X=\\sum_xxp_x,\\quad\\quad\\quad\\quad\n",
    "\\mathbb{E}X=\\int_{-\\infty}^{\\infty}xf(x)dx\n",
    "$$\n",
    "\n",
    "##### $k$-th moment\n",
    "$$\n",
    "\\mathbb{E}X^k=\\sum_xx^kp_x,\\quad\\quad\\quad\\quad\n",
    "\\mathbb{E}X^k=\\int_{-\\infty}^{\\infty}x^kf(x)dx\n",
    "$$\n",
    "\n",
    "##### Variance\n",
    "$$\n",
    "Var(X)=\\mathbb{E}X^2-(\\mathbb{E}X)^2,\\quad\\quad\\quad\\quad\n",
    "Var(X)=\\mathbb{E}X^2-(\\mathbb{E}X)^2\n",
    "$$\n",
    "\n",
    "##### CDF\n",
    "$$\n",
    "\\mathbb{P}(X\\le x)=\\sum_{s\\le x}p_s,\\quad\\quad\\quad\\quad\n",
    "\\mathbb{P}(X\\le x)=\\int_{-\\infty}^xf(s)ds\n",
    "$$"
   ]
  },
  {
   "cell_type": "markdown",
   "metadata": {},
   "source": [
    "[<a href=\"#Poisson-Point-Process\">Back to top</a>]"
   ]
  },
  {
   "cell_type": "markdown",
   "metadata": {},
   "source": [
    "# Discrete vs Continuous Random Variables - Joint Distribution"
   ]
  },
  {
   "cell_type": "markdown",
   "metadata": {},
   "source": [
    "$$\n",
    "\\sum\\ \\mbox{with discrete random variable}\n",
    "\\quad\\Leftrightarrow\\quad\n",
    "\\int\\ \\mbox{with continuous random variable}\n",
    "$$\n",
    "\n",
    "$$\n",
    "\\begin{array}{ccc} \\hline\n",
    "& \\mbox{Discrete random variable}&\\mbox{Continuous random variable} \\\\\\hline \\hline\n",
    "\\mbox{Possible values}&\\mbox{Discrete}&\\mbox{Continuous}\\\\\\hline\n",
    "\\mbox{Joint}  & \\displaystyle0\\le p_{x,y}\\le 1 &  \\displaystyle0\\le f_{X,Y}(x,y)\\le\\infty\\\\\\hline\n",
    "\\end{array}\n",
    "$$\n",
    "\n",
    "##### Meaning\n",
    "$$\n",
    "\\mathbb{P}(X=x,Y=y)=p_{x,y},\\quad\\quad\\quad\\quad\n",
    "\\mathbb{P}(x\\le X\\le x+dx,y\\le Y\\le y+dy)=f_{X,Y}(x,y)dxdy\n",
    "$$\n",
    "\n",
    "##### Total mass 1\n",
    "$$\n",
    "\\sum_x\\sum_yp_{x,y}=1,\\quad\\quad\\quad\\quad\n",
    "\\int_{-\\infty}^{\\infty}\\int_{-\\infty}^{\\infty}f_{X,Y}(x,y)dxdy=1\n",
    "$$\n",
    "\n",
    "##### Expectation\n",
    "$$\n",
    "\\mathbb{E}X=\\sum_x\\sum_yxp_{x,y},\\quad\\quad\\quad\\quad\n",
    "\\mathbb{E}X=\\int_{-\\infty}^{\\infty}\\int_{-\\infty}^{\\infty}xf_{X,Y}(x,y)dxdy\n",
    "$$\n",
    "\n",
    "##### $k$-th moment\n",
    "$$\n",
    "\\mathbb{E}X^k=\\sum_x\\sum_yx^kp_{x,y},\\quad\\quad\\quad\\quad\n",
    "\\mathbb{E}X^k=\\int_{-\\infty}^{\\infty}\\int_{-\\infty}^{\\infty}x^kf_{X,Y}(x,y)dxdy\n",
    "$$\n",
    "\n",
    "##### Variance\n",
    "$$\n",
    "Var(X)=\\mathbb{E}X^2-(\\mathbb{E}X)^2,\\quad\\quad\\quad\\quad\n",
    "Var(X)=\\mathbb{E}X^2-(\\mathbb{E}X)^2\n",
    "$$\n",
    "\n",
    "##### CDF\n",
    "$$\n",
    "\\mathbb{P}(X\\le x)=\\mathbb{P}(X\\le x)=\\sum_{s\\le x}\\sum_yp_{s,y},\\quad\\quad\\quad\\quad\n",
    "\\mathbb{P}(X\\le x)=\\int_{-\\infty}^{\\infty}\\int_{-\\infty}^xf(s,y)dsdy\n",
    "$$\n"
   ]
  },
  {
   "cell_type": "markdown",
   "metadata": {},
   "source": [
    "[<a href=\"#Poisson-Point-Process\">Back to top</a>]"
   ]
  },
  {
   "cell_type": "markdown",
   "metadata": {},
   "source": [
    "# Discrete vs Continuous Random Variables - Joint, Marginal, Conditional Distribution"
   ]
  },
  {
   "cell_type": "markdown",
   "metadata": {},
   "source": [
    "$$\n",
    "\\sum\\ \\mbox{with discrete random variable}\n",
    "\\quad\\Leftrightarrow\\quad\n",
    "\\int\\ \\mbox{with continuous random variable}\n",
    "$$"
   ]
  },
  {
   "cell_type": "markdown",
   "metadata": {},
   "source": [
    "##### From joint to marginal\n",
    "\n",
    "$$\n",
    "p_{x_i}\n",
    "=\\sum_{y_j}p_{x_i,y_j},\n",
    "\\quad\\quad\\quad\\quad\n",
    "f_X(x)\n",
    "=\n",
    "\\int_{-\\infty}^{\\infty}f_{X,Y}(x,y)dy\n",
    "$$\n",
    "$$\n",
    "p_{y_j}\n",
    "=\\sum_{x_i}p_{x_i,y_j},\n",
    "\\quad\\quad\\quad\\quad\n",
    "f_Y(y)\n",
    "=\n",
    "\\int_{-\\infty}^{\\infty}f_{X,Y}(x,y)dx\n",
    "$$"
   ]
  },
  {
   "cell_type": "markdown",
   "metadata": {},
   "source": [
    "##### From joint to conditional\n",
    "\n",
    "$$\n",
    "p_{x_i|y_j}=\\frac{p_{x_i,y_j}}{\\sum_{x_{i'}}p_{x_{i'},y_j}},\n",
    "\\quad\\quad\\quad\\quad\n",
    "f_{X|Y}(x|y)\n",
    "=\n",
    "\\frac{f_{X,Y}(x,y)}{f_Y(y)}\n",
    "$$\n",
    "$$\n",
    "p_{y_j|x_i}=\\frac{p_{x_i,y_j}}{\\sum_{y_{j'}}p_{x_i,y_{j'}}},\n",
    "\\quad\\quad\\quad\\quad\n",
    "f_{Y|X}(y|x)\n",
    "=\n",
    "\\frac{f_{X,Y}(x,y)}{f_X(x)}\n",
    "$$"
   ]
  },
  {
   "cell_type": "markdown",
   "metadata": {},
   "source": [
    "##### From marginal and conditional to joint\n",
    "\n",
    "$$\n",
    "p_{x_i,y_j}=p_{x_i}p_{y_j|x_i},\n",
    "\\quad\\quad\\quad\\quad\n",
    "f_{X,Y}(x,y)=f_X(x)f_{Y|X}(y|x)\n",
    "$$\n",
    "$$\n",
    "p_{x_i,y_j}=p_{y_j}p_{x_i|y_j},\n",
    "\\quad\\quad\\quad\\quad\n",
    "f_{X,Y}(x,y)=f_Y(y)f_{X|Y}(x|y)\n",
    "$$"
   ]
  },
  {
   "cell_type": "markdown",
   "metadata": {
    "collapsed": true
   },
   "source": [
    "[<a href=\"#Poisson-Point-Process\">Back to top</a>]"
   ]
  },
  {
   "cell_type": "markdown",
   "metadata": {},
   "source": [
    "# Discrete vs Continuous Random Variables - Independence"
   ]
  },
  {
   "cell_type": "markdown",
   "metadata": {},
   "source": [
    "##### How to check independentdency\n",
    "\n",
    "\\begin{eqnarray}\n",
    "\\mbox{For PMF}&&\n",
    "p_{x_i,y_j}=p_{x_i}p_{y_j}\\nonumber\\\\\n",
    "\\nonumber\\\\\n",
    "\\mbox{For PDF}&&\n",
    "f_{X,Y}(x,y)=f_X(x)f_Y(y)\\nonumber\n",
    "\\end{eqnarray}"
   ]
  },
  {
   "cell_type": "markdown",
   "metadata": {},
   "source": [
    "[<a href=\"#Poisson-Point-Process\">Back to top</a>]"
   ]
  },
  {
   "cell_type": "markdown",
   "metadata": {},
   "source": [
    "# CDF and Quantile"
   ]
  },
  {
   "cell_type": "markdown",
   "metadata": {},
   "source": [
    "\\begin{eqnarray}\n",
    "F\\ \\ \\ &&\\mbox{CDF}\\nonumber\\\\\n",
    "F^{-1}&&\\mbox{Quantile function}\\nonumber\n",
    "\\end{eqnarray}"
   ]
  },
  {
   "cell_type": "markdown",
   "metadata": {},
   "source": [
    "##### CDF\n",
    "\n",
    "A CDF $F$ has the following three properties:\n",
    "\\begin{eqnarray}\n",
    "(1)&&x_1<x_2\\ \\ \\Rightarrow\\ \\ F(x_1)\\le F(x_2)\\nonumber\\\\\n",
    "(2)&&\\lim_{x\\rightarrow-\\infty}F(x)=0\\ \\ \\mbox{and}\\ \\ \\lim_{x\\rightarrow\\infty}F(x)=1\\nonumber\\\\\n",
    "(3)&&\\lim_{x\\downarrow x_0}F(x)=F(x_0)\\ \\ \\mbox{and}\\ \\ \\lim_{x\\uparrow\\infty}F(x)=F(x_0-)\\nonumber\n",
    "\\end{eqnarray}\n",
    "Conversely, if a function $F$ satisfies the above three, then we can interpret $F$ as a CDF of a distribution.\n",
    "If $F$ is a CDF, then it satisfies\n",
    "\\begin{eqnarray}\n",
    "(4)&&F(x_0)-F(x_0-)=\\mathbb{P}(X=x_0)\\nonumber\\\\\n",
    "(5)&&\\frac{d}{dx}F(x)=f(x)\\quad\\mbox{if $X$ has the PDF $f$}\\nonumber\\\\\n",
    "(6)&&P(a\\le X\\le b)=F(b)-F(a)\\quad\\mbox{if $X$ is continuous}\\nonumber\\\\\n",
    "(7)&&P(X\\ge x)=1-P(X\\le x)=1-F(x)\\quad\\mbox{if $X$ is continuous}\\nonumber\n",
    "\\end{eqnarray}"
   ]
  },
  {
   "cell_type": "markdown",
   "metadata": {},
   "source": [
    "##### Quantile $q_\\alpha$\n",
    "The $\\alpha$ quantile of $F$ is the value $q_\\alpha$ such that\n",
    "$$\n",
    "F(q_\\alpha)=\\mathbb{P}(X\\le q_\\alpha)=\\alpha\n",
    "$$\n",
    "$$\\begin{array}{lllllllllll}\n",
    "\\mbox{1\\% quantile $q_{0.01}$}&&&&q_{0.01}=F^{-1}(0.01)\\nonumber\\\\\n",
    "\\\\\n",
    "\\mbox{5\\% quantile $q_{0.05}$}&&&&q_{0.05}=F^{-1}(0.05)\n",
    "\\end{array}$$"
   ]
  },
  {
   "cell_type": "markdown",
   "metadata": {},
   "source": [
    "##### First quartile $Q_1$ \n",
    "$$\n",
    "q_{0.25}=F^{-1}(0.25)\n",
    "$$\n",
    "\n",
    "##### Median $Q_2$\n",
    "$$\n",
    "q_{0.5}=F^{-1}(0.5)\n",
    "$$\n",
    "\n",
    "##### Third quartile $Q_3$\n",
    "$$\n",
    "q_{0.75}=F^{-1}(0.75)\n",
    "$$"
   ]
  },
  {
   "cell_type": "markdown",
   "metadata": {},
   "source": [
    "### Example - CDF of $U(0,1)$\n",
    "\\begin{eqnarray}\n",
    "f(x)=\\left\\{\\begin{array}{ll}\n",
    "0&\\mbox{for $x\\le 0$}\\\\\n",
    "1&\\mbox{for $0\\le x\\le 1$}\\\\\n",
    "0&\\mbox{for $x\\ge 1$}\\\\\n",
    "\\end{array}\\right.\n",
    "&\\stackrel{\\mbox{Integrate}}{\\Rightarrow}&\n",
    "F(x)=\\left\\{\\begin{array}{ll}\n",
    "0&\\mbox{for $x\\le 0$}\\\\\n",
    "x&\\mbox{for $0\\le x\\le 1$}\\\\\n",
    "1&\\mbox{for $x\\ge 1$}\\\\\n",
    "\\end{array}\\right.\\nonumber\\\\\n",
    "F(x)=\\left\\{\\begin{array}{ll}\n",
    "0&\\mbox{for $x\\le 0$}\\\\\n",
    "x&\\mbox{for $0\\le x\\le 1$}\\\\\n",
    "1&\\mbox{for $x\\ge 1$}\\\\\n",
    "\\end{array}\\right.\n",
    "&\\stackrel{\\mbox{Differentiate}}{\\Rightarrow}&\n",
    "f(x)=\\left\\{\\begin{array}{ll}\n",
    "0&\\mbox{for $x\\le 0$}\\\\\n",
    "1&\\mbox{for $0\\le x\\le 1$}\\\\\n",
    "0&\\mbox{for $x\\ge 1$}\\\\\n",
    "\\end{array}\\right.\\nonumber\n",
    "\\end{eqnarray}\n"
   ]
  },
  {
   "cell_type": "markdown",
   "metadata": {},
   "source": [
    "[<a href=\"#Poisson-Point-Process\">Back to top</a>]"
   ]
  },
  {
   "cell_type": "markdown",
   "metadata": {},
   "source": [
    "# Exponential Distribution"
   ]
  },
  {
   "cell_type": "markdown",
   "metadata": {},
   "source": [
    "### PDF\n",
    "$$\n",
    "f(x)=\\lambda e^{-\\lambda x}\n",
    "\\quad\\mbox{for $x\\ge 0$}\n",
    "$$"
   ]
  },
  {
   "cell_type": "markdown",
   "metadata": {},
   "source": [
    "### Intuition\n",
    "First arrival time of Poisson point of intensity $\\lambda$\n",
    "\n",
    "$$\n",
    "\\begin{array}{cl} \\hline\n",
    "\\mbox{Distribution}&\\mbox{Random variable}\\\\\\hline\n",
    "B(p)&\\mbox{Flip a $p$-coin and check whether we have a head}\\\\\n",
    "B(n,p)&\\mbox{Flip a $p$-coin $n$ times and count the number of heads}\\\\\n",
    "Po(\\lambda)\\approx B(n,p)&\\mbox{Flip a $p$-coin $n$ times and count the number of heads,}\\\\\n",
    "&\\mbox{where $np=\\lambda$ is fixed and $n\\rightarrow\\infty$}\\\\\n",
    "Geo(p)&\\mbox{Flip a $p$-coin until first head and count the number of flips}\\\\\n",
    "Exp(\\lambda)\\approx \\frac{1}{n} Geo(p)&\\mbox{Flip a $p$-coin until first head and count the number of flips,}\\\\\n",
    "&\\mbox{where $np=\\lambda$ is fixed and $n\\rightarrow\\infty$}\\\\\n",
    "NB(r,p)&\\mbox{Flip a $p$-coin until $r$-th head and count the number of flips}\\\\\\hline\n",
    "\\end{array}\n",
    "$$"
   ]
  },
  {
   "cell_type": "markdown",
   "metadata": {},
   "source": [
    "### Mean and variance\n",
    "$$\n",
    "\\begin{array}{ccc}\\hline\n",
    "\\mbox{Distribution}&\\mbox{Expectation}&\\mbox{Variance}\\\\\\hline\n",
    "B(p)&p&pq\\\\\n",
    "B(n,p)&np&npq\\\\\n",
    "Po(\\lambda)\\approx B(n,p)&\\lambda&\\lambda\\\\\n",
    "Geo(p)&\\frac{1}{p}&\\frac{q}{p^2}\\\\\n",
    "Exp(\\lambda)\\approx \\frac{1}{n} Geo(p)&\\frac{1}{\\lambda}&\\frac{1}{\\lambda^2}\\\\\n",
    "NB(r,p)&\\frac{r}{p}&\\frac{rq}{p^2}\\\\\\hline\n",
    "\\end{array}\n",
    "$$"
   ]
  },
  {
   "cell_type": "markdown",
   "metadata": {},
   "source": [
    "### CDF\n",
    "$\n",
    "\\displaystyle\n",
    "F(t):=P(T\\le t)=1-e^{-\\lambda t}\\quad \\mbox{for $t\\ge 0$}\n",
    "$"
   ]
  },
  {
   "cell_type": "markdown",
   "metadata": {},
   "source": [
    "### Survival function\n",
    "$\n",
    "\\displaystyle\n",
    "\\bar{F}(t):=1-F(t)=P(T>t)=e^{-\\lambda t}\\quad \\mbox{for $t\\ge 0$}\n",
    "$"
   ]
  },
  {
   "cell_type": "markdown",
   "metadata": {},
   "source": [
    "\\begin{eqnarray}\n",
    "EX\n",
    "&=&\n",
    "\\int_0^{\\infty}t\\lambda  e^{-\\lambda t}dt\n",
    "=\\int_0^{\\infty}t(-e^{-\\lambda t})'dt\n",
    "=\\left[t(-e^{-\\lambda t})\\right]_0^{\\infty}-\\int_0^{\\infty}(t)'(-e^{-\\lambda t})dt\\nonumber\\\\\n",
    "&=&\n",
    "\\int_0^{\\infty}e^{-\\lambda t}dt\n",
    "=\\left[\\frac{e^{-\\lambda t}}{-\\lambda}\\right]_0^{\\infty}=\\frac{1}{\\lambda}\\nonumber\\\\\n",
    "\\nonumber\\\\\\nonumber\\\\\n",
    "EX^2\n",
    "&=&\n",
    "\\int_0^{\\infty}t^2\\lambda  e^{-\\lambda t}dt\n",
    "=\\int_0^{\\infty}t^2(-e^{-\\lambda t})'dt\n",
    "=\\left[t^2(-e^{-\\lambda t})\\right]_0^{\\infty}-\\int_0^{\\infty}(t^2)'(-e^{-\\lambda t})dt\\nonumber\\\\\n",
    "&=&\n",
    "2\\int_0^{\\infty}te^{-\\lambda t}dt\n",
    "=\\frac{2}{\\lambda}\\int_0^{\\infty}t\\lambda e^{-\\lambda t}dt=\\frac{2}{\\lambda}EX=\\frac{2}{\\lambda^2}\\nonumber\n",
    "\\end{eqnarray}\n",
    "\\begin{eqnarray}\n",
    "Var(X)\n",
    "&=&\n",
    "\\frac{1}{\\lambda^2}\n",
    "\\nonumber\n",
    "\\end{eqnarray}"
   ]
  },
  {
   "cell_type": "markdown",
   "metadata": {},
   "source": [
    "[<a href=\"#Poisson-Point-Process\">Back to top</a>]"
   ]
  },
  {
   "cell_type": "markdown",
   "metadata": {},
   "source": [
    "# Exponential Approximation"
   ]
  },
  {
   "cell_type": "markdown",
   "metadata": {},
   "source": [
    "If $n$ is large, $p$ is small, $np=\\lambda$ is medium,\n",
    "$$\\frac{1}{n}Geo(p)\\approx Exp(\\lambda)$$\n",
    "meaning, with $X\\sim Geo(p)$, $Y\\sim Exp(\\lambda)$, for any $t\\ge 0$\n",
    "$$\n",
    "P\\left(\\frac{1}{n}X>t\\right)\n",
    "\\quad\\approx\\quad \n",
    "P(Y>t)\n",
    "$$\n",
    "or\n",
    "$$\n",
    "P\\left(\\frac{1}{n}X=t\\right)\n",
    "\\quad\\approx\\quad \n",
    "f_Y(t)dt\n",
    "$$"
   ]
  },
  {
   "cell_type": "markdown",
   "metadata": {},
   "source": [
    "### Exact mean match and approximate variance match\n",
    "$$\n",
    "\\begin{array}{lccc} \\hline\n",
    "\\mbox{When $n$ large, $p$ small ($q\\approx 1$), $np=\\lambda$ medium}&\\mbox{Exact}&&\\mbox{Approximate}\\\\\\hline \\hline\n",
    "\\mbox{Distribution of Number of $p$-coin flips to first head}&Geo(p)&&\\\\\n",
    "\\mbox{Distribution of Time to first head}&\\frac{1}{n}Geo(p)&\\approx&Exp(\\lambda)\\\\\n",
    "\\mbox{(Exact) Mean match}  & \\frac{1}{np}       & =& \\frac{1}{\\lambda}\\\\\n",
    "\\mbox{(Approximate) Variance match}  & \\frac{q}{(np)^2}       & \\approx& \\frac{1}{\\lambda^2}\\\\\\hline\n",
    "\\end{array}\n",
    "$$\n",
    "\n",
    "$$\n",
    "P\\left(\\frac{1}{n}X>t\\right)\n",
    "=\n",
    "\\sum_{i=nt+1}^{\\infty}q^{i-1}p\n",
    "=\n",
    "q^{nt}\n",
    "=\n",
    "\\left(1-\\frac{\\lambda}{n}\\right)^{nt}\n",
    "\\quad\\approx\\quad \n",
    "e^{-\\lambda t}\n",
    "=\n",
    "P(Y>t)\n",
    "$$\n",
    "$$\n",
    "P\\left(\\frac{1}{n}X=t\\right)\n",
    "=\n",
    "q^{nt-1}p\n",
    "=\n",
    "\\lambda\n",
    "\\left(1-\\frac{\\lambda}{n}\\right)^{nt-1}\\underbrace{\\frac{1}{n}}_{dt}\n",
    "\\quad\\approx\\quad \n",
    "\\lambda e^{-\\lambda t} dt\n",
    "=\n",
    "f_Y(t)dt\n",
    "$$"
   ]
  },
  {
   "cell_type": "markdown",
   "metadata": {},
   "source": [
    "[<a href=\"#Poisson-Point-Process\">Back to top</a>]"
   ]
  },
  {
   "cell_type": "markdown",
   "metadata": {},
   "source": [
    "# Memoryless Properties of Geometric and Exponential Distribution"
   ]
  },
  {
   "cell_type": "markdown",
   "metadata": {},
   "source": [
    "### Geometric distribution\n",
    "$$\n",
    "P(X>t|X>s)=\\frac{q^t}{q^s}=q^{t-s}=P(X>t-s)\n",
    "$$\n",
    "\n",
    "### Exponential distribution\n",
    "$$\n",
    "P(X>t|X>s)=\\frac{e^{-\\lambda t}}{e^{-\\lambda s}}=e^{-\\lambda (t-s)}=P(X>t-s)\n",
    "$$"
   ]
  },
  {
   "cell_type": "markdown",
   "metadata": {
    "collapsed": true
   },
   "source": [
    "[<a href=\"#Poisson-Point-Process\">Back to top</a>]"
   ]
  },
  {
   "cell_type": "markdown",
   "metadata": {},
   "source": [
    "# Construction of PPP using Exponential Random Variables"
   ]
  },
  {
   "cell_type": "markdown",
   "metadata": {},
   "source": [
    "$$\\begin{array}{ll}\\hline\n",
    "\\mbox{Number of ticks per year}&n\\\\\\hline\n",
    "\\mbox{$p$-coin flip at tick $k$}&\\mbox{$H$ with marker and $T$ with no marker}\\\\\\hline\n",
    "\\mbox{Number of ticks to first head}&Geo(p)\\\\\\hline\n",
    "\\mbox{Time $T_1$ to first head}&\\frac{1}{n}*Geo(p)\\approx Exp(\\lambda)\\\\\\hline\n",
    "\\mbox{Number of ticks to next head after $i$-th head}&Geo(p)\\\\\\hline\n",
    "\\mbox{Time $T_{i+1}$ to next head after $i$-th head}&\\frac{1}{n}*Geo(p)\\approx Exp(\\lambda)\\\\\\hline\n",
    "\\end{array}$$"
   ]
  },
  {
   "cell_type": "markdown",
   "metadata": {},
   "source": [
    "##### Construction of Poisson point  process with intensity $\\lambda$ using an $Exp(\\lambda)$-coin\n",
    "\n",
    "[Step 1] Generate iid $T_i$ from $Exp(\\lambda)$.\n",
    "\n",
    "[Step 2] Put a market at $T_1$, $T_1+T_2$, $T_1+T_2+T_3$,$\\cdots$."
   ]
  },
  {
   "cell_type": "markdown",
   "metadata": {},
   "source": [
    "### Example - Joint PDF of independent random variables\n",
    "\n",
    "The joint PDF of $X$ and $Y$ is given by\n",
    "$$\n",
    "f(x,y)=\\left\\{\\begin{array}{ll}\n",
    "2e^{-x}e^{-2y}&\\mbox{for}\\ 0<x, y<\\infty\\\\\n",
    "0&\\mbox{otherwise}\n",
    "\\end{array}\\right.\n",
    "$$\n",
    "\\begin{eqnarray} \n",
    "(1)\n",
    "&&\n",
    "\\mbox{Compute $P(X>1,Y<1).$}\\nonumber\\\\\n",
    "(2)\n",
    "&&\n",
    "\\mbox{Compute $P(X<Y)$.}\\nonumber\\\\\n",
    "(3)\n",
    "&&\n",
    "\\mbox{$X\\sim Exp(1)$ and $Y\\sim Exp(2)$ are independent.}\\nonumber\n",
    "\\end{eqnarray}"
   ]
  },
  {
   "cell_type": "markdown",
   "metadata": {},
   "source": [
    "\\begin{eqnarray}\n",
    "P(X>1,Y<1)\n",
    "&=&\n",
    "P(X>1,0<Y<1)\\nonumber\\\\\n",
    "&=&\n",
    "\\int_1^{\\infty}dx\\int_0^1dy \\left[2e^{-x}e^{-2y}\\right]\\nonumber\\\\\n",
    "&=&\n",
    "\\int_0^1dy \\left[-2e^{-x}e^{-2y}\\right]_{x=1}^{x=\\infty}\n",
    "=\\int_0^1dy \\left[2e^{-1}e^{-2y}\\right]\\nonumber\\\\\n",
    "&=&\n",
    "\\left[-e^{-1}e^{-2y}\\right]_{y=0}^{y=1}=\n",
    "e^{-1}(1-e^{-2})\\nonumber\n",
    "\\end{eqnarray}\n",
    "\n",
    "\\begin{eqnarray}\n",
    "P(X<Y)\n",
    "&=&\n",
    "\\int_0^{\\infty}dx\\int_x^{\\infty}dy \\left[2e^{-x}e^{-2y}\\right]\\nonumber\\\\\n",
    "&=&\n",
    "\\int_0^{\\infty}dx \\left[-e^{-x}e^{-2y}\\right]_{y=x}^{y=\\infty}=\n",
    "\\int_0^{\\infty}dx \\left[e^{-3x}\\right]\\nonumber\\\\\n",
    "&=&\n",
    "\\left[-\\frac{1}{3}e^{-3x}\\right]_{x=0}^{x=\\infty}=\\frac{1}{3}\n",
    "\\nonumber\n",
    "\\end{eqnarray}\n",
    "\n",
    "$$\n",
    "f(x,y)\n",
    "\\quad=\\quad\n",
    "2e^{-x}e^{-2y}1(x\\ge 0,y\\ge 0)\n",
    "\\quad=\\quad\n",
    "\\underbrace{e^{-x}1(x\\ge 0)}_{Exp(1)}\n",
    "\\quad\\cdot\\quad\n",
    "\\underbrace{2e^{-2y}1(y\\ge 0)}_{Exp(2)}\n",
    "$$\n",
    "$$\n",
    "\\Rightarrow\\quad\n",
    "\\mbox{$X$ and $Y$ are independent}\n",
    "$$"
   ]
  },
  {
   "cell_type": "markdown",
   "metadata": {},
   "source": [
    "### Example - Hike over Mt. Bukhan\n",
    "\n",
    "During the hike over Mt. Bukhan\n",
    "I saw a warning sign saying that at a particular spot\n",
    "there are 2 mortality accis per year on average. \n",
    "Calculate\n",
    "\\begin{eqnarray}\n",
    "(1)\n",
    "&&\n",
    "\\mbox{the probably that there is no mortality acci next one year.}\\nonumber\\\\\n",
    "(2)\n",
    "&&\n",
    "\\mbox{mean and variance of time  that a mortality acci occur,\n",
    "starting from now.}\\nonumber\n",
    "\\end{eqnarray}"
   ]
  },
  {
   "cell_type": "markdown",
   "metadata": {},
   "source": [
    "Decompose 1 year into $n$ ticks.\n",
    "\\begin{eqnarray}\n",
    "1_{A_k}\\sim B(p)\\quad\\quad\\quad\\quad\\quad\\quad\\quad\\quad\\quad\n",
    "&&\n",
    "\\mbox{Indicator of a mortality acci at tick $k$}\\nonumber\\\\\n",
    "S_n=\\sum_{k=1}^n1_{A_k}\\sim B(n,p)\\quad\\quad\\quad\\quad\n",
    "&&\n",
    "\\mbox{(Approx) Numb of mortality acci in a year}\\nonumber\\\\\n",
    "S_n=\\sum_{k=1}^n1_{A_k}\\sim B(n,p)\\approx Po(\\lambda)\n",
    "&&\n",
    "\\mbox{Numb of mortality accident in a year}\\nonumber\n",
    "\\end{eqnarray}\n",
    "\n",
    "With $S_n\\sim B(n,p)$ and $X\\sim Po(\\lambda)$, $\\lambda=np=2$,\n",
    "$$\n",
    "P(X=0)=e^{-2}=0.1353\n",
    "$$\n",
    "\n",
    "\\begin{eqnarray}\n",
    "T\\sim Exp(\\lambda)\n",
    "&&\n",
    "\\mbox{Time  that a mortality accident occur,\n",
    "starting from now}\\nonumber\n",
    "\\end{eqnarray}\n",
    "$$\n",
    "\\mathbb{E}[T]=\\frac{1}{\\lambda}\n",
    "\\quad\\mbox{and}\\quad\n",
    "Var(T)=\\frac{1}{\\lambda^2}\n",
    "$$"
   ]
  },
  {
   "cell_type": "markdown",
   "metadata": {
    "collapsed": true
   },
   "source": [
    "[<a href=\"#Poisson-Point-Process\">Back to top</a>]"
   ]
  },
  {
   "cell_type": "markdown",
   "metadata": {},
   "source": [
    "# Thinning and Merger"
   ]
  },
  {
   "cell_type": "markdown",
   "metadata": {},
   "source": [
    "### Thinning\n",
    "\n",
    "[Step 1] Generate Poisson point process with intensity $\\lambda$.\n",
    "\n",
    "[Step 2] For each Poisson point we flip a $\\alpha$-coin independently.\n",
    "\n",
    "[Step 3] If head, move this point to the up process.\n",
    "\n",
    "[Step 4] If tail, move this point to the down process.\n",
    "\n",
    "Then\n",
    "\\begin{eqnarray}\n",
    "(1)&&\\mbox{The up process is the Poisson point process with rate $\\lambda \\alpha$.}\\nonumber\\\\\n",
    "(2)&&\\mbox{The down process is the Poisson point process with rate $\\lambda (1-\\alpha)$.}\\nonumber\\\\\n",
    "(3)&&\\mbox{The up and down processes are independent.}\\nonumber\n",
    "\\end{eqnarray}"
   ]
  },
  {
   "cell_type": "markdown",
   "metadata": {},
   "source": [
    "### Merger\n",
    "\n",
    "[Step 1] Generate two indep Poisson point processes with intensity $\\lambda_1$ and $\\lambda_2$.\n",
    "\n",
    "[Step 2] Merge these two.\n",
    "\n",
    "Then\n",
    "$$\n",
    "\\mbox{The merged process is the Poisson point process with rate $\\lambda_1+\\lambda_2$.}\n",
    "$$"
   ]
  },
  {
   "cell_type": "markdown",
   "metadata": {},
   "source": [
    "### Theoretical backup for thinning\n",
    "\n",
    "Let $X$ be the number of Poisson points in $[0,1]$ with intensity $\\lambda$.\n",
    "For each Poisson point in $[0,1]$ we flip a $\\alpha$-coin independently\n",
    "to decide whether we move this point up or down.\n",
    "Let $U$ be the number of the up points and\n",
    "let $D$ be the number of the down points.\n",
    "Then\n",
    "\\begin{eqnarray}\n",
    "(1)&&U\\sim Po(\\lambda \\alpha)\\nonumber\\\\\n",
    "(2)&&D\\sim Po(\\lambda (1-\\alpha))\\nonumber\\\\\n",
    "(3)&&\\mbox{$U$ and $D$ are independent}\\nonumber\n",
    "\\end{eqnarray}"
   ]
  },
  {
   "cell_type": "markdown",
   "metadata": {},
   "source": [
    "### Theoretical backup for merger\n",
    "$$\n",
    "Po(\\lambda_1)\n",
    "\\quad*\\quad\n",
    "Po(\\lambda_2)\n",
    "\\quad=\\quad\n",
    "Po(\\lambda_1+\\lambda_2)\n",
    "$$"
   ]
  },
  {
   "cell_type": "markdown",
   "metadata": {},
   "source": [
    "\\begin{eqnarray}\n",
    "P(U=u,D=d)\n",
    "&=&P(U+D=u+d)P(U=u|U+D=u+d)\\nonumber\\\\\n",
    "&=&e^{-\\lambda}\\frac{\\lambda^{u+d}}{(u+d)!}{u+d\\choose u}\\alpha^u(1-\\alpha)^d\\nonumber\\\\\n",
    "&=&\n",
    "\\underbrace{e^{-\\lambda \\alpha}\\frac{(\\lambda \\alpha)^u}{u!}}_{U\\sim Po(\\lambda\\alpha)}\n",
    "\\quad\\cdot\\quad\n",
    "\\underbrace{e^{-\\lambda (1-\\alpha)}\\frac{(\\lambda (1-\\alpha))^d}{d!}}_{D\\sim Po(\\lambda(1-\\alpha))}\n",
    "\\nonumber\n",
    "\\end{eqnarray}\n",
    "\n",
    "\\begin{eqnarray}\n",
    "\\mbox{If $U$ and $D$ are independent}\n",
    "&\\Rightarrow&\n",
    "\\mbox{$0\\le U+D\\le 2n$ since $0\\le U\\le n$ and $0\\le D\\le n$}\\nonumber\\\\\n",
    "&\\Rightarrow&\n",
    "\\mbox{Contradiction}\\nonumber\n",
    "\\end{eqnarray}"
   ]
  },
  {
   "cell_type": "markdown",
   "metadata": {},
   "source": [
    "### Example - Min over independent exponential random variables\n",
    "\n",
    "Let $X_i$ be $Exp(\\lambda_i)$.\n",
    "Suppose they are independent.\n",
    "\\begin{eqnarray}\n",
    "(1)\n",
    "&&\n",
    "\\mbox{What is the distribution of $\\min\\{X_1,X_2\\}$?}\\nonumber\\\\\n",
    "(2)\n",
    "&&\n",
    "\\mbox{More generally, what is the distribution of $\\min\\{X_i, 1\\le i \\le n\\}$?}\\nonumber\\\\\n",
    "(3)\n",
    "&& \n",
    "\\mbox{What are the mean and variance of  $\\min\\{X_i, 1\\le i \\le n\\}$?}\\nonumber\n",
    "\\end{eqnarray}"
   ]
  },
  {
   "cell_type": "markdown",
   "metadata": {},
   "source": [
    "Generate $n$ independent Poisson point processes with intensity $\\lambda_i$.\n",
    "\\begin{eqnarray}\n",
    "X_i\\quad\\quad\\quad\\quad\\quad\\quad\\quad\\ \n",
    "&&\n",
    "\\mbox{First arrival time of $i^{th}$ Poisson point process}\\nonumber\\\\\n",
    "\\min\\{X_1,X_2\\}\\quad\\quad\\ \\ \n",
    "&&\n",
    "\\mbox{First arrival time of merged process merging first two}\\nonumber\\\\\n",
    "\\min\\{X_i, 1\\le i \\le n\\}\n",
    "&&\n",
    "\\mbox{First arrival time of merged process merging all $n$}\\nonumber\\\\\n",
    "&\\Rightarrow&\n",
    "\\min\\{X_i, 1\\le i \\le n\\}\\sim Exp\\left(\\sum_{i=1}^n\\lambda_i\\right)\\nonumber\\\\\n",
    "&&\n",
    "\\mbox{Mean}\\quad \\frac{1}{\\sum_{i=1}^n\\lambda_i},\\quad\\quad\\quad\\quad\n",
    "\\mbox{Variance}\\quad \\frac{1}{(\\sum_{i=1}^n\\lambda_i)^2}\\nonumber\n",
    "\\end{eqnarray}"
   ]
  },
  {
   "cell_type": "markdown",
   "metadata": {},
   "source": [
    "### Example - Waiting time to play tennis\n",
    "\n",
    "An athletic facility has 5 tennis courts. Pairs of players arrive at the courts and use a court for an exponentially distributed time with mean 40 minutes,\n",
    "i.e.,\n",
    "the play time is iid $Exp(\\lambda)$, $\\lambda^{-1} = 40$ (in minutes). When me and my partner arrive, we find all courts busy and 2 other pairs waiting in queue. What is the expected waiting time to get a court?"
   ]
  },
  {
   "cell_type": "markdown",
   "metadata": {},
   "source": [
    "\\begin{eqnarray}\n",
    "X_1\\sim Exp(5\\lambda)\n",
    "&&\\mbox{Time that first couple finish their game and leave the tennis court}\\nonumber\\\\\n",
    "&&\\mbox{First couple in queue start to play}\\nonumber\\\\\n",
    "X_2\\sim Exp(5\\lambda)\n",
    "&&\\mbox{Time that second couple finish their game and leave the court}\\nonumber\\\\\n",
    "&&\\mbox{measured from time that first couple leave}\\nonumber\\\\\n",
    "&&\\mbox{Second couple in queue start to play}\\nonumber\\\\\n",
    "X_3\\sim Exp(5\\lambda)\n",
    "&&\\mbox{Time that third couple finish their game and leave the court}\\nonumber\\\\\n",
    "&&\\mbox{measured from time that second couple leave}\\nonumber\\\\\n",
    "&&\\mbox{Now, we just get a court!}\\nonumber\n",
    "\\end{eqnarray}\n",
    "$$\n",
    "T=X_1+X_2+X_3\n",
    "\\quad\n",
    "\\mbox{Waiting time that we get a court, \n",
    "where $X_i$ are iid $Exp(5\\lambda)$}\n",
    "$$\n",
    "\n",
    "$$\n",
    "\\mathbb{E}[T]\n",
    "=\\sum_{i=1}^3\\mathbb{E}[X_i]\n",
    "=\\frac{3}{5\\lambda}\n",
    "$$"
   ]
  },
  {
   "cell_type": "markdown",
   "metadata": {},
   "source": [
    "### Example - Queue at the bank - Part 1\n",
    "\n",
    "When I enter the bank,\n",
    "there are already two people in line waiting for the service\n",
    "and I join the queue next to Soyoung, the last person in the line.\n",
    "There are four service desks\n",
    "and we assume the service time is iid $Exp(\\lambda)$, $\\lambda^{-1}=10$ (in minutes).\n",
    "Calculate\n",
    "\\begin{eqnarray}\n",
    "&&\n",
    "\\mbox{the mean and variance of time $T$ that I get serviced, starting from now.}\n",
    "\\nonumber\n",
    "\\end{eqnarray}"
   ]
  },
  {
   "cell_type": "markdown",
   "metadata": {},
   "source": [
    "\\begin{eqnarray}\n",
    "X_1\\sim Exp(4\\lambda)\n",
    "&&\\mbox{Time that first person leaves the service desk}\\nonumber\\\\\n",
    "&&\\mbox{First person in queue start to get one's service}\\nonumber\\\\\n",
    "X_2\\sim Exp(4\\lambda)\n",
    "&&\\mbox{Time that second person leaves the service desk}\\nonumber\\\\\n",
    "&&\\mbox{measured from time that first person leaves the service desk}\\nonumber\\\\\n",
    "&&\\mbox{Soyoung start to get her service}\\nonumber\\\\\n",
    "X_3\\sim Exp(4\\lambda)\n",
    "&&\\mbox{Time that third person leaves the service desk}\\nonumber\\\\\n",
    "&&\\mbox{measured from time that second person leaves the service desk}\\nonumber\\\\\n",
    "&&\\mbox{I start to get my service}\\nonumber\\\\\n",
    "X_4\\sim Exp(\\lambda)\n",
    "&&\\mbox{Time that my service is completed}\\nonumber\\\\\n",
    "&&\\mbox{measured from time that third person leaves the service desk}\\nonumber\\\\\n",
    "&&\\mbox{Now, I am leaving!}\\nonumber\n",
    "\\end{eqnarray}\n",
    "$$\n",
    "T=X_1+X_2+X_3+X_4\n",
    "\\quad\n",
    "\\mbox{Time that I get serviced, \n",
    "where $X_i$ are independent}\n",
    "$$\n",
    "\n",
    "$$\n",
    "\\mathbb{E}[T]\n",
    "=\\sum_{i=1}^4\\mathbb{E}[X_i]\n",
    "=\\frac{3}{4\\lambda}+\\frac{1}{\\lambda}\n",
    "\\quad\\mbox{and}\\quad\n",
    "Var(T)\n",
    "=\\sum_{i=1}^4Var(X_i)\n",
    "=\\frac{3}{(4\\lambda)^2}+\\frac{1}{\\lambda^2}\n",
    "$$"
   ]
  },
  {
   "cell_type": "markdown",
   "metadata": {},
   "source": [
    "### Example - Queue at the bank - Part 2\n",
    "\n",
    "When I enter the bank,\n",
    "there are already two people in line waiting for the service\n",
    "and I join the queue next to Soyoung, the last person in the line.\n",
    "There are four service desks\n",
    "and we assume the service time is iid $Exp(\\lambda)$, $\\lambda^{-1}=10$ (in minutes).\n",
    "Calculate\n",
    "\\begin{eqnarray}\n",
    "&&\n",
    "\\mbox{the probability that  I leave the bank before Soyoung.}\\nonumber\n",
    "\\end{eqnarray}"
   ]
  },
  {
   "cell_type": "markdown",
   "metadata": {},
   "source": [
    "When\n",
    "Soyoung start to get her service,\n",
    "due to the memoryless property of the exponential distribution\n",
    "each of four in service has the equal chance of leaving first\n",
    "and hence she cannot leave first with probability $3/4$.\n",
    "Then, I start to get my service.\n",
    "Again, by the memoryless property \n",
    "she and I have equal chance of leaving first among two.\n",
    "Therefore,\n",
    "the probability that I leave the bank before she leaves, is  \n",
    "$$\\frac{3}{4} \\times \\frac{1}{2}=\\frac{3}{8}$$"
   ]
  },
  {
   "cell_type": "markdown",
   "metadata": {
    "collapsed": true
   },
   "source": [
    "[<a href=\"#Poisson-Point-Process\">Back to top</a>]"
   ]
  }
 ],
 "metadata": {
  "kernelspec": {
   "display_name": "Python 3",
   "language": "python",
   "name": "python3"
  },
  "language_info": {
   "codemirror_mode": {
    "name": "ipython",
    "version": 3
   },
   "file_extension": ".py",
   "mimetype": "text/x-python",
   "name": "python",
   "nbconvert_exporter": "python",
   "pygments_lexer": "ipython3",
   "version": "3.5.0"
  }
 },
 "nbformat": 4,
 "nbformat_minor": 2
}
