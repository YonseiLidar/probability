{
 "cells": [
  {
   "cell_type": "markdown",
   "metadata": {},
   "source": [
    "<div align=\"center\"><img src=\"img/2018-1.png\" width=\"70%\"></div>"
   ]
  },
  {
   "cell_type": "markdown",
   "metadata": {},
   "source": [
    "$$\\begin{array}{llllllllll}\n",
    "P(X=0|Y=1)&\\propto&\\frac{2}{15}&\\propto&\\frac{2}{15}&\\propto&\\frac{2}{6}\\\\\n",
    "P(X=1|Y=1)&\\propto&\\frac{1}{5}&\\propto&\\frac{3}{15}&\\propto&\\frac{3}{6}\\\\\n",
    "P(X=2|Y=1)&\\propto&\\frac{1}{15}&\\propto&\\frac{1}{15}&\\propto&\\frac{1}{6}\\\\\n",
    "\\end{array}$$\n",
    "$$$$\n",
    "$$\\begin{array}{lll}\n",
    "E(X|Y=1)\n",
    "&=&\\sum_x xP(X=x|Y=1)\\\\\n",
    "&=&0*\\frac{2}{6}+1*\\frac{3}{6}+2*\\frac{1}{6}=\\frac{5}{6}\n",
    "\\end{array}$$"
   ]
  },
  {
   "cell_type": "code",
   "execution_count": null,
   "metadata": {},
   "outputs": [],
   "source": []
  }
 ],
 "metadata": {
  "kernelspec": {
   "display_name": "Python 3",
   "language": "python",
   "name": "python3"
  },
  "language_info": {
   "codemirror_mode": {
    "name": "ipython",
    "version": 3
   },
   "file_extension": ".py",
   "mimetype": "text/x-python",
   "name": "python",
   "nbconvert_exporter": "python",
   "pygments_lexer": "ipython3",
   "version": "3.6.9"
  }
 },
 "nbformat": 4,
 "nbformat_minor": 2
}
