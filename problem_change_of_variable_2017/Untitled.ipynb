{
 "cells": [
  {
   "cell_type": "markdown",
   "metadata": {},
   "source": [
    "<div align=\"center\"><img src=\"img/2017-2.png\" width=\"70%\"></div>"
   ]
  },
  {
   "cell_type": "markdown",
   "metadata": {},
   "source": [
    "$$\n",
    "U=X+Y,\\quad V=Y\n",
    "$$\n",
    "$$$$\n",
    "$$\n",
    "f_{X,Y}(x,y)dxdy=f_{U,V}(u,v)dudv\n",
    "\\quad\\Rightarrow\\quad\n",
    "f_{U,V}(u,v)=f_{X,Y}(x,y)\\left(\\frac{dudv}{dxdy}\\right)^{-1}\n",
    "$$\n",
    "$$$$\n",
    "$$\n",
    "\\frac{dudv}{dxdy}\n",
    "=\n",
    "\\left|\\mbox{det}\\left(\\left[\\begin{array}{cc}\n",
    "\\frac{\\partial u}{\\partial x}&\\frac{\\partial u}{\\partial y}\\\\\n",
    "\\frac{\\partial v}{\\partial x}&\\frac{\\partial v}{\\partial y}\n",
    "\\end{array}\\right]\\right)\\right|\n",
    "=\n",
    "\\left|\\mbox{det}\\left(\\left[\\begin{array}{cc}\n",
    "1&1\\\\\n",
    "0&1\n",
    "\\end{array}\\right]\\right)\\right|\n",
    "=1\n",
    "$$\n",
    "$$$$\n",
    "$$\\begin{array}{lll}\n",
    "f_{U,V}(u,v)\n",
    "&=&f_{X,Y}(x,y)1(0<x<2)1(0<y<2)\\\\\n",
    "&=&f_{X}(x)f_{Y}(y)1(0<x<2)1(0<y<2)\\\\\n",
    "&=&\\frac{1}{2}*\\frac{1}{2}1(0<x<2)1(0<y<2)\\\\\n",
    "&=&\\frac{1}{4}1(0<x<2)1(0<y<2)\\\\\n",
    "&=&\\frac{1}{4}1(v<u<v+2)1(0<v<2)\n",
    "\\end{array}$$\n",
    "$$$$\n",
    "$$\\begin{array}{lll}\n",
    "f_U(u)\n",
    "&=&\n",
    "\\int_{-\\infty}^\\infty f_{U,V}(u,v)dv\\\\\n",
    "&=&\\int_{-\\infty}^\\infty\\frac{1}{4}1(v<u<v+2)1(0<v<2)dv\\\\\n",
    "&=&\\int_0^2\\frac{1}{4}1(v<u<v+2)dv\\\\\n",
    "&=&\\left\\{\\begin{array}{ll}\n",
    "0&\\mbox{for}\\ u<0\\\\\n",
    "\\int_0^u\\frac{1}{4}dv&\\mbox{for}\\ 0<u<2\\\\\n",
    "\\int_{u-2}^2\\frac{1}{4}dv&\\mbox{for}\\ 2<u<4\\\\\n",
    "0&\\mbox{for}\\ u>4\\\\\n",
    "\\end{array}\\right.\\\\\n",
    "&=&\\left\\{\\begin{array}{ll}\n",
    "0&\\mbox{for}\\ u<0\\\\\n",
    "\\frac{1}{4}u&\\mbox{for}\\ 0<u<2\\\\\n",
    "\\frac{1}{4}(4-u)&\\mbox{for}\\ 2<u<4\\\\\n",
    "0&\\mbox{for}\\ u>4\\\\\n",
    "\\end{array}\\right.\n",
    "\\end{array}$$"
   ]
  },
  {
   "cell_type": "code",
   "execution_count": 14,
   "metadata": {},
   "outputs": [
    {
     "data": {
      "image/png": "[encoded data removed]",
      "text/plain": [
       "<Figure size 432x288 with 1 Axes>"
      ]
     },
     "metadata": {
      "needs_background": "light"
     },
     "output_type": "display_data"
    }
   ],
   "source": [
    "%matplotlib inline\n",
    "import matplotlib.pyplot as plt\n",
    "u=-0.5\n",
    "v=0.3\n",
    "plt.scatter(u,0,c='r')\n",
    "plt.plot([v,v+2],[0,0])\n",
    "plt.xlim([-2,6])\n",
    "plt.ylim([-0.1,2])\n",
    "plt.annotate('u',[u,0.1])\n",
    "plt.annotate('v',[v,0.1])\n",
    "plt.annotate('v+2',[v+2,0.1])\n",
    "plt.show()"
   ]
  },
  {
   "cell_type": "code",
   "execution_count": 16,
   "metadata": {},
   "outputs": [
    {
     "data": {
      "image/png": "[encoded data removed]",
      "text/plain": [
       "<Figure size 432x288 with 1 Axes>"
      ]
     },
     "metadata": {
      "needs_background": "light"
     },
     "output_type": "display_data"
    }
   ],
   "source": [
    "%matplotlib inline\n",
    "import matplotlib.pyplot as plt\n",
    "u=1.3\n",
    "v=0.3\n",
    "plt.scatter(u,0,c='r')\n",
    "plt.plot([v,v+2],[0,0])\n",
    "plt.xlim([-2,6])\n",
    "plt.ylim([-0.1,2])\n",
    "plt.annotate('u',[u,0.1])\n",
    "plt.annotate('v',[v,0.1])\n",
    "plt.annotate('v+2',[v+2,0.1])\n",
    "plt.show()"
   ]
  },
  {
   "cell_type": "code",
   "execution_count": 18,
   "metadata": {},
   "outputs": [
    {
     "data": {
      "image/png": "[encoded data removed]",
      "text/plain": [
       "<Figure size 432x288 with 1 Axes>"
      ]
     },
     "metadata": {
      "needs_background": "light"
     },
     "output_type": "display_data"
    }
   ],
   "source": [
    "%matplotlib inline\n",
    "import matplotlib.pyplot as plt\n",
    "u=2.3\n",
    "v=1.3\n",
    "plt.scatter(u,0,c='r')\n",
    "plt.plot([v,v+2],[0,0])\n",
    "plt.xlim([-2,6])\n",
    "plt.ylim([-0.1,2])\n",
    "plt.annotate('u',[u,0.1])\n",
    "plt.annotate('v',[v,0.1])\n",
    "plt.annotate('v+2',[v+2,0.1])\n",
    "plt.show()"
   ]
  },
  {
   "cell_type": "code",
   "execution_count": 19,
   "metadata": {},
   "outputs": [
    {
     "data": {
      "image/png": "[encoded data removed]",
      "text/plain": [
       "<Figure size 432x288 with 1 Axes>"
      ]
     },
     "metadata": {
      "needs_background": "light"
     },
     "output_type": "display_data"
    }
   ],
   "source": [
    "%matplotlib inline\n",
    "import matplotlib.pyplot as plt\n",
    "u=4.3\n",
    "v=1.3\n",
    "plt.scatter(u,0,c='r')\n",
    "plt.plot([v,v+2],[0,0])\n",
    "plt.xlim([-2,6])\n",
    "plt.ylim([-0.1,2])\n",
    "plt.annotate('u',[u,0.1])\n",
    "plt.annotate('v',[v,0.1])\n",
    "plt.annotate('v+2',[v+2,0.1])\n",
    "plt.show()"
   ]
  },
  {
   "cell_type": "code",
   "execution_count": null,
   "metadata": {},
   "outputs": [],
   "source": []
  }
 ],
 "metadata": {
  "kernelspec": {
   "display_name": "Python 3",
   "language": "python",
   "name": "python3"
  },
  "language_info": {
   "codemirror_mode": {
    "name": "ipython",
    "version": 3
   },
   "file_extension": ".py",
   "mimetype": "text/x-python",
   "name": "python",
   "nbconvert_exporter": "python",
   "pygments_lexer": "ipython3",
   "version": "3.6.9"
  }
 },
 "nbformat": 4,
 "nbformat_minor": 2
}
