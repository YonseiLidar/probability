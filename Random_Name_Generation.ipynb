{
 "cells": [
  {
   "cell_type": "markdown",
   "metadata": {},
   "source": [
    "# Random Name Generation"
   ]
  },
  {
   "cell_type": "markdown",
   "metadata": {},
   "source": [
    "### One random name generation"
   ]
  },
  {
   "cell_type": "code",
   "execution_count": 26,
   "metadata": {},
   "outputs": [
    {
     "name": "stdout",
     "output_type": "stream",
     "text": [
      "['r', 'r', 'a', 'H', 'a', 'a', 'r', 'r', 'H', 'H']\n"
     ]
    }
   ],
   "source": [
    "import random\n",
    "\n",
    "Omega = 'Harry'\n",
    "\n",
    "print([random.choice(Omega) for _ in range(10)])\n",
    "# print(random.choices(Omega, 10)) # Python3.6"
   ]
  },
  {
   "cell_type": "code",
   "execution_count": 32,
   "metadata": {},
   "outputs": [
    {
     "name": "stdout",
     "output_type": "stream",
     "text": [
      "Uwdqy\n",
      "Ihlptwb Qkiqo\n"
     ]
    }
   ],
   "source": [
    "import string\n",
    "import random\n",
    "\n",
    "# string of ascii letters \n",
    "# Letter_set = string.ascii_letters\n",
    "# LETTER_set = string.ascii_uppercase\n",
    "# letter_set = string.ascii_lowercase\n",
    "Letter_set = 'abcdefghijklmnopqrstuvwxyzABCDEFGHIJKLMNOPQRSTUVWXYZ'\n",
    "LETTER_set = 'ABCDEFGHIJKLMNOPQRSTUVWXYZ'\n",
    "letter_set = 'abcdefghijklmnopqrstuvwxyz'\n",
    "\n",
    "# print(Letter_set)\n",
    "# print(LETTER_set)\n",
    "# print(letter_set)\n",
    "\n",
    "# function - random_name_generator\n",
    "def random_name_generator(length_of_name):\n",
    "\n",
    "    n = length_of_name\n",
    "    random_name = ''\n",
    "\n",
    "    for i in range(n):\n",
    "        if i == 0:\n",
    "            random_name = random_name + random.choice(LETTER_set)\n",
    "        else:\n",
    "            random_name = random_name + random.choice(letter_set)\n",
    "\n",
    "    return random_name\n",
    "\n",
    "def random_full_name_generator(length_of_first_name, length_of_last_name):\n",
    "    first_name = random_name_generator(length_of_first_name)\n",
    "    last_name  = random_name_generator(length_of_last_name)\n",
    "    full_name  = \"{} {}\".format(first_name, last_name)  \n",
    "    return full_name\n",
    "\n",
    "# One random name generation\n",
    "if 1:\n",
    "    print(random_name_generator(5))\n",
    "elif 1:\n",
    "    print(random_full_name_generator(7, 5))"
   ]
  },
  {
   "cell_type": "markdown",
   "metadata": {},
   "source": [
    "### 50 random name generation "
   ]
  },
  {
   "cell_type": "code",
   "execution_count": 33,
   "metadata": {},
   "outputs": [
    {
     "name": "stdout",
     "output_type": "stream",
     "text": [
      "Ntlcio Qwsdat\n",
      "Liojn Luqcdwd\n",
      "Aqurix Wkaavmt\n",
      "Pcfibjul Gjfzbod\n",
      "Pcswl Xcfzx\n",
      "Stcghtggb Cbhldk\n",
      "Zwtlfssz Iyjwx\n",
      "Osjdlv Mqcjvow\n",
      "Ilszayh Gbhtyx\n",
      "Nijang Vcnae\n",
      "Avlvq Lrjmt\n",
      "Glsicpgmg Ehrkxfip\n",
      "Skgaqeveo Eqlxiibz\n",
      "Abpmfcnn Ozqccpxny\n",
      "Idlpx Grmjuly\n",
      "Fyzcw Fcwauhenb\n",
      "Elsrdh Cxctrxdic\n",
      "Chonef Hnbkbnw\n",
      "Myrtgnnan Zicfdldki\n",
      "Yowvmghtg Asrcgzdy\n",
      "Eyriyihh Qyruekv\n",
      "Mckhptsld Spdvtviq\n",
      "Rlhcj Kfipjqmwz\n",
      "Yqlsfik Mxijli\n",
      "Juslbhnp Hzhedtsw\n",
      "Isnixp Ynnwyurv\n",
      "Jiqwcbij Nyfyyxetu\n",
      "Ifvebmw Ngafnfedl\n",
      "Mfsqwzz Ddugfht\n",
      "Cmqgutb Sggalns\n",
      "Hadux Ohcxwquf\n",
      "Hoasmf Oqhguzi\n",
      "Zlmpoylw Bvyqgo\n",
      "Fmlshftx Vkrjvvowv\n",
      "Riohaw Ojgrkv\n",
      "Vxqwyyrq Ardxqtb\n",
      "Mzmztviu Efdlk\n",
      "Pzzhcqq Ejzxr\n",
      "Kuppu Drduj\n",
      "Cncfcase Wngtftgn\n",
      "Wrwyo Nrarasv\n",
      "Cjuevnyqz Rixkov\n",
      "Iliuwv Bwqyokofc\n",
      "Kewea Puhbn\n",
      "Fxtdpgbtu Wdccmrwhi\n",
      "Ipjub Cfbdlbp\n",
      "Grsurhag Zpqielzu\n",
      "Aqeaadha Ekvmwj\n",
      "Lqtkaw Mndefvcrz\n",
      "Guchy Pdokbjzrm\n"
     ]
    }
   ],
   "source": [
    "import string\n",
    "import random\n",
    "import numpy as np\n",
    "\n",
    "# string of ascii letters \n",
    "Letter_set = string.ascii_letters\n",
    "LETTER_set = string.ascii_uppercase\n",
    "letter_set = string.ascii_lowercase\n",
    "\n",
    "# function - random_name_generator\n",
    "def random_name_generator(length_of_name):\n",
    "\n",
    "    n = length_of_name\n",
    "    random_name = ''\n",
    "\n",
    "    for i in range(n):\n",
    "        if i == 0:\n",
    "            random_name = random_name + random.choice(LETTER_set)\n",
    "        else:\n",
    "            random_name = random_name + random.choice(letter_set)\n",
    "\n",
    "    return random_name\n",
    "\n",
    "def random_full_name_generator(length_of_first_name, length_of_last_name):\n",
    "    first_name = random_name_generator(length_of_first_name)\n",
    "    last_name  = random_name_generator(length_of_last_name)\n",
    "    full_name  = \"{} {}\".format(first_name, last_name)  \n",
    "    return full_name\n",
    "\n",
    "# 50 random name generation \n",
    "if 0:\n",
    "    for i in range(50):\n",
    "        length_of_name = np.random.randint(5, 10)\n",
    "        print(random_name_generator(length_of_name))\n",
    "elif 1:\n",
    "    for i in range(50):\n",
    "        length_of_first_name = np.random.randint(5, 10)\n",
    "        length_of_last_name = np.random.randint(5, 10)\n",
    "        print(random_full_name_generator(length_of_first_name, length_of_last_name))"
   ]
  },
  {
   "cell_type": "markdown",
   "metadata": {},
   "source": [
    "### Random name generation using raw input"
   ]
  },
  {
   "cell_type": "code",
   "execution_count": 34,
   "metadata": {},
   "outputs": [
    {
     "name": "stdout",
     "output_type": "stream",
     "text": [
      "What is the length of the random first name to generate? 7\n",
      "What is the length of the random last name to generate? 5\n",
      "Yaptevz Ifccm\n"
     ]
    }
   ],
   "source": [
    "import string\n",
    "import random\n",
    "\n",
    "# string of ascii letters \n",
    "Letter_set = string.ascii_letters\n",
    "LETTER_set = string.ascii_uppercase\n",
    "letter_set = string.ascii_lowercase\n",
    "\n",
    "# function - random_name_generator\n",
    "def random_name_generator(length_of_name):\n",
    "\n",
    "    n = length_of_name\n",
    "    random_name = ''\n",
    "\n",
    "    for i in range(n):\n",
    "        if i == 0:\n",
    "            random_name = random_name + random.choice(LETTER_set)\n",
    "        else:\n",
    "            random_name = random_name + random.choice(letter_set)\n",
    "\n",
    "    return random_name\n",
    "\n",
    "def random_full_name_generator(length_of_first_name, length_of_last_name):\n",
    "    first_name = random_name_generator(length_of_first_name)\n",
    "    last_name  = random_name_generator(length_of_last_name)\n",
    "    full_name  = \"{} {}\".format(first_name, last_name)  \n",
    "    return full_name\n",
    "\n",
    "# Random name generation using raw input\n",
    "if 0:\n",
    "    length_of_name = int(input('What is the length of the random name to generate? '))\n",
    "    print(random_name_generator(length_of_name))\n",
    "elif 1:\n",
    "    length_of_first_name = int(input('What is the length of the random first name to generate? '))\n",
    "    length_of_last_name = int(input('What is the length of the random last name to generate? '))\n",
    "    print(random_full_name_generator(length_of_first_name, length_of_last_name))"
   ]
  },
  {
   "cell_type": "markdown",
   "metadata": {},
   "source": [
    "[<a href=\"#Sampling\">Back to top</a>]"
   ]
  }
 ],
 "metadata": {
  "kernelspec": {
   "display_name": "Python [default]",
   "language": "python",
   "name": "python3"
  },
  "language_info": {
   "codemirror_mode": {
    "name": "ipython",
    "version": 3
   },
   "file_extension": ".py",
   "mimetype": "text/x-python",
   "name": "python",
   "nbconvert_exporter": "python",
   "pygments_lexer": "ipython3",
   "version": "3.5.5"
  }
 },
 "nbformat": 4,
 "nbformat_minor": 2
}
