{
 "cells": [
  {
   "cell_type": "markdown",
   "metadata": {},
   "source": [
    "# How to sample with or without replacement"
   ]
  },
  {
   "cell_type": "markdown",
   "metadata": {},
   "source": [
    "# Sampling with replacement"
   ]
  },
  {
   "cell_type": "code",
   "execution_count": 40,
   "metadata": {},
   "outputs": [
    {
     "data": {
      "image/png": "[encoded data removed]",
      "text/plain": [
       "<Figure size 432x288 with 1 Axes>"
      ]
     },
     "metadata": {
      "needs_background": "light"
     },
     "output_type": "display_data"
    }
   ],
   "source": [
    "import numpy as np\n",
    "import matplotlib.pyplot as plt\n",
    "\n",
    "Omega  = [ -3,  -1,   1,   2,   5]\n",
    "pmf    = [0.1, 0.1, 0.1, 0.5, 0.2]\n",
    "sample = np.random.choice(Omega, p=pmf, size=(1000,)) \n",
    "\n",
    "plt.hist(sample, bins=np.arange(-3,6))\n",
    "plt.show()"
   ]
  },
  {
   "cell_type": "markdown",
   "metadata": {},
   "source": [
    "##### random.choice(seq)\n",
    "\n",
    "Return a random element from the non-empty sequence seq. If seq is empty, raises IndexError.\n",
    "\n",
    "https://docs.python.org/2/library/random.html"
   ]
  },
  {
   "cell_type": "code",
   "execution_count": 49,
   "metadata": {},
   "outputs": [
    {
     "name": "stdout",
     "output_type": "stream",
     "text": [
      "['e', ' ', 'c', 'c', ' ', 'r']\n"
     ]
    }
   ],
   "source": [
    "import random\n",
    "import platform\n",
    "\n",
    "if 0:\n",
    "    Omega = [0,1,2,3,4,5,\"dog\",\"cat\",\"horse\",\"tiger\",\"lion\",\"cat\"]\n",
    "elif 0:\n",
    "    Omega = (0,1,2,3,4,5,\"dog\",\"cat\",\"horse\",\"tiger\",\"lion\",\"cat\")\n",
    "elif 1:\n",
    "    # https://www.washingtontimes.com/news/2019/feb/28/robert-mueller-probe-spurs-death-threats-financial/\n",
    "    Omega = \"\"\"Hours after Democrats accused Carter Page of being a Russian asset \n",
    "    at a 2017 hearing of the House Permanent Select Committee on Intelligence, \n",
    "    the former Trump campaign adviser received a chilling voicemail.\"\"\"\n",
    "\n",
    "if float(platform.python_version()[:3]) >= 3.6:\n",
    "    # https://stackoverflow.com/questions/43281886/get-a-random-sample-with-replacement\n",
    "    # In Python 3.6, the new random.choices() function will address the problem directly:\n",
    "    x = random.choices(Omega, 6)\n",
    "elif 0:\n",
    "    x = random.choice(Omega)    \n",
    "elif 1: \n",
    "    x = [random.choice(Omega) for _ in range(6)]\n",
    "\n",
    "print(x) # ['s', 'C', '\\n', 'a', 'b', 'a']"
   ]
  },
  {
   "cell_type": "code",
   "execution_count": 50,
   "metadata": {},
   "outputs": [
    {
     "name": "stdout",
     "output_type": "stream",
     "text": [
      "3.5.0\n",
      "3.5\n"
     ]
    }
   ],
   "source": [
    "# https://www.quora.com/How-do-you-find-out-the-version-of-Python-that-is-running-from-within-a-Python-program\n",
    "\n",
    "import platform\n",
    " \n",
    "print(platform.python_version())\n",
    "print(float(platform.python_version()[:3]))"
   ]
  },
  {
   "cell_type": "markdown",
   "metadata": {},
   "source": [
    "# Sampling without replacement"
   ]
  },
  {
   "cell_type": "markdown",
   "metadata": {},
   "source": [
    "##### random.sample(population, k)\n",
    "\n",
    "- Used for random sampling without replacement.\n",
    "\n",
    "- Members of the population need not be hashable or unique. \n",
    "\n",
    "- Return a k length list of unique elements chosen from the population sequence. \n",
    "If the population contains repeats, \n",
    "then each occurrence is a possible selection in the sample.\n",
    "\n",
    "https://docs.python.org/2/library/random.html"
   ]
  },
  {
   "cell_type": "code",
   "execution_count": 62,
   "metadata": {},
   "outputs": [
    {
     "name": "stdout",
     "output_type": "stream",
     "text": [
      "['a', 'r', 'd', 'b', 'c', 'T']\n"
     ]
    }
   ],
   "source": [
    "import random\n",
    "\n",
    "if 0:\n",
    "    Omega = [0,1,2,3,4,5,\"dog\",\"cat\",\"horse\",\"tiger\",\"lion\",\"cat\"]\n",
    "elif 0:\n",
    "    Omega = (0,1,2,3,4,5,\"dog\",\"cat\",\"horse\",\"tiger\",\"lion\",\"cat\")\n",
    "elif 1:\n",
    "    # https://www.washingtontimes.com/news/2019/feb/28/robert-mueller-probe-spurs-death-threats-financial/\n",
    "    Omega = \"\"\"Hours after Democrats accused Carter Page of being a Russian asset \n",
    "    at a 2017 hearing of the House Permanent Select Committee on Intelligence, \n",
    "    the former Trump campaign adviser received a chilling voicemail.\"\"\"\n",
    "\n",
    "x = random.sample(Omega, 6)\n",
    "\n",
    "print(x) # ['s', 'C', '\\n', 'a', 'b', 'a']"
   ]
  },
  {
   "cell_type": "code",
   "execution_count": null,
   "metadata": {},
   "outputs": [],
   "source": []
  },
  {
   "cell_type": "code",
   "execution_count": null,
   "metadata": {},
   "outputs": [],
   "source": []
  }
 ],
 "metadata": {
  "kernelspec": {
   "display_name": "Python 3",
   "language": "python",
   "name": "python3"
  },
  "language_info": {
   "codemirror_mode": {
    "name": "ipython",
    "version": 3
   },
   "file_extension": ".py",
   "mimetype": "text/x-python",
   "name": "python",
   "nbconvert_exporter": "python",
   "pygments_lexer": "ipython3",
   "version": "3.5.0"
  }
 },
 "nbformat": 4,
 "nbformat_minor": 2
}
