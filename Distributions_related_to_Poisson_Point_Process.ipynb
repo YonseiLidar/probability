{
 "cells": [
  {
   "cell_type": "markdown",
   "metadata": {},
   "source": [
    "# Distributions related to Poisson Point Process"
   ]
  },
  {
   "cell_type": "markdown",
   "metadata": {},
   "source": [
    "<a href=\"#Uniform-Distribution\">Uniform Distribution</a>\n",
    "\n",
    "<a href=\"#Convolution-of-two-Uniform\">Convolution of two Uniform</a>"
   ]
  },
  {
   "cell_type": "markdown",
   "metadata": {},
   "source": [
    "# Uniform Distribution"
   ]
  },
  {
   "cell_type": "markdown",
   "metadata": {},
   "source": [
    "There are three ways to generate U(a,b): \n",
    "\n",
    "- np.random.uniform\n",
    "\n",
    "- np.random.rand\n",
    "\n",
    "- np.random.random_sample"
   ]
  },
  {
   "cell_type": "code",
   "execution_count": 1,
   "metadata": {},
   "outputs": [
    {
     "name": "stdout",
     "output_type": "stream",
     "text": [
      "uniform is random_sample :  False\n",
      "rand is random_sample    :  False\n",
      "rand is uniform          :  False\n"
     ]
    }
   ],
   "source": [
    "import numpy as np\n",
    "\n",
    "# there are three ways to generate U(a,b)      \n",
    "print(\"uniform is random_sample : \", np.random.uniform is np.random.random_sample)\n",
    "print(\"rand is random_sample    : \", np.random.rand is np.random.random_sample )\n",
    "print(\"rand is uniform          : \", np.random.rand is np.random.uniform)"
   ]
  },
  {
   "cell_type": "markdown",
   "metadata": {},
   "source": [
    "np.random.random, np.random.sample, np.random.ranf are just aliases to np.random.random_sample."
   ]
  },
  {
   "cell_type": "code",
   "execution_count": 2,
   "metadata": {},
   "outputs": [
    {
     "name": "stdout",
     "output_type": "stream",
     "text": [
      "random is random_sample :  True\n",
      "sample is random_sample :  True\n",
      "ranf is random_sample   :  True\n"
     ]
    }
   ],
   "source": [
    "import numpy as np\n",
    "\n",
    "# np.random.random_sample has three aliases  \n",
    "print(\"random is random_sample : \", np.random.random is np.random.random_sample)\n",
    "print(\"sample is random_sample : \", np.random.sample is np.random.random_sample)\n",
    "print(\"ranf is random_sample   : \", np.random.ranf is np.random.random_sample)"
   ]
  },
  {
   "cell_type": "code",
   "execution_count": 2,
   "metadata": {},
   "outputs": [
    {
     "data": {
      "image/png": "[encoded data removed]",
      "text/plain": [
       "<Figure size 432x288 with 1 Axes>"
      ]
     },
     "metadata": {
      "needs_background": "light"
     },
     "output_type": "display_data"
    }
   ],
   "source": [
    "# Generate random samples of U(0,1)\n",
    "\n",
    "# import numpy as np for numerical computation \n",
    "import numpy as np\n",
    "\n",
    "# import matplotlib.pyplot as plt for ploting\n",
    "import matplotlib.pyplot as plt\n",
    "\n",
    "# generate random samples of U(0,1)\n",
    "x = np.random.uniform(0., 1., (10000,))\n",
    "\n",
    "# plot histogram of generated random samples\n",
    "plt.hist(x, bins=np.linspace(0.,1.,20), density=True)\n",
    "plt.show()"
   ]
  },
  {
   "cell_type": "markdown",
   "metadata": {},
   "source": [
    "[<a href=\"#Distributions-related-to-Poisson-Point-Process\">Back to top</a>]"
   ]
  },
  {
   "cell_type": "markdown",
   "metadata": {},
   "source": [
    "# Convolution of two Uniform"
   ]
  },
  {
   "cell_type": "markdown",
   "metadata": {},
   "source": [
    "$$\n",
    "U\\left(-\\frac{1}{2},\\frac{1}{2}\\right)\n",
    "*\n",
    "U\\left(-\\frac{1}{2},\\frac{1}{2}\\right)\n",
    "=\n",
    "\\left(1-|x|\\right)^+\n",
    "$$"
   ]
  },
  {
   "cell_type": "code",
   "execution_count": 3,
   "metadata": {},
   "outputs": [
    {
     "data": {
      "image/png": "[encoded data removed]",
      "text/plain": [
       "<Figure size 432x288 with 1 Axes>"
      ]
     },
     "metadata": {
      "needs_background": "light"
     },
     "output_type": "display_data"
    }
   ],
   "source": [
    "# Generate random samples of X + Y where X, Y iid U(0,1)\n",
    "\n",
    "# import numpy as np for numerical computation \n",
    "import numpy as np\n",
    "\n",
    "# import matplotlib.pyplot as plt for ploting\n",
    "import matplotlib.pyplot as plt\n",
    "\n",
    "# generate random samples of X + Y where X, Y iid U(0,1)\n",
    "x = np.random.uniform(0., 1., (2, 10000)) - 0.5\n",
    "x_sum = np.sum(x, axis=0)\n",
    "\n",
    "# plot histogram of generated random samples\n",
    "plt.hist(x_sum, bins=np.linspace(-1.,1), density=True)\n",
    "plt.show()"
   ]
  },
  {
   "cell_type": "markdown",
   "metadata": {},
   "source": [
    "[<a href=\"#Distributions-related-to-Poisson-Point-Process\">Back to top</a>]"
   ]
  },
  {
   "cell_type": "code",
   "execution_count": null,
   "metadata": {},
   "outputs": [],
   "source": []
  }
 ],
 "metadata": {
  "kernelspec": {
   "display_name": "Python 3",
   "language": "python",
   "name": "python3"
  },
  "language_info": {
   "codemirror_mode": {
    "name": "ipython",
    "version": 3
   },
   "file_extension": ".py",
   "mimetype": "text/x-python",
   "name": "python",
   "nbconvert_exporter": "python",
   "pygments_lexer": "ipython3",
   "version": "3.5.0"
  }
 },
 "nbformat": 4,
 "nbformat_minor": 2
}
