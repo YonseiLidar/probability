{
 "cells": [
  {
   "cell_type": "markdown",
   "metadata": {},
   "source": [
    "<div align=\"center\"><img src=\"img/2011-3.png\" width=\"70%\"></div>"
   ]
  },
  {
   "cell_type": "markdown",
   "metadata": {},
   "source": [
    "We put one point for each cell as default. Then\n",
    "we are counting the number of following solutions\n",
    "$$\n",
    "a+b+c+d=10\n",
    "$$\n",
    "where $0\\le a, b, c, d\\le 5$ are integers."
   ]
  },
  {
   "cell_type": "markdown",
   "metadata": {},
   "source": [
    "$$\\begin{array}{cccccc}\n",
    "a+b&c+d&\\mbox{Number of Cases}\\ (a,b)&\\mbox{Number of Cases}\\ (c,d)&\\mbox{Number of Cases}\\ (a,b,c,d)\\\\\n",
    "\\hline\n",
    "0&\\\\\n",
    "1&\\\\\n",
    "2&\\\\\n",
    "3&\\\\\n",
    "4&\\\\\n",
    "5&\\\\\n",
    "6&\\\\\n",
    "7&\\\\\n",
    "8&\\\\\n",
    "9&\\\\\n",
    "10&\\\\\n",
    "\\end{array}$$"
   ]
  },
  {
   "cell_type": "markdown",
   "metadata": {},
   "source": [
    "$$\\begin{array}{cccccc}\n",
    "a+b&c+d&\\mbox{Number of Cases}\\ (a,b)&\\mbox{Number of Cases}\\ (c,d)&\\mbox{Number of Cases}\\ (a,b,c,d)\\\\\n",
    "\\hline\n",
    "0&10\\\\\n",
    "1&9\\\\\n",
    "2&8\\\\\n",
    "3&7\\\\\n",
    "4&6\\\\\n",
    "5&5\\\\\n",
    "6&4\\\\\n",
    "7&3\\\\\n",
    "8&2\\\\\n",
    "9&1\\\\\n",
    "10&0\\\\\n",
    "\\end{array}$$"
   ]
  },
  {
   "cell_type": "markdown",
   "metadata": {},
   "source": [
    "$$\\begin{array}{cccccc}\n",
    "a+b&c+d&\\mbox{Number of Cases}\\ (a,b)&\\mbox{Number of Cases}\\ (c,d)&\\mbox{Number of Cases}\\ (a,b,c,d)\\\\\n",
    "\\hline\n",
    "0&10&1\\\\\n",
    "1&9&2\\\\\n",
    "2&8&3\\\\\n",
    "3&7&4\\\\\n",
    "4&6&5\\\\\n",
    "5&5&6\\\\\n",
    "6&4&5\\\\\n",
    "7&3&4\\\\\n",
    "8&2&3\\\\\n",
    "9&1&2\\\\\n",
    "10&0&1\\\\\n",
    "\\end{array}$$"
   ]
  },
  {
   "cell_type": "markdown",
   "metadata": {},
   "source": [
    "$$\\begin{array}{cccccc}\n",
    "a+b&c+d&\\mbox{Number of Cases}\\ (a,b)&\\mbox{Number of Cases}\\ (c,d)&\\mbox{Number of Cases}\\ (a,b,c,d)\\\\\n",
    "\\hline\n",
    "0&10&1&1\\\\\n",
    "1&9&2&2\\\\\n",
    "2&8&3&3\\\\\n",
    "3&7&4&4\\\\\n",
    "4&6&5&5\\\\\n",
    "5&5&6&6\\\\\n",
    "6&4&5&5\\\\\n",
    "7&3&4&4\\\\\n",
    "8&2&3&3\\\\\n",
    "9&1&2&2\\\\\n",
    "10&0&1&1\\\\\n",
    "\\end{array}$$"
   ]
  },
  {
   "cell_type": "markdown",
   "metadata": {},
   "source": [
    "$$\\begin{array}{cccccccc}\n",
    "a+b&c+d&\\mbox{Number of Cases}\\ (a,b)&\\mbox{Number of Cases}\\ (c,d)&\\mbox{Number of Cases}\\ (a,b,c,d)\\\\\n",
    "\\hline\n",
    "0&10&1&1&1^2\\\\\n",
    "1&9&2&2&2^2\\\\\n",
    "2&8&3&3&3^2\\\\\n",
    "3&7&4&4&4^2\\\\\n",
    "4&6&5&5&5^2\\\\\n",
    "5&5&6&6&6^2\\\\\n",
    "6&4&5&5&5^2\\\\\n",
    "7&3&4&4&4^2\\\\\n",
    "8&2&3&3&3^2\\\\\n",
    "9&1&2&2&2^2\\\\\n",
    "10&0&1&1&1^2\\\\\n",
    "\\end{array}$$"
   ]
  },
  {
   "cell_type": "code",
   "execution_count": null,
   "metadata": {},
   "outputs": [],
   "source": []
  },
  {
   "cell_type": "code",
   "execution_count": null,
   "metadata": {},
   "outputs": [],
   "source": []
  }
 ],
 "metadata": {
  "kernelspec": {
   "display_name": "Python 3",
   "language": "python",
   "name": "python3"
  },
  "language_info": {
   "codemirror_mode": {
    "name": "ipython",
    "version": 3
   },
   "file_extension": ".py",
   "mimetype": "text/x-python",
   "name": "python",
   "nbconvert_exporter": "python",
   "pygments_lexer": "ipython3",
   "version": "3.6.9"
  }
 },
 "nbformat": 4,
 "nbformat_minor": 2
}
