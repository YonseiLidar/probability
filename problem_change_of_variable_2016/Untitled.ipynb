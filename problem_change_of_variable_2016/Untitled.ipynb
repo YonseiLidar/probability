{
 "cells": [
  {
   "cell_type": "markdown",
   "metadata": {},
   "source": [
    "<div align=\"center\"><img src=\"img/2016-2.png\" width=\"70%\"></div>"
   ]
  },
  {
   "cell_type": "markdown",
   "metadata": {},
   "source": [
    "$$\n",
    "U=X+2Y,\\quad V=Y\n",
    "$$\n",
    "$$$$\n",
    "$$\n",
    "f_{X,Y}(x,y)dxdy=f_{U,V}(u,v)dudv\n",
    "\\quad\\Rightarrow\\quad\n",
    "f_{U,V}(u,v)=f_{X,Y}(x,y)\\left(\\frac{dudv}{dxdy}\\right)^{-1}\n",
    "$$\n",
    "$$$$\n",
    "$$\n",
    "\\frac{dudv}{dxdy}\n",
    "=\n",
    "\\left|\\mbox{det}\\left(\\left[\\begin{array}{cc}\n",
    "\\frac{\\partial u}{\\partial x}&\\frac{\\partial u}{\\partial y}\\\\\n",
    "\\frac{\\partial v}{\\partial x}&\\frac{\\partial v}{\\partial y}\n",
    "\\end{array}\\right]\\right)\\right|\n",
    "=\n",
    "\\left|\\mbox{det}\\left(\\left[\\begin{array}{cc}\n",
    "1&2\\\\\n",
    "0&1\n",
    "\\end{array}\\right]\\right)\\right|\n",
    "=1\n",
    "$$\n",
    "$$$$\n",
    "$$\\begin{array}{lll}\n",
    "f_{U,V}(u,v)\n",
    "&=&f_{X,Y}(x,y)1(x>0)1(y>0)\\\\\n",
    "&=&f_{X}(x)f_{Y}(y)1(x>0)1(y>0)\\\\\n",
    "&=&\\frac{1}{2}e^{-\\frac{x+2y}{2}}1(x>0)1(y>0)\\\\\n",
    "&=&\\frac{1}{2}e^{-\\frac{u}{2}}1(u>2v)1(v>0)\n",
    "\\end{array}$$\n",
    "$$$$\n",
    "$$\\begin{array}{lll}\n",
    "f_U(u)\n",
    "&=&\n",
    "\\int_{-\\infty}^\\infty f_{U,V}(u,v)dv\\\\\n",
    "&=&\\int_{-\\infty}^\\infty\\frac{1}{2}e^{-\\frac{u}{2}}1(u>2v)1(v>0)dv\\\\\n",
    "&=&\\frac{u}{2}e^{-\\frac{u}{2}}\\frac{1}{2}1(u>0)\n",
    "\\end{array}$$"
   ]
  },
  {
   "cell_type": "code",
   "execution_count": null,
   "metadata": {},
   "outputs": [],
   "source": []
  }
 ],
 "metadata": {
  "kernelspec": {
   "display_name": "Python 3",
   "language": "python",
   "name": "python3"
  },
  "language_info": {
   "codemirror_mode": {
    "name": "ipython",
    "version": 3
   },
   "file_extension": ".py",
   "mimetype": "text/x-python",
   "name": "python",
   "nbconvert_exporter": "python",
   "pygments_lexer": "ipython3",
   "version": "3.6.9"
  }
 },
 "nbformat": 4,
 "nbformat_minor": 2
}
