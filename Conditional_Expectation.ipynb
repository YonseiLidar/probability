{
 "cells": [
  {
   "cell_type": "markdown",
   "metadata": {},
   "source": [
    "# Conditional Expectation"
   ]
  },
  {
   "cell_type": "markdown",
   "metadata": {},
   "source": [
    "<a href=\"#Definition---Conditional-Expectation\">Definition - Conditional Expectation</a>\n",
    "\n",
    "<a href=\"#Properties-of-Conditional-Expectation\">Properties of Conditional Expectation</a>"
   ]
  },
  {
   "cell_type": "markdown",
   "metadata": {},
   "source": [
    "# Definition - Conditional Expectation"
   ]
  },
  {
   "cell_type": "markdown",
   "metadata": {},
   "source": [
    "### $E(X|Y=y)$ is a number, which is given by\n",
    "\\begin{eqnarray}\n",
    "E(X)=\\sum_{x_i}x_iP(X=x_i)\n",
    "&\\quad\\Rightarrow\\quad&\n",
    "E(X|Y=y)=\\sum_{x_i}x_iP(X=x_i|Y=y)\\nonumber\\\\\n",
    "E(X)=\\int_{-\\infty}^{\\infty}xf_X(x)dx\n",
    "&\\quad\\Rightarrow\\quad&\n",
    "E(X|Y=y)=\n",
    "\\int_{-\\infty}^{\\infty}xf_{X|Y}(x|y)dx\\nonumber\n",
    "\\end{eqnarray}"
   ]
  },
  {
   "cell_type": "markdown",
   "metadata": {},
   "source": [
    "### $E(X|Y)$ is a random variable, not a number. It is a random variable,  which is given by\n",
    "$$\n",
    "\\omega\n",
    "\\quad\\rightarrow\\quad\n",
    "y=Y(\\omega)\n",
    "\\quad\\rightarrow\\quad\n",
    "P(X=x|Y=y)\n",
    "\\quad\\rightarrow\\quad\n",
    "E(X|Y=y)\n",
    "$$\n",
    "or\n",
    "$$\n",
    "E(X|Y)(\\omega)\n",
    "\\quad=\\quad\n",
    "E(X|Y=Y(\\omega))\n",
    "$$"
   ]
  },
  {
   "cell_type": "markdown",
   "metadata": {},
   "source": [
    "### Example - three fair coin flips\n",
    "\n",
    "<div align=\"center\"><img src=\"img/The number of heads in the three fair coin flips.png\" width=\"70%\"></div>\n",
    "\n",
    "$X$ is the number of heads in the three fair coin flips."
   ]
  },
  {
   "cell_type": "markdown",
   "metadata": {},
   "source": [
    "<div align=\"center\"><img src=\"img/The number of heads in the three fair coin flips given first coin is head.png\" width=\"70%\"></div>\n",
    "\n",
    "$X$ is the number of heads in the three fair coin flips (blue).\n",
    "$Y$ is the indicator of having the head in the first fair coin flip.\n",
    "$E(X|Y)$ is the red bars. $E(X|Y)$ is a kind of a local average."
   ]
  },
  {
   "cell_type": "markdown",
   "metadata": {
    "collapsed": true
   },
   "source": [
    "[<a href=\"#Conditional-Expectation\">Back to top</a>]"
   ]
  },
  {
   "cell_type": "markdown",
   "metadata": {},
   "source": [
    "# Properties of Conditional Expectation"
   ]
  },
  {
   "cell_type": "markdown",
   "metadata": {},
   "source": [
    "\\begin{eqnarray}\n",
    "(1)&&\\mathbb{E}(X+Y|Z)=\\mathbb{E}(X|Z)+\\mathbb{E}(Y|Z)\\nonumber\\\\\n",
    "(2)&&\\mathbb{E}(aX|Y)=a\\mathbb{E}(X|Y)\\nonumber\\\\\n",
    "(3)&&\\mathbb{E}(g(Y)|Y)=g(Y)\\nonumber\\\\\n",
    "(4)&&\\mathbb{E}(g(Y)X|Y)=g(Y)\\mathbb{E}(X|Y)\\nonumber\\\\\n",
    "(5)&&\\mathbb{E}(X|Y)=\\mathbb{E}(X)\\ \\mbox{if $X$ and $Y$ are independent}\\nonumber\\\\\n",
    "(6)&&\\mathbb{E}(X)=\\mathbb{E}\\mathbb{E}(X|Y)\\nonumber\n",
    "\\end{eqnarray}"
   ]
  },
  {
   "cell_type": "markdown",
   "metadata": {},
   "source": [
    "### Example - Symmetry\n",
    "\n",
    "Let $X$ and $Y$ be iid $B(n,p)$. Calculate $E(X|X+Y=m)$. "
   ]
  },
  {
   "cell_type": "markdown",
   "metadata": {},
   "source": [
    "##### Known info\n",
    "$$\n",
    "E(X+Y|X+Y=m)=E(m|X+Y=m)=m\n",
    "$$\n",
    "\n",
    "##### Symmetry\n",
    "\\begin{eqnarray}\n",
    "E(X+Y|X+Y=m)\n",
    "&=&\n",
    "E(X|X+Y=m)+E(Y|X+Y=m)\\nonumber\\\\\n",
    "&\\stackrel{\\mbox{symmetry}}{=}&\n",
    "2E(X|X+Y=m)\\nonumber\n",
    "\\end{eqnarray}\n",
    "\n",
    "##### Wrap up\n",
    "$$\n",
    "E(X|X+Y=m)=\\frac{m}{2}\n",
    "$$"
   ]
  },
  {
   "cell_type": "markdown",
   "metadata": {
    "collapsed": true
   },
   "source": [
    "[<a href=\"#Conditional-Expectation\">Back to top</a>]"
   ]
  }
 ],
 "metadata": {
  "kernelspec": {
   "display_name": "Python 3",
   "language": "python",
   "name": "python3"
  },
  "language_info": {
   "codemirror_mode": {
    "name": "ipython",
    "version": 3
   },
   "file_extension": ".py",
   "mimetype": "text/x-python",
   "name": "python",
   "nbconvert_exporter": "python",
   "pygments_lexer": "ipython3",
   "version": "3.5.0"
  }
 },
 "nbformat": 4,
 "nbformat_minor": 2
}
