{
 "cells": [
  {
   "cell_type": "markdown",
   "metadata": {},
   "source": [
    "# Importance Sampling"
   ]
  },
  {
   "cell_type": "markdown",
   "metadata": {},
   "source": [
    "mathematicalmonk on Importance_Sampling \n",
    "[Intro](https://www.youtube.com/watch?v=S3LAOZxGcnk&list=PLD0F06AA0D2E8FFBA&index=131)\n",
    "[Intuition](https://www.youtube.com/watch?v=3Mw6ivkDVZc&list=PLD0F06AA0D2E8FFBA&index=132)\n",
    "[Without Proper Normalization](https://www.youtube.com/watch?v=gYvlnu5AAzE&list=PLD0F06AA0D2E8FFBA&index=133)"
   ]
  },
  {
   "cell_type": "markdown",
   "metadata": {},
   "source": [
    "##### MC\n",
    "\\begin{eqnarray}\n",
    "\\mathbb{E}_{X\\sim p}f(X)\n",
    "&\\approx&\\frac{1}{n}\\sum_{i=1}^n f(X_i)&&&&\\mbox{$X_i\\sim p$ iid}\n",
    "\\end{eqnarray}"
   ]
  },
  {
   "cell_type": "markdown",
   "metadata": {},
   "source": [
    "##### Importance Sampling\n",
    "\\begin{eqnarray}\n",
    "\\mathbb{E}_{X\\sim p}f(X)\n",
    "&=&\\int f(x)p(x)dx\\\\\n",
    "&=&\\int \\frac{p(x)}{q(x)}f(x)q(x)dx\\\\\n",
    "&=&\\mathbb{E}_{X\\sim q} \\frac{p(X)}{q(X)}f(X)\\\\\n",
    "&:=&\\mathbb{E}_{X\\sim q} \\omega(X) f(X)&&&&\\omega(X)=\\frac{p(X)}{q(X)}\\\\\n",
    "&\\approx&\\frac{1}{n}\\sum_{i=1}^n\\omega(X_i)f(X_i)&&&&\\mbox{$X_i\\sim q$ iid}\n",
    "\\end{eqnarray}"
   ]
  },
  {
   "cell_type": "markdown",
   "metadata": {},
   "source": [
    "#### Example\n",
    "\n",
    "\\begin{array}{llllllllllll}\n",
    "\\mbox{MC}&&&&\\mathbb{E}_{X\\sim N(0,1)}f(X)\n",
    "&\\approx&\\frac{1}{n}\\sum_{i=1}^nf(X_i)&&&&\\mbox{$X_i\\sim N(0,1)$ iid}\\\\\n",
    "\\mbox{IS}&&&&\\mathbb{E}_{X\\sim N(0,1)}f(X)&\\approx&\\frac{1}{n}\\sum_{i=1}^n\\omega(X_i)f(X_i)&&&&\\mbox{$X_i\\sim N(-3,1)$ iid}\n",
    "\\end{array}\n",
    "where\n",
    "$$\n",
    "f(x)=(-x-3)^+=\\left\\{\\begin{array}{ll}\n",
    "-x-3&\\mbox{if $-x-3\\ge 0$}\\\\\n",
    "0&\\mbox{otherwise}\n",
    "\\end{array}\n",
    "\\right.\n",
    "$$"
   ]
  },
  {
   "cell_type": "code",
   "execution_count": 6,
   "metadata": {},
   "outputs": [
    {
     "data": {
      "image/png": "[encoded data removed]",
      "text/plain": [
       "<Figure size 432x288 with 1 Axes>"
      ]
     },
     "metadata": {
      "needs_background": "light"
     },
     "output_type": "display_data"
    }
   ],
   "source": [
    "# MC\n",
    "\n",
    "import numpy as np\n",
    "import matplotlib.pyplot as plt\n",
    "\n",
    "def f(x):\n",
    "    return np.maximum(-x-3, 0)\n",
    "\n",
    "n = 100\n",
    "n_sim = 1000\n",
    "x = np.random.normal(0., 1., (n_sim, n))\n",
    "nfx = np.mean(f(x), axis=1)\n",
    "\n",
    "plt.hist(nfx, bins=100)\n",
    "plt.show()"
   ]
  },
  {
   "cell_type": "code",
   "execution_count": 7,
   "metadata": {},
   "outputs": [
    {
     "data": {
      "image/png": "[encoded data removed]",
      "text/plain": [
       "<Figure size 432x288 with 1 Axes>"
      ]
     },
     "metadata": {
      "needs_background": "light"
     },
     "output_type": "display_data"
    }
   ],
   "source": [
    "# Importance Sampling\n",
    "\n",
    "import numpy as np\n",
    "import matplotlib.pyplot as plt\n",
    "\n",
    "def f(x):\n",
    "    return np.maximum(-x-3, 0)\n",
    "\n",
    "def omega(x):\n",
    "    return np.exp(- x**2/2 + (x+3)**2/2)\n",
    "\n",
    "n = 100\n",
    "n_sim = 1000\n",
    "x = np.random.normal(-3., 1., (n_sim, n))\n",
    "nfx = np.mean(omega(x)*f(x), axis=1)\n",
    "\n",
    "plt.hist(nfx, bins=100)\n",
    "plt.show()"
   ]
  },
  {
   "cell_type": "markdown",
   "metadata": {},
   "source": [
    "##### Importance Sampling without Normalization\n",
    "\n",
    "- We can generate $n$ iid samples $X_i$ not from original PDF $p(x)$,\n",
    "but from a new PDF $q(x)$.\n",
    "\n",
    "- We know $\\tilde{p}$, not $p=\\tilde{p}/Z_p$. We don't know normalization constant $Z_f$. \n",
    "\n",
    "- We know $\\tilde{q}$, not $q=\\tilde{q}/Z_q$. We don't know normalization constant $Z_q$. \n",
    "\n",
    "\n",
    "With\n",
    "$\n",
    "\\tilde{\\omega}(X)=\\frac{\\tilde{p}(X)}{\\tilde{q}(X)}\n",
    "$\n",
    "\\begin{eqnarray}\n",
    "\\mathbb{E}_{X\\sim p}f(X)\n",
    "&\\approx&\\frac{1}{n}\\sum_{i=1}^n\\frac{\\tilde{\\omega}(X_i)}{\\sum_{k=1}^n \\tilde{\\omega}(X_k)}f(X_i)&&&&\\mbox{$X_i\\sim q$ iid}\n",
    "\\end{eqnarray}"
   ]
  },
  {
   "cell_type": "markdown",
   "metadata": {},
   "source": [
    "Estimate $\\mathbb{E}_{X\\sim p}f(X)$ by\n",
    "\\begin{eqnarray}\n",
    "\\mathbb{E}_{X\\sim p}f(X)\n",
    "&=&\\int f(x)p(x)dx\\\\\n",
    "&=&\\int \\frac{p(x)}{q(x)}f(x)q(x)dx\\\\\n",
    "&=&\\frac{Z_q}{Z_p}\\int \\frac{\\tilde{p}(x)}{\\tilde{q}(x)}f(x)q(x)dx \\\\\n",
    "&=&\\frac{Z_q}{Z_p}\\mathbb{E}_{X\\sim q} \\frac{\\tilde{p}(X)}{\\tilde{q}(X)}f(X) \\\\\n",
    "&:=&\\frac{Z_q}{Z_p}\\mathbb{E}_{X\\sim q} \\tilde{\\omega}(X)f(X)&&&&\\tilde{\\omega}(X)=\\frac{\\tilde{p}(X)}{\\tilde{q}(X)} \\\\\n",
    "&\\approx&\\frac{Z_q}{Z_p}\\left(\\frac{1}{n}\\sum_{i=1}^n\\tilde{\\omega}(X_i)f(X_i)\\right)&&&&\\mbox{$X_i\\sim q$ iid}\\\\\n",
    "&=&\\frac{1}{n}\\sum_{i=1}^n\\frac{\\tilde{\\omega}(X_i)}{\\frac{Z_p}{Z_q}}f(X_i)\n",
    "\\end{eqnarray}"
   ]
  },
  {
   "cell_type": "markdown",
   "metadata": {},
   "source": [
    "Estimate $Z_p/Z_q$ by\n",
    "\\begin{eqnarray}\n",
    "\\frac{Z_p}{Z_q}\n",
    "&=&\\frac{1}{Z_q}\\int \\tilde{p}(x)dx\\\\\n",
    "&=&\\int \\tilde{p}(x)\\frac{1}{Z_q}dx\\\\\n",
    "&=&\\int \\tilde{p}(x)\\frac{q(x)}{\\tilde{q}(x)}dx\\\\\n",
    "&=&\\int \\frac{\\tilde{p}(x)}{\\tilde{q}(x)}q(x)dx\\\\\n",
    "&=&\\int {\\tilde\\omega}(x)q(x)dx\\\\\n",
    "&=&\\mathbb{E}_{X\\sim q}{\\tilde\\omega}(X)\\\\\n",
    "&\\approx&\\frac{1}{n}\\sum_{i=1}^n\\tilde{\\omega}(X_i)&&&&\\mbox{$X_i\\sim q$ iid}\n",
    "\\end{eqnarray}"
   ]
  },
  {
   "cell_type": "markdown",
   "metadata": {},
   "source": [
    "# Pros and cons of importance sampling\n",
    "\n",
    "##### Pros\n",
    "\n",
    "- Easier to sample from $q$\n",
    "\n",
    "- Can reduce the variance of the estimator\n",
    "\n",
    "- Works well in low dimension up to 6\n",
    "\n",
    "##### Cons\n",
    "\n",
    "- Does not work well in high dimension ($\\Rightarrow$ MCMC)\n",
    "\n",
    "- Need modification in sequential setting ($\\Rightarrow$ sequential importance sampling)"
   ]
  },
  {
   "cell_type": "markdown",
   "metadata": {},
   "source": [
    "# How to choose $q$\n",
    "$$\n",
    "\\mbox{argmin}_q\\  \\int\\frac{p^2f^2}{q^2}q-\\left(\\int\\frac{pf}{q}q\\right)^2\n",
    "=\\mbox{argmin}_q\\  \\int\\frac{p^2f^2}{q^2}q-\\left(\\int pf\\right)^2\n",
    "=\\mbox{argmin}_q\\  \\int\\frac{p^2f^2}{q^2}q\n",
    "$$\n",
    "\n",
    "$$\n",
    "\\mbox{argmin}_{q_i>0,\\ \\sum_i q_i=1}\\ \\ \\sum_i\\frac{p_i^2f_i^2}{q_i^2}q_i\n",
    "$$\n",
    "$$\n",
    "{\\cal L}=\\sum_i\\frac{p_i^2f_i^2}{q_i^2}q_i-\\beta\\left(\\sum_i q_i-1\\right)\n",
    "=\\sum_i\\frac{p_i^2f_i^2}{q_i}-\\beta\\left(\\sum_i q_i-1\\right)\n",
    "$$\n",
    "$$\n",
    "\\frac{\\partial{\\cal L}}{\\partial q_i}=-\\frac{p_i^2f_i^2}{q_i^2}-\\beta=0\n",
    "\\ \\ \\Rightarrow\\ \\ q_i^2\\propto p_i^2f_i^2\n",
    "\\ \\ \\Rightarrow\\ \\ q_i\\propto p_if_i\n",
    "\\ \\ \\Rightarrow\\ \\ q_i=\\frac{p_if_i}{\\sum_k p_kf_k}\n",
    "$$\n",
    "\n",
    "$$\\begin{array}{llllll}\n",
    "\\mbox{1st choice}&&q\\propto pf\\ \\ \\Rightarrow\\ \\  q=\\frac{pf}{Z}\\nonumber\\\\\n",
    "\\nonumber\\\\\n",
    "\\mbox{2nd choice}&&\\mbox{Choose $q$ large when $pf$ is large}\\nonumber\\\\\n",
    "\\nonumber\\\\\n",
    "\\mbox{Other choice}&&\\mbox{Minimize the variance of the posterior}\\nonumber\\\\\n",
    "\\nonumber\\\\\n",
    "\\mbox{Other choice}&&\\mbox{Minimize the variance of the MCMC}\\nonumber\\\\\n",
    "\\nonumber\\\\\n",
    "\\mbox{Other choice}&&\\mbox{Use MLE or MAP}\\nonumber\\\\\n",
    "\\nonumber\\\\\n",
    "\\mbox{Other choice}&&\\mbox{Study the nature of the problem}\\nonumber\\\\\n",
    "\\nonumber\\\\\n",
    "\\mbox{Other choice}&&\\mbox{Cross validation}\\nonumber\\\\\n",
    "\\end{array}$$"
   ]
  },
  {
   "cell_type": "code",
   "execution_count": null,
   "metadata": {},
   "outputs": [],
   "source": []
  }
 ],
 "metadata": {
  "kernelspec": {
   "display_name": "Python [default]",
   "language": "python",
   "name": "python3"
  },
  "language_info": {
   "codemirror_mode": {
    "name": "ipython",
    "version": 3
   },
   "file_extension": ".py",
   "mimetype": "text/x-python",
   "name": "python",
   "nbconvert_exporter": "python",
   "pygments_lexer": "ipython3",
   "version": "3.5.0"
  }
 },
 "nbformat": 4,
 "nbformat_minor": 2
}
