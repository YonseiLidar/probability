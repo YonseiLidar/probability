{
 "cells": [
  {
   "cell_type": "markdown",
   "metadata": {},
   "source": [
    "<div align=\"center\"><img src=\"img/2015-1.png\" width=\"70%\"></div>"
   ]
  },
  {
   "cell_type": "markdown",
   "metadata": {},
   "source": [
    "$$\\begin{array}{lll}\n",
    "P(M=2)\n",
    "&=&\n",
    "P\\left(\\frac{X}{3}< Y<\\frac{X}{2}\\right)\\\\\n",
    "&=&E1\\left(\\frac{X}{3}< Y<\\frac{X}{2}\\right)\\\\\n",
    "&=&EE\\left(1\\left(\\frac{X}{3}< Y<\\frac{X}{2}\\right)\\left|\\right.X\\right)\\\\\n",
    "&=&EP\\left(\\frac{X}{3}< Y<\\frac{X}{2}\\left|\\right.X\\right)\\\\\n",
    "&=&E\\frac{X}{6}\\\\\n",
    "&=&\\frac{1}{6}EX\n",
    "\\end{array}$$\n",
    "$$$$\n",
    "$$\n",
    "EX=\\int_{-\\infty}^\\infty xf_X(x)dx\n",
    "=\\int_0^1 x*2xdx\n",
    "=\\int_0^1 2x^2dx\n",
    "$$"
   ]
  },
  {
   "cell_type": "code",
   "execution_count": null,
   "metadata": {},
   "outputs": [],
   "source": []
  }
 ],
 "metadata": {
  "kernelspec": {
   "display_name": "Python 3",
   "language": "python",
   "name": "python3"
  },
  "language_info": {
   "codemirror_mode": {
    "name": "ipython",
    "version": 3
   },
   "file_extension": ".py",
   "mimetype": "text/x-python",
   "name": "python",
   "nbconvert_exporter": "python",
   "pygments_lexer": "ipython3",
   "version": "3.6.9"
  }
 },
 "nbformat": 4,
 "nbformat_minor": 2
}
