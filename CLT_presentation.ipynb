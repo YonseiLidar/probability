{
 "cells": [
  {
   "cell_type": "markdown",
   "metadata": {},
   "source": [
    "# CLT"
   ]
  },
  {
   "cell_type": "markdown",
   "metadata": {},
   "source": [
    "<a href=\"#Moment-Generating-Function-(MGF)\">Moment Generating Function (MGF)</a>\n",
    "\n",
    "<a href=\"#Example-of-MGF\">Example of MGF</a>\n",
    "\n",
    "<a href=\"#Poisson-Approximation-Revisited\">Poisson Approximation Revisited</a>\n",
    "\n",
    "<a href=\"#Properties-of-Normal-Distribution\">Properties of Normal Distribution</a>\n",
    "\n",
    "<a href=\"#Properties-of-Normal-Distribution,-not-CLT\">Properties of Normal Distribution, not CLT</a>\n",
    "\n",
    "<a href=\"#Central-Limit-Theorem-(CLT)\">Central Limit Theorem (CLT)</a>"
   ]
  },
  {
   "cell_type": "markdown",
   "metadata": {},
   "source": [
    "# Moment Generating Function (MGF)"
   ]
  },
  {
   "cell_type": "markdown",
   "metadata": {},
   "source": [
    "$$\n",
    "\\phi(t)=\\phi_X(t)=Ee^{tX}\n",
    "$$"
   ]
  },
  {
   "cell_type": "markdown",
   "metadata": {},
   "source": [
    "##### Reason for name\n",
    "$$\\begin{array}{lllll}\n",
    "\\phi(t)=Ee^{tX}\n",
    "&\\Rightarrow&\n",
    "\\phi'(t)=EXe^{tX}\n",
    "&\\Rightarrow&\n",
    "\\phi'(0)=EX\\nonumber\\\\\n",
    "\\\\\n",
    "\\phi(t)=Ee^{tX}\n",
    "&\\Rightarrow&\n",
    "\\phi''(t)=EX^2e^{tX}\n",
    "&\\Rightarrow&\n",
    "\\phi''(0)=EX^2\\nonumber\\\\\n",
    "\\\\\n",
    "\\vdots&\\vdots&\\vdots\\nonumber\\\\\n",
    "\\\\\n",
    "\\phi(t)=Ee^{tX}\n",
    "&\\Rightarrow&\n",
    "\\phi^{(n)}(t)=EX^ne^{tX}\n",
    "&\\Rightarrow&\n",
    "\\phi^{(n)}(0)=EX^n\\nonumber\n",
    "\\end{array}$$"
   ]
  },
  {
   "cell_type": "markdown",
   "metadata": {},
   "source": [
    "##### Why MGF\n",
    "\\begin{eqnarray}\n",
    "(1)&&\n",
    "\\phi_X(t)=\\phi_Y(t)\n",
    "\\ \\ \\quad\\Rightarrow\\quad\n",
    "\\mbox{Distribution of}\\ X\\ \\quad=\\ \\quad\\mbox{Distribution of}\\ Y\\nonumber\\\\\n",
    "\\nonumber\\\\\n",
    "(2)&&\n",
    "\\phi_{X_n}(t)\\rightarrow\\phi_Y(t)\n",
    "\\quad\\Rightarrow\\quad\n",
    "\\mbox{Distribution of}\\ X_n\\quad\\rightarrow\\quad\\mbox{Distribution of}\\ Y\\nonumber\n",
    "\\end{eqnarray}"
   ]
  },
  {
   "cell_type": "markdown",
   "metadata": {},
   "source": [
    "[<a href=\"#CLT\">Back to top</a>]"
   ]
  },
  {
   "cell_type": "markdown",
   "metadata": {},
   "source": [
    "# Example of MGF"
   ]
  },
  {
   "cell_type": "markdown",
   "metadata": {},
   "source": [
    "\\begin{eqnarray}\n",
    "B(p)\\quad\\ \\ &&\n",
    "\\phi(t)=1+p(e^t-1)\\nonumber\\\\\n",
    "\\nonumber\\\\\n",
    "B(n,p)\\ \\ &&\n",
    "\\phi(t)=\\left[1+p(e^t-1)\\right]^n\\nonumber\\\\\n",
    "\\nonumber\\\\\n",
    "Po(\\lambda)\\quad&&\n",
    "\\phi(t)=e^{-\\lambda(1-e^t)}\\nonumber\\\\\n",
    "\\nonumber\\\\\n",
    "N(\\mu,\\sigma ^2)&&\n",
    "\\phi(t)=e^{\\mu t+\\frac{1}{2}\\sigma ^2t^2}\\nonumber\n",
    "\\end{eqnarray}"
   ]
  },
  {
   "cell_type": "markdown",
   "metadata": {},
   "source": [
    "$$\n",
    "\\begin{array}{lll}\n",
    "\\phi_{B(p)}(t)\n",
    "&=&\n",
    "Ee^{tX}=\n",
    "e^t\\times p+1\\times(1-p)=\n",
    "1+p(e^t-1)\\nonumber\\\\\n",
    "\\nonumber\\\\\n",
    "\\phi_{B(n,p)}(t)\n",
    "&=&\n",
    "\\prod_{k=1}^nEe^{tX_k}=\n",
    "\\prod_{k=1}^n(1+p(e^t-1))=\n",
    "(1+p(e^t-1))^n\\nonumber\\\\\n",
    "\\nonumber\\\\\n",
    "\\phi_{Po(\\lambda)}(t)\n",
    "&=&\n",
    "\\sum_{k=0}^{\\infty}e^{tk}\\frac{\\lambda^k}{k!}e^{-\\lambda}=\n",
    "\\left(\\sum_{k=0}^{\\infty}\\frac{(\\lambda e^t)^k}{k!}\\right)e^{-\\lambda}=\n",
    "e^{\\lambda e^t}e^{-\\lambda}=\n",
    "e^{-\\lambda(1-e^t)}\\nonumber\\\\\n",
    "\\nonumber\\\\\n",
    "\\phi_{N(\\mu,\\sigma ^2)}(t)\n",
    "&=&\\int_{-\\infty}^{\\infty}e^{tx}\\frac{1}{\\sqrt{2\\pi \\sigma ^2}}e^{-\\frac{(x-\\mu)^2}{2\\sigma ^2}}dx\\nonumber\\\\\n",
    "&=&e^{\\mu t+\\frac{1}{2}\\sigma ^2t^2}\\int_{-\\infty}^{\\infty}\\underbrace{\\frac{1}{\\sqrt{2\\pi \\sigma ^2}}e^{-\\frac{(x-(\\mu+\\sigma ^2t))^2}{2\\sigma ^2}}}_{\\mbox{PDF of $N(\\mu+\\sigma ^2t,\\sigma ^2)$}}dx=e^{\\mu t+\\frac{1}{2}\\sigma ^2t^2}\\nonumber\n",
    "\\end{array}\n",
    "$$"
   ]
  },
  {
   "cell_type": "markdown",
   "metadata": {},
   "source": [
    "[<a href=\"#CLT\">Back to top</a>]"
   ]
  },
  {
   "cell_type": "markdown",
   "metadata": {},
   "source": [
    "# Poisson Approximation Revisited"
   ]
  },
  {
   "cell_type": "markdown",
   "metadata": {},
   "source": [
    "If $n$ is large, $p$ is small, $np=\\lambda$ is medium,\n",
    "$$B(n,p)\\approx Po(\\lambda)$$\n",
    "meaning, with $X\\sim B(n,p)$, $Y\\sim Po(\\lambda)$, for any $k=0,1,2,\\ldots$\n",
    "$$\n",
    "P(X=k)={n\\choose k}p^kq^{n-k}\n",
    "\\quad\\approx\\quad \n",
    "P(Y=k)=e^{-\\lambda}\\frac{\\lambda^k}{k!}\n",
    "$$"
   ]
  },
  {
   "cell_type": "markdown",
   "metadata": {},
   "source": [
    "$$\n",
    "\\phi_{B(n,p)}(t)\n",
    "=\n",
    "(1+p(e^t-1))^n\n",
    "\\approx\n",
    "\\left(e^{p(e^t-1)}\\right)^n\n",
    "=\n",
    "e^{-\\lambda (1-e^t)}\n",
    "=\n",
    "\\phi_{Po(\\lambda)}(t)\n",
    "$$"
   ]
  },
  {
   "cell_type": "markdown",
   "metadata": {},
   "source": [
    "Exercise.\n",
    "Using MGF show\n",
    "$$\n",
    "Po(\\lambda_1)*Po(\\lambda_2)=Po(\\lambda_1+\\lambda_2)\n",
    "$$"
   ]
  },
  {
   "cell_type": "markdown",
   "metadata": {
    "collapsed": true
   },
   "source": [
    "[<a href=\"#CLT\">Back to top</a>]"
   ]
  },
  {
   "cell_type": "markdown",
   "metadata": {},
   "source": [
    "# Properties of Normal Distribution"
   ]
  },
  {
   "cell_type": "markdown",
   "metadata": {},
   "source": [
    "For $a\\neq 0$\n",
    "$$\\begin{array}{lll}\n",
    "(1)& X\\sim\\mbox{Normal}\\quad\\Rightarrow\\quad aX+b\\sim\\mbox{Normal}\\\\\n",
    "\\end{array}$$\n",
    "In particular,\n",
    "$$\\begin{array}{lll}\n",
    "\\mbox{Standardization}&&X\\sim N(\\mu,\\sigma^2)\\quad\\Rightarrow\\quad \\frac{X-\\mu}{\\sigma}\\sim N(0,1^2)\\\\\n",
    "\\mbox{Reverse Standardization}&&Z\\sim N(0,1^2)\\quad\\Rightarrow\\quad Z*\\sigma+\\mu\\sim N(\\mu,\\sigma^2)\\\\\n",
    "\\end{array}$$"
   ]
  },
  {
   "cell_type": "markdown",
   "metadata": {},
   "source": [
    "$$\\begin{array}{lll}\n",
    "(2)& X\\sim\\mbox{Normal},\\ Y\\sim\\mbox{Normal}\\quad\\Rightarrow\\quad X+Y\\sim\\mbox{Normal}\\quad\\mbox{if $X$ and $Y$ are independent}\\\\\n",
    "(3)& X\\sim\\mbox{Normal},\\ Y\\sim\\mbox{Normal}\\quad\\Rightarrow\\quad X+Y\\sim\\mbox{Normal}\\quad\\mbox{if $(X,Y)$ is multivariate normal}\\\\\n",
    "\\mbox{WARNING}& X\\sim\\mbox{Normal},\\ Y\\sim\\mbox{Normal}\\quad\\not\\Rightarrow\\quad X+Y\\sim\\mbox{Normal}\\\\\n",
    "\\end{array}$$"
   ]
  },
  {
   "cell_type": "markdown",
   "metadata": {},
   "source": [
    "(1)\n",
    "With $X\\sim N(\\mu,\\sigma ^2)$\n",
    "\\begin{eqnarray}\n",
    "\\phi_{aX+b}(t)\n",
    "&=&\n",
    "Ee^{t(aX+b)}\n",
    "=e^{bt}Ee^{atX}\n",
    "=e^{bt}\\phi_X(at)\n",
    "=e^{bt}e^{\\mu (at)+\\frac{1}{2}\\sigma ^2(at)^2}\\nonumber\\\\\n",
    "&=&e^{(a\\mu+b) t+\\frac{1}{2}a^2\\sigma^2t^2}\n",
    "=\\phi_{N(a\\mu+b,a^2\\sigma ^2)}(t)\\nonumber\n",
    "\\end{eqnarray}"
   ]
  },
  {
   "cell_type": "markdown",
   "metadata": {},
   "source": [
    "(2)\n",
    "With\n",
    "two independent random variables\n",
    "$X\\sim N(\\mu_1,\\sigma _1^2)$ and $Y\\sim N(\\mu_2,\\sigma _2^2)$\n",
    "$$\n",
    "\\phi_{X+Y}(t)\n",
    "=\\phi_X(t)\\phi_Y(t)\n",
    "=e^{\\mu_1 t+\\frac{1}{2}\\sigma_1^2t^2}e^{\\mu_2 t+\\frac{1}{2}\\sigma _2^2t^2}\n",
    "=e^{(\\mu_1+\\mu_2) t+\\frac{1}{2}(\\sigma_1^2+\\sigma_2^2)t^2}\n",
    "=\\phi_{N(\\mu_1+\\mu_2,\\sigma_1^2+\\sigma_2^2)}(t)\n",
    "$$"
   ]
  },
  {
   "cell_type": "markdown",
   "metadata": {},
   "source": [
    "[<a href=\"#CLT\">Back to top</a>]"
   ]
  },
  {
   "cell_type": "markdown",
   "metadata": {},
   "source": [
    "# Properties of Normal Distribution, not CLT"
   ]
  },
  {
   "cell_type": "markdown",
   "metadata": {},
   "source": [
    "$$\n",
    "\\begin{array}{ccccccccc}\\hline\n",
    "X_i\\ \\mbox{iid}\\ N(\\mu,\\sigma^2)&\\mbox{Mean}&\\mbox{Variance}&\\mbox{Distribution}\\\\\\hline\n",
    "X_i&\\mu&\\sigma^2&\\mbox{Normal}\\\\\n",
    "S_n&\\mu n&\\sigma^2n&\\mbox{Normal}\\\\\n",
    "\\frac{S_n-\\mu n}{\\sigma \\sqrt{n}}&0&1&\\mbox{Normal}\\\\\\hline\n",
    "\\end{array}\n",
    "$$"
   ]
  },
  {
   "cell_type": "markdown",
   "metadata": {},
   "source": [
    "[<a href=\"#CLT\">Back to top</a>]"
   ]
  },
  {
   "cell_type": "markdown",
   "metadata": {},
   "source": [
    "# Central Limit Theorem (CLT)"
   ]
  },
  {
   "cell_type": "markdown",
   "metadata": {},
   "source": [
    "$$\n",
    "\\begin{array}{ccccccccc}\\hline\n",
    "X_i\\ \\mbox{iid}&\\mbox{Mean}&\\mbox{Variance}&\\mbox{Distribution}\\\\\\hline\n",
    "X_i&\\mu&\\sigma^2&\\mbox{Not Normal}\\\\\n",
    "S_n&\\mu n&\\sigma^2n&\\mbox{Not Normal, but approximately normal for large $n$}\\\\\n",
    "\\frac{S_n-\\mu n}{\\sigma \\sqrt{n}}&0&1&\\mbox{Not Normal, but approximately normal for large $n$}\\\\\\hline\n",
    "\\end{array}\n",
    "$$\n",
    "\n",
    "Let $X_k$ be iid with mean $\\mu$ and variance $\\sigma^2$\n",
    "and let $S_n=X_1+X_2+\\cdots+X_n$.\n",
    "Then, \n",
    "\\begin{eqnarray}\n",
    "(1)&&\\mbox{$S_n$ has mean $\\mu n$ and variance $\\sigma^2 n$}\\nonumber\\\\\n",
    "(2)&&\\mbox{Dist of $S_n$}\\approx\\mbox{Normal dist with same mean and variance if $n$ is large}\\nonumber\\\\\n",
    "&&\\mbox{[CLT]}\n",
    "\\quad\\quad\\quad\\quad\\\n",
    "\\mbox{Dist of $S_n$}\\quad\\approx\\quad N(\\mu n,\\sigma^2 n)\n",
    "\\quad\\quad\n",
    "\\mbox{if $n$ is large}\\nonumber\\\\\n",
    "(3)&&\\mbox{Dist of $\\frac{S_n-\\mu n}{\\sigma \\sqrt{n}}$}\\approx\\mbox{Normal dist with same mean and variance if $n$ is large}\\nonumber\\\\\n",
    "&&\n",
    "\\mbox{[CLT]}\n",
    "\\quad\\quad\\quad\\quad\\\n",
    "\\mbox{Dist of $\\frac{S_n-n\\mu}{\\sigma \\sqrt{n}}$}\n",
    "\\quad\\approx\\quad\n",
    "N(0,1)\n",
    "\\quad\\quad\n",
    "\\mbox{if $n$ is large}\\nonumber\n",
    "\\end{eqnarray}\n",
    "meaning, for any $x$\n",
    "$$\n",
    "P\\left(\\frac{S_n-\\mu n}{\\sigma \\sqrt{n}}\\le x\\right)\n",
    "\\quad\\rightarrow\\quad\n",
    "N(x)=\\int_{-\\infty}^x\\frac{1}{\\sqrt{2\\pi}}e^{-\\frac{s^2}{2}}ds\n",
    "$$\n",
    "\n",
    "\n",
    "\n",
    "\n",
    "\n",
    "\n",
    "With $Y_k=\\frac{X_k-\\mu}{\\sigma }$, iid with mean 0 and variance 1\n",
    "$$\n",
    "\\phi_{\\frac{S_n-\\mu n}{\\sigma \\sqrt{n}}}(t)\n",
    "=\n",
    "\\phi_{\\frac{\\sum_{k=1}^nY_k}{\\sqrt{n}}}(t)\n",
    "=\n",
    "\\left(Ee^{\\frac{t}{\\sqrt{n}}Y_1}\\right)^n=\\left(\\phi_{Y_1}\\left(\\frac{t}{\\sqrt{n}}\\right)\\right)^n\n",
    "$$\n",
    "\n",
    "\n",
    "\n",
    "\\begin{eqnarray}\n",
    "\\phi_{Y_1}(t)\n",
    "&=&Ee^{tY_1}\n",
    "=E\\left(1+tY_1+\\frac{(tY_1)^2}{2!}+\\cdots\\right)\\nonumber\\\\\n",
    "&\\approx&E\\left(1+tY_1+\\frac{(tY_1)^2}{2!}\\right)\n",
    "=1+tEY_1+\\frac{t^2}{2}EY_1^2\n",
    "=1+\\frac{1}{2}t^2\n",
    "\\nonumber\n",
    "\\end{eqnarray}\n",
    "\n",
    "\n",
    "\n",
    "$$\n",
    "\\phi_{\\frac{S_n-n\\mu}{\\sigma \\sqrt{n}}}(t)\n",
    "=\\left(\\phi_{Y_1}\\left(\\frac{t}{\\sqrt{n}}\\right)\\right)^n\n",
    "\\approx\\left(1+\\frac{t^2}{2n}\\right)^n\n",
    "\\approx e^{\\frac{t^2}{2}}=\\phi_{N(0,1)}(t)\n",
    "$$"
   ]
  },
  {
   "cell_type": "markdown",
   "metadata": {},
   "source": [
    "### Example - Number of students in a psychology course\n",
    "\n",
    "The number of stus who enroll in a psychology course is a Poisson random variable with mean 100. The professor in charge of the course has decided that if the number enrolling is 120 or more, he will teach the course in two separate sections, whereas if fewer than 120 stus enroll, he will teach all of the stus together in a single section. What is the probability that the professor will have to teach two sections?\n",
    "\n",
    "##### Exact solution using Poisson distribution\n",
    "With $X\\sigma m Po(\\lambda)$, $\\lambda=100$,\n",
    "$$\n",
    "P(X\\ge 120)=\\sum_{k=120}^{\\infty}\\frac{\\lambda^k}{k!}e^{-\\lambda}=0.0282\n",
    "$$\n",
    "\n",
    "##### Approximate solution using normal approximation\n",
    "With $X=\\sum_{i=1}^{100}Y_i\\sigma m Po(\\lambda)$, $\\lambda=100$,\n",
    "where $Y_i$ are iid $Po(1)$,\n",
    "\\begin{eqnarray}\n",
    "P(X\\ge 120)\n",
    "&\\stackrel{\\mbox{Continuity correction}}{=}&P(X\\ge 119.5)\\nonumber\\\\\n",
    "&\\stackrel{\\mbox{Standardization}}{=}&P\\left(\\frac{X-\\lambda}{\\sqrt{\\lambda}}\\ge \\frac{119.5-\\lambda}{\\sqrt{\\lambda}}\\right)\\nonumber\\\\\n",
    "&\\stackrel{\\mbox{CLT}}{\\approx}&P\\left(Z\\ge \\frac{119.5-\\lambda}{\\sqrt{\\lambda}}\\right)\\nonumber\\\\\n",
    "&=&1-N\\left(\\frac{119.5-\\lambda}{\\sqrt{\\lambda}}\\right)\n",
    "=1-0.9744=0.0256\\nonumber\n",
    "\\end{eqnarray}"
   ]
  },
  {
   "cell_type": "markdown",
   "metadata": {},
   "source": [
    "### Example - Time for grading\n",
    "\n",
    "An instructor has 50 exam papers that will be graded in sequence. Time required to grade the 50 exams are iid with mean 20 and standard deviation 4 minutes. Approximate the probability that the instructor will grade at least 25 of the exams in the first 450 minutes of work.\n",
    "\n",
    "With time $X_k$ to grade the $k^{th}$ exam paper, iid with mean 20 and variance $4^2$\n",
    "$$\n",
    "S=\\sum_{k=1}^{25}X_k\n",
    "$$\n",
    "\n",
    "\\begin{eqnarray}\n",
    "P(S\\le 450)\n",
    "&\\stackrel{\\mbox{Standardization}}{=}&\n",
    "P\\left(\\frac{S-25\\cdot 20}{\\sqrt{25\\cdot 4^2}}\\le \\frac{450-25\\cdot 20}{\\sqrt{25\\cdot 4^2}}\\right)\\nonumber\\\\\n",
    "&\\stackrel{\\mbox{CLT}}{\\approx}&\n",
    "P\\left(Z\\le \\frac{450-25\\cdot 20}{\\sqrt{25\\cdot 4^2}}\\right)\n",
    "=N\\left(\\frac{450-25\\cdot 20}{\\sqrt{25\\cdot 4^2}}\\right)\n",
    "=0.0062\\nonumber\n",
    "\\end{eqnarray}"
   ]
  },
  {
   "cell_type": "markdown",
   "metadata": {},
   "source": [
    "### Example - Fair coin flips\n",
    "\n",
    "We flips a fair coin many times\n",
    "and let $X_i$ be the $i$-th flip record,\n",
    "where $H$ and $T$ are recorded as 1 and 0.\n",
    "Let $Y_i$ be $Y_i=2X_i-1$, i.e.,\n",
    "the $i$-th flip record\n",
    "where $H$ and $T$ are recorded as 1 and $-1$.\n",
    "Then,\n",
    "\n",
    "$$\n",
    "EY_i=0,\\quad\n",
    "EY_i^2=1,\\quad\n",
    "Var(Y_i)=1\n",
    "$$\n",
    "\n",
    "$$\n",
    "\\begin{array}{ccccccccc}\\hline\n",
    "\\mbox{Random variable}&\\mbox{Mean}&\\mbox{Variance}&\\mbox{Approximate distribution}\\\\\\hline\n",
    "Y_i&&&\\\\\n",
    "\\sum_{i=1}^nY_i&0&n&N(0,n)\\\\\n",
    "\\frac{\\sum_{i=1}^nY_i}{\\sqrt{n}}&0&1&N(0,1)\\\\\n",
    "\\frac{\\sum_{i=1}^{nt}Y_i}{\\sqrt{n}}&0&t&N(0,t)\\\\\n",
    "\\frac{\\sum_{i=ns+1}^{nt}Y_i}{\\sqrt{n}}&0&t-s&N(t-s)\\\\\\hline\n",
    "\\end{array}\n",
    "$$"
   ]
  },
  {
   "cell_type": "markdown",
   "metadata": {
    "collapsed": true
   },
   "source": [
    "[<a href=\"#CLT\">Back to top</a>]"
   ]
  },
  {
   "cell_type": "code",
   "execution_count": null,
   "metadata": {},
   "outputs": [],
   "source": []
  }
 ],
 "metadata": {
  "kernelspec": {
   "display_name": "Python 3",
   "language": "python",
   "name": "python3"
  },
  "language_info": {
   "codemirror_mode": {
    "name": "ipython",
    "version": 3
   },
   "file_extension": ".py",
   "mimetype": "text/x-python",
   "name": "python",
   "nbconvert_exporter": "python",
   "pygments_lexer": "ipython3",
   "version": "3.5.0"
  }
 },
 "nbformat": 4,
 "nbformat_minor": 2
}
