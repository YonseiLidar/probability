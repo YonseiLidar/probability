{
 "cells": [
  {
   "cell_type": "markdown",
   "metadata": {},
   "source": [
    "<div align=\"center\"><img src=\"img/2008.png\" width=\"70%\"></div>"
   ]
  },
  {
   "cell_type": "markdown",
   "metadata": {},
   "source": [
    "$$\n",
    "E_n=n*\\left(\\frac{1}{2}\\right)^n+0*\\left[1-\\left(\\frac{1}{2}\\right)^n\\right]=\\frac{n}{2^n}\n",
    "$$\n",
    "$$$$\n",
    "$$\n",
    "\\frac{E_n}{E_{n-1}}\\ge 1\n",
    "\\quad\\Rightarrow\\quad\n",
    "\\frac{n}{2(n-1)}\\ge 1\n",
    "\\quad\\Rightarrow\\quad\n",
    "n\\le 2\n",
    "$$\n",
    "$$$$\n",
    "$$\n",
    "\\frac{E_{n+1}}{E_n}\\le 1\n",
    "\\quad\\Rightarrow\\quad\n",
    "\\frac{n+1}{2n}\\le 1\n",
    "\\quad\\Rightarrow\\quad\n",
    "n\\ge 1\n",
    "$$"
   ]
  },
  {
   "cell_type": "markdown",
   "metadata": {},
   "source": []
  },
  {
   "cell_type": "code",
   "execution_count": null,
   "metadata": {},
   "outputs": [],
   "source": [
    "n+1\\le n"
   ]
  }
 ],
 "metadata": {
  "kernelspec": {
   "display_name": "Python 3",
   "language": "python",
   "name": "python3"
  },
  "language_info": {
   "codemirror_mode": {
    "name": "ipython",
    "version": 3
   },
   "file_extension": ".py",
   "mimetype": "text/x-python",
   "name": "python",
   "nbconvert_exporter": "python",
   "pygments_lexer": "ipython3",
   "version": "3.6.9"
  }
 },
 "nbformat": 4,
 "nbformat_minor": 2
}
