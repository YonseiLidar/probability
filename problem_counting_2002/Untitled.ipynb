{
 "cells": [
  {
   "cell_type": "markdown",
   "metadata": {},
   "source": [
    "<div align=\"center\"><img src=\"img/2002-1.png\" width=\"70%\"></div>"
   ]
  },
  {
   "cell_type": "markdown",
   "metadata": {},
   "source": [
    "# First, we assume  all three disks are distinct, call them a, b, c."
   ]
  },
  {
   "cell_type": "markdown",
   "metadata": {},
   "source": [
    "Cases that exactly one disk is used:\n",
    "$$\\begin{array}{lll}\n",
    "A\n",
    "&&\\mbox{set of all cases that all disks A are used}\\\\\n",
    "B\n",
    "&&\\mbox{set of all cases that all disks B are used}\\\\\n",
    "C\n",
    "&&\\mbox{set of all cases that all disks C are used}\\\\\n",
    "\\end{array}$$\n",
    "$$$$\n",
    "$$\n",
    "|A|=|B|=|C|=1\n",
    "$$\n",
    "$$$$\n",
    "Cases that exactly two disks are used:\n",
    "$$\\begin{array}{lll}\n",
    "AB\n",
    "&&\\mbox{set of all cases that all disks A, B are used}\\\\\n",
    "BC\n",
    "&&\\mbox{set of all cases that all disks B, C are used}\\\\\n",
    "CA\n",
    "&&\\mbox{set of all cases that all disks C, A are used}\\\\\n",
    "\\end{array}$$\n",
    "$$$$\n",
    "$$\n",
    "|AB|=|BC|=|CA|=2^5-1-1\n",
    "$$\n",
    "$$$$\n",
    "Cases that exactly three disks are used:\n",
    "$$\\begin{array}{lll}\n",
    "ABC\n",
    "&&\\mbox{set of all cases that all disks A, B, A are used}\n",
    "\\end{array}$$\n",
    "$$$$\n",
    "$$\n",
    "|ABC|=3^5-3*(2^5-1-1)-3*(1)\n",
    "$$"
   ]
  },
  {
   "cell_type": "markdown",
   "metadata": {},
   "source": [
    "# Now, we assume all three disks are indistinguishable."
   ]
  },
  {
   "cell_type": "markdown",
   "metadata": {},
   "source": [
    "$$\n",
    "\\frac{3^5-3*(2^5-1-1)-3*(1)}{3!}\n",
    "$$"
   ]
  },
  {
   "cell_type": "code",
   "execution_count": 1,
   "metadata": {},
   "outputs": [
    {
     "data": {
      "text/plain": [
       "25.0"
      ]
     },
     "execution_count": 1,
     "metadata": {},
     "output_type": "execute_result"
    }
   ],
   "source": [
    "import scipy.special as special\n",
    "(3**5-3*(2**5-1-1)-3*1) / special.factorial(3)"
   ]
  },
  {
   "cell_type": "code",
   "execution_count": null,
   "metadata": {},
   "outputs": [],
   "source": []
  }
 ],
 "metadata": {
  "kernelspec": {
   "display_name": "Python 3",
   "language": "python",
   "name": "python3"
  },
  "language_info": {
   "codemirror_mode": {
    "name": "ipython",
    "version": 3
   },
   "file_extension": ".py",
   "mimetype": "text/x-python",
   "name": "python",
   "nbconvert_exporter": "python",
   "pygments_lexer": "ipython3",
   "version": "3.6.9"
  }
 },
 "nbformat": 4,
 "nbformat_minor": 2
}
