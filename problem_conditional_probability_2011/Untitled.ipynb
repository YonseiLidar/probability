{
 "cells": [
  {
   "cell_type": "markdown",
   "metadata": {},
   "source": [
    "<div align=\"center\"><img src=\"img/2011-2.png\" width=\"70%\"></div>"
   ]
  },
  {
   "cell_type": "markdown",
   "metadata": {},
   "source": [
    "$$\\begin{array}{lll}\n",
    "P(Y=0)\n",
    "&=&\\sum_{m=1}^6 P(X=m)P(Y=0|X=m)\\\\\n",
    "&=&\\frac{1}{6}\\sum_{m=1}^6 P(Y=0|X=m)\\\\\n",
    "&=&\\frac{1}{6}\\sum_{m=1}^6 \\left(\\frac{1}{2}\\right)^m\\\\\n",
    "&=&\\frac{1}{6}\\frac{\\frac{1}{2}-\\left(\\frac{1}{2}\\right)^7}{1-\\frac{1}{2}}\\\\\n",
    "&=&\\frac{1}{6}\\left(1-\\left(\\frac{1}{2}\\right)^6\\right)\\\\\n",
    "\\end{array}$$\n",
    "$$$$\n",
    "$$\\begin{array}{lll}\n",
    "\\displaystyle\n",
    "P(A=1|A+B=2)\n",
    "&=&\n",
    "\\displaystyle\n",
    "\\frac{n(2n)}{\\frac{2n(2n-1)}{2}+n(2n)+\\frac{n(n-1)}{2}}\\\\\n",
    "&=&\n",
    "\\displaystyle\n",
    "\\frac{2n}{\\frac{2(2n-1)}{2}+2n+\\frac{n-1}{2}}\\\\\n",
    "&=&\n",
    "\\displaystyle\n",
    "\\frac{2n}{(2n-1)+2n+\\frac{n-1}{2}}\\\\\n",
    "&=&\n",
    "\\displaystyle\n",
    "\\frac{4n}{2*(2n-1)+4n+(n-1)}\\\\\n",
    "&=&\n",
    "\\displaystyle\n",
    "\\frac{4n}{9n-3}\\\\\n",
    "&=&\n",
    "\\displaystyle\n",
    "\\frac{6}{13}\\\\\n",
    "\\end{array}$$\n",
    "$$$$\n",
    "$$\n",
    "n=9\n",
    "$$\n",
    "$$$$\n",
    "For $n=1$\n",
    "$$\n",
    "P(A=1|A+B=2)=\\frac{2}{3}\n",
    "$$"
   ]
  },
  {
   "cell_type": "code",
   "execution_count": null,
   "metadata": {},
   "outputs": [],
   "source": []
  }
 ],
 "metadata": {
  "kernelspec": {
   "display_name": "Python 3",
   "language": "python",
   "name": "python3"
  },
  "language_info": {
   "codemirror_mode": {
    "name": "ipython",
    "version": 3
   },
   "file_extension": ".py",
   "mimetype": "text/x-python",
   "name": "python",
   "nbconvert_exporter": "python",
   "pygments_lexer": "ipython3",
   "version": "3.6.9"
  }
 },
 "nbformat": 4,
 "nbformat_minor": 2
}
