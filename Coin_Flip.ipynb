{
 "cells": [
  {
   "cell_type": "markdown",
   "metadata": {},
   "source": [
    "# Coin Flip"
   ]
  },
  {
   "cell_type": "code",
   "execution_count": 7,
   "metadata": {},
   "outputs": [
    {
     "name": "stdout",
     "output_type": "stream",
     "text": [
      "['H', 'H', 'H', 'H', 'T', 'H', 'H', 'H', 'H', 'H', 'H', 'H', 'H', 'H', 'H', 'H', 'H', 'H', 'H', 'H', 'H', 'H', 'H', 'H', 'H', 'H', 'H', 'T', 'H', 'H', 'H', 'H', 'H', 'H', 'H', 'H', 'H', 'H', 'T', 'H', 'T', 'H', 'H', 'H', 'H', 'H', 'H', 'H', 'H', 'H', 'H', 'H', 'H', 'H', 'H', 'H', 'H', 'H', 'H', 'H', 'H', 'H', 'H', 'H', 'H', 'H', 'H', 'H', 'H', 'H', 'H', 'H', 'H', 'T', 'H', 'H', 'H', 'H', 'H', 'H', 'H', 'H', 'H', 'H', 'H', 'H', 'H', 'H', 'H', 'H', 'H', 'T', 'H', 'H', 'H', 'H', 'H', 'H', 'H', 'H']\n"
     ]
    }
   ],
   "source": [
    "import numpy as np\n",
    "\n",
    "p = 0.9\n",
    "num_sample = 100\n",
    "\n",
    "coin_sample = []\n",
    "for i in range(num_sample):\n",
    "    if np.random.uniform(0., 1.) > 1 - p:\n",
    "        coin_sample.append(\"H\")\n",
    "    else:\n",
    "        coin_sample.append(\"T\")\n",
    "        \n",
    "print(coin_sample)"
   ]
  },
  {
   "cell_type": "code",
   "execution_count": 11,
   "metadata": {},
   "outputs": [
    {
     "name": "stdout",
     "output_type": "stream",
     "text": [
      "[0. 0. 0. 0. 0. 0. 0. 0. 0. 0. 1. 0. 0. 0. 0. 0. 0. 0. 0. 0. 0. 0. 0. 0.\n",
      " 0. 1. 0. 0. 0. 1. 0. 0. 0. 0. 0. 0. 0. 0. 0. 0. 0. 0. 0. 0. 0. 0. 0. 0.\n",
      " 0. 0. 0. 0. 0. 0. 0. 0. 1. 0. 0. 0. 0. 0. 0. 0. 0. 0. 0. 0. 0. 0. 0. 0.\n",
      " 0. 0. 0. 0. 0. 0. 0. 0. 0. 1. 0. 0. 0. 0. 0. 0. 0. 1. 1. 0. 0. 0. 1. 0.\n",
      " 1. 0. 0. 0.]\n"
     ]
    }
   ],
   "source": [
    "# https://www.youtube.com/watch?v=udDod-Q1akg&list=PLXziV1DL41oj_WtNSq41Jm4msNZ9VO6H8&index=10&t=12s\n",
    "# https://www.youtube.com/watch?v=vNh_cRbcqi4&list=PLXziV1DL41oj_WtNSq41Jm4msNZ9VO6H8&index=10\n",
    "# https://www.youtube.com/watch?v=7RXUAIXxiiY&list=PLXziV1DL41oj_WtNSq41Jm4msNZ9VO6H8&index=11\n",
    "\n",
    "import numpy as np\n",
    "\n",
    "p = 0.1\n",
    "num_sample = 100\n",
    "\n",
    "uniform_sample = np.random.uniform(0., 1., (num_sample,))\n",
    "\n",
    "coin_sample = np.zeros_like(uniform_sample)\n",
    "coin_sample[uniform_sample > 1-p] = 1.\n",
    "        \n",
    "print(coin_sample)"
   ]
  },
  {
   "cell_type": "code",
   "execution_count": null,
   "metadata": {},
   "outputs": [],
   "source": []
  }
 ],
 "metadata": {
  "kernelspec": {
   "display_name": "Python 3",
   "language": "python",
   "name": "python3"
  },
  "language_info": {
   "codemirror_mode": {
    "name": "ipython",
    "version": 3
   },
   "file_extension": ".py",
   "mimetype": "text/x-python",
   "name": "python",
   "nbconvert_exporter": "python",
   "pygments_lexer": "ipython3",
   "version": "3.5.0"
  }
 },
 "nbformat": 4,
 "nbformat_minor": 2
}
