{
 "cells": [
  {
   "cell_type": "markdown",
   "metadata": {},
   "source": [
    "<div align=\"center\"><img src=\"img/2009-3.png\" width=\"70%\"></div>"
   ]
  },
  {
   "cell_type": "markdown",
   "metadata": {},
   "source": [
    "$$\n",
    "S\\supset T\n",
    "$$\n",
    "$$$$\n",
    "Disjoinly decompose $S$\n",
    "$$$$\n",
    "$$\n",
    "S=\\cup_{i=0}^5S_i\n",
    "\\quad\\mbox{$S_i$ the set of cases that there are exactly $i$ playes pass 1st test}\n",
    "$$\n",
    "$$$$\n",
    "For each cases in $S_i$,\n",
    "each first-round-pass players either passes or doesn't in 2nd roud. So, the number of cases of interest\n",
    "$$\n",
    "\\sum_{i=0}^5{5\\choose i}2^i\n",
    "=\\sum_{i=0}^5{5\\choose i}2^i1^{5-i}\n",
    "=(2+1)^5\n",
    "$$"
   ]
  },
  {
   "cell_type": "code",
   "execution_count": null,
   "metadata": {},
   "outputs": [],
   "source": []
  }
 ],
 "metadata": {
  "kernelspec": {
   "display_name": "Python 3",
   "language": "python",
   "name": "python3"
  },
  "language_info": {
   "codemirror_mode": {
    "name": "ipython",
    "version": 3
   },
   "file_extension": ".py",
   "mimetype": "text/x-python",
   "name": "python",
   "nbconvert_exporter": "python",
   "pygments_lexer": "ipython3",
   "version": "3.6.9"
  }
 },
 "nbformat": 4,
 "nbformat_minor": 2
}
