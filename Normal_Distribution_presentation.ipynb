{
 "cells": [
  {
   "cell_type": "markdown",
   "metadata": {},
   "source": [
    "# Normal Distribution"
   ]
  },
  {
   "cell_type": "markdown",
   "metadata": {},
   "source": [
    "<a href=\"#PDF-of-Standard-Normal-Distribution\">PDF of Standard Normal Distribution</a>\n",
    "\n",
    "<a href=\"#CDF-of-Standard-Normal-Distribution\">CDF of Standard Normal Distribution</a>\n",
    "\n",
    "<a href=\"#Properties-of-Standard-Normal-CDF\">Properties of Standard Normal CDF</a>\n",
    "\n",
    "<a href=\"#PDF-of-Normal-Distribution\">PDF of Normal Distribution</a>\n",
    "\n",
    "<a href=\"#Properties-of-Normal-Distribution\">Properties of Normal Distribution</a>\n",
    "\n",
    "<a href=\"#Sampling\">Sampling</a>\n",
    "\n",
    "<a href=\"#Estimation-of-mu-and-sigma\">Estimation of mu and sigma</a>\n",
    "\n",
    "<a href=\"#Integration-Trick-related-to-Normal-PDF\">Integration Trick related to Normal PDF</a>\n",
    "\n",
    "<a href=\"#Why-Normal\">Why Normal</a>"
   ]
  },
  {
   "cell_type": "markdown",
   "metadata": {},
   "source": [
    "# PDF of Standard Normal Distribution"
   ]
  },
  {
   "cell_type": "markdown",
   "metadata": {},
   "source": [
    "The PDF of the standard normal distribution $N(0,1^2)$ is given by\n",
    "$$\n",
    "\\displaystyle f(x)=\\frac{1}{\\sqrt{2\\pi}}e^{-\\frac{x^2}{2}}\n",
    "$$\n",
    "Show that\n",
    "\\begin{eqnarray}\n",
    "(1)&&\\mbox{Total mass is indeed 1}\\nonumber\\\\\n",
    "(2)&&\\mbox{Mean 0}\\nonumber\\\\\n",
    "(3)&&\\mbox{Variance 1}\\nonumber\n",
    "\\end{eqnarray}"
   ]
  },
  {
   "cell_type": "markdown",
   "metadata": {},
   "source": [
    "(1) \n",
    "With $I:=\\int_{-\\infty}^{\\infty}e^{-\\frac{x^2}{2}}dx$\n",
    "\\begin{eqnarray}\n",
    "I^2&=&\\left(\\int_{-\\infty}^{\\infty}e^{-\\frac{x^2}{2}}dx\\right)\\left(\\int_{-\\infty}^{\\infty}e^{-\\frac{y^2}{2}}dy\\right)\\nonumber\\\\\n",
    "&=&\\int_{-\\infty}^{\\infty}\\int_{-\\infty}^{\\infty}e^{-\\frac{x^2+y^2}{2}}dxdy\n",
    "=\\int_{0}^{2\\pi}\\int_{0}^{\\infty}e^{-\\frac{r^2}{2}}rdrd\\theta\\nonumber\\\\\n",
    "&=&2\\pi\\int_{0}^{\\infty}e^{-\\frac{r^2}{2}}rdr=2\\pi\\left[-e^{-\\frac{r^2}{2}}\\right]_{0}^{\\infty}=2\\pi\\nonumber\n",
    "\\end{eqnarray}\n",
    "$$\n",
    "I^2=2\\pi\n",
    "\\quad\\Rightarrow\\quad\n",
    "I=\\sqrt{2\\pi}\n",
    "\\quad\\Rightarrow\\quad\n",
    "\\int_{-\\infty}^{\\infty}\\frac{1}{\\sqrt{2\\pi}}e^{-\\frac{x^2}{2}}dx=1\n",
    "$$"
   ]
  },
  {
   "cell_type": "markdown",
   "metadata": {},
   "source": [
    "(2)\n",
    "$$\n",
    "\\mbox{Integrand is odd}\n",
    "\\quad\\Rightarrow\\quad\n",
    "\\frac{1}{\\sqrt{2\\pi}}\\int_{-\\infty}^{\\infty}xe^{-\\frac{x^2}{2}}dx=0\n",
    "$$"
   ]
  },
  {
   "cell_type": "markdown",
   "metadata": {},
   "source": [
    "(3)\n",
    "\\begin{eqnarray}\n",
    "\\frac{1}{\\sqrt{2\\pi}}\\int_{-\\infty}^{\\infty}x^2e^{-\\frac{x^2}{2}}dx\n",
    "&=&\\frac{1}{\\sqrt{2\\pi}}\\int_{-\\infty}^{\\infty}\\left(-x\\right)\\left(e^{-\\frac{x^2}{2}}\\right)'dx\\ \\ \\ \\ \\ \\mbox{(Integration by part)}\\nonumber\\\\\n",
    "&=&\\frac{1}{\\sqrt{2\\pi}}\\left[\\left(-x\\right)\\left(e^{-\\frac{x^2}{2}}\\right)\\right]_{-\\infty}^{\\infty}-\\frac{1}{\\sqrt{2\\pi}}\\int_{-\\infty}^{\\infty}\\left(-x\\right)'\\left(e^{-\\frac{x^2}{2}}\\right)dx\\nonumber\\\\\n",
    "&=&\\frac{1}{\\sqrt{2\\pi}}\\int_{-\\infty}^{\\infty}e^{-\\frac{x^2}{2}}dx=1\\quad\n",
    "\\nonumber\n",
    "\\end{eqnarray}"
   ]
  },
  {
   "cell_type": "markdown",
   "metadata": {},
   "source": [
    "[<a href=\"#Normal-Distribution\">Back to top</a>]"
   ]
  },
  {
   "cell_type": "markdown",
   "metadata": {},
   "source": [
    "# CDF of Standard Normal Distribution"
   ]
  },
  {
   "cell_type": "markdown",
   "metadata": {},
   "source": [
    "$$\n",
    "N(x)=\\int_{-\\infty}^x\\frac{1}{\\sqrt{2\\pi}}e^{-\\frac{s^2}{2}}ds\n",
    "$$"
   ]
  },
  {
   "cell_type": "markdown",
   "metadata": {},
   "source": [
    "[<a href=\"#Normal-Distribution\">Back to top</a>]"
   ]
  },
  {
   "cell_type": "markdown",
   "metadata": {},
   "source": [
    "# Properties of Standard Normal CDF"
   ]
  },
  {
   "cell_type": "markdown",
   "metadata": {},
   "source": [
    "\\begin{eqnarray}\n",
    "(1)&&P(a\\le Z\\le b)=N(b)-N(a)\\nonumber\\\\\n",
    "(2)&&P(Z\\ge x)=P(Z\\le -x)=N(-x)\\nonumber\\\\\n",
    "(3)&&P(Z\\ge x)=1-P(Z\\le x)=1-N(x)\\nonumber\\\\\n",
    "(4)&&P(Z\\le 0)=P(Z\\ge 0)=0.5\\nonumber\n",
    "\\end{eqnarray}"
   ]
  },
  {
   "cell_type": "markdown",
   "metadata": {},
   "source": [
    "[<a href=\"#Normal-Distribution\">Back to top</a>]"
   ]
  },
  {
   "cell_type": "markdown",
   "metadata": {},
   "source": [
    "# PDF of Normal Distribution"
   ]
  },
  {
   "cell_type": "markdown",
   "metadata": {},
   "source": [
    "The PDF of the standard normal distribution $N(\\mu,\\sigma^2)$ is given by\n",
    "$$\n",
    "\\displaystyle f(x)=\\frac{1}{\\sqrt{2\\pi \\sigma ^2}}e^{-\\frac{(x-\\mu)^2}{2\\sigma ^2}}\n",
    "$$\n",
    "Show that\n",
    "\\begin{eqnarray}\n",
    "(1)&&\\mbox{Total mass is indeed 1}\\nonumber\\\\\n",
    "(2)&&\\mbox{Mean $\\mu$}\\nonumber\\\\\n",
    "(3)&&\\mbox{Variance $\\sigma^2$}\\nonumber\n",
    "\\end{eqnarray}"
   ]
  },
  {
   "cell_type": "markdown",
   "metadata": {},
   "source": [
    "[<a href=\"#Normal-Distribution\">Back to top</a>]"
   ]
  },
  {
   "cell_type": "markdown",
   "metadata": {},
   "source": [
    "# Properties of Normal Distribution"
   ]
  },
  {
   "cell_type": "markdown",
   "metadata": {},
   "source": [
    "For $a\\neq 0$\n",
    "$$\\begin{array}{lll}\n",
    "(1)& X\\sim\\mbox{Normal}\\quad\\Rightarrow\\quad aX+b\\sim\\mbox{Normal}\\\\\n",
    "\\end{array}$$\n",
    "In particular,\n",
    "$$\\begin{array}{lll}\n",
    "\\mbox{Standardization}&&X\\sim N(\\mu,\\sigma^2)\\quad\\Rightarrow\\quad \\frac{X-\\mu}{\\sigma}\\sim N(0,1^2)\\\\\n",
    "\\mbox{Reverse Standardization}&&Z\\sim N(0,1^2)\\quad\\Rightarrow\\quad Z*\\sigma+\\mu\\sim N(\\mu,\\sigma^2)\\\\\n",
    "\\end{array}$$"
   ]
  },
  {
   "cell_type": "markdown",
   "metadata": {},
   "source": [
    "$$\\begin{array}{lll}\n",
    "(2)& X\\sim\\mbox{Normal},\\ Y\\sim\\mbox{Normal}\\quad\\Rightarrow\\quad X+Y\\sim\\mbox{Normal}\\quad\\mbox{if $X$ and $Y$ are independent}\\\\\n",
    "(3)& X\\sim\\mbox{Normal},\\ Y\\sim\\mbox{Normal}\\quad\\Rightarrow\\quad X+Y\\sim\\mbox{Normal}\\quad\\mbox{if $(X,Y)$ is multivariate normal}\\\\\n",
    "\\mbox{WARNING}& X\\sim\\mbox{Normal},\\ Y\\sim\\mbox{Normal}\\quad\\not\\Rightarrow\\quad X+Y\\sim\\mbox{Normal}\\\\\n",
    "\\end{array}$$\n",
    "If $X$ and $Y$ are not independent, $X+Y$ may not be normal.\n",
    "For example,\n",
    "let $X$ be a standard normal.\n",
    "Independent to $X$ we flip a fair coin and define $C$ as\n",
    "$$\n",
    "C=\\left\\{\\begin{array}{rl}\n",
    "1&\\mbox{if the coin lands on head}\\\\\n",
    "-1&\\mbox{if the coin lands on tail}\n",
    "\\end{array}\\right.\n",
    "$$\n",
    "Then we let $Y:=X*C$.\n",
    "One can easily show that $Y$ is also a standard normal random variable.\n",
    "However,\n",
    "$$\n",
    "P(X+Y=0)=P(C=-1)=0.5\n",
    "$$\n",
    "Therefore, $X+Y$ cannot be a normal."
   ]
  },
  {
   "cell_type": "markdown",
   "metadata": {},
   "source": [
    "(1) We handle the case $a>0$.\n",
    "One can handle the other case similarly.\n",
    "Let $X\\sim N(\\mu,\\sigma^2)$. Then\n",
    "$$\n",
    "P\\left(aX+b\\le x\\right)\n",
    "=P\\left(X\\le\\frac{x-b}{a}\\right)\n",
    "=\\int_{-\\infty}^{\\frac{x-b}{a}}\\frac{1}{\\sqrt{2\\pi\\sigma^2}}e^{-\\frac{(s-\\mu)^2}{2\\sigma^2}}ds$$\n",
    "Let $f$ be the PDF of $aX+b$. Then\n",
    "$$\n",
    "P\\left(aX+b\\le x\\right)\n",
    "= \\int_{-\\infty}^{x}f(s)ds\\\\\n",
    "$$\n",
    "So we have\n",
    "$$\n",
    "\\int_{-\\infty}^{x}f(s)ds=\\int_{-\\infty}^{\\frac{x-b}{a}}\\frac{1}{\\sqrt{2\\pi\\sigma^2}}e^{-\\frac{(s-\\mu)^2}{2\\sigma^2}}ds\n",
    "$$\n",
    "Differentiating both sides\n",
    "$$\n",
    "f(x)=\\frac{1}{\\sqrt{2\\pi\\sigma^2}}e^{-\\frac{\\left(\\frac{x-b}{a}-\\mu\\right)^2}{2\\sigma^2}}\\frac{1}{a}\n",
    "\\quad\\sim\\quad N(a\\mu+b,a^2\\sigma^2)\n",
    "$$"
   ]
  },
  {
   "cell_type": "markdown",
   "metadata": {},
   "source": [
    "[<a href=\"#Normal-Distribution\">Back to top</a>]"
   ]
  },
  {
   "cell_type": "markdown",
   "metadata": {},
   "source": [
    "# Sampling"
   ]
  },
  {
   "cell_type": "markdown",
   "metadata": {},
   "source": [
    "$$\\begin{array}{lll}\n",
    "\\mbox{Standardization}&&X\\sim N(\\mu,\\sigma^2)\\quad\\Rightarrow\\quad \\frac{X-\\mu}{\\sigma}\\sim N(0,1^2)\\\\\n",
    "\\mbox{Reverse Standardization}&&Z\\sim N(0,1^2)\\quad\\Rightarrow\\quad Z*\\sigma+\\mu\\sim N(\\mu,\\sigma^2)\\\\\n",
    "\\end{array}$$"
   ]
  },
  {
   "cell_type": "markdown",
   "metadata": {},
   "source": [
    "[<a href=\"#Normal-Distribution\">Back to top</a>]"
   ]
  },
  {
   "cell_type": "markdown",
   "metadata": {},
   "source": [
    "# Estimation of mu and sigma"
   ]
  },
  {
   "cell_type": "markdown",
   "metadata": {},
   "source": [
    "Let $x_i$ be iid sample from $N(\\mu,\\sigma^2)$.\n",
    "Then, $\\mu$ and $\\sigma^2$ can be estimated by $\\hat{\\mu}$ and $\\hat{\\sigma}^2$\n",
    "where \n",
    "$$\\begin{array}{lll}\n",
    "\\hat{\\mu}&=&\\frac{\\sum_{i=1}^nx_i}{n}\\\\\n",
    "\\hat{\\sigma}^2&=&\\frac{\\sum_{i=1}^n(x_i-\\hat{\\mu})^2}{n}\n",
    "\\end{array}$$"
   ]
  },
  {
   "cell_type": "markdown",
   "metadata": {},
   "source": [
    "[<a href=\"#Normal-Distribution\">Back to top</a>]"
   ]
  },
  {
   "cell_type": "markdown",
   "metadata": {},
   "source": [
    "# Integration Trick related to Normal PDF"
   ]
  },
  {
   "cell_type": "markdown",
   "metadata": {},
   "source": [
    "Compute the following integral:\n",
    "$$\n",
    "\\int_{-\\infty}^{\\infty}e^{-x^2-2x}dx\n",
    "$$"
   ]
  },
  {
   "cell_type": "markdown",
   "metadata": {},
   "source": [
    "$$\n",
    "-x^2-2x=-(x^2+2x+1)+1=-(x+1)^2+1\n",
    "$$\n",
    "\n",
    "\\begin{eqnarray}\n",
    "\\int_{-\\infty}^{\\infty}e^{-x^2-2x}dx\n",
    "&=&\n",
    "e\\int_{-\\infty}^{\\infty}e^{-(x+1)^2}dx\\nonumber\\\\\n",
    "&=&\n",
    "e\\sqrt{2\\pi\\cdot\\frac{1}{2}}\\int_{-\\infty}^{\\infty}\\underbrace{\\frac{1}{\\sqrt{2\\pi\\cdot\\frac{1}{2}}}e^{-\\frac{(x+1)^2}{2\\cdot \\frac{1}{2}}}}_{\\mbox{PDF of $N(-1,\\frac{1}{2})$}}dx\\nonumber\\\\\n",
    "&=&\n",
    "e\\sqrt{2\\pi\\cdot\\frac{1}{2}}\\nonumber\n",
    "\\end{eqnarray}"
   ]
  },
  {
   "cell_type": "markdown",
   "metadata": {},
   "source": [
    "[<a href=\"#Normal-Distribution\">Back to top</a>]"
   ]
  },
  {
   "cell_type": "markdown",
   "metadata": {},
   "source": [
    "# Why Normal"
   ]
  },
  {
   "cell_type": "markdown",
   "metadata": {},
   "source": [
    "For $n$ iid samples $x_i$ from a common distribution with finite mean $\\mu$ and variance $\\sigma^2$\n",
    "$$\n",
    "\\mbox{Distribution of}\\ S_n:=\\sum_{i=1}^n x_i\\approx N(\\mu,\\sigma^2)\n",
    "$$\n",
    "or\n",
    "$$\n",
    "\\mbox{Distribution of}\\ \\frac{S_n-n\\mu}{\\sqrt{n\\sigma^2}}\\approx N(0,1^2)\n",
    "$$\n",
    "or\n",
    "$$\n",
    "\\mbox{Distribution of}\\ \\frac{S_n-n\\hat{\\mu}}{\\sqrt{n\\hat{\\sigma}^2}}\\approx N(0,1^2)\n",
    "$$\n",
    "where\n",
    "$$\\begin{array}{lll}\n",
    "\\hat{\\mu}&=&\\frac{\\sum_{i=1}^nx_i}{n}\\\\\n",
    "\\hat{\\sigma}^2&=&\\frac{\\sum_{i=1}^n(x_i-\\hat{\\mu})^2}{n-1}\n",
    "\\end{array}$$"
   ]
  },
  {
   "cell_type": "markdown",
   "metadata": {},
   "source": [
    "This means for any fixed $a$\n",
    "$$\n",
    "P\\left(\\frac{S_n-n\\hat{\\mu}}{\\sqrt{n\\hat{\\sigma}^2}}\\le a\\right)\\quad\\approx\\quad N(a)\n",
    "$$"
   ]
  },
  {
   "cell_type": "markdown",
   "metadata": {},
   "source": [
    "More precisely,\n",
    "for any fixed $a$\n",
    "as $n\\rightarrow\\infty$\n",
    "$$\n",
    "P\\left(\\frac{S_n-n\\hat{\\mu}}{\\sqrt{n\\hat{\\sigma}^2}}\\le a\\right)\\quad\\rightarrow\\quad N(a)\n",
    "$$"
   ]
  },
  {
   "cell_type": "markdown",
   "metadata": {},
   "source": [
    "[<a href=\"#Normal-Distribution\">Back to top</a>]"
   ]
  }
 ],
 "metadata": {
  "kernelspec": {
   "display_name": "Python 3",
   "language": "python",
   "name": "python3"
  },
  "language_info": {
   "codemirror_mode": {
    "name": "ipython",
    "version": 3
   },
   "file_extension": ".py",
   "mimetype": "text/x-python",
   "name": "python",
   "nbconvert_exporter": "python",
   "pygments_lexer": "ipython3",
   "version": "3.5.0"
  }
 },
 "nbformat": 4,
 "nbformat_minor": 2
}
