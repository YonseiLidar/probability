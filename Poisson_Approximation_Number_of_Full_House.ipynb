{
 "cells": [
  {
   "cell_type": "code",
   "execution_count": 1,
   "metadata": {},
   "outputs": [
    {
     "name": "stdout",
     "output_type": "stream",
     "text": [
      "0.40816728654014445\n",
      "\n",
      "0.00196\n"
     ]
    }
   ],
   "source": [
    "import numpy as np\n",
    "\n",
    "n = 1000\n",
    "p = 0.0014\n",
    "la = n*p\n",
    "\n",
    "approx_prob = 1. - np.exp(-la) - np.exp(-la)*la\n",
    "print(approx_prob)\n",
    "print()\n",
    "\n",
    "error_bound = n*p**2\n",
    "print(error_bound)"
   ]
  },
  {
   "cell_type": "code",
   "execution_count": 3,
   "metadata": {},
   "outputs": [
    {
     "name": "stdout",
     "output_type": "stream",
     "text": [
      "0.8641117745995668\n",
      "\n",
      "0.13588822540043324\n"
     ]
    }
   ],
   "source": [
    "import numpy as np\n",
    "\n",
    "la = 3.5\n",
    "\n",
    "prob_1 = 1. - np.exp(-la) - np.exp(-la)*la\n",
    "print(prob_1)\n",
    "print()\n",
    "\n",
    "prob_2 = np.exp(-la) + np.exp(-la)*la\n",
    "print(prob_2)"
   ]
  },
  {
   "cell_type": "code",
   "execution_count": null,
   "metadata": {},
   "outputs": [],
   "source": []
  }
 ],
 "metadata": {
  "kernelspec": {
   "display_name": "Python [conda env:anaconda3]",
   "language": "python",
   "name": "conda-env-anaconda3-py"
  },
  "language_info": {
   "codemirror_mode": {
    "name": "ipython",
    "version": 3
   },
   "file_extension": ".py",
   "mimetype": "text/x-python",
   "name": "python",
   "nbconvert_exporter": "python",
   "pygments_lexer": "ipython3",
   "version": "3.5.0"
  }
 },
 "nbformat": 4,
 "nbformat_minor": 2
}
