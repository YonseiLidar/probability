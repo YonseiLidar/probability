{
 "cells": [
  {
   "cell_type": "markdown",
   "metadata": {},
   "source": [
    "<div align=\"center\"><img src=\"img/2019-2.png\" width=\"70%\"></div>"
   ]
  },
  {
   "cell_type": "markdown",
   "metadata": {},
   "source": [
    "$$\\begin{array}{ccc}\n",
    "\\mbox{# Work Days in MTWR}&\\mbox{# Work Days in FSS}&\\mbox{# Case}\\\\\n",
    "\\hline\n",
    "0&\\\\\n",
    "1&\\\\\n",
    "2&\\\\\n",
    "3&\\\\\n",
    "4&\\\\\n",
    "\\end{array}$$"
   ]
  },
  {
   "cell_type": "markdown",
   "metadata": {},
   "source": [
    "$$\\begin{array}{ccc}\n",
    "\\mbox{# Work Days in MTWR}&\\mbox{# Work Days in FSS}&\\mbox{# Case}\\\\\n",
    "\\hline\n",
    "0&4&\\\\\n",
    "1&3&\\\\\n",
    "2&2&\\\\\n",
    "3&1&\\\\\n",
    "4&0&\\\\\n",
    "\\end{array}$$"
   ]
  },
  {
   "cell_type": "markdown",
   "metadata": {},
   "source": [
    "$$\\begin{array}{ccc}\n",
    "\\mbox{# Work Days in MTWR}&\\mbox{# Work Days in FSS}&\\mbox{# Case}\\\\\n",
    "\\hline\n",
    "0&4&0\\\\\n",
    "1&3&0\\\\\n",
    "2&2&\\\\\n",
    "3&1&\\\\\n",
    "4&0&0\\\\\n",
    "\\end{array}$$"
   ]
  },
  {
   "cell_type": "markdown",
   "metadata": {},
   "source": [
    "$$\\begin{array}{ccc}\n",
    "\\mbox{# Work Days in MTWR}&\\mbox{# Work Days in FSS}&\\mbox{# Case}\\\\\n",
    "\\hline\n",
    "0&4&0\\\\\n",
    "1&3&0\\\\\n",
    "2&2&*(1+2)\\\\\n",
    "3&1&*(4)\\\\\n",
    "4&0&0\\\\\n",
    "\\end{array}$$"
   ]
  },
  {
   "cell_type": "markdown",
   "metadata": {},
   "source": [
    "$$\\begin{array}{ccc}\n",
    "\\mbox{# Work Days in MTWR}&\\mbox{# Work Days in FSS}&\\mbox{# Case}\\\\\n",
    "\\hline\n",
    "0&4&0\\\\\n",
    "1&3&0\\\\\n",
    "2&2&(2*3+3*3+5)*(1+2)\\\\\n",
    "3&1&(2*2+3*2)*(4)\\\\\n",
    "4&0&0\\\\\n",
    "\\end{array}$$"
   ]
  },
  {
   "cell_type": "code",
   "execution_count": 1,
   "metadata": {},
   "outputs": [
    {
     "data": {
      "text/plain": [
       "100"
      ]
     },
     "execution_count": 1,
     "metadata": {},
     "output_type": "execute_result"
    }
   ],
   "source": [
    "(2*3+3*3+5)*(1+2)+(2*2+3*2)*(4)"
   ]
  },
  {
   "cell_type": "code",
   "execution_count": null,
   "metadata": {},
   "outputs": [],
   "source": []
  }
 ],
 "metadata": {
  "kernelspec": {
   "display_name": "Python 3",
   "language": "python",
   "name": "python3"
  },
  "language_info": {
   "codemirror_mode": {
    "name": "ipython",
    "version": 3
   },
   "file_extension": ".py",
   "mimetype": "text/x-python",
   "name": "python",
   "nbconvert_exporter": "python",
   "pygments_lexer": "ipython3",
   "version": "3.6.9"
  }
 },
 "nbformat": 4,
 "nbformat_minor": 2
}
