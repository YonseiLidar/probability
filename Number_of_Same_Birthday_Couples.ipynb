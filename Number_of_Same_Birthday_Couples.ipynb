{
 "cells": [
  {
   "cell_type": "code",
   "execution_count": 4,
   "metadata": {},
   "outputs": [
    {
     "name": "stdout",
     "output_type": "stream",
     "text": [
      "Binomial_Exact_Prob :  0.018670951945806147\n",
      "Computing time :  0.0001850128173828125\n"
     ]
    }
   ],
   "source": [
    "import time\n",
    "\n",
    "n = 80000\n",
    "p = 1/365\n",
    "q = 1-p\n",
    "la = n*p\n",
    "\n",
    "m=250\n",
    "\n",
    "Prob = q**n\n",
    "Cum_Prob = Prob\n",
    "\n",
    "tic = time.time() \n",
    "for i in range(1,m+1):\n",
    "    Prob = Prob*(n-(i-1))/i*p/q\n",
    "    Cum_Prob = Cum_Prob+Prob\n",
    "toc = time.time()  \n",
    "\n",
    "Binomial_Exact_Prob = 1-Cum_Prob\n",
    "print('Binomial_Exact_Prob : ', Binomial_Exact_Prob)\n",
    "print('Computing time : ', toc-tic)"
   ]
  },
  {
   "cell_type": "code",
   "execution_count": 5,
   "metadata": {},
   "outputs": [
    {
     "name": "stdout",
     "output_type": "stream",
     "text": [
      "Poisson_Approximate_Prob :  0.018804926458430904\n",
      "Computing time :  0.0002758502960205078\n"
     ]
    }
   ],
   "source": [
    "import numpy as np\n",
    "import time\n",
    "\n",
    "n = 80000\n",
    "p = 1/365\n",
    "q = 1-p\n",
    "la = n*p\n",
    "\n",
    "m=250\n",
    "\n",
    "tic = time.time() \n",
    "Prob = np.exp(-la)\n",
    "Cum_Prob = Prob\n",
    "for i in range(1,m+1):\n",
    "    Prob = Prob*la/i\n",
    "    Cum_Prob = Cum_Prob+Prob\n",
    "toc = time.time() \n",
    "\n",
    "Poisson_Approximate_Prob = 1-Cum_Prob\n",
    "print('Poisson_Approximate_Prob : ', Poisson_Approximate_Prob)\n",
    "print('Computing time : ', toc-tic)"
   ]
  },
  {
   "cell_type": "code",
   "execution_count": null,
   "metadata": {},
   "outputs": [],
   "source": []
  }
 ],
 "metadata": {
  "kernelspec": {
   "display_name": "Python [conda env:anaconda3]",
   "language": "python",
   "name": "conda-env-anaconda3-py"
  },
  "language_info": {
   "codemirror_mode": {
    "name": "ipython",
    "version": 3
   },
   "file_extension": ".py",
   "mimetype": "text/x-python",
   "name": "python",
   "nbconvert_exporter": "python",
   "pygments_lexer": "ipython3",
   "version": "3.5.0"
  }
 },
 "nbformat": 4,
 "nbformat_minor": 2
}
