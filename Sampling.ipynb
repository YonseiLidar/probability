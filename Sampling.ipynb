{
 "cells": [
  {
   "cell_type": "markdown",
   "metadata": {},
   "source": [
    "# Sampling\n",
    "\n",
    "<a href=\"#Rejection-Sampling\">Rejection Sampling</a>\n",
    "\n",
    "<a href=\"#Importance-Sampling\">Importance Sampling</a>\n",
    "\n",
    "<a href=\"#Random-Name-Generation\">Random Name Generation</a>"
   ]
  },
  {
   "cell_type": "markdown",
   "metadata": {},
   "source": [
    "# Rejection Sampling"
   ]
  },
  {
   "cell_type": "markdown",
   "metadata": {},
   "source": [
    "### Rejection sampling - Uniform distribution\n",
    "\n",
    "##### Goal\n",
    "$$\n",
    "\\mbox{Generate a sample $X$, which is uniform on a bounded domain $D\\subset\\prod_{i=1}^d[a_i,b_i]$}\n",
    "$$\n",
    "\n",
    "##### Rejection sampling - Uniform distribution\n",
    "\n",
    "$\\quad$\n",
    "[Step 1] Generate a random sample $U$ from $\\prod_{i=1}^d[a_i,b_i]$.\n",
    "\n",
    "$\\quad$\n",
    "[Step 2] If $U\\notin D$, {\\color{red}reject  and return to [Step 1]}. Otherwise, let $X=U$."
   ]
  },
  {
   "cell_type": "markdown",
   "metadata": {},
   "source": [
    "### Rejection sampling - Non-uniform distribution\n",
    "\n",
    "##### Goal\n",
    "$$\n",
    "\\mbox{Generate a sample $X$ with PDF $f(x)$}\n",
    "$$\n",
    "\n",
    "##### Background info\n",
    "\\begin{eqnarray}\n",
    "(1)&&\\mbox{Know $\\tilde f(x)$ not $f(x)$, where}\\ f(x)=\\tilde f(x)/Z_f\\nonumber\\\\\n",
    "(2)&&\\mbox{Can generate a sample $Y$ from $q(x)$}\\nonumber\\\\\n",
    "(3)&&\\mbox{There is a constant $c$ with $cq(x)\\ge \\tilde f(x)$}\\nonumber\n",
    "\\end{eqnarray}\n",
    "\n",
    "##### Rejection sampling - Non-uniform distribution\n",
    "\n",
    "$\\quad$\n",
    "[Step 1] Generate a random sample $Y$ from $q(x)$.\n",
    "\n",
    "$\\quad$\n",
    "[Step 2] Generate a random sample $U$ from $U(0,cq(Y))$. If $U>\\tilde f(x)$, {\\color{red}reject  and return to [Step 1]}. Otherwise, let $X=Y$."
   ]
  },
  {
   "cell_type": "markdown",
   "metadata": {},
   "source": [
    "[<a href=\"#Sampling\">Back to top</a>]"
   ]
  },
  {
   "cell_type": "markdown",
   "metadata": {},
   "source": [
    "# Importance Sampling"
   ]
  },
  {
   "cell_type": "markdown",
   "metadata": {},
   "source": [
    "- [Step 1] Generate $n$ iid samples $X_i$ not from original PDF $f(x)$,\n",
    "but from a new PDF $g(x)$.\n",
    "\n",
    "- [Step 2] Approximate $\\mathbb{E}h(X)$ by\n",
    "$$\n",
    "\\mathbb{E}h(X)\\quad\\approx\\quad\\frac{1}{n}\\sum_{i=1}^n\\omega(X_i)h(X_i)\n",
    "$$\n",
    "where the importance weight $\\omega(X_i)$ is given by\n",
    "$$\n",
    "\\omega(X_i)=\\frac{f(X_i)}{g(X_i)}\n",
    "$$"
   ]
  },
  {
   "cell_type": "markdown",
   "metadata": {},
   "source": [
    "\\begin{eqnarray}\n",
    "\\mathbb{E}h(X)\n",
    "&=&\\int h(x)f(x)dx\\\\\n",
    "&=&\\int \\frac{f(x)}{g(x)}h(x)g(x)dx\\\\\n",
    "&\\approx&\\frac{1}{n}\\sum_{i=1}^n\\omega(X_i)h(X_i)\n",
    "\\end{eqnarray}"
   ]
  },
  {
   "cell_type": "markdown",
   "metadata": {},
   "source": [
    "### Importance sampling without normalization constants \n",
    "\n",
    "##### Situation\n",
    "\n",
    "- We can generate $n$ iid samples $X_i$ not from original PDF $f(x)$,\n",
    "but from a new PDF $g(x)$.\n",
    "\n",
    "- We know $\\tilde{f}$, not $f=\\tilde{f}/Z_f$. We don't know normalization constant $Z_f$. \n",
    "\n",
    "- We know $\\tilde{g}$, not $g=\\tilde{g}/Z_g$. We don't know normalization constant $Z_g$. \n",
    "\n",
    "##### Algorithm\n",
    "- [Step 1] Generate $n$ iid samples $X_i$ not from original PDF $f(x)$,\n",
    "but from a new PDF $g(x)$.\n",
    "\n",
    "- [Step 2] Approximate $\\mathbb{E}h(X)$ by\n",
    "$$\n",
    "\\mathbb{E}h(X)\\quad\\approx\\quad\\frac{1}{n}\\sum_{i=1}^n\\omega_0(X_i)h(X_i)\n",
    "$$\n",
    "Here, the importance weight $\\omega_0(X_i)$ without normalization constants is given by\n",
    "$$\n",
    "\\omega_0(X_i)=\\frac{\\tilde{\\omega}(X_i)}{\\frac{1}{n}\\sum_{k=1}^n\\tilde{\\omega}(X_k)}\n",
    "$$\n",
    "where\n",
    "$\n",
    "\\tilde{\\omega}(X_i)=\\tilde{f}(X_i)/\\tilde{g}(X_i)\n",
    "$."
   ]
  },
  {
   "cell_type": "markdown",
   "metadata": {},
   "source": [
    "Approximate $\\mathbb{E}h(X)$ by\n",
    "\\begin{eqnarray}\n",
    "\\mathbb{E}h(X)\n",
    "&=&\\int h(x)f(x)dx\\\\\n",
    "&=&\\int \\frac{f(x)}{g(x)}h(x)g(x)dx\\\\\n",
    "&=&\\frac{Z_g}{Z_f}\\int \\frac{\\tilde{f}(x)}{\\tilde{g}(x)}h(x)g(x)dx \\\\\n",
    "&\\approx&\\left(\\frac{Z_f}{Z_g}\\right)^{-1}\\left(\\frac{1}{n}\\sum_{i=1}^n\\tilde{\\omega}(X_i)h(X_i)\\right)\n",
    "\\end{eqnarray}"
   ]
  },
  {
   "cell_type": "markdown",
   "metadata": {},
   "source": [
    "$Z_f/Z_g$ is approximated further by\n",
    "\\begin{eqnarray}\n",
    "\\frac{Z_f}{Z_g}\n",
    "&=&\\frac{1}{Z_g}\\int \\tilde{f}(x)dx\\\\\n",
    "&=&\\int \\tilde{f}(x)\\frac{1}{Z_g}dx\\\\\n",
    "&=&\\int \\tilde{f}(x)\\frac{g(x)}{\\tilde{g}(x)}dx\\\\\n",
    "&=&\\int \\frac{\\tilde{f}(x)}{\\tilde{g}(x)}g(x)dx\\\\\n",
    "&\\approx&\\frac{1}{n}\\sum_{i=1}^n\\tilde{\\omega}(X_i)\n",
    "\\end{eqnarray}"
   ]
  },
  {
   "cell_type": "markdown",
   "metadata": {},
   "source": [
    "Combining these two, we have\n",
    "$$\n",
    "\\mathbb{E}h(X)\\quad\\approx\\quad\\sum_{i=1}^n\\omega_0(X_i)h(X_i)\n",
    "$$"
   ]
  },
  {
   "cell_type": "markdown",
   "metadata": {},
   "source": [
    "### Pros and cons of importance sampling\n",
    "\n",
    "##### Pros\n",
    "\n",
    "- Easier to sample from $q$\n",
    "\n",
    "- Can reduce the variance of the estimator\n",
    "\n",
    "- Works well in low dimension up to 6\n",
    "\n",
    "##### Cons\n",
    "\n",
    "- Does not work well in high dimension ($\\Rightarrow$ MCMC)\n",
    "\n",
    "- Need modification in sequential setting ($\\Rightarrow$ sequential importance sampling)"
   ]
  },
  {
   "cell_type": "markdown",
   "metadata": {},
   "source": [
    "### How to choose $q$\n",
    "$$\n",
    "\\mbox{argmin}_q\\  \\int\\frac{g^2f^2}{q^2}q-\\left(\\int\\frac{gf}{q}q\\right)^2\n",
    "=\\mbox{argmin}_q\\  \\int\\frac{g^2f^2}{q^2}q-\\left(\\int gf\\right)^2\n",
    "=\\mbox{argmin}_q\\  \\int\\frac{g^2f^2}{q^2}q\n",
    "$$\n",
    "\n",
    "##### Minimize the variance of the estimator - Lagrangian\n",
    "$$\n",
    "\\mbox{argmin}_{q_i>0,\\ \\sum_i q_i=1}\\ \\ \\sum_i\\frac{g_i^2f_i^2}{q_i^2}q_i\n",
    "$$\n",
    "$$\n",
    "{\\cal L}=\\sum_i\\frac{g_i^2f_i^2}{q_i^2}q_i-\\beta\\left(\\sum_i q_i-1\\right)\n",
    "=\\sum_i\\frac{g_i^2f_i^2}{q_i}-\\beta\\left(\\sum_i q_i-1\\right)\n",
    "$$\n",
    "$$\n",
    "\\frac{\\partial}{\\partial q_j}{\\cal L}=-\\frac{g_i^2f_i^2}{q_i^2}-\\beta=0\n",
    "\\ \\ \\Rightarrow\\ \\ q_i^2\\propto g_i^2f_i^2\n",
    "\\ \\ \\Rightarrow\\ \\ q_i\\propto |g_i|f_i\n",
    "\\ \\ \\Rightarrow\\ \\ q_i=\\frac{|g_i|f_i}{Z}\n",
    "$$\n",
    "\n",
    "##### Minimize the variance of the estimator - Jensen's inequality\n",
    "$$\n",
    "RHS=\\int\\frac{g^2f^2}{q^2}q\\ge\\left(\\int\\frac{|g|f}{q}q\\right)^2=\\left(\\int|g|f\\right)^2=LHS\n",
    "$$\n",
    "With \n",
    "$$\n",
    "q\\propto |g|f\\ \\ \\Rightarrow\\ \\ q=\\frac{|g|f}{Z}\n",
    "$$\n",
    "$$\n",
    "RHS\n",
    "=\\int\\frac{g^2f^2}{q^2}q\n",
    "=\\int\\frac{g^2f^2}{g^2f^2/Z^2}\\frac{|g|f}{Z}\n",
    "=Z\\int|g|f\n",
    "=Z^2\n",
    "=\\left(\\int|g|f\\right)^2\n",
    "=LHS\n",
    "$$\n",
    "\n",
    "##### How to choose $q$\n",
    "$$\\begin{array}{llllll}\n",
    "\\mbox{1st choice}&&q\\propto |g|f\\ \\ \\Rightarrow\\ \\  q=\\frac{|g|f}{Z}\\nonumber\\\\\n",
    "\\nonumber\\\\\n",
    "\\mbox{2nd choice}&&\\mbox{Choose $q$ large when $|g|f$ is large}\\nonumber\\\\\n",
    "\\nonumber\\\\\n",
    "\\mbox{Other choice}&&\\mbox{Minimize the variance of the posterior}\\nonumber\\\\\n",
    "\\nonumber\\\\\n",
    "\\mbox{Other choice}&&\\mbox{Minimize the variance of the MCMC}\\nonumber\\\\\n",
    "\\nonumber\\\\\n",
    "\\mbox{Other choice}&&\\mbox{Use MLE or MAP}\\nonumber\\\\\n",
    "\\nonumber\\\\\n",
    "\\mbox{Other choice}&&\\mbox{Study the nature of the problem}\\nonumber\\\\\n",
    "\\nonumber\\\\\n",
    "\\mbox{Other choice}&&\\mbox{Cross validation}\\nonumber\\\\\n",
    "\\end{array}$$"
   ]
  },
  {
   "cell_type": "markdown",
   "metadata": {},
   "source": [
    "[<a href=\"#Sampling\">Back to top</a>]"
   ]
  },
  {
   "cell_type": "markdown",
   "metadata": {},
   "source": [
    "# Random Name Generation"
   ]
  },
  {
   "cell_type": "markdown",
   "metadata": {},
   "source": [
    "### One random name generation"
   ]
  },
  {
   "cell_type": "code",
   "execution_count": null,
   "metadata": {
    "collapsed": true
   },
   "outputs": [],
   "source": [
    "import string\n",
    "import random\n",
    "\n",
    "# string of ascii letters \n",
    "Letter_set = string.ascii_letters\n",
    "LETTER_set = string.ascii_uppercase\n",
    "letter_set = string.ascii_lowercase\n",
    "\n",
    "# function - random_name_generator\n",
    "def random_name_generator(length_of_name):\n",
    "\n",
    "    n = length_of_name\n",
    "    random_name = ''\n",
    "\n",
    "    for i in range(n):\n",
    "        if i == 0:\n",
    "            random_name = random_name + random.choice(LETTER_set)\n",
    "        else:\n",
    "            random_name = random_name + random.choice(letter_set)\n",
    "\n",
    "    return random_name\n",
    "\n",
    "# One random name generation\n",
    "print(random_name_generator(5))"
   ]
  },
  {
   "cell_type": "markdown",
   "metadata": {},
   "source": [
    "### 50 random name generation "
   ]
  },
  {
   "cell_type": "code",
   "execution_count": null,
   "metadata": {
    "collapsed": true
   },
   "outputs": [],
   "source": [
    "import string\n",
    "import random\n",
    "\n",
    "# string of ascii letters \n",
    "Letter_set = string.ascii_letters\n",
    "LETTER_set = string.ascii_uppercase\n",
    "letter_set = string.ascii_lowercase\n",
    "\n",
    "# function - random_name_generator\n",
    "def random_name_generator(length_of_name):\n",
    "\n",
    "    n = length_of_name\n",
    "    random_name = ''\n",
    "\n",
    "    for i in range(n):\n",
    "        if i == 0:\n",
    "            random_name = random_name + random.choice(LETTER_set)\n",
    "        else:\n",
    "            random_name = random_name + random.choice(letter_set)\n",
    "\n",
    "    return random_name\n",
    "\n",
    "# 50 random name generation \n",
    "for i in range(50):\n",
    "    length_of_name = random.randint(5, 10)\n",
    "    print(random_name_generator(length_of_name))"
   ]
  },
  {
   "cell_type": "markdown",
   "metadata": {},
   "source": [
    "### Random name generation using raw input"
   ]
  },
  {
   "cell_type": "code",
   "execution_count": null,
   "metadata": {
    "collapsed": true
   },
   "outputs": [],
   "source": [
    "import string\n",
    "import random\n",
    "\n",
    "# string of ascii letters \n",
    "Letter_set = string.ascii_letters\n",
    "LETTER_set = string.ascii_uppercase\n",
    "letter_set = string.ascii_lowercase\n",
    "\n",
    "# function - random_name_generator\n",
    "def random_name_generator(length_of_name):\n",
    "\n",
    "    n = length_of_name\n",
    "    random_name = ''\n",
    "\n",
    "    for i in range(n):\n",
    "        if i == 0:\n",
    "            random_name = random_name + random.choice(LETTER_set)\n",
    "        else:\n",
    "            random_name = random_name + random.choice(letter_set)\n",
    "\n",
    "    return random_name\n",
    "\n",
    "# Random name generation using raw input\n",
    "length_of_name = input('What is the length of the random name to generate? ')\n",
    "length_of_name = int(length_of_name)\n",
    "print(random_name_generator(length_of_name))"
   ]
  },
  {
   "cell_type": "markdown",
   "metadata": {},
   "source": [
    "[<a href=\"#Sampling\">Back to top</a>]"
   ]
  }
 ],
 "metadata": {
  "kernelspec": {
   "display_name": "Python 3",
   "language": "python",
   "name": "python3"
  },
  "language_info": {
   "codemirror_mode": {
    "name": "ipython",
    "version": 3
   },
   "file_extension": ".py",
   "mimetype": "text/x-python",
   "name": "python",
   "nbconvert_exporter": "python",
   "pygments_lexer": "ipython3",
   "version": "3.5.0"
  }
 },
 "nbformat": 4,
 "nbformat_minor": 2
}
