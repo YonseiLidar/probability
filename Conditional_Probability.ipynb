{
 "cells": [
  {
   "cell_type": "markdown",
   "metadata": {},
   "source": [
    "# Conditional Probability\n",
    "\n",
    "<a href=\"#Definition\">Definition</a>\n",
    "\n",
    "<a href=\"#Chain-Rule\">Chain Rule</a>\n",
    " \n",
    "<a href=\"#Bayes'-Rule\">Bayes' Rule</a>\n",
    " \n",
    "<a href=\"#Total-Probability-Law\">Total Probability Law</a>\n",
    "\n",
    "<a href=\"#Bayes'-Rule-+-Total-Probability-Law\">Bayes' Rule + Total Probability Law</a>\n",
    " \n",
    "<a href=\"#Conditional-Probability-as-Probability-Measure\">Conditional Probability as Probability Measure</a>\n",
    "\n",
    "<a href=\"#Example---Birthday-Problem\">Example - Birthday Problem</a>\n",
    "\n",
    "<a href=\"#Example---Monty-Hall-Problem\">Example - Monty Hall Problem</a>\n",
    " \n",
    "<a href=\"#Joint,-Marginal,-and-Conditional-Probabilities\">Joint, Marginal, and Conditional Probabilities</a>\n",
    "\n",
    "<a href=\"#Independent,-Pairwise-Independent,-Conditionally-Independent-Events\">Independent, Pairwise Independent, Conditionally Independent Events</a>"
   ]
  },
  {
   "cell_type": "markdown",
   "metadata": {},
   "source": [
    "# Definition"
   ]
  },
  {
   "cell_type": "markdown",
   "metadata": {},
   "source": [
    "$$\n",
    "P(B|A)=\\frac{P(AB)}{P(A)}\n",
    "$$"
   ]
  },
  {
   "cell_type": "markdown",
   "metadata": {},
   "source": [
    "[<a href=\"#Conditional-Probability\">Back to top</a>]"
   ]
  },
  {
   "cell_type": "markdown",
   "metadata": {},
   "source": [
    "# Chain Rule"
   ]
  },
  {
   "cell_type": "markdown",
   "metadata": {},
   "source": [
    "$$\\begin{array}{lll}\n",
    "P(AB)&=&P(A)P(B|A)\\\\\n",
    "\\\\\n",
    "P(ABC)&=&P(A)P(B|A)P(C|AB)\\\\\n",
    "\\\\\n",
    "P(ABCD)&=&P(A)P(B|A)P(C|AB)P(D|ABC)\\\\\n",
    "\\\\\n",
    "\\vdots&=&\\vdots\\\\\n",
    "\\end{array}$$"
   ]
  },
  {
   "cell_type": "markdown",
   "metadata": {},
   "source": [
    "[<a href=\"#Conditional-Probability\">Back to top</a>]"
   ]
  },
  {
   "cell_type": "markdown",
   "metadata": {},
   "source": [
    "# Bayes' Rule"
   ]
  },
  {
   "cell_type": "markdown",
   "metadata": {},
   "source": [
    "$$\n",
    "P({\\color{red}B}|{\\color{red}A})=\\frac{P({\\color{red}A}|{\\color{red}B})P(B)}{P(A)}\n",
    "$$"
   ]
  },
  {
   "cell_type": "markdown",
   "metadata": {},
   "source": [
    "[<a href=\"#Conditional-Probability\">Back to top</a>]"
   ]
  },
  {
   "cell_type": "markdown",
   "metadata": {},
   "source": [
    "# Total Probability Law"
   ]
  },
  {
   "cell_type": "markdown",
   "metadata": {},
   "source": [
    "<div align=\"center\"><img src=\"img/Total probability law.png\" width=\"40%\" height=\"10%\"></div>"
   ]
  },
  {
   "cell_type": "markdown",
   "metadata": {},
   "source": [
    "If $\\Omega=\\cup_{k=1}^nB_k$ disjointly or if  $A=\\cup_{k=1}^nAB_k$ disjointly,\n",
    "$$P(A)=\\sum_{k=1}^nP(AB_k)=\\sum_{k=1}^nP(B_k)P(A|B_k)$$"
   ]
  },
  {
   "cell_type": "markdown",
   "metadata": {},
   "source": [
    "[<a href=\"#Conditional-Probability\">Back to top</a>]"
   ]
  },
  {
   "cell_type": "markdown",
   "metadata": {
    "collapsed": true
   },
   "source": [
    "# Bayes' Rule + Total Probability Law"
   ]
  },
  {
   "cell_type": "markdown",
   "metadata": {},
   "source": [
    "If $\\Omega=\\cup_{k=1}^nB_k$ disjointly or if $A=\\cup_{k=1}^nAB_k$ disjointly, then \n",
    "$$\n",
    "P({\\color{red}B}_{\\color{red}1}|{\\color{red}A})\n",
    "\\stackrel{\\mbox{Bayes}}{=}\n",
    "\\frac{P({\\color{red}A}|{\\color{red}B}_{\\color{red}1})P(B_1)}{P(A)}\n",
    "\\stackrel{\\mbox{TPL}}{=}\n",
    "\\frac{P(B_1)P(A|B_1)}{\\sum_{k=1}^nP(B_k)P(A|B_k)}\n",
    "$$"
   ]
  },
  {
   "cell_type": "markdown",
   "metadata": {},
   "source": [
    "### Example - False positive\n",
    "\n",
    "A laboratory blood test is 95% effective in detecting a certain cancer when it is, in fact, present. \n",
    "However, the test also yields a false positive result for 1% of the healthy persons tested. \n",
    "If 0.01% of the population actually has this particular cancer, what is the probability that a person has the cancer given that the test result is positive?"
   ]
  },
  {
   "cell_type": "markdown",
   "metadata": {},
   "source": [
    "<div align=\"center\"><img src=\"img/stats_false_positive.jpg\" width=\"60%\" height=\"10%\"></div>\n",
    "\n",
    "https://kingeofdremes.files.wordpress.com/2013/03/stats.jpg"
   ]
  },
  {
   "cell_type": "markdown",
   "metadata": {},
   "source": [
    "$$\\begin{array}{llllllllllll}\n",
    "\\mbox{prior}&P(C)=0.0001,&P(C^c)=1-P(C)\\\\\n",
    "\\mbox{sensitivity}&P(+|C)=0.95,&P(-|C)=1-P(+|C)\\\\\n",
    "\\mbox{specificity}&P(+|C^c)=0.01,&P(-|C^c)=1-P(+|C^c)\\\\\n",
    "\\mbox{joint}&P(C,+)=P(C)P(+|C),&P(C^c,+)=P(C^c)P(+|C^c)\\\\\n",
    "\\mbox{normalizer}&P(+)=P(C,+)+P(C^c,+)\\\\\n",
    "\\mbox{posterior}&P(C|+)=\\frac{P(C,+)}{P(+)},&P(C^c|+)=\\frac{P(C^c,+)}{P(+)}\\\\\n",
    "\\end{array}$$"
   ]
  },
  {
   "cell_type": "code",
   "execution_count": 1,
   "metadata": {},
   "outputs": [
    {
     "name": "stdout",
     "output_type": "stream",
     "text": [
      "양성반응 후, 암이 있을 확률:  0.009411531602932436\n",
      "양성반응 후, 암이 없을 확률:  0.9905884683970676\n"
     ]
    }
   ],
   "source": [
    "prob_Cancer = 0.0001\n",
    "prob_not_Cancer = 1 - prob_Cancer\n",
    "\n",
    "prob_positive_given_Cancer = 0.95\n",
    "prob_negative_given_Cancer = 1 - prob_positive_given_Cancer\n",
    "\n",
    "prob_positive_given_not_Cancer = 0.01\n",
    "prob_negative_given_not_Cancer = 1 - prob_positive_given_not_Cancer\n",
    "\n",
    "prob_positive_and_Cancer = prob_Cancer * prob_positive_given_Cancer\n",
    "prob_positive_and_not_Cancer = prob_not_Cancer * prob_positive_given_not_Cancer\n",
    "prob_positive = prob_positive_and_Cancer + prob_positive_and_not_Cancer  \n",
    "\n",
    "prob_Cancer_given_positive = prob_positive_and_Cancer / prob_positive\n",
    "prob_not_Cancer_given_positive = prob_positive_and_not_Cancer / prob_positive\n",
    "\n",
    "print(\"양성반응 후, 암이 있을 확률: \", prob_Cancer_given_positive)\n",
    "print(\"양성반응 후, 암이 없을 확률: \", prob_not_Cancer_given_positive)"
   ]
  },
  {
   "cell_type": "code",
   "execution_count": 2,
   "metadata": {},
   "outputs": [
    {
     "name": "stdout",
     "output_type": "stream",
     "text": [
      "양성반응 후, 암이 있을 확률: 0.009411531602932436\n",
      "양성반응 후, 암이 없을 확률: 0.9905884683970676\n"
     ]
    }
   ],
   "source": [
    "print(\"양성반응 후, 암이 있을 확률: {}\".format(prob_Cancer_given_positive))\n",
    "print(\"양성반응 후, 암이 없을 확률: {}\".format(prob_not_Cancer_given_positive))"
   ]
  },
  {
   "cell_type": "code",
   "execution_count": 3,
   "metadata": {},
   "outputs": [
    {
     "name": "stdout",
     "output_type": "stream",
     "text": [
      "양성반응 후, 암이 있을 확률: 0.009411531602932436\n",
      "양성반응 후, 암이 없을 확률: 0.9905884683970676\n"
     ]
    }
   ],
   "source": [
    "print(\"양성반응 후, 암이 있을 확률: {0}\".format(prob_Cancer_given_positive))\n",
    "print(\"양성반응 후, 암이 없을 확률: {0}\".format(prob_not_Cancer_given_positive))"
   ]
  },
  {
   "cell_type": "code",
   "execution_count": 4,
   "metadata": {},
   "outputs": [
    {
     "name": "stdout",
     "output_type": "stream",
     "text": [
      "양성반응 후, 암이 있을 확률: 0.0094\n",
      "양성반응 후, 암이 없을 확률: 0.9906\n"
     ]
    }
   ],
   "source": [
    "print(\"양성반응 후, 암이 있을 확률: {0:.4f}\".format(prob_Cancer_given_positive))\n",
    "print(\"양성반응 후, 암이 없을 확률: {0:.4f}\".format(prob_not_Cancer_given_positive))"
   ]
  },
  {
   "cell_type": "code",
   "execution_count": 5,
   "metadata": {},
   "outputs": [
    {
     "name": "stdout",
     "output_type": "stream",
     "text": [
      "양성반응 후, 암이 있을 확률: 0.94%\n",
      "양성반응 후, 암이 없을 확률: 99.06%\n"
     ]
    }
   ],
   "source": [
    "print(\"양성반응 후, 암이 있을 확률: {0:.2%}\".format(prob_Cancer_given_positive))\n",
    "print(\"양성반응 후, 암이 없을 확률: {0:.2%}\".format(prob_not_Cancer_given_positive))"
   ]
  },
  {
   "cell_type": "markdown",
   "metadata": {},
   "source": [
    "`:<10` 표현식을 이용하면 치환되는 문자열을 왼쪽으로 정렬하고 문자열의 총 자릿수를 10으로 맞출 수 있다.\n",
    "\n",
    "오른쪽 정렬은 `:<` 대신 `:>`을 이용하면 된다. 화살표 방향을 생각하면 어느 쪽으로 정렬이 되는지 금방 알 수 있을 것이다.\n",
    "\n",
    "https://wikidocs.net/13#_14"
   ]
  },
  {
   "cell_type": "code",
   "execution_count": 6,
   "metadata": {},
   "outputs": [
    {
     "name": "stdout",
     "output_type": "stream",
     "text": [
      "양성반응 후, 암이 있을 확률:      0.94%\n",
      "양성반응 후, 암이 없을 확률:     99.06%\n"
     ]
    }
   ],
   "source": [
    "print(\"양성반응 후, 암이 있을 확률: {0:>10.2%}\".format(prob_Cancer_given_positive))\n",
    "print(\"양성반응 후, 암이 없을 확률: {0:>10.2%}\".format(prob_not_Cancer_given_positive))"
   ]
  },
  {
   "cell_type": "markdown",
   "metadata": {},
   "source": [
    "<div align=\"center\"><img src=\"img/false_positive.png\" width=\"30%\" height=\"10%\"></div>"
   ]
  },
  {
   "cell_type": "markdown",
   "metadata": {},
   "source": [
    "만약 인구중 0.01%가 이 질병을 가지고 있는 것이 아니라 1%가 이 질병을 가지고있고\n",
    "양성반응이 나왔다면, \n",
    "질병이 있을 확률은?"
   ]
  },
  {
   "cell_type": "code",
   "execution_count": 7,
   "metadata": {},
   "outputs": [
    {
     "name": "stdout",
     "output_type": "stream",
     "text": [
      "양성반응 후, 암이 있을 확률:     48.97%\n",
      "양성반응 후, 암이 없을 확률:     51.03%\n"
     ]
    }
   ],
   "source": [
    "prob_Cancer = 0.01\n",
    "prob_not_Cancer = 1 - prob_Cancer\n",
    "\n",
    "prob_positive_given_Cancer = 0.95\n",
    "prob_negative_given_Cancer = 1 - prob_positive_given_Cancer\n",
    "\n",
    "prob_positive_given_not_Cancer = 0.01\n",
    "prob_negative_given_not_Cancer = 1 - prob_positive_given_not_Cancer\n",
    "\n",
    "prob_positive_and_Cancer = prob_Cancer * prob_positive_given_Cancer\n",
    "prob_positive_and_not_Cancer = prob_not_Cancer * prob_positive_given_not_Cancer\n",
    "prob_positive = prob_positive_and_Cancer + prob_positive_and_not_Cancer  \n",
    "\n",
    "prob_Cancer_given_positive = prob_positive_and_Cancer / prob_positive\n",
    "prob_not_Cancer_given_positive = prob_positive_and_not_Cancer / prob_positive\n",
    "\n",
    "print(\"양성반응 후, 암이 있을 확률: {0:>10.2%}\".format(prob_Cancer_given_positive))\n",
    "print(\"양성반응 후, 암이 없을 확률: {0:>10.2%}\".format(prob_not_Cancer_given_positive))"
   ]
  },
  {
   "cell_type": "markdown",
   "metadata": {},
   "source": [
    "[<a href=\"#Conditional-Probability\">Back to top</a>]"
   ]
  },
  {
   "cell_type": "markdown",
   "metadata": {},
   "source": [
    "# Conditional Probability as Probability Measure"
   ]
  },
  {
   "cell_type": "markdown",
   "metadata": {},
   "source": [
    "Conditional probability $P(\\cdot |B)$ is also a probability measure\n",
    "and hence it satisfies all the equalities and inequalities that the usual probability measure $P(\\cdot)$ satisfies.\n",
    "You just need to add ${\\color{red}|}{\\color{red}B}$ at the end of the equalities and inequalities before the right end parenthesis."
   ]
  },
  {
   "cell_type": "markdown",
   "metadata": {},
   "source": [
    "\\begin{eqnarray}\n",
    "(1)&&P(\\Omega{\\color{red}|}{\\color{red}B})=1,\\ P(\\emptyset{\\color{red}|}{\\color{red}B})=0\\nonumber\\\\\n",
    "\\nonumber\\\\\n",
    "(2)&&0\\le P(A{\\color{red}|}{\\color{red}B})\\le 1    \\ \\ \\ \\ \\ \\mbox{for any event $A$}\\nonumber\\\\\n",
    "\\nonumber\\\\\n",
    "(3)&&P(\\cup_{i=1}^{\\infty}A_i{\\color{red}|}{\\color{red}B})=\\sum_{i=1}^{\\infty}P(A_i{\\color{red}|}{\\color{red}B})\n",
    "\\  \\mbox{for disjoint $A_i$}\\nonumber\\\\\n",
    "\\nonumber\\\\\n",
    "(4)&&P(\\cup_{i=1}^{n}A_i{\\color{red}|}{\\color{red}B})=\\sum_{i=1}^{n}P(A_i{\\color{red}|}{\\color{red}B})\n",
    "\\  \\mbox{for disjoint $A_i$}\\nonumber\\\\\n",
    "\\nonumber\\\\\n",
    "(5)&&P(A_1{\\color{red}|}{\\color{red}B})\\le P(A_2{\\color{red}|}{\\color{red}B})\n",
    "\\ \\ \\ \\ \\ \\mbox{for $A_1\\subset A_2$}\\nonumber\\\\\n",
    "\\nonumber\\\\\n",
    "(6)&&P(A^c{\\color{red}|}{\\color{red}B})=1-P(A{\\color{red}|}{\\color{red}B})\\nonumber\\\\\n",
    "\\nonumber\\\\\n",
    "(7)&&P(\\cup_{i=1}^nA_i{\\color{red}|}{\\color{red}B})\\le \\sum_{i=1}^nP(A_i{\\color{red}|}{\\color{red}B})\\nonumber\\\\\n",
    "\\nonumber\\\\\n",
    "(7)&&P(\\cup_{i=1}^nA_i{\\color{red}|}{\\color{red}B})\\ge \\sum_{i=1}^nP(A_i{\\color{red}|}{\\color{red}B})-\\sum_{1\\le i<j\\le n}P(A_iA_j{\\color{red}|}{\\color{red}B})\\nonumber\\\\\n",
    "\\nonumber\\\\\n",
    "(7)&&P(\\cup_{i=1}^nA_i{\\color{red}|}{\\color{red}B})\\le \\sum_{i=1}^nP(A_i{\\color{red}|}{\\color{red}B})-\\sum_{1\\le i<j\\le n}P(A_iA_j{\\color{red}|}{\\color{red}B})+\\sum_{1\\le i<j<k\\le n}P(A_iA_jA_k{\\color{red}|}{\\color{red}B})\\nonumber\\\\\n",
    "&&\\cdots\\nonumber\\\\\n",
    "(7)&&P(\\cup_{i=1}^nA_i{\\color{red}|}{\\color{red}B})=\\sum_{i=1}^nP(A_i{\\color{red}|}{\\color{red}B})-\\cdots+(-1)^{n+1}P(A_1A_2\\cdots A_n{\\color{red}|}{\\color{red}B})\\nonumber\n",
    "\\end{eqnarray}"
   ]
  },
  {
   "cell_type": "markdown",
   "metadata": {},
   "source": [
    "### Example - Double ace\n",
    "\n",
    "We choose two cards from the ordinary 52 cards deck.\n",
    "$$\\begin{array}{lll}\n",
    "A\\ &&\\mbox{An ace is chosen}\\nonumber\\\\\n",
    "A_1&&\\mbox{Spade ace is chosen}\\nonumber\\\\\n",
    "B\\ &&\\mbox{Both cards are aces}\\nonumber\n",
    "\\end{array}$$\n",
    "Guess which one is larger among the two, $P(B|A)$ and $P(B|A_1)$.\n",
    "Compute $P(B|A)$ and $P(B|A_1)$."
   ]
  },
  {
   "cell_type": "markdown",
   "metadata": {},
   "source": [
    "##### Computation of $P(B|A_1)$\n",
    "\n",
    "Suppose that the spade ace is chosen.\n",
    "Then, there are 51 cards left and among these 51 cards\n",
    "we will chose one cards.\n",
    "To have both aces\n",
    "we have to choose diamond, heart, or club ace.\n",
    "So, \n",
    "$$P(B|A_1)=\\frac{3}{51}=0.0588$$"
   ]
  },
  {
   "cell_type": "markdown",
   "metadata": {},
   "source": [
    "##### Computation of $P(B|A)$\n",
    "\n",
    "$$\n",
    "P(B|A)=P(A|B)\\frac{P(B)}{P(A)}=\\frac{P(B)}{P(A)}=\\frac{P(B)}{1-P(A^c)}=\\frac{\\frac{{4\\choose 2}}{{52\\choose 2}}}{1-\\frac{{48\\choose 2}}{{52\\choose 2}}}=0.0303\n",
    "$$"
   ]
  },
  {
   "cell_type": "code",
   "execution_count": 8,
   "metadata": {},
   "outputs": [
    {
     "name": "stdout",
     "output_type": "stream",
     "text": [
      "스페이드 에이스가 들어왔을 때, 둘 다 에이스일 확률 :      5.88%\n",
      "에이스가 들어왔을 때, 둘 다 에이스일 확률        :      3.03%\n"
     ]
    }
   ],
   "source": [
    "import scipy.special as ss\n",
    "\n",
    "prob_B_given_A1 = 3 / 51\n",
    "\n",
    "prob_B = ss.comb(4,2) / ss.comb(52,2)\n",
    "\n",
    "prob_not_A = ss.comb(48,2) / ss.comb(52,2)\n",
    "prob_A = 1 - prob_not_A\n",
    "\n",
    "prob_B_given_A = prob_B / prob_A  \n",
    "\n",
    "print(\"스페이드 에이스가 들어왔을 때, 둘 다 에이스일 확률 : {0:>10.2%}\".format(prob_B_given_A1))\n",
    "print(\"에이스가 들어왔을 때, 둘 다 에이스일 확률        : {0:>10.2%}\".format(prob_B_given_A))"
   ]
  },
  {
   "cell_type": "markdown",
   "metadata": {},
   "source": [
    "[<a href=\"#Conditional-Probability\">Back to top</a>]"
   ]
  },
  {
   "cell_type": "markdown",
   "metadata": {},
   "source": [
    "# Example - Birthday Problem"
   ]
  },
  {
   "cell_type": "markdown",
   "metadata": {},
   "source": [
    "Let $p(n)$ be the probability that  there is at least one birthday match among $n$ people.\n",
    "Find the minimum number $n$ of people \n",
    "that $p(n)$ is over 50%."
   ]
  },
  {
   "cell_type": "markdown",
   "metadata": {},
   "source": [
    "Let $B_k$ be the event that first $k$ people have all different birthdays.\n",
    "Then, by the chain rule we have\n",
    "\n",
    "\\begin{eqnarray}\n",
    "\\displaystyle \n",
    "1-p(n)\n",
    "&=&\\displaystyle P(B_1B_2B_3\\cdots B_n)\\nonumber\\\\\n",
    "&=&\\displaystyle P(B_1)P(B_2|B_1)P(B_3|B_1B_2)\\cdots P(B_n|B_1B_2\\cdots B_{n-1})\\nonumber\\\\\n",
    "&=&\\displaystyle P(B_1)P(B_2|B_1)P(B_3|B_2)\\cdots P(B_n|B_{n-1})\\nonumber\\\\\n",
    "&=&\\displaystyle (1)\\left(\\frac{364}{365}\\right)\\left(\\frac{363}{365}\\right)\\cdots \\left(\\frac{(365-(n-1)}{365}\\right)\\nonumber\\\\\n",
    "&=&\\displaystyle (1)\\left(1-\\frac{1}{365}\\right)\\left(1-\\frac{2}{365}\\right)\\cdots \\left(1-\\frac{n-1}{365}\\right)\\nonumber\\\\\n",
    "&\\approx&\\displaystyle  e^{-\\frac{1}{365}}e^{-\\frac{2}{365}}\\cdots e^{-\\frac{n-1}{365}}=e^{-\\frac{n(n-1)}{2\\times365}}\\nonumber\n",
    "\\end{eqnarray}\n",
    "\n",
    "$$\n",
    "\\displaystyle \n",
    "e^{-\\frac{n(n-1)}{2\\times365}}=0.5\n",
    "\\quad\\Rightarrow\\quad\n",
    "n\\approx 23\n",
    "$$\n",
    "\n",
    "\\begin{array}{ccc}\\hline\n",
    "p(22)&p(23)&p(24)\\\\\\hline\n",
    "0.4757&0.5073&0.5383\\\\\\hline\n",
    "\\end{array}"
   ]
  },
  {
   "cell_type": "code",
   "execution_count": 2,
   "metadata": {},
   "outputs": [
    {
     "data": {
      "image/png": "[encoded data removed]",
      "text/plain": [
       "<Figure size 432x288 with 1 Axes>"
      ]
     },
     "metadata": {
      "needs_background": "light"
     },
     "output_type": "display_data"
    },
    {
     "name": "stdout",
     "output_type": "stream",
     "text": [
      "[0.         0.         0.00273973 0.00820417 0.01635591 0.02713557\n",
      " 0.04046248 0.0562357  0.07433529 0.09462383 0.11694818 0.14114138\n",
      " 0.16702479 0.19441028 0.22310251 0.25290132 0.28360401 0.31500767\n",
      " 0.34691142 0.37911853 0.41143838 0.44368834 0.47569531 0.50729723\n",
      " 0.53834426 0.5686997  0.59824082 0.62685928 0.65446147 0.68096854\n",
      " 0.70631624 0.73045463 0.75334753 0.77497185 0.79531686 0.81438324\n",
      " 0.83218211 0.84873401 0.86406782 0.87821966 0.89123181 0.90315161\n",
      " 0.91403047 0.92392286 0.93288537 0.9409759  0.94825284 0.9547744\n",
      " 0.96059797 0.96577961 0.97037358 0.97443199 0.97800451 0.98113811\n",
      " 0.98387696 0.98626229 0.98833235 0.99012246 0.99166498 0.99298945\n",
      " 0.99412266 0.9950888  0.99590957 0.99660439 0.99719048 0.99768311\n",
      " 0.9980957  0.99844004 0.99872639 0.99896367 0.99915958 0.99932075\n",
      " 0.99945288 0.99956081 0.99964864 0.99971988 0.99977744 0.99982378\n",
      " 0.99986095 0.99989067 0.99991433 0.99993311 0.99994795 0.99995965\n",
      " 0.99996882 0.999976   0.99998159 0.99998593 0.99998928 0.99999186\n",
      " 0.99999385 0.99999537 0.99999652 0.9999974  0.99999806 0.99999856\n",
      " 0.99999893 0.99999922 0.99999942 0.99999958]\n",
      "(array([23, 24, 25, 26, 27, 28, 29, 30, 31, 32, 33, 34, 35, 36, 37, 38, 39,\n",
      "       40, 41, 42, 43, 44, 45, 46, 47, 48, 49, 50, 51, 52, 53, 54, 55, 56,\n",
      "       57, 58, 59, 60, 61, 62, 63, 64, 65, 66, 67, 68, 69, 70, 71, 72, 73,\n",
      "       74, 75, 76, 77, 78, 79, 80, 81, 82, 83, 84, 85, 86, 87, 88, 89, 90,\n",
      "       91, 92, 93, 94, 95, 96, 97, 98, 99]),)\n",
      "[23 24 25 26 27 28 29 30 31 32 33 34 35 36 37 38 39 40 41 42 43 44 45 46\n",
      " 47 48 49 50 51 52 53 54 55 56 57 58 59 60 61 62 63 64 65 66 67 68 69 70\n",
      " 71 72 73 74 75 76 77 78 79 80 81 82 83 84 85 86 87 88 89 90 91 92 93 94\n",
      " 95 96 97 98 99]\n",
      "23\n",
      "Smallest number of people with bithday matching prob more than half:  23\n"
     ]
    }
   ],
   "source": [
    "import numpy as np\n",
    "import matplotlib.pyplot as plt\n",
    "\n",
    "# probability_B[k] - probability that first k  people have all different birthdays\n",
    "probability_B = np.zeros(100)\n",
    "for k in range(100):\n",
    "    if (k==0) or (k==1):\n",
    "        probability_B[k] = 1\n",
    "    else:\n",
    "        probability_B[k] = probability_B[k-1] * (1-((k-1)/365)) \n",
    "\n",
    "# probability_A[k] - probability that there is birthday match among first k\n",
    "probability_A = 1 - probability_B\n",
    "    \n",
    "plt.plot(probability_A)\n",
    "plt.title(\"Bithday Matching Probability\")\n",
    "plt.xlabel('Number_People')\n",
    "plt.ylabel('Probability')\n",
    "plt.show()\n",
    "\n",
    "print(probability_A)\n",
    "print(np.where(probability_A>=0.5))\n",
    "print(np.where(probability_A>=0.5)[0])\n",
    "print(np.where(probability_A>=0.5)[0][0])\n",
    "\n",
    "print(\"Smallest number of people with bithday matching prob more than half: \", np.where(probability_A>=0.5)[0][0])"
   ]
  },
  {
   "cell_type": "markdown",
   "metadata": {},
   "source": [
    "[<a href=\"#Conditional-Probability\">Back to top</a>]"
   ]
  },
  {
   "cell_type": "markdown",
   "metadata": {},
   "source": [
    "# Example - Monty Hall Problem"
   ]
  },
  {
   "cell_type": "markdown",
   "metadata": {},
   "source": [
    "You are on a game show, and you're given the choice of three doors: \n",
    "Behind one door is a car and behind the others are goats. You pick a door, say \\#1, and the host, who knows what's behind the doors, opens another door, say \\#3, which has a goat. He then says to you,``Do you want to pick door \\#2?\" Is it to your advantage to switch your choice?"
   ]
  },
  {
   "cell_type": "markdown",
   "metadata": {},
   "source": [
    "<div align=\"center\"><img src=\"img/Monty Hall problem.png\" width=\"60%\" height=\"10%\"></div>\n",
    "\n",
    "From New York Times"
   ]
  },
  {
   "cell_type": "markdown",
   "metadata": {},
   "source": [
    "##### Under the no change strategy the winning probability is 1/3."
   ]
  },
  {
   "cell_type": "markdown",
   "metadata": {},
   "source": [
    "##### Under the change strategy the winning probability is 2/3.\n",
    "\n",
    "\\begin{eqnarray}\n",
    "C&&\\quad\\mbox{Car door is chosen at the first round}\\nonumber\\\\\n",
    "G&&\\quad\\mbox{Goat door is chosen at the first round}\\nonumber\\\\\n",
    "W&&\\quad\\mbox{Win the prize}\\nonumber\n",
    "\\end{eqnarray}\n",
    "\n",
    "[Step 1] (Divide)\n",
    "Using the first round choice\n",
    "divide $W$ into $WC$ and $WG$.\n",
    "$$\n",
    "W=WC\\cup WG\\quad\\mbox{disjointly}\n",
    "$$\n",
    "\n",
    "[Step 2] (Conquer)\n",
    "Compute $P(WC)$ and $P(WG)$ using the chain rule.\n",
    "\\begin{eqnarray}\n",
    "P(WC)&=&P(C)P(W|C)=\\frac{1}{3}\\times 0=0\\nonumber\\\\\n",
    "P(WG)&=&P(G)P(W|G)=\\frac{2}{3}\\times 1=\\frac{2}{3}\\nonumber\n",
    "\\end{eqnarray}"
   ]
  },
  {
   "cell_type": "markdown",
   "metadata": {},
   "source": [
    "[<a href=\"#Conditional-Probability\">Back to top</a>]"
   ]
  },
  {
   "cell_type": "markdown",
   "metadata": {},
   "source": [
    "# Joint, Marginal, and Conditional Probabilities"
   ]
  },
  {
   "cell_type": "markdown",
   "metadata": {},
   "source": [
    "Suppose we decompose the sample space $\\Omega$ two different ways;\n",
    "$$\n",
    "\\Omega=\\cup_{i=1}^m A_i\\quad\\mbox{disjointly}\n",
    "\\quad\\mbox{and}\\quad\n",
    "\\Omega=\\cup_{j=1}^n B_j\\quad\\mbox{disjointly}\n",
    "$$"
   ]
  },
  {
   "cell_type": "markdown",
   "metadata": {},
   "source": [
    "### Joint $P(A_iB_j)$, Marginals $P(A_i)$, and $P(B_j)$\n",
    "\n",
    "<div align=\"center\"><img src=\"img/Screen Shot 2018-01-31 at 1.33.20 PM.png\" width=\"35%\" height=\"10%\"></div>"
   ]
  },
  {
   "cell_type": "markdown",
   "metadata": {},
   "source": [
    "### Conditional $P(B_j|A_i)$\n",
    "\n",
    "<div align=\"center\"><img src=\"img/Screen Shot 2018-01-31 at 1.34.39 PM.png\" width=\"30%\" height=\"10%\"></div>"
   ]
  },
  {
   "cell_type": "markdown",
   "metadata": {},
   "source": [
    "### How to get joint, marginal, conditional from other two\n",
    "\n",
    "$$\\begin{array}{llll}\n",
    "\\mbox{Chain rule}&\\displaystyle P(A_iB_j)=P(A_i)P(B_j|A_i)\\\\\n",
    "\\\\\n",
    "\\mbox{Marginalization}&\\displaystyle P(A_i)=\\sum_jP(A_iB_j)\\\\\n",
    "\\mbox{Conditioning}&\\displaystyle P(B_j|A_i)=\\frac{P(A_iB_j)}{P(A_i)}\n",
    "\\end{array}$$"
   ]
  },
  {
   "cell_type": "markdown",
   "metadata": {},
   "source": [
    "[<a href=\"#Conditional-Probability\">Back to top</a>]"
   ]
  },
  {
   "cell_type": "markdown",
   "metadata": {},
   "source": [
    "# Independent, Pairwise Independent, Conditionally Independent Events"
   ]
  },
  {
   "cell_type": "markdown",
   "metadata": {},
   "source": [
    "### Independent events"
   ]
  },
  {
   "cell_type": "markdown",
   "metadata": {},
   "source": [
    "$A$ and $B$ are independent if\n",
    "$$\n",
    "P(AB)=P(A)P(B)\n",
    "$$"
   ]
  },
  {
   "cell_type": "markdown",
   "metadata": {},
   "source": [
    "$A_1$, $\\cdots$, $A_n$ are independent if\n",
    "for any subcollection $A_{i_1}$, $\\cdots$, $A_{i_m}$ of $A_1$, $\\cdots$, $A_n$\n",
    "$$\n",
    "P(A_{i_1} A_{i_2} \\cdots A_{i_m})=P(A_{i_1})P(A_{i_2})P\\cdots P(A_{i_m})\n",
    "$$"
   ]
  },
  {
   "cell_type": "markdown",
   "metadata": {},
   "source": [
    "### Pairwise independent events"
   ]
  },
  {
   "cell_type": "markdown",
   "metadata": {},
   "source": [
    "$A_1$, $\\cdots$, $A_n$ are pairwise independent if\n",
    "for any pair $A_{i}$, $A_{j}$ from $A_1$, $\\cdots$, $A_n$\n",
    "$$\n",
    "P(A_{i} A_{j})=P(A_{i})P(A_{j})\n",
    "$$"
   ]
  },
  {
   "cell_type": "markdown",
   "metadata": {},
   "source": [
    "### Conditionally independent events"
   ]
  },
  {
   "cell_type": "markdown",
   "metadata": {},
   "source": [
    "$A_1$, $\\cdots$, $A_n$ are independent conditioned on $B$ if\n",
    "for any subcollection $A_{i_1}$, $\\cdots$, $A_{i_m}$ of $A_1$, $\\cdots$, $A_n$\n",
    "$$\n",
    "P(A_{i_1} A_{i_2} \\cdots A_{i_m}{\\color{red}|}{\\color{red}B})=P(A_{i_1}{\\color{red}|}{\\color{red}B})P(A_{i_2}{\\color{red}|}{\\color{red}B})P\\cdots P(A_{i_m}{\\color{red}|}{\\color{red}B})\n",
    "$$"
   ]
  },
  {
   "cell_type": "markdown",
   "metadata": {},
   "source": [
    "### Example - Pairwise independent but not independent events\n",
    "\n",
    "There are $n$ people in the class.\n",
    "Suppose each one choose one's birthday independently and uniformly over the 365 days.\n",
    "For each pair $i$ and $j$\n",
    "we let $A_{ij}$ be the event that $i$ and $j$ share the common birthday.\n",
    "Show that $A_{ij}$ are not independent but they are pairwise independent."
   ]
  },
  {
   "cell_type": "markdown",
   "metadata": {},
   "source": [
    "##### $A_{ij}$ are not independent\n",
    "$$\n",
    "P(A_{23}|A_{12},A_{13})=1\n",
    "\\neq\n",
    "\\frac{1}{365}=P(A_{23})\n",
    "$$"
   ]
  },
  {
   "cell_type": "markdown",
   "metadata": {},
   "source": [
    "##### $A_{ij}$ are pair-wise independent\n",
    "$$\n",
    "P(A_{13}|A_{12})\n",
    "=\n",
    "\\frac{P(A_{12}A_{13})}{P(A_{12})}\n",
    "=\n",
    "\\frac{\\frac{1}{365^2}}{\\frac{1}{365}}\n",
    "=\n",
    "\\frac{1}{365}\n",
    "=\n",
    "P(A_{13})\n",
    "$$"
   ]
  },
  {
   "cell_type": "markdown",
   "metadata": {},
   "source": [
    "### Example - Gambler's ruin\n",
    "\n",
    "Suppose you have i dollar. Each time you are betting 1 dollar  on some gambling\n",
    "that we will win 1 dollar  with probability $p(\\le 1/2)$ and lose 1 dollar  with probability $q:=1-p$.\n",
    "If you lose all the money, you ruin!\n",
    "If you have N dollar in your pocket, you happily quit this game.\n",
    "Let $Q(i)$ be the ruin probability when you start with initial capital i dollar:\n",
    "$$\\begin{array}{lllll}\n",
    "R&&\\mbox{Ruin}\\nonumber\\\\\n",
    "I&&\\mbox{Initial capital}\\nonumber\\\\\n",
    "Q(i)=\\mathbb{P}(R|I=i)&&\\mbox{Ruin probability when you start with initial capital i dollar}\\nonumber\n",
    "\\end{array}$$\n",
    "Calculate $Q(i)$."
   ]
  },
  {
   "cell_type": "markdown",
   "metadata": {},
   "source": [
    "##### First step analysis\n",
    "\n",
    "Decompose the ruin event $R$ according to the first outcome.\n",
    "Let $W$ be the event that you win the first game. Then \n",
    "\n",
    "\\begin{eqnarray}\n",
    "\\displaystyle \n",
    "Q(i)\n",
    "&=&\\displaystyle \\mathbb{P}(R|I=i)\\nonumber\\\\\n",
    "&=&\\displaystyle \\mathbb{P}(RW|I=i)+\\mathbb{P}(RW^c|I=i)\\nonumber\\\\\n",
    "&=&\\displaystyle \\mathbb{P}(W|I=i)\\mathbb{P}(R|I=i,W)+\\mathbb{P}(W^c|I=i)\\mathbb{P}(R|I=i,W^c)\\nonumber\\\\\n",
    "&=&\\displaystyle p\\mathbb{P}(R|I=i,W)+q\\mathbb{P}(R|I=i,W^c)\\nonumber\\\\\n",
    "&=&\\displaystyle pQ(i+1)+qQ(i-1)\\nonumber\n",
    "\\end{eqnarray}\n",
    "\n",
    "$$\\begin{array}{lllll}\n",
    "\\mbox{Recurrence relation}&&\\displaystyle Q(i)=pQ(i+1)+qQ(i-1)\\nonumber\\\\\n",
    "\\mbox{Boundary conditions}&&\\displaystyle Q(0)=1\\quad Q(N)=0\\nonumber\n",
    "\\end{array}$$"
   ]
  },
  {
   "cell_type": "code",
   "execution_count": 14,
   "metadata": {},
   "outputs": [
    {
     "name": "stdout",
     "output_type": "stream",
     "text": [
      "(10001,)\n"
     ]
    },
    {
     "data": {
      "image/png": "[encoded data removed]",
      "text/plain": [
       "<Figure size 432x288 with 1 Axes>"
      ]
     },
     "metadata": {
      "needs_background": "light"
     },
     "output_type": "display_data"
    },
    {
     "name": "stdout",
     "output_type": "stream",
     "text": [
      "Minimum initial capital with ruin probability less than half:  9983\n"
     ]
    }
   ],
   "source": [
    "import numpy as np\n",
    "import matplotlib.pyplot as plt\n",
    "\n",
    "# goal\n",
    "N = 10000\n",
    "\n",
    "# probabilities\n",
    "p = 0.49\n",
    "q = 1-p\n",
    "\n",
    "# IQ = AQ + b\n",
    "I = np.eye(N+1)\n",
    "A = p*np.eye(N+1, k=1) + q*np.eye(N+1, k=-1)\n",
    "A[0,1] = 0\n",
    "A[-1,-2] = 0\n",
    "b = np.zeros((N+1,1))\n",
    "b[0,0] = 1\n",
    "\n",
    "Q = np.linalg.solve(I-A,b).reshape(N+1)\n",
    "print(Q.shape)\n",
    "\n",
    "plt.plot(Q)\n",
    "plt.title(\"Probability of Ruin\")\n",
    "plt.xlabel('Initial_Capital')\n",
    "plt.ylabel('Probability_Ruin')\n",
    "plt.show()\n",
    "\n",
    "print(\"Minimum initial capital with ruin probability less than half: \", np.where(Q<=0.5)[0][0])"
   ]
  },
  {
   "cell_type": "markdown",
   "metadata": {},
   "source": [
    "##### Linear recurrence relation\n",
    "\n",
    "$$\n",
    "\\displaystyle \n",
    "pQ_1(i+1)+qQ_1(i-1)=Q_1(i)\n",
    "\\quad\\mbox{and}\\quad\n",
    "pQ_2(i+1)+qQ_2(i-1)=Q_2(i)\n",
    "$$\n",
    "\n",
    "With $Q:=\\alpha Q_1+\\beta Q_2$,\n",
    "\n",
    "\\begin{eqnarray}\n",
    "\\displaystyle \n",
    "pQ(i+1)+qQ(i-1)\n",
    "&=&\\displaystyle p(\\alpha Q_1(i+1)+\\beta Q_2(i+1))+q(\\alpha Q_1(i-1)+\\beta Q_2(i-1))\\nonumber\\\\\n",
    "&=&\\displaystyle \n",
    "\\alpha(pQ_1(i+1)+qQ_1(i-1))\n",
    "+\\beta(pQ_2(i+1)+qQ_2(i-1))\\nonumber\\\\\n",
    "&=&\\displaystyle \\alpha Q_1(i)+\\beta Q_2(i)\\nonumber\\\\\n",
    "&=&\\displaystyle Q(i)\\nonumber\n",
    "\\end{eqnarray}"
   ]
  },
  {
   "cell_type": "markdown",
   "metadata": {},
   "source": [
    "##### Characteristic equation\n",
    "\n",
    "$$\\begin{array}{lllllllllll}\n",
    "\\mbox{Guessed form of solution}&&&&Q(i)=\\lambda^i\\nonumber\\\\\n",
    "\\\\\n",
    "&&pQ(i+1)+qQ(i-1)=Q(i)&\\Rightarrow&p\\lambda^{i+1}+q\\lambda^{i-1}=\\lambda^i\\nonumber\\\\\n",
    "\\\\\n",
    "\\mbox{Characteristic equation}&&&&p\\lambda^2+q=\\lambda\\nonumber\n",
    "\\end{array}$$"
   ]
  },
  {
   "cell_type": "markdown",
   "metadata": {},
   "source": [
    "##### Characteristic root $\\lambda$\n",
    "\n",
    "Since $q=1-p$, \n",
    "$$\n",
    "\\lambda=p\\lambda^2+1-p\n",
    "=p(\\lambda+1)(\\lambda-1)+1\n",
    "\\ \\ \\Rightarrow\\ \\ \n",
    "(\\lambda-1)[p(\\lambda+1)-1]\n",
    "\\ \\ \\Rightarrow\\ \\ \n",
    "\\lambda=1, \\frac{q}{p}\n",
    "$$\n",
    "\n",
    "\\begin{eqnarray}\n",
    "\\lambda=1\\quad\\mbox{and}\\quad\\lambda=\\frac{q}{p}\\nonumber\n",
    "\\end{eqnarray}\n"
   ]
  },
  {
   "cell_type": "markdown",
   "metadata": {},
   "source": [
    "### Gambler's ruin - $q>1/2$ case\n",
    "\n",
    "##### Two different characteristic roots and hence  two different guessed solutions\n",
    "$$\n",
    "Q_1(i)=1\\quad\\mbox{and}\\quad\n",
    "Q_2(i)=\\left(\\frac{q}{p}\\right)^i\n",
    "$$\n",
    "##### General solution\n",
    "$$\n",
    "\\displaystyle Q(i)=\\alpha+\\beta\\left(\\frac{q}{p}\\right)^i\n",
    "$$\n",
    "##### Two boundary conditions\n",
    "$$\\begin{array}{llllll}\n",
    "\\mbox{Boundary condition $Q(0)=1$;}&& \\alpha+\\beta=1\\nonumber\\\\\n",
    "\\mbox{Boundary condition $Q(N)=0$;}&& \\alpha+\\beta\\left(\\frac{q}{p}\\right)^N=0\\nonumber\n",
    "\\end{array}$$\n",
    "$$\n",
    "\\Rightarrow\\quad\n",
    "\\alpha=\\frac{\\left(\\frac{q}{p}\\right)^N}{\\left(\\frac{q}{p}\\right)^N-1}\n",
    "\\quad\\quad\\quad\\quad\n",
    "\\beta=-\\frac{1}{\\left(\\frac{q}{p}\\right)^N-1}\n",
    "$$\n",
    "##### Solution\n",
    "$$\n",
    "Q(i)=\n",
    "\\alpha+\\beta\\left(\\frac{q}{p}\\right)^i\n",
    "=\n",
    "\\frac{\\left(\\frac{q}{p}\\right)^N-\\left(\\frac{q}{p}\\right)^i}{\\left(\\frac{q}{p}\\right)^N-1}\n",
    "$$\n",
    "##### Why gambler's ruin?\n",
    "Since $q/p>1$, $(q/p)^N>>>1$, and hence\n",
    "$$\n",
    "Q(i)\n",
    "\\approx\n",
    "\\frac{\\left(\\frac{q}{p}\\right)^N-\\left(\\frac{q}{p}\\right)^i}{\\left(\\frac{q}{p}\\right)^N}\n",
    "=1-\\left(\\frac{q}{p}\\right)^{-(N-i)}\n",
    "=1-e^{-(N-i)\\log (q/p)}\n",
    "$$\n",
    "Since $q/p>1$, $\\log(q/p)>0$ and hence\n",
    "as $i\\downarrow 0$\n",
    "$$\n",
    "\\begin{array}{llll}\n",
    "e^{-(N-i)\\log (q/p)}&\\downarrow&0\\quad \\mbox{exponentially fast}\\nonumber\\\\\n",
    "Q(i)\\approx 1-e^{-(N-i)\\log (q/p)}&\\uparrow&1\\quad \\mbox{exponentially fast}\\nonumber\n",
    "\\end{array}\n",
    "$$"
   ]
  },
  {
   "cell_type": "markdown",
   "metadata": {},
   "source": [
    "### Gambler's ruin - $q=1/2$ case\n",
    "##### Double roots and hence one guessed solution\n",
    "$$\n",
    "Q_1(i)=1\n",
    "$$\n",
    "In this case, another solution is given by\n",
    "$$\n",
    "Q_2(i)=iQ_1(i)=i\n",
    "$$\n",
    "##### General solution\n",
    "$$\n",
    "\\displaystyle Q(i)=\\alpha+\\beta i\n",
    "$$\n",
    "##### Two boundary conditions\n",
    "$$\\begin{array}{llllll}\n",
    "\\mbox{Boundary condition $Q(0)=1$;}&& \\alpha=1\\nonumber\\\\\n",
    "\\mbox{Boundary condition $Q(N)=0$;}&& \\alpha+\\beta N=0\\nonumber\n",
    "\\end{array}$$\n",
    "$$\n",
    "\\Rightarrow\\quad\n",
    "\\alpha=1,\n",
    "\\quad\n",
    "\\beta=-\\frac{1}{N}\n",
    "$$\n",
    "##### Solution\n",
    "$$\n",
    "Q(i)=\\alpha+\\beta i=1-\\frac{1}{N}i=\\frac{N-i}{N}\n",
    "$$\n"
   ]
  },
  {
   "cell_type": "markdown",
   "metadata": {},
   "source": [
    "[<a href=\"#Conditional-Probability\">Back to top</a>]"
   ]
  }
 ],
 "metadata": {
  "kernelspec": {
   "display_name": "Python 3",
   "language": "python",
   "name": "python3"
  },
  "language_info": {
   "codemirror_mode": {
    "name": "ipython",
    "version": 3
   },
   "file_extension": ".py",
   "mimetype": "text/x-python",
   "name": "python",
   "nbconvert_exporter": "python",
   "pygments_lexer": "ipython3",
   "version": "3.5.0"
  }
 },
 "nbformat": 4,
 "nbformat_minor": 2
}
