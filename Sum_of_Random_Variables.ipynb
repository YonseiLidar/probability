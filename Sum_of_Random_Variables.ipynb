{
 "cells": [
  {
   "cell_type": "markdown",
   "metadata": {},
   "source": [
    "# Sum of Random Variables"
   ]
  },
  {
   "cell_type": "markdown",
   "metadata": {},
   "source": [
    "<a href=\"#Binomial-Distribution\">Binomial Distribution</a>\n",
    "\n",
    "<a href=\"#1D-Simple-Random-Walk\">1D Simple Random Walk</a>\n",
    "\n",
    "<a href=\"#2D-Simple-Random-Walk\">2D Simple Random Walk</a>\n",
    "\n",
    "<a href=\"#Negative-Binomial-Distribution\">Negative Binomial Distribution</a>\n",
    "\n",
    "<a href=\"#Unbiased-Estimator\">Unbiased Estimator</a>\n",
    "\n",
    "<a href=\"#Hypergeometric-Distribution\">Hypergeometric Distribution</a>\n",
    "\n",
    "<a href=\"#Examples\">Examples</a>"
   ]
  },
  {
   "cell_type": "markdown",
   "metadata": {},
   "source": [
    "# Binomial Distribution"
   ]
  },
  {
   "cell_type": "markdown",
   "metadata": {},
   "source": [
    "Flip a $p$-coin $n$ times independently and count the number $S$ of heads.\n",
    "Let $A_i$ be the event that the $i$-th $p$-coin lands on head\n",
    "and let $1_{A_i}$ be its indicator.\n",
    "\n",
    "$$\n",
    "1_{A_i}\\ \\mbox{iid}\\ B(p)\\ \\ \\Rightarrow\\ \\ \n",
    "S=\\sum_{i=1}^n1_{A_i}\\sim B(n,p)\n",
    "$$"
   ]
  },
  {
   "cell_type": "markdown",
   "metadata": {},
   "source": [
    "##### Mean\n",
    "\n",
    "$$\n",
    "\\mathbb{E}S=\\sum_{i=1}^n\\mathbb{E}1_{A_i}=np\n",
    "$$"
   ]
  },
  {
   "cell_type": "markdown",
   "metadata": {},
   "source": [
    "##### Variance\n",
    "\n",
    "$$\n",
    "Var(S)=\\sum_{i=1}^nVar(1_{A_i})=npq\n",
    "$$"
   ]
  },
  {
   "cell_type": "code",
   "execution_count": 3,
   "metadata": {},
   "outputs": [
    {
     "data": {
      "image/png": "[encoded data removed]",
      "text/plain": [
       "<Figure size 432x288 with 1 Axes>"
      ]
     },
     "metadata": {
      "needs_background": "light"
     },
     "output_type": "display_data"
    },
    {
     "name": "stdout",
     "output_type": "stream",
     "text": [
      "$P(X=k)$ estimation:  0.237\n",
      "$P(X=k)$:  0.24609375\n"
     ]
    }
   ],
   "source": [
    "# Simulation of Binomial Random Variables\n",
    "\n",
    "import numpy as np\n",
    "import matplotlib.pyplot as plt\n",
    "import scipy.special as ss\n",
    "\n",
    "# B(n,p)\n",
    "n = 10\n",
    "p = 0.5\n",
    "\n",
    "n_simulation = 1000\n",
    "k = 5\n",
    "\n",
    "x = np.random.binomial(n, p, (n_simulation,))\n",
    "\n",
    "plt.hist(x)\n",
    "plt.show()\n",
    "\n",
    "Probab_k_by_simulation = sum(x==k) / n_simulation\n",
    "print(\"$P(X=k)$ estimation: \", Probab_k_by_simulation)\n",
    "\n",
    "Probab_k_by_exact_computation = ss.comb(n,k) * (p**k) * ((1-p)**(n-k))\n",
    "print(\"$P(X=k)$: \", Probab_k_by_exact_computation)"
   ]
  },
  {
   "cell_type": "code",
   "execution_count": 2,
   "metadata": {},
   "outputs": [
    {
     "data": {
      "image/png": "[encoded data removed]",
      "text/plain": [
       "<Figure size 432x288 with 1 Axes>"
      ]
     },
     "metadata": {
      "needs_background": "light"
     },
     "output_type": "display_data"
    },
    {
     "name": "stdout",
     "output_type": "stream",
     "text": [
      "$P(X=k)$ estimation:  0.24\n",
      "$P(X=k)$:  0.24609375\n"
     ]
    }
   ],
   "source": [
    "# Simulation of Binomial Random Variables via Bernoulli Random Variables \n",
    "\n",
    "import numpy as np\n",
    "import matplotlib.pyplot as plt\n",
    "import scipy.special as ss\n",
    "\n",
    "# B(n,p)\n",
    "n = 10\n",
    "p = 0.5\n",
    "\n",
    "n_simulation = 1000\n",
    "k = 5\n",
    "\n",
    "a = np.random.binomial(1, p, (n,n_simulation))\n",
    "x = np.sum(a, axis=0)\n",
    "\n",
    "plt.hist(x)\n",
    "plt.show()\n",
    "\n",
    "Probab_k_by_simulation = sum(x==k) / n_simulation\n",
    "print(\"$P(X=k)$ estimation: \", Probab_k_by_simulation)\n",
    "\n",
    "Probab_k_by_exact_computation = ss.comb(n,k) * (p**k) * ((1-p)**(n-k))\n",
    "print(\"$P(X=k)$: \", Probab_k_by_exact_computation)"
   ]
  },
  {
   "cell_type": "markdown",
   "metadata": {},
   "source": [
    "[<a href=\"#Sum-of-Random-Variables\">Back to top</a>]"
   ]
  },
  {
   "cell_type": "markdown",
   "metadata": {},
   "source": [
    "# 1D Simple Random Walk"
   ]
  },
  {
   "cell_type": "markdown",
   "metadata": {},
   "source": [
    "$$\n",
    "S_n=\\sum_{i=1}^nX_i\n",
    "$$\n",
    "where $X_i$ are iid with\n",
    "$$\n",
    "X_i=\\left\\{\\begin{array}{rl}\n",
    "1&\\mbox{with probability 0.5}\\\\\n",
    "-1&\\mbox{with probability 0.5}\n",
    "\\end{array}\\right.\n",
    "$$"
   ]
  },
  {
   "cell_type": "code",
   "execution_count": 4,
   "metadata": {},
   "outputs": [
    {
     "data": {
      "image/png": "[encoded data removed]",
      "text/plain": [
       "<Figure size 432x288 with 1 Axes>"
      ]
     },
     "metadata": {
      "needs_background": "light"
     },
     "output_type": "display_data"
    }
   ],
   "source": [
    "# 1D Simple Random Walk Simulation\n",
    "\n",
    "import numpy as np\n",
    "import matplotlib.pyplot as plt\n",
    "\n",
    "np.random.seed(337)\n",
    "\n",
    "N_STEPS = 100 # number of steps in simulation\n",
    "PROB_UP = 0.5\n",
    "\n",
    "UP = 1\n",
    "DOWN = -1\n",
    "\n",
    "x = [0]\n",
    "t = [0]\n",
    "for step in range(N_STEPS):\n",
    "    if np.random.uniform(0, 1, (1,)) >  1-PROB_UP:\n",
    "        dx = UP\n",
    "    else:\n",
    "        dx = DOWN\n",
    "    x.append(x[-1]+dx)\n",
    "    t.append(step+1)\n",
    "\n",
    "plt.plot(t, x, 'o-b')\n",
    "plt.show()"
   ]
  },
  {
   "cell_type": "markdown",
   "metadata": {},
   "source": [
    "[<a href=\"#Sum-of-Random-Variables\">Back to top</a>]"
   ]
  },
  {
   "cell_type": "markdown",
   "metadata": {},
   "source": [
    "# 2D Simple Random Walk"
   ]
  },
  {
   "cell_type": "markdown",
   "metadata": {},
   "source": [
    "$$\n",
    "S_n=\\sum_{i=1}^nX_i\n",
    "$$\n",
    "where $X_i$ are iid with\n",
    "$$\n",
    "X_i=\\left\\{\\begin{array}{rl}\n",
    "[ 0,  1]&\\mbox{with probability 0.25}\\\\\n",
    "[ 1,  0]&\\mbox{with probability 0.25}\\\\\n",
    "[-1,  0]&\\mbox{with probability 0.25}\\\\\n",
    "[ 0, -1]&\\mbox{with probability 0.25}\n",
    "\\end{array}\\right.\n",
    "$$"
   ]
  },
  {
   "cell_type": "code",
   "execution_count": 11,
   "metadata": {},
   "outputs": [
    {
     "data": {
      "image/png": "[encoded data removed]",
      "text/plain": [
       "<Figure size 432x288 with 1 Axes>"
      ]
     },
     "metadata": {
      "needs_background": "light"
     },
     "output_type": "display_data"
    }
   ],
   "source": [
    "# 2D Simple Random Walk Simulation\n",
    "\n",
    "import numpy as np\n",
    "import matplotlib.pyplot as plt\n",
    "import random\n",
    "\n",
    "random.seed(337)\n",
    "\n",
    "N_STEPS = 100 # number of steps in simulation\n",
    "\n",
    "# define NEWS steps\n",
    "N = [ 0,  1]\n",
    "E = [ 1,  0]\n",
    "W = [-1,  0]\n",
    "S = [ 0, -1]\n",
    "\n",
    "# 2D simple random walk\n",
    "x = [0]\n",
    "y = [0]\n",
    "for step in range(N_STEPS):\n",
    "    dx, dy = random.choice([N, E, W, S])\n",
    "    x.append(x[-1]+dx)\n",
    "    y.append(y[-1]+dy)\n",
    "\n",
    "# plot of 2D simple random walk\n",
    "plt.plot(x, y, '-')\n",
    "plt.axis([-1.5*np.sqrt(N_STEPS), 1.5*np.sqrt(N_STEPS), -1.5*np.sqrt(N_STEPS), 1.5*np.sqrt(N_STEPS)])\n",
    "plt.grid(True)\n",
    "plt.show()"
   ]
  },
  {
   "cell_type": "markdown",
   "metadata": {},
   "source": [
    "[<a href=\"#Sum-of-Random-Variables\">Back to top</a>]"
   ]
  },
  {
   "cell_type": "markdown",
   "metadata": {},
   "source": [
    "# Negative Binomial Distribution"
   ]
  },
  {
   "cell_type": "markdown",
   "metadata": {},
   "source": [
    "Flip a $p$-coin until we have the $r$-th head\n",
    "and count the number $S$ of flips.\n",
    "Let $X_i$ be the number of flips \n",
    "to have the $i$-th head after I have the $(i-1)$-th head.\n",
    "\n",
    "$$\n",
    "X_i\\ \\mbox{iid}\\ Geo(p)\\ \\ \\Rightarrow\\ \\ \n",
    "S=\\sum_{i=1}^rX_i\\sim  NB(r,p)\n",
    "$$"
   ]
  },
  {
   "cell_type": "markdown",
   "metadata": {},
   "source": [
    "##### Mean\n",
    "\n",
    "$$\n",
    "\\mathbb{E}S=\\sum_{i=1}^r\\mathbb{E}X_i=\\frac{r}{p}\n",
    "$$"
   ]
  },
  {
   "cell_type": "markdown",
   "metadata": {},
   "source": [
    "##### Variance\n",
    "\n",
    "$$\n",
    "Var(S)=\\sum_{i=1}^rVar(X_i)=\\frac{rq}{p^2}\n",
    "$$"
   ]
  },
  {
   "cell_type": "markdown",
   "metadata": {},
   "source": [
    "[<a href=\"#Sum-of-Random-Variables\">Back to top</a>]"
   ]
  },
  {
   "cell_type": "markdown",
   "metadata": {},
   "source": [
    "# Unbiased Estimator"
   ]
  },
  {
   "cell_type": "markdown",
   "metadata": {},
   "source": [
    "##### Population parameter\n",
    "\n",
    "$$\\displaystyle \\theta$$\n",
    "\n",
    "##### Samples from population\n",
    "\n",
    "$$\\displaystyle X_1,X_2,\\cdots,X_n\\quad\\mbox{iid}$$\n",
    "\n",
    "##### Statistic\n",
    "\n",
    "A statistic is \n",
    "any function \n",
    "$f(X_1,X_2,\\cdots,X_n)$ of samples.\n",
    "\n",
    "##### Estimator\n",
    "\n",
    "An estimator of $\\theta$ is a statistic $f(X_1,X_2,\\cdots,X_n)$\n",
    "used to estimate  $\\theta$. \n",
    "\n",
    "##### Unbiased estimator\n",
    "\n",
    "An estimator\n",
    "$f(X_1,X_2,\\cdots,X_n)$  of  $\\theta$ is unbiased if\n",
    "\n",
    "$$\\displaystyle \\mathbb{E}f(X_1,X_2,\\cdots,X_n)=\\theta$$ "
   ]
  },
  {
   "cell_type": "markdown",
   "metadata": {},
   "source": [
    "### Example - Unbiased estimation of mean and variance\n",
    "\n",
    "Let $X_i$ be $n$ iid samples from a distribution with unknown mean $\\mu$ and variance $\\sigma^2$. Then,\n",
    "\n",
    "\\begin{eqnarray}\n",
    "\\mbox{Sample mean:}\\quad\\\n",
    "&& \n",
    "\\displaystyle\\quad \n",
    "\\bar{X}=\\frac{\\sum_{i=1}^nX_i}{n}\\quad\\quad\\quad\\quad\\ \n",
    "\\mbox{Unbiased estimator of $\\mu$}\\nonumber\\\\\n",
    "\\mbox{Sample variance:}\n",
    "&&\n",
    "\\displaystyle\\quad \n",
    "S^2=\\frac{\\sum_{i=1}^n(X_i-\\bar{X})^2}{n-1}\\quad\n",
    "\\mbox{Unbiased estimator of $\\sigma^2$}\\nonumber\n",
    "\\end{eqnarray}"
   ]
  },
  {
   "cell_type": "markdown",
   "metadata": {},
   "source": [
    "$$\n",
    "\\displaystyle \n",
    "\\mathbb{E}\\bar{X}=\n",
    "\\frac{\\sum_{i=1}^n\\mathbb{E}X_i}{n}=\n",
    "\\mu\n",
    "$$\n",
    "\n",
    "$$\n",
    "\\displaystyle \n",
    "Var(\\bar{X})=\\frac{1}{n^2}Var\\left(\\sum_{i=1}^nX_i\\right)=\\frac{1}{n^2}\\sum_{i=1}^nVar(X_i)=\\frac{\\sigma^2}{n}\n",
    "$$\n",
    "\n",
    "\n",
    "$$\n",
    "\\displaystyle \n",
    "(X_i-\\bar{X})^2=\n",
    "((X_i-\\mu)-(\\bar{X}-\\mu))^2=\n",
    "(X_i-\\mu)^2+(\\bar{X}-\\mu)^2-2(X_i-\\mu)(\\bar{X}-\\mu)\n",
    "$$\n",
    "\n",
    "$$\n",
    "\\displaystyle \n",
    "\\Rightarrow\\quad\n",
    "\\mathbb{E}(X_i-\\bar{X})^2=\n",
    "\\sigma^2+\\frac{\\sigma^2}{n}-2\\mathbb{E}(X_i-\\mu)(\\bar{X}-\\mu)\n",
    "$$\n",
    "\n",
    "$$\n",
    "\\begin{array}\n",
    "\\displaystyle \\mathbb{E}(X_i-\\mu)(\\bar{X}-\\mu)&=&\\displaystyle \\mathbb{E}(X_i-\\mu)\\left(\\frac{\\sum_{j=1}^n(X_j-\\mu)}{n}\\right)\\nonumber\\\\\n",
    "&=&\\displaystyle \\mathbb{E}(X_i-\\mu)\\left(\\frac{\\sum_{j\\neq i}(X_j-\\mu)}{n}+\\frac{X_i-\\mu}{n}\\right)\\nonumber\\\\\n",
    "&=&\\displaystyle \\frac{1}{n}\\mathbb{E}(X_i-\\mu)^2=\\frac{\\sigma^2}{n}\\nonumber\n",
    "\\end{array}\n",
    "$$\n",
    "\n",
    "$$\n",
    "\\displaystyle \n",
    "\\Rightarrow\\quad\n",
    "\\mathbb{E}(X_i-\\bar{X})^2=\n",
    "\\sigma^2+\\frac{\\sigma^2}{n}-2\\mathbb{E}(X_i-\\mu)(\\bar{X}-\\mu)=\n",
    "\\frac{n-1}{n}\\sigma^2\n",
    "$$\n",
    "\n",
    "$$\n",
    "\\displaystyle \n",
    "\\mathbb{E}S^2=\n",
    "\\frac{\\sum_{i=1}^n\\mathbb{E}(X_i-\\bar{X})^2}{n-1}=\n",
    "\\sigma^2\n",
    "$$"
   ]
  },
  {
   "cell_type": "markdown",
   "metadata": {},
   "source": [
    "[<a href=\"#Sum-of-Random-Variables\">Back to top</a>]"
   ]
  },
  {
   "cell_type": "markdown",
   "metadata": {},
   "source": [
    "# Hypergeometric Distribution"
   ]
  },
  {
   "cell_type": "markdown",
   "metadata": {},
   "source": [
    "\\begin{array}{llll}\n",
    "n&&\\mbox{Number of samples (balls drawn) with/without replacement}\\nonumber\\\\\n",
    "m&&\\mbox{Number of balls with marker $H$ in the bin}\\nonumber\\\\\n",
    "M&&\\mbox{Number of balls in the bin}\\nonumber\n",
    "\\end{array}\n",
    "\n",
    "Take $n$ balls with or without replacement \n",
    "and\n",
    "count the number $X$ or $Y$ of heads.\n",
    "\n",
    "\\begin{array}{lllllllllllllll}\n",
    "\\mbox{With replacement}&&X\\sim B(n,p),&&\\mbox{Mean}&&np,&&\\mbox{Variance}&&npq\\nonumber\\\\\n",
    "\\mbox{Without replacement}&&Y\\sim H(n,m,M),&&\\mbox{Mean}&&np,&&\\mbox{Variance}&&npqf^2\\nonumber\n",
    "\\end{array}\n",
    "\n",
    "where\n",
    "\n",
    "$$\n",
    "p=\\frac{m}{M}\\quad\\mbox{and}\\quad f=\\sqrt{\\frac{M-n}{M-1}}\n",
    "$$\n",
    "\n",
    "Note\n",
    "\n",
    "$$\n",
    "f=\\sqrt{\\frac{M-n}{M-1}}=\\left\\{\\begin{array}{ll}\n",
    "1&\\mbox{if we choose $1$ ball (It is binomial)}\\\\\n",
    "0&\\mbox{if we choose $M$ balls (No uncertainty)}\n",
    "\\end{array}\\right.\n",
    "$$\n",
    "\n",
    "Note also\n",
    "\n",
    "$$\n",
    "f=\\sqrt{\\frac{M-n}{M-1}}\\le 1\n",
    "\\quad\\mbox{meaning smaller variance than the corresponding binomial}\n",
    "$$"
   ]
  },
  {
   "cell_type": "markdown",
   "metadata": {},
   "source": [
    "Take $n$ balls without replacement \n",
    "and\n",
    "count the number $Y$ of heads.\n",
    "Let $A_i$ be the event that the $i$-th chosen ball is $H$\n",
    "and let $1_{A_i}$ be its indicator.\n",
    "Then, $Y$ can be represented in terms of $1_{A_i}$:\n",
    "\n",
    "$$\n",
    "Y=\\sum_{i=1}^n1_{A_i}\\sim  H(n,m,M)\n",
    "$$\n",
    "\n",
    "where\n",
    "\n",
    "\\begin{eqnarray}\n",
    "(1)&&\\quad 1_{A_i}\\sim  B(p)\\nonumber\\\\ \n",
    "(2)&&\\quad 1_{A_i}\\ \\mbox{not independent}\\nonumber\n",
    "\\end{eqnarray}"
   ]
  },
  {
   "cell_type": "markdown",
   "metadata": {},
   "source": [
    "##### Mean\n",
    "\n",
    "$$\\mathbb{E}Y=\\sum_{i=1}^{n}\\mathbb{E}1_{A_i}=np$$\n",
    "\n",
    "##### Variance\n",
    "\n",
    "$$Var(Y)=npqf^2$$\n",
    "\n",
    "$$\n",
    "\\displaystyle \n",
    "\\mathbb{P}(A_iA_j)=\\mathbb{P}(A_i)\\mathbb{P}(A_j|A_i)\n",
    "=\\frac{m}{M}\\cdot\\frac{m-1}{M-1}\n",
    "=p\\cdot\\frac{m-1}{M-1}\n",
    "=p^2\\cdot\\frac{(m-1)/m}{(M-1)/M}\n",
    "$$\n",
    "\n",
    "\\begin{eqnarray}\n",
    "\\displaystyle \n",
    "Var(Y)\n",
    "&=&\\displaystyle \\sum_{i=1}^nVar(1_{A_i})+2\\sum_{1\\le i<j\\le n}Cov(1_{A_i},1_{A_j})\\nonumber\\\\\n",
    "&=&\\displaystyle nVar(1_{A_1})+2{n\\choose 2}Cov(1_{A_1},1_{A_2})\\nonumber\\\\\n",
    "&=&\\displaystyle npq+2{n\\choose 2}\\left(p^2\\cdot\\frac{(m-1)/m}{(M-1)/M}-p^2\\right)\\nonumber\\\\\n",
    "&=&\\displaystyle npq+n(n-1)\\left(p^2\\cdot\\frac{(m-1)/m}{(M-1)/M}-p^2\\right)\\nonumber\\\\\n",
    "&=&\\displaystyle np\\left[q+(n-1)\\left(\\frac{(m-1)/m}{(M-1)/M}-1\\right)p\\right]\\nonumber\\\\\n",
    "&=&\\displaystyle np\\left[q+(n-1)\\frac{-M+m}{m(M-1)}p\\right]\\nonumber\\\\\n",
    "&=&\\displaystyle np\\left[q+(n-1)\\frac{-qM}{m(M-1)}\\frac{m}{M}\\right]\\nonumber\\\\\n",
    "&=&\\displaystyle npq\\left[1+(n-1)\\frac{-M}{m(M-1)}\\frac{m}{M}\\right]\\nonumber\\\\\n",
    "&=&\\displaystyle npq\\left[\\frac{M-n}{M-1}\\right]\\nonumber\\\\\n",
    "&=&\\displaystyle npqf^2\\nonumber\n",
    "\\end{eqnarray}"
   ]
  },
  {
   "cell_type": "markdown",
   "metadata": {},
   "source": [
    "### Example - Number of aces in hands\n",
    "\n",
    "We takes five cards out of 52 cards and count the number $X$ of aces in hands.\n",
    "Compute the mean and variance of $X$.\n",
    "\n",
    "$$\\begin{array}{llll}\n",
    "n=5&&\\mbox{Number of balls drawn without replacement}\\nonumber\\\\\n",
    "m=4&&\\mbox{Number of balls with marker $H$ in the bin}\\nonumber\\\\\n",
    "M=52&&\\mbox{Number of balls in the bin}\\nonumber\n",
    "\\end{array}$$\n",
    "\n",
    "\\begin{eqnarray}\n",
    "p&=&\\frac{m}{M}=\\frac{4}{52}\\nonumber\\\\\n",
    "f&=&\\sqrt{\\frac{M-n}{M-1}}=\\sqrt{\\frac{52-5}{52-1}}\\nonumber\n",
    "\\end{eqnarray}\n",
    "\n",
    "$$\\begin{array}{llll}\n",
    "X&\\sim &H(n,m,M)=H(5,4,52)\\nonumber\\\\\n",
    "\\\\\n",
    "\\mathbb{E}X&=&np=5*\\frac{4}{52}\\nonumber\\\\\n",
    "\\\\\n",
    "Var(X)&=&npqf^2=5*\\frac{4}{52}*\\left(1-\\frac{4}{52}\\right)*\\frac{52-5}{52-1}\\nonumber\n",
    "\\end{array}$$"
   ]
  },
  {
   "cell_type": "markdown",
   "metadata": {},
   "source": [
    "[<a href=\"#Sum-of-Random-Variables\">Back to top</a>]"
   ]
  },
  {
   "cell_type": "markdown",
   "metadata": {},
   "source": [
    "# Examples"
   ]
  },
  {
   "cell_type": "markdown",
   "metadata": {},
   "source": [
    "### Example - Roll Dice 1000 Times"
   ]
  },
  {
   "cell_type": "markdown",
   "metadata": {},
   "source": [
    "Roll the dice 1000 times.\n",
    "Each time \n",
    "we gain the face value of the roll if we have odd\n",
    "and\n",
    "loose the face value if even.\n",
    "\n",
    "$$\n",
    "D_i=\\left\\{\\begin{array}{rl}\n",
    "1&\\mbox{with probability}\\ \\frac{1}{6}\\\\\n",
    "-2&\\mbox{with probability}\\ \\frac{1}{6}\\\\\n",
    "3&\\mbox{with probability}\\ \\frac{1}{6}\\\\\n",
    "-4&\\mbox{with probability}\\ \\frac{1}{6}\\\\\n",
    "5&\\mbox{with probability}\\ \\frac{1}{6}\\\\\n",
    "-6&\\mbox{with probability}\\ \\frac{1}{6}\\\\\n",
    "\\end{array}\\right.\n",
    "$$\n",
    "           \n",
    "To be fair we get 0.5 as an extra for each game.\n",
    "           \n",
    "$$\n",
    "X_i=D_i+0.5\\quad \\mbox{iid}\n",
    "$$\n",
    "           \n",
    "Let $S$ be the total P\\&L after the 1000 games.\n",
    "Then, $S$ can be represented in terms of $X_i$:\n",
    "           \n",
    "$$\n",
    "S=\\sum_{i=1}^{1000}X_i\n",
    "$$\n",
    "           \n",
    "where\n",
    "           \n",
    "\\begin{eqnarray}\n",
    "(1)&&\\quad \\mathbb{E}D_i=-0.5,\\quad Var(D_i)=14.9167\\nonumber\\\\\n",
    "(2)&&\\quad \\mathbb{E}X_i=0,\\quad\\quad\\ \\   Var(X_i)=14.9167\\nonumber\n",
    "\\end{eqnarray}"
   ]
  },
  {
   "cell_type": "markdown",
   "metadata": {},
   "source": [
    "##### Mean\n",
    "\n",
    "$$\\displaystyle  \\mathbb{E}S=\\sum_{i=1}^{1000}\\mathbb{E}X_i=0$$"
   ]
  },
  {
   "cell_type": "markdown",
   "metadata": {},
   "source": [
    "##### Variance\n",
    "\n",
    "$$\\displaystyle  Var(S)=\\sum_{i=1}^{1000}Var(X_i)=14916.7$$"
   ]
  },
  {
   "cell_type": "markdown",
   "metadata": {},
   "source": [
    "### Example - Coupon Collector Problem"
   ]
  },
  {
   "cell_type": "markdown",
   "metadata": {},
   "source": [
    "To collect all the $n$ toys offered by Mc Donald\n",
    "I start eating the happy meal hamburger.\n",
    "Whenever I order the happy meal, I get a toy randomly among the $n$ different type of toys.\n",
    "Let $T_n$ be the minimum number of the happy meal hamburgers that I have to order to collect all the $n$ different type of toys.\n",
    "Let $\\tau_i$ be the minimum number of the happy meals that I have to eat\n",
    "to collect the $i$-th new toy after I get the $(i-1)$-th new toy.\n",
    "Then,\n",
    "$T_n$ can be represented in terms of $\\tau_i$:\n",
    "    \n",
    "$$\n",
    "\\displaystyle \n",
    "T_n=\\sum_{i=1}^n\\tau_i\n",
    "$$\n",
    "\n",
    "where\n",
    "\n",
    "\\begin{eqnarray}\n",
    "(1)&&\\displaystyle\\quad \\tau_i\\sim  Geo(\\frac{N-(i-1)}{N})\\nonumber\\\\\n",
    "(2)&&\\displaystyle\\quad \\tau_i\\ \\mbox{independent}\\nonumber\n",
    "\\end{eqnarray}"
   ]
  },
  {
   "cell_type": "markdown",
   "metadata": {},
   "source": [
    "##### Mean\n",
    "\n",
    "$$\n",
    "\\mathbb{E}T_n=\\sum_{i=1}^n\\mathbb{E}\\tau_i=n\\left(1+\\frac{1}{2}+\\frac{1}{3}+\\cdots+\\frac{1}{n}\\right)\\sim  n\\log n\n",
    "$$"
   ]
  },
  {
   "cell_type": "markdown",
   "metadata": {},
   "source": [
    "##### Variance\n",
    "\n",
    "$$\n",
    "Var(T_n)=\\sum_{i=1}^nVar(\\tau_i)=O(n^2)\n",
    "$$"
   ]
  },
  {
   "cell_type": "markdown",
   "metadata": {},
   "source": [
    "$$\n",
    "Var(T_n)\n",
    "=\n",
    "\\sum_{k=1}^n\\frac{1-(k/n)}{(k/n)^2}\n",
    "=\n",
    "\\left(\\sum_{k=1}^n\\frac{1}{k^2}\\right)n^2\n",
    "-\n",
    "\\left(\\sum_{k=1}^n\\frac{1}{k}\\right)n\n",
    "\\approx\n",
    "\\frac{\\pi^2}{6}n^2-n\\log n\n",
    "$$"
   ]
  },
  {
   "cell_type": "markdown",
   "metadata": {},
   "source": [
    "### Example - Effect of Holidays on US Births"
   ]
  },
  {
   "cell_type": "code",
   "execution_count": 5,
   "metadata": {},
   "outputs": [
    {
     "data": {
      "image/png": "[encoded data removed]",
      "text/plain": [
       "<Figure size 864x288 with 1 Axes>"
      ]
     },
     "metadata": {},
     "output_type": "display_data"
    }
   ],
   "source": [
    "# code: https://github.com/jakevdp/PythonDataScienceHandbook\n",
    "\n",
    "import numpy as np\n",
    "import pandas as pd\n",
    "import matplotlib.pyplot as plt\n",
    "import matplotlib as mpl; plt.style.use('seaborn-whitegrid')\n",
    "\n",
    "# data source: https://github.com/jakevdp/PythonDataScienceHandbook/tree/master/notebooks/data\n",
    "# download births.csv from data source\n",
    "# make data folder\n",
    "# put births.csv into data folder \n",
    "births = pd.read_csv('data/births.csv')\n",
    "\n",
    "quartiles = np.percentile(births['births'], [25, 50, 75])\n",
    "mu, sig = quartiles[1], 0.74 * (quartiles[2] - quartiles[0])\n",
    "births = births.query('(births > @mu - 5 * @sig) & (births < @mu + 5 * @sig)')\n",
    "\n",
    "births['day'] = births['day'].astype(int)\n",
    "\n",
    "births.index = pd.to_datetime(10000 * births.year +\n",
    "                              100 * births.month +\n",
    "                              births.day, format='%Y%m%d')\n",
    "births_by_date = births.pivot_table('births',\n",
    "                                    [births.index.month, births.index.day])\n",
    "births_by_date.index = [pd.datetime(2012, month, day)\n",
    "                        for (month, day) in births_by_date.index]\n",
    "\n",
    "fig, ax = plt.subplots(figsize=(12, 4))\n",
    "births_by_date.plot(ax=ax)\n",
    "\n",
    "# Add labels to the plot\n",
    "style = dict(size=10, color='gray')\n",
    "\n",
    "ax.text('2012-1-1', 3950, \"New Year's Day\", **style)\n",
    "ax.text('2012-7-4', 4250, \"Independence Day\", ha='center', **style)\n",
    "ax.text('2012-9-4', 4850, \"Labor Day\", ha='center', **style)\n",
    "ax.text('2012-10-31', 4600, \"Halloween\", ha='right', **style)\n",
    "ax.text('2012-11-25', 4450, \"Thanksgiving\", ha='center', **style)\n",
    "ax.text('2012-12-25', 3850, \"Christmas \", ha='right', **style)\n",
    "\n",
    "# Label the axes\n",
    "ax.set(title='USA births by day of year (1969-1988)',\n",
    "       ylabel='average daily births')\n",
    "\n",
    "# Format the x axis with centered month labels\n",
    "ax.xaxis.set_major_locator(mpl.dates.MonthLocator())\n",
    "ax.xaxis.set_minor_locator(mpl.dates.MonthLocator(bymonthday=15))\n",
    "ax.xaxis.set_major_formatter(plt.NullFormatter())\n",
    "ax.xaxis.set_minor_formatter(mpl.dates.DateFormatter('%h'));\n",
    "\n",
    "plt.show()"
   ]
  },
  {
   "cell_type": "markdown",
   "metadata": {},
   "source": [
    "### Example - Number of Pairs with Same Birthday"
   ]
  },
  {
   "cell_type": "markdown",
   "metadata": {},
   "source": [
    "There are $n$ people in the class.\n",
    "Each choose one's birthday independently and uniformly over the 365 days.\n",
    "Let $S_n$ be the number of pairs with same birthday.\n",
    "Let $A_{ij}$ be the event that $i$ and $j$ share the common birthday\n",
    "and let $1_{A_{ij}}$ be its indicator.\n",
    "\n",
    "$$\n",
    "S_n=\\sum_{1\\le i<j\\le n}1_{A_{ij}}\\quad\\mbox{is not}\\quad B(m,p),\\ m={n\\choose 2},\\ p=1/365\n",
    "$$\n",
    "\n",
    "where\n",
    "\n",
    "\\begin{eqnarray}\n",
    "(1)&&\\quad 1_{A_{ij}}\\sim  B(p)\\nonumber\\\\\n",
    "(2)&&\\quad1_{A_{ij}}\\ \\mbox{not independent (but pairwise independent)}\\nonumber\n",
    "\\end{eqnarray}"
   ]
  },
  {
   "cell_type": "markdown",
   "metadata": {},
   "source": [
    "##### Mean\n",
    "\n",
    "$$\\displaystyle \\mathbb{E}S_n=\\sum_{1\\le i<j\\le n}\\mathbb{E}1_{A_{ij}}={n\\choose 2}\\cdot\\frac{1}{365}$$"
   ]
  },
  {
   "cell_type": "markdown",
   "metadata": {},
   "source": [
    "##### Variance\n",
    "\n",
    "$$\\displaystyle Var(S_n)=\\sum_{1\\le i<j\\le n}Var(1_{A_{ij}})={n\\choose 2}\\cdot\\frac{1}{365}\\cdot\\frac{364}{365}$$"
   ]
  },
  {
   "cell_type": "markdown",
   "metadata": {},
   "source": [
    "### Example - Number of Empty Bins"
   ]
  },
  {
   "cell_type": "markdown",
   "metadata": {},
   "source": [
    "There are $n$ balls and 365 bins.\n",
    "Each ball choose one's bin independently and uniformly over the 365 bins\n",
    "and each ball moves into the chosen bin.\n",
    "Let $S_n$ be the number of overall empty bins.\n",
    "Let $A_i$ be the event that the $i$th bin is empty\n",
    "and let $1_{A_i}$ be its indicator.\n",
    "\n",
    "$$\n",
    "S_n=\\sum_{i=1}^{365}1_{A_i}\\quad\\mbox{is not}\\quad B(m,p),\\ m=365,\\ p=(364/365)^n\n",
    "$$\n",
    "\n",
    "where\n",
    "\n",
    "\\begin{eqnarray}\n",
    "(1)&&\\quad 1_{A_i}\\sim  B(p)\\nonumber\\\\\n",
    "(2)&&\\quad 1_{A_i}\\ \\mbox{not independent}\\nonumber\n",
    "\\end{eqnarray}"
   ]
  },
  {
   "cell_type": "markdown",
   "metadata": {},
   "source": [
    "##### Mean\n",
    "\n",
    "$$\n",
    "\\displaystyle \n",
    "\\mathbb{E}S_n=\\sum_{i=1}^{365}\\mathbb{E}1_{A_i}=365p\n",
    "$$"
   ]
  },
  {
   "cell_type": "markdown",
   "metadata": {},
   "source": [
    "##### Variance\n",
    "\n",
    "$$\n",
    "\\displaystyle \n",
    "Var(S_n)=365 Var(1_{A_1})+2{365\\choose 2}Cov(1_{A_{1}},1_{A_{2}})\n",
    "$$\n",
    "\n",
    "where\n",
    "\n",
    "\\begin{array}{llll}\n",
    "\\displaystyle Var(1_{A_1})&=&\\displaystyle pq\\nonumber\\\\\n",
    "\\displaystyle Cov(1_{A_{1}},1_{A_{2}})\n",
    "&=&\\displaystyle P(A_1A_2)-P(A_1)^2\n",
    "=\\left(\\frac{363}{365}\\right)^n-p^2\\nonumber\n",
    "\\end{array}"
   ]
  },
  {
   "cell_type": "markdown",
   "metadata": {},
   "source": [
    "[<a href=\"#Sum-of-Random-Variables\">Back to top</a>]"
   ]
  }
 ],
 "metadata": {
  "kernelspec": {
   "display_name": "Python 3",
   "language": "python",
   "name": "python3"
  },
  "language_info": {
   "codemirror_mode": {
    "name": "ipython",
    "version": 3
   },
   "file_extension": ".py",
   "mimetype": "text/x-python",
   "name": "python",
   "nbconvert_exporter": "python",
   "pygments_lexer": "ipython3",
   "version": "3.5.0"
  }
 },
 "nbformat": 4,
 "nbformat_minor": 2
}
