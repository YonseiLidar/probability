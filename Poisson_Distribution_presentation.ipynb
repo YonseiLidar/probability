{
 "cells": [
  {
   "cell_type": "markdown",
   "metadata": {},
   "source": [
    "# Poisson Distribution"
   ]
  },
  {
   "cell_type": "markdown",
   "metadata": {},
   "source": [
    "<a href=\"#PMF\">PMF</a>\n",
    "\n",
    "<a href=\"#Intuition\">Intuition</a>\n",
    "\n",
    "<a href=\"#Mean-and-Variance\">Mean and Variance</a>"
   ]
  },
  {
   "cell_type": "markdown",
   "metadata": {},
   "source": [
    "# PMF"
   ]
  },
  {
   "cell_type": "markdown",
   "metadata": {},
   "source": [
    "$$\n",
    "P(X=k)=e^{-\\lambda}\\frac{\\lambda^k}{k!}\\quad\\mbox{for $k=0,1,2,\\ldots$}\n",
    "$$"
   ]
  },
  {
   "cell_type": "markdown",
   "metadata": {},
   "source": [
    "[<a href=\"#Poisson-Distribution\">Back to top</a>]"
   ]
  },
  {
   "cell_type": "markdown",
   "metadata": {},
   "source": [
    "# Intuition"
   ]
  },
  {
   "cell_type": "markdown",
   "metadata": {},
   "source": [
    "\\begin{array}{cl}\n",
    "\\hline\n",
    "\\mbox{Distribution}&\\mbox{Random variable}\\\\\\hline\n",
    "B(p)&\\mbox{Flip a $p$-coin and check whether we have a head}\\\\\n",
    "B(n,p)&\\mbox{Flip a $p$-coin $n$ times and count the number of heads}\\\\\n",
    "Po(\\lambda)\\approx B(n,p)&\\mbox{Flip a $p$-coin $n$ times and count the number of heads,}\\\\\n",
    "&\\mbox{where $np=\\lambda$ is fixed and $n\\rightarrow\\infty$}\\\\\\hline\n",
    "\\end{array}"
   ]
  },
  {
   "cell_type": "markdown",
   "metadata": {},
   "source": [
    "[<a href=\"#Poisson-Distribution\">Back to top</a>]"
   ]
  },
  {
   "cell_type": "markdown",
   "metadata": {},
   "source": [
    "# Mean and Variance"
   ]
  },
  {
   "cell_type": "markdown",
   "metadata": {},
   "source": [
    "\\begin{array}{ccc}\n",
    "\\hline\n",
    "\\mbox{Distribution}&\\mbox{Expectation}&\\mbox{Variance}\\\\\\hline\n",
    "B(p)&p&pq\\\\\n",
    "B(n,p)&np&npq\\\\\n",
    "Po(\\lambda)\\approx B(n,p)&\\lambda&\\lambda\\\\\\hline\n",
    "\\end{array}"
   ]
  },
  {
   "cell_type": "markdown",
   "metadata": {},
   "source": [
    "[<a href=\"#Poisson-Distribution\">Back to top</a>]"
   ]
  }
 ],
 "metadata": {
  "kernelspec": {
   "display_name": "Python 3",
   "language": "python",
   "name": "python3"
  },
  "language_info": {
   "codemirror_mode": {
    "name": "ipython",
    "version": 3
   },
   "file_extension": ".py",
   "mimetype": "text/x-python",
   "name": "python",
   "nbconvert_exporter": "python",
   "pygments_lexer": "ipython3",
   "version": "3.5.0"
  }
 },
 "nbformat": 4,
 "nbformat_minor": 2
}
