{
 "cells": [
  {
   "cell_type": "markdown",
   "metadata": {},
   "source": [
    "# Poisson Distribution"
   ]
  },
  {
   "cell_type": "markdown",
   "metadata": {},
   "source": [
    "<a href=\"#PMF-of-Poisson-distribution\">PMF of Poisson distribution</a>\n",
    "\n",
    "<a href=\"#Random-samples-from-Poisson-distribution\">Random samples from Poisson distribution</a>"
   ]
  },
  {
   "cell_type": "markdown",
   "metadata": {},
   "source": [
    "# PMF of Poisson distribution"
   ]
  },
  {
   "cell_type": "markdown",
   "metadata": {},
   "source": [
    "### Definition\n",
    "\n",
    "$$\n",
    "P(X=k)=e^{-\\lambda}\\frac{\\lambda^k}{k!}\\quad\\mbox{for $k=0,1,2,\\ldots$}\n",
    "$$"
   ]
  },
  {
   "cell_type": "markdown",
   "metadata": {},
   "source": [
    "포아송분포의 PMF을 그려보죠.\n",
    "아래 코드는 벡터리제이션 방법을 이용 prob를 계산하였는데, \n",
    "k가 18, 19, 20인 경우 이상한 일이 벌어집니다.  "
   ]
  },
  {
   "cell_type": "code",
   "execution_count": 6,
   "metadata": {},
   "outputs": [
    {
     "data": {
      "image/png": "[encoded data removed]",
      "text/plain": [
       "<Figure size 432x288 with 1 Axes>"
      ]
     },
     "metadata": {
      "needs_background": "light"
     },
     "output_type": "display_data"
    }
   ],
   "source": [
    "# PMF of Poisson distribution Po(la) - Not a good implementation\n",
    "\n",
    "# import numpy as np for numerical computation \n",
    "import numpy as np\n",
    "\n",
    "# import matplotlib.pyplot as plt for ploting\n",
    "import matplotlib.pyplot as plt\n",
    "\n",
    "# import scipy.special as ss to use factorial function in the package \n",
    "import scipy.special as ss\n",
    "\n",
    "# intensity of Poisson distribution Po(la) \n",
    "la = 10 \n",
    "\n",
    "# we plot PMF of Poisson distribution Po(la) from 0 to plot_range_max \n",
    "plot_range_max = int(3*la) \n",
    "k = np.arange(plot_range_max)\n",
    "prob = np.exp(-la) * (la**k) / ss.factorial(k) \n",
    "\n",
    "# plot PMF of Poisson distribution Po(la) \n",
    "plt.plot(k, prob, 'o')\n",
    "plt.show()"
   ]
  },
  {
   "cell_type": "markdown",
   "metadata": {},
   "source": [
    "np.exp(-la)과 factorial(k)부분을 제거하여 np.power(la, k)의 그림을 그려보죠. \n",
    "이상하죠. 증가함수이어야 하는데.\n",
    "아마도 숫자들이 너무커서 파이쎤이 두손 두발 다 든것으로 사료됩니다."
   ]
  },
  {
   "cell_type": "code",
   "execution_count": 7,
   "metadata": {},
   "outputs": [
    {
     "data": {
      "image/png": "[encoded data removed]",
      "text/plain": [
       "<Figure size 432x288 with 1 Axes>"
      ]
     },
     "metadata": {
      "needs_background": "light"
     },
     "output_type": "display_data"
    }
   ],
   "source": [
    "# plot of la^k as a function of k\n",
    "\n",
    "# import numpy as np for numerical computation \n",
    "import numpy as np\n",
    "\n",
    "# import matplotlib.pyplot as plt for ploting\n",
    "import matplotlib.pyplot as plt\n",
    "\n",
    "# intensity of Poisson distribution Po(la) \n",
    "la = 10\n",
    "\n",
    "# we plot la^k as a function of k from 0 to plot_range_max \n",
    "plot_range_max = int(3*la) \n",
    "k = np.arange(plot_range_max)\n",
    "la_k = la**k\n",
    "\n",
    "# plot la^k as a function of k\n",
    "plt.plot(k, la_k, 'o')\n",
    "plt.show()"
   ]
  },
  {
   "cell_type": "markdown",
   "metadata": {},
   "source": [
    "포아송분포의 PMF을 그리는데 벡터리제이션 방법을 포기하고\n",
    "k가 0인 경우부터 계산하여 아래 점화식을 이용 차례대로 계산하여보죠."
   ]
  },
  {
   "cell_type": "markdown",
   "metadata": {},
   "source": [
    "$$\n",
    "P(X=k)=P(X=k-1) * \\lambda / k\n",
    "$$"
   ]
  },
  {
   "cell_type": "markdown",
   "metadata": {},
   "source": [
    "그림이 제대로 나오네요."
   ]
  },
  {
   "cell_type": "code",
   "execution_count": 3,
   "metadata": {},
   "outputs": [
    {
     "data": {
      "image/png": "[encoded data removed]",
      "text/plain": [
       "<Figure size 432x288 with 1 Axes>"
      ]
     },
     "metadata": {
      "needs_background": "light"
     },
     "output_type": "display_data"
    }
   ],
   "source": [
    "# PMF of Poisson distribution Po(la) - Good implementation\n",
    "\n",
    "# import numpy as np for numerical computation \n",
    "import numpy as np\n",
    "\n",
    "# import matplotlib.pyplot as plt for ploting \n",
    "import matplotlib.pyplot as plt\n",
    "\n",
    "# import scipy.special as ss to use factorial function in the package \n",
    "import scipy.special as ss\n",
    "\n",
    "# intensity of Poisson distribution Po(la) \n",
    "la = 10 \n",
    "\n",
    "# we plot PMF of Poisson distribution Po(la) from 0 to plot_range_max \n",
    "plot_range_max = int(3*la) \n",
    "\n",
    "# construct list of PMF of Poisson distribution Po(la) from 0 to plot_range_max \n",
    "prob = []\n",
    "prob_now = np.exp(-la)\n",
    "prob.append(prob_now) \n",
    "privious_prob = prob_now \n",
    "for k in range(1, plot_range_max):\n",
    "    prob_now = privious_prob * la / k\n",
    "    prob.append(prob_now) \n",
    "    privious_prob = prob_now \n",
    "\n",
    "# plot PMF of Poisson distribution Po(la) \n",
    "plt.plot(np.arange(plot_range_max), prob, 'o')\n",
    "plt.show()"
   ]
  },
  {
   "cell_type": "markdown",
   "metadata": {
    "collapsed": true
   },
   "source": [
    "[<a href=\"#Poisson-Distribution\">Back to top</a>]"
   ]
  },
  {
   "cell_type": "markdown",
   "metadata": {},
   "source": [
    "# Random samples from Poisson distribution"
   ]
  },
  {
   "cell_type": "code",
   "execution_count": 8,
   "metadata": {},
   "outputs": [
    {
     "data": {
      "image/png": "[encoded data removed]",
      "text/plain": [
       "<Figure size 432x288 with 1 Axes>"
      ]
     },
     "metadata": {
      "needs_background": "light"
     },
     "output_type": "display_data"
    }
   ],
   "source": [
    "# Generate random samples of Poisson distribution Po(la) \n",
    "\n",
    "# import numpy as np for numerical computation \n",
    "import numpy as np\n",
    "\n",
    "# import matplotlib.pyplot as plt for ploting\n",
    "import matplotlib.pyplot as plt\n",
    "\n",
    "# number of samples to generate\n",
    "n_samples = 10000\n",
    "\n",
    "# generate random samples of Poisson distribution Po(la) \n",
    "la = 10\n",
    "x = np.random.poisson(la, (n_samples,))\n",
    "\n",
    "# plot histogram of generated random samples\n",
    "plt.hist(x, bins=np.arange(int(3*la)), density=True)\n",
    "plt.title(\"Poisson Samples\")\n",
    "plt.show()"
   ]
  },
  {
   "cell_type": "markdown",
   "metadata": {
    "collapsed": true
   },
   "source": [
    "[<a href=\"#Poisson-Distribution\">Back to top</a>]"
   ]
  },
  {
   "cell_type": "code",
   "execution_count": null,
   "metadata": {},
   "outputs": [],
   "source": []
  }
 ],
 "metadata": {
  "kernelspec": {
   "display_name": "Python 3",
   "language": "python",
   "name": "python3"
  },
  "language_info": {
   "codemirror_mode": {
    "name": "ipython",
    "version": 3
   },
   "file_extension": ".py",
   "mimetype": "text/x-python",
   "name": "python",
   "nbconvert_exporter": "python",
   "pygments_lexer": "ipython3",
   "version": "3.5.0"
  }
 },
 "nbformat": 4,
 "nbformat_minor": 2
}
