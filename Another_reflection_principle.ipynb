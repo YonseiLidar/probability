{
 "cells": [
  {
   "cell_type": "markdown",
   "metadata": {},
   "source": [
    "# Another_reflection_principle"
   ]
  },
  {
   "cell_type": "code",
   "execution_count": 19,
   "metadata": {},
   "outputs": [
    {
     "data": {
      "image/png": "[encoded data removed]",
      "text/plain": [
       "<Figure size 432x288 with 1 Axes>"
      ]
     },
     "metadata": {
      "needs_background": "light"
     },
     "output_type": "display_data"
    }
   ],
   "source": [
    "import numpy as np\n",
    "import matplotlib.pyplot as plt\n",
    "from matplotlib import animation\n",
    "\n",
    "np.random.seed(337)\n",
    "\n",
    "# First set up the figure, the axis, and the plot element we want to animate\n",
    "fig = plt.figure()\n",
    "ax = plt.axes(xlim=(-1, 11), ylim=(-4, 4))\n",
    "line, = ax.plot([], [], '-o')\n",
    "line2, = ax.plot([], [], '--r')\n",
    "line3, = ax.plot([], [], '--o', alpha=0.5)\n",
    "ax.grid(True)\n",
    "\n",
    "# initialization function: plot the background of each frame\n",
    "def init():\n",
    "    line.set_data([], [])\n",
    "    return line,\n",
    "\n",
    "# animation function.  This is called sequentially\n",
    "def animate(i):\n",
    "    \n",
    "    t = [0,  1,  2,  3, 4, 5, 6, 7, 8,  9, 10]\n",
    "    y = [0, -1, -2, -1, 0, \\\n",
    "         1+(1-1)*np.cos(np.pi*i/180), \\\n",
    "         1+(2-1)*np.cos(np.pi*i/180), \\\n",
    "         1+(1-1)*np.cos(np.pi*i/180), \\\n",
    "         1+(0-1)*np.cos(np.pi*i/180), \\\n",
    "         1+(-1-1)*np.cos(np.pi*i/180), \\\n",
    "         1+(0-1)*np.cos(np.pi*i/180)]     \n",
    "    line.set_data(t, y)\n",
    "    \n",
    "    t2 = [5, 6, 7, 8, 9, 10]\n",
    "    y2 = [1, 1, 1, 1, 1,  1]\n",
    "    line2.set_data(t2, y2)\n",
    "    \n",
    "    t3 = [5, 6, 7, 8,  9, 10]\n",
    "    y3 = [1, 2, 1, 0, -1,  0]    \n",
    "    line3.set_data(t3, y3)\n",
    "        \n",
    "    return line, line2, line3\n",
    "\n",
    "# call the animator.  \n",
    "# We've chosen a 200 frame animation with a 20ms delay between frames.\n",
    "# blit=True means only re-draw the parts that have changed.\n",
    "anim = animation.FuncAnimation(fig, animate, init_func=init,\n",
    "                               frames=180, interval=20, blit=True)\n",
    "\n",
    "# save the animation as an mp4.  \n",
    "# This requires ffmpeg or mencoder to be installed.\n",
    "\n",
    "# https://www.videosurveillance.com/tech/frame-rate.asp\n",
    "# 30 fps means the camera captured 30 frames in a single second of video\n",
    "\n",
    "# The extra_args ensure that the x264 codec is used, so that\n",
    "# the video can be embedded in html5.  \n",
    "# You may need to adjust this for your system: for more information, see\n",
    "# http://matplotlib.sourceforge.net/api/animation_api.html\n",
    "anim.save('./mp4/reflection_principle.mp4', fps=30, extra_args=['-vcodec', 'libx264'])\n",
    "\n",
    "plt.show()"
   ]
  },
  {
   "cell_type": "code",
   "execution_count": null,
   "metadata": {},
   "outputs": [],
   "source": []
  },
  {
   "cell_type": "code",
   "execution_count": null,
   "metadata": {},
   "outputs": [],
   "source": []
  }
 ],
 "metadata": {
  "kernelspec": {
   "display_name": "Python 3",
   "language": "python",
   "name": "python3"
  },
  "language_info": {
   "codemirror_mode": {
    "name": "ipython",
    "version": 3
   },
   "file_extension": ".py",
   "mimetype": "text/x-python",
   "name": "python",
   "nbconvert_exporter": "python",
   "pygments_lexer": "ipython3",
   "version": "3.5.0"
  }
 },
 "nbformat": 4,
 "nbformat_minor": 2
}
