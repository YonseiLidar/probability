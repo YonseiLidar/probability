{
 "cells": [
  {
   "cell_type": "markdown",
   "metadata": {},
   "source": [
    "# Poisson Approximation"
   ]
  },
  {
   "cell_type": "markdown",
   "metadata": {},
   "source": [
    "<a href=\"#Intuition\">Intuition</a>\n",
    "\n",
    "<a href=\"#Mean-and-Variance\">Mean and Variance</a>\n",
    "\n",
    "<a href=\"#Poisson-Approximation-Theorem\">Poisson Approximation Theorem</a>"
   ]
  },
  {
   "cell_type": "markdown",
   "metadata": {},
   "source": [
    "# Intuition"
   ]
  },
  {
   "cell_type": "markdown",
   "metadata": {},
   "source": [
    "\\begin{array}{cl}\n",
    "\\hline\n",
    "\\mbox{Distribution}&\\mbox{Random variable}\\\\\\hline\n",
    "B(n,p)&\\mbox{Flip a $p$-coin $n$ times and count the number of heads}\\\\\n",
    "Po(\\lambda)\\approx B(n,p)&\\mbox{Flip a $p$-coin $n$ times and count the number of heads,}\\\\\n",
    "&\\mbox{where $n$ is large, $p$ is small, $np=\\lambda$ is medium}\\\\\\hline\n",
    "\\end{array}"
   ]
  },
  {
   "cell_type": "markdown",
   "metadata": {},
   "source": [
    "[<a href=\"#Poisson-Approximation\">Back to top</a>]"
   ]
  },
  {
   "cell_type": "markdown",
   "metadata": {},
   "source": [
    "# Mean and Variance"
   ]
  },
  {
   "cell_type": "markdown",
   "metadata": {},
   "source": [
    "\\begin{array}{ccc}\n",
    "\\hline\n",
    "\\mbox{Distribution}&\\mbox{Expectation}&\\mbox{Variance}\\\\\\hline\n",
    "B(n,p)&np&npq\\\\\n",
    "Po(\\lambda)\\approx B(n,p)&\\lambda&\\lambda\\\\\\hline\n",
    "\\end{array}"
   ]
  },
  {
   "cell_type": "markdown",
   "metadata": {},
   "source": [
    "[<a href=\"#Poisson-Approximation\">Back to top</a>]"
   ]
  },
  {
   "cell_type": "markdown",
   "metadata": {},
   "source": [
    "# Poisson Approximation Theorem"
   ]
  },
  {
   "cell_type": "markdown",
   "metadata": {},
   "source": [
    "$$\n",
    "\\begin{array}{lllll}\n",
    "\\displaystyle A_i&&\\mbox{Independent events with $p_i=P(A_i)$}\\nonumber\\\\\n",
    "\\displaystyle 1_{A_i}&&\\mbox{Independent random variables with $1_{A_i}\\sim B(p_i)$}\\nonumber\\\\\n",
    "\\displaystyle X=\\sum_{i=1}^n1_{A_i}&&\\mbox{not $B(n,p)$ in general}\\nonumber\n",
    "\\end{array}\n",
    "$$\n",
    "Then, with $Y\\sim Po(\\lambda)$, $\\lambda=\\sum_{i=1}^np_i$,\n",
    "for any $A$\n",
    "$$\n",
    "\\displaystyle \n",
    "\\left|P\\left(X\\in A\\right)-P(Y\\in A)\\right|\n",
    "\\le \n",
    "\\sum_{i=1}^np^2_i\n",
    "\\le \\left(\\max_{1\\le i\\le n}p_i\\right)\\left(\\sum_{i=1}^np_i\\right)=\\left(\\max_{1\\le i\\le n}p_i\\right)\\lambda\n",
    "$$"
   ]
  },
  {
   "cell_type": "markdown",
   "metadata": {},
   "source": [
    "### Proof"
   ]
  },
  {
   "cell_type": "markdown",
   "metadata": {},
   "source": [
    "\\begin{eqnarray}\n",
    "P(X=k)\n",
    "&=&{n\\choose k}p^k(1-p)^{n-k}\\nonumber\\\\\n",
    "%&=&\\frac{n(n-1)(n-2)\\cdots (n-k+1)}{k!}p^k(1-p)^{n-k}\\nonumber\\\\\n",
    "&=&\\frac{n(n-1)(n-2)\\cdots (n-k+1)}{k!}\\left(\\frac{\\lambda}{n}\\right)^k\\left(1-\\frac{\\lambda}{n}\\right)^{n-k}\\nonumber\\\\\n",
    "&=&\n",
    "\\frac{1}{k!}\\frac{n(n-1)(n-2)\\cdots (n-k+1)}{n^k}\\lambda^k\n",
    "\\left(1-\\frac{\\lambda}{n}\\right)^{n}\n",
    "\\left(1-\\frac{\\lambda}{n}\\right)^{-k}\\nonumber\\\\\n",
    "&\\rightarrow&\n",
    "\\frac{1}{k!}\\cdot 1^k\\cdot \\lambda^k\\cdot e^{-\\lambda}\\cdot 1=\n",
    "\\frac{\\lambda^k}{k!}e^{-\\lambda}\n",
    "%\\quad{\\color{blue}\\qed}\n",
    "\\nonumber\n",
    "\\end{eqnarray}"
   ]
  },
  {
   "cell_type": "markdown",
   "metadata": {},
   "source": [
    "### Example - Number of couples with same birthday "
   ]
  },
  {
   "cell_type": "markdown",
   "metadata": {},
   "source": [
    "Approximately 80,000 marriage took place in NY. \n",
    "Estimate the probability that\n",
    "there are more than 250 couples with same birthday\n",
    "who married in NY last year.\n",
    "$$S_n=\\sum_{i=1}^n1_{A_{i}}\\sim B(n,p)\\approx Po(\\lambda)$$\n",
    "\n",
    "##### Exact probability using $S_n\\sim B(n,p)$\n",
    "$$P(S_n>250)=0.0187$$\n",
    "\n",
    "##### Approximate probability using $X\\sim Po(\\lambda)$\n",
    "$$P(X>250)=0.0188$$\n",
    "\n",
    "##### Theoretical error bound\n",
    "$$|P(S_n>250)-P(X>250)|\n",
    "\\le\\sum_{i=1}^np_i^2=80000*\\left(\\frac{1}{365}\\right)^2=0.6005$$"
   ]
  },
  {
   "cell_type": "markdown",
   "metadata": {
    "collapsed": true
   },
   "source": [
    "[<a href=\"#Poisson-Approximation\">Back to top</a>]"
   ]
  },
  {
   "cell_type": "code",
   "execution_count": null,
   "metadata": {},
   "outputs": [],
   "source": []
  }
 ],
 "metadata": {
  "kernelspec": {
   "display_name": "Python 3",
   "language": "python",
   "name": "python3"
  },
  "language_info": {
   "codemirror_mode": {
    "name": "ipython",
    "version": 3
   },
   "file_extension": ".py",
   "mimetype": "text/x-python",
   "name": "python",
   "nbconvert_exporter": "python",
   "pygments_lexer": "ipython3",
   "version": "3.5.0"
  }
 },
 "nbformat": 4,
 "nbformat_minor": 2
}
