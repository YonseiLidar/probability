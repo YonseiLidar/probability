{
 "cells": [
  {
   "cell_type": "markdown",
   "metadata": {},
   "source": [
    "# PMF, PDF, and CDF\n",
    "\n",
    "<a href=\"#Random-Variable\">Random Variable</a>\n",
    "\n",
    "<a href=\"#Distribution\">Distribution</a>\n",
    "\n",
    "<a href=\"#Probability-Mass-Function-(PMF)\">Probability Mass Function (PMF)</a>\n",
    "\n",
    "<a href=\"#Cummulative-Distribution-Function(CDF)\">Cummulative Distribution Function(CDF)</a>\n",
    "\n",
    "<a href=\"#[python]-Generate-Random-Samples-using-Smirov-Transform\">[python] Generate Random Samples using Smirov Transform</a>"
   ]
  },
  {
   "cell_type": "markdown",
   "metadata": {},
   "source": [
    "# Random Variable"
   ]
  },
  {
   "cell_type": "markdown",
   "metadata": {},
   "source": [
    "$$\n",
    "X:\\Omega\\longrightarrow \\mathbb{R}\n",
    "$$"
   ]
  },
  {
   "cell_type": "markdown",
   "metadata": {},
   "source": [
    "### Discrete and Continuous Random Variables "
   ]
  },
  {
   "cell_type": "markdown",
   "metadata": {},
   "source": [
    "<div align=\"center\"><img src=\"img/Screen Shot 2018-01-31 at 12.59.45 PM.png\" width=\"50%\"></div>\n",
    "\n",
    "Bayesian Methods for Machine Learning (Coursera)"
   ]
  },
  {
   "cell_type": "markdown",
   "metadata": {},
   "source": [
    "[<a href=\"#PMF,-PDF,-and-CDF\">Back to top</a>]"
   ]
  },
  {
   "cell_type": "markdown",
   "metadata": {},
   "source": [
    "# Distribution"
   ]
  },
  {
   "cell_type": "markdown",
   "metadata": {},
   "source": [
    "Let $X$ be a random variable.\n",
    "We move a brick attached to $\\omega$,\n",
    "to $X(\\omega)$ in the real line $\\mathbb{R}$.\n",
    "In this way we move all the bricks in $\\Omega$ to $\\mathbb{R}$.\n",
    "Then\n",
    "the total weights of the bricks moved into  $\\mathbb{R}$ is 1.\n",
    "This brick or weight distribution over the real line $\\mathbb{R}$ is\n",
    "the distribution of $X$.\n",
    "$$\\begin{array}{llll}\n",
    "\\mathbb{P}(X=a)&=&\\mbox{Weight of the bricks at $a$}\\nonumber\\\\\n",
    "\\\\\n",
    "\\mathbb{P}(X\\in A)&=&\\mbox{Weight of the bricks in $A$}\\nonumber\\\\\n",
    "\\end{array}$$"
   ]
  },
  {
   "cell_type": "markdown",
   "metadata": {},
   "source": [
    "[Distribution list](https://docs.scipy.org/doc/scipy/reference/stats.html)"
   ]
  },
  {
   "cell_type": "markdown",
   "metadata": {
    "collapsed": true
   },
   "source": [
    "[<a href=\"#PMF,-PDF,-and-CDF\">Back to top</a>]"
   ]
  },
  {
   "cell_type": "markdown",
   "metadata": {},
   "source": [
    "# Probability Mass Function (PMF)"
   ]
  },
  {
   "cell_type": "markdown",
   "metadata": {},
   "source": [
    "<div align=\"center\"><img src=\"img/Screen Shot 2017-12-06 at 2.40.02 PM.png\" width=\"80%\"></div>\n",
    "\n",
    "최윤제 \n",
    "[1시간만에 GAN(Generative Adversarial Network) 완전 정복하기](https://https://www.slideshare.net/YunjeyChoi/generative-adversarial-networks-75916964)\n",
    "[local](http://localhost:8888/notebooks/Dropbox/Paper/generativeadversarialnetworks-170512104624.pdf)\n",
    "[youtube](https://www.youtube.com/watch?v=odpjk7_tGY0)"
   ]
  },
  {
   "cell_type": "markdown",
   "metadata": {},
   "source": [
    "[<a href=\"#PMF,-PDF,-and-CDF\">Back to top</a>]"
   ]
  },
  {
   "cell_type": "markdown",
   "metadata": {},
   "source": [
    "# Cummulative Distribution Function(CDF)"
   ]
  },
  {
   "cell_type": "markdown",
   "metadata": {},
   "source": [
    "\\begin{eqnarray}\n",
    "F(x)&=&P(X\\le x)\\nonumber\\\\\n",
    "\\nonumber\\\\\n",
    "&=&\\left\\{\\begin{array}{ll}\\displaystyle\\sum_{x_i\\le x}p_{x_i}&\\mbox{if $X$ is discrete}\\\\\\displaystyle\\int_{-\\infty}^x f(s)ds&\\mbox{if $X$ is continuous}\\end{array}\\right.\\nonumber\\\\\n",
    "\\nonumber\\\\\n",
    "&=&\\mbox{Weight of the bricks cumulatively stacked from $-\\infty$ up to $x$}\\nonumber\n",
    "\\end{eqnarray}"
   ]
  },
  {
   "cell_type": "markdown",
   "metadata": {},
   "source": [
    "### PMF and CDF of Binomial Distribution\n",
    "\n",
    "> $P(X=k)={n\\choose k}p^k(1-p)^{n-k}$"
   ]
  },
  {
   "cell_type": "code",
   "execution_count": 1,
   "metadata": {},
   "outputs": [],
   "source": [
    "import numpy as np\n",
    "import matplotlib.pyplot as plt\n",
    "from scipy import stats\n",
    "from scipy.special import comb"
   ]
  },
  {
   "cell_type": "code",
   "execution_count": 2,
   "metadata": {},
   "outputs": [],
   "source": [
    "n = 10\n",
    "p = 0.5"
   ]
  },
  {
   "cell_type": "code",
   "execution_count": 3,
   "metadata": {},
   "outputs": [
    {
     "data": {
      "image/png": "[encoded data removed]",
      "text/plain": [
       "<Figure size 432x288 with 1 Axes>"
      ]
     },
     "metadata": {
      "needs_background": "light"
     },
     "output_type": "display_data"
    }
   ],
   "source": [
    "k = np.linspace(0, n, n+1) \n",
    "prob = stats.binom.pmf(k, n, p)\n",
    "# prob = comb(n, k) * (p**k) * ((1-p)**(n-k))\n",
    "\n",
    "plt.plot(k, prob, \"o\")\n",
    "plt.title(\"PMF\")\n",
    "plt.show()"
   ]
  },
  {
   "cell_type": "code",
   "execution_count": 4,
   "metadata": {},
   "outputs": [
    {
     "data": {
      "image/png": "[encoded data removed]",
      "text/plain": [
       "<Figure size 432x288 with 1 Axes>"
      ]
     },
     "metadata": {
      "needs_background": "light"
     },
     "output_type": "display_data"
    }
   ],
   "source": [
    "k = np.linspace(0, n, n+1) \n",
    "cum_prob = stats.binom.cdf(k, n, p)\n",
    "# prob = comb(n, k) * (p**k) * ((1-p)**(n-k)) \n",
    "# cum_prob = np.cumsum(prob)\n",
    "\n",
    "plt.plot(k, cum_prob, \"o\")\n",
    "plt.title(\"CDF\")\n",
    "plt.show()"
   ]
  },
  {
   "cell_type": "markdown",
   "metadata": {},
   "source": [
    "### PMF and CDF of Geometric Distribution\n",
    "\n",
    "> $P(X=k)=(1-p)^{k-1}p$"
   ]
  },
  {
   "cell_type": "code",
   "execution_count": 5,
   "metadata": {},
   "outputs": [],
   "source": [
    "p = 0.5"
   ]
  },
  {
   "cell_type": "code",
   "execution_count": 6,
   "metadata": {},
   "outputs": [
    {
     "data": {
      "image/png": "[encoded data removed]",
      "text/plain": [
       "<Figure size 432x288 with 1 Axes>"
      ]
     },
     "metadata": {
      "needs_background": "light"
     },
     "output_type": "display_data"
    }
   ],
   "source": [
    "x = range(1, int((1/p) + 3*np.sqrt((1-p)/p**2)))\n",
    "y = stats.geom.pmf(x, p)\n",
    "\n",
    "plt.plot(x, y, \"o\")\n",
    "plt.title(\"PMF\")\n",
    "plt.show()"
   ]
  },
  {
   "cell_type": "code",
   "execution_count": 7,
   "metadata": {},
   "outputs": [
    {
     "data": {
      "image/png": "[encoded data removed]",
      "text/plain": [
       "<Figure size 432x288 with 1 Axes>"
      ]
     },
     "metadata": {
      "needs_background": "light"
     },
     "output_type": "display_data"
    }
   ],
   "source": [
    "x = range(1, int((1/p) + 3*np.sqrt((1-p)/p**2)))\n",
    "y = stats.geom.cdf(x, p)\n",
    "\n",
    "plt.plot(x, y, \"o\")\n",
    "plt.title(\"CDF\")\n",
    "plt.show()"
   ]
  },
  {
   "cell_type": "markdown",
   "metadata": {},
   "source": [
    "[<a href=\"#PMF,-PDF,-CDF\">Back to top</a>]"
   ]
  },
  {
   "cell_type": "markdown",
   "metadata": {},
   "source": [
    "# Probability Density Function (PDF)"
   ]
  },
  {
   "cell_type": "markdown",
   "metadata": {},
   "source": [
    "<div align=\"center\"><img src=\"img/Screen Shot 2018-01-31 at 1.06.57 PM.png\" width=\"30%\"></div>\n",
    "\n",
    "Bayesian Methods for Machine Learning (Coursera)"
   ]
  },
  {
   "cell_type": "markdown",
   "metadata": {},
   "source": [
    "### PMF and PDF\n",
    "\n",
    "> PMF: $a\\quad\\rightarrow\\quad P(X=a)$, weight of the bricks attached to $a$\n",
    "\n",
    "> PDF: $a\\quad\\rightarrow\\quad f(a)$, where $P(a\\le X\\le a+da)=f(a)da$ weight of the bricks in $[a,a+da]$"
   ]
  },
  {
   "cell_type": "code",
   "execution_count": 8,
   "metadata": {},
   "outputs": [],
   "source": [
    "loc = 0\n",
    "scale = 1"
   ]
  },
  {
   "cell_type": "code",
   "execution_count": 9,
   "metadata": {},
   "outputs": [
    {
     "data": {
      "image/png": "[encoded data removed]",
      "text/plain": [
       "<Figure size 432x288 with 1 Axes>"
      ]
     },
     "metadata": {
      "needs_background": "light"
     },
     "output_type": "display_data"
    }
   ],
   "source": [
    "x = np.linspace(loc-3*scale, loc+3*scale, 100)\n",
    "y = stats.uniform.pdf(x, loc=loc, scale=scale)\n",
    "\n",
    "plt.plot(x, y)\n",
    "plt.title(\"PDF\")\n",
    "plt.show()"
   ]
  },
  {
   "cell_type": "code",
   "execution_count": 10,
   "metadata": {},
   "outputs": [
    {
     "data": {
      "image/png": "[encoded data removed]",
      "text/plain": [
       "<Figure size 432x288 with 1 Axes>"
      ]
     },
     "metadata": {
      "needs_background": "light"
     },
     "output_type": "display_data"
    }
   ],
   "source": [
    "x = np.linspace(loc-3*scale, loc+3*scale, 100)\n",
    "y = stats.uniform.cdf(x, loc=loc, scale=scale)\n",
    "\n",
    "plt.plot(x, y)\n",
    "plt.title(\"CDF\")\n",
    "plt.show()"
   ]
  },
  {
   "cell_type": "markdown",
   "metadata": {},
   "source": [
    "### PMF and CDF of Nomal Distribution\n",
    "\n",
    "> $f(x)=\\frac{1}{\\sqrt{2\\pi\\sigma^2}} e^{-\\frac{(x-\\mu)^2}{2\\sigma^2}}$"
   ]
  },
  {
   "cell_type": "code",
   "execution_count": 11,
   "metadata": {},
   "outputs": [],
   "source": [
    "loc = 0\n",
    "scale = 1"
   ]
  },
  {
   "cell_type": "code",
   "execution_count": 12,
   "metadata": {},
   "outputs": [
    {
     "data": {
      "image/png": "[encoded data removed]",
      "text/plain": [
       "<Figure size 432x288 with 1 Axes>"
      ]
     },
     "metadata": {
      "needs_background": "light"
     },
     "output_type": "display_data"
    }
   ],
   "source": [
    "x = np.linspace(loc-3*scale, loc+3*scale, 100)\n",
    "f = stats.norm.pdf(x, loc=loc, scale=scale)\n",
    "# f = 1 / np.sqrt(2*np.pi*scale**2) * np.exp( - (x-loc)**2 / (2*scale**2))\n",
    "\n",
    "plt.plot(x, f)\n",
    "plt.title(\"PDF\")\n",
    "plt.show()"
   ]
  },
  {
   "cell_type": "code",
   "execution_count": 13,
   "metadata": {},
   "outputs": [
    {
     "data": {
      "image/png": "[encoded data removed]",
      "text/plain": [
       "<Figure size 432x288 with 1 Axes>"
      ]
     },
     "metadata": {
      "needs_background": "light"
     },
     "output_type": "display_data"
    }
   ],
   "source": [
    "x = np.linspace(loc-3*scale, loc+3*scale, 100)\n",
    "cdf_f = stats.norm.cdf(x, loc=loc, scale=scale)\n",
    "# f = 1 / np.sqrt(2*np.pi*scale**2) * np.exp( - (x-loc)**2 / (2*scale**2))\n",
    "# dx = x[1] - x[0]\n",
    "# cdf_f = np.cumsum(f) * dx\n",
    "\n",
    "plt.plot(x, cdf_f)\n",
    "plt.title(\"CDF\")\n",
    "plt.show()"
   ]
  },
  {
   "cell_type": "markdown",
   "metadata": {},
   "source": [
    "[<a href=\"#PMF,-PDF,-CDF\">Back to top</a>]"
   ]
  },
  {
   "cell_type": "markdown",
   "metadata": {},
   "source": [
    "# [python] Generate Random Samples using Smirov Transform"
   ]
  },
  {
   "cell_type": "markdown",
   "metadata": {},
   "source": [
    "<div align=\"center\"><img src=\"img/3.png\" width=\"80%\"></div>\n",
    "\n",
    "https://www.slideshare.net/databricks/smart-scalable-feature-reduction-with-random-forests-with-erik-erlandson?from_action=save"
   ]
  },
  {
   "cell_type": "code",
   "execution_count": 14,
   "metadata": {},
   "outputs": [
    {
     "data": {
      "image/png": "[encoded data removed]",
      "text/plain": [
       "<Figure size 432x288 with 1 Axes>"
      ]
     },
     "metadata": {
      "needs_background": "light"
     },
     "output_type": "display_data"
    }
   ],
   "source": [
    "import numpy as np\n",
    "import matplotlib.pyplot as plt\n",
    "\n",
    "x        = [ -3,  -1,   1,   2,   5]\n",
    "pmf      = [0.1, 0.1, 0.1, 0.5, 0.2]\n",
    "x_sample = np.random.choice(x, size=1000, p=pmf) \n",
    "\n",
    "plt.hist(x_sample)\n",
    "plt.show()"
   ]
  },
  {
   "cell_type": "code",
   "execution_count": 15,
   "metadata": {},
   "outputs": [
    {
     "data": {
      "image/png": "[encoded data removed]",
      "text/plain": [
       "<Figure size 432x288 with 1 Axes>"
      ]
     },
     "metadata": {
      "needs_background": "light"
     },
     "output_type": "display_data"
    }
   ],
   "source": [
    "import numpy as np\n",
    "import matplotlib.pyplot as plt\n",
    "\n",
    "x     = [ -3,  -1,   1,   2,   5]\n",
    "pmf   = [0.1, 0.1, 0.1, 0.5, 0.2]\n",
    "n_sim = 1000\n",
    "\n",
    "\n",
    "def sample_x(probability_mass_function):\n",
    "    pmf = probability_mass_function\n",
    "    cdf = np.cumsum(pmf)\n",
    "    uni = np.random.rand(1)\n",
    "    cdf_minus_uni = cdf - uni\n",
    "    return [ n for n,i in enumerate(cdf_minus_uni) if i>0 ][0]\n",
    "\n",
    "\n",
    "x_sample = []\n",
    "for _ in range(n_sim): \n",
    "    temp = sample_x(probability_mass_function=pmf)\n",
    "    x_temp = x[temp]\n",
    "    x_sample.append(x_temp)\n",
    "\n",
    "plt.hist(x_sample)\n",
    "plt.show()"
   ]
  },
  {
   "cell_type": "markdown",
   "metadata": {},
   "source": [
    "### 연습문제"
   ]
  },
  {
   "cell_type": "markdown",
   "metadata": {},
   "source": [
    "1. \n",
    "Generate 5 Bernoulli random samples $B_i$ with success rate $p=0.49$, i.e, $P(B_i=1)=0.49$ and $P(B_i=0)=1-0.49$ using uniform samples $U_i$ from $[0,1]$."
   ]
  },
  {
   "cell_type": "markdown",
   "metadata": {
    "collapsed": true
   },
   "source": [
    "[<a href=\"#PMF,-PDF,-and-CDF\">Back to top</a>]"
   ]
  },
  {
   "cell_type": "code",
   "execution_count": null,
   "metadata": {},
   "outputs": [],
   "source": []
  }
 ],
 "metadata": {
  "kernelspec": {
   "display_name": "Python 3",
   "language": "python",
   "name": "python3"
  },
  "language_info": {
   "codemirror_mode": {
    "name": "ipython",
    "version": 3
   },
   "file_extension": ".py",
   "mimetype": "text/x-python",
   "name": "python",
   "nbconvert_exporter": "python",
   "pygments_lexer": "ipython3",
   "version": "3.5.0"
  }
 },
 "nbformat": 4,
 "nbformat_minor": 2
}
