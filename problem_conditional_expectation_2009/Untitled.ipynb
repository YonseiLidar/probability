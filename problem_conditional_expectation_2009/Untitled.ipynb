{
 "cells": [
  {
   "cell_type": "markdown",
   "metadata": {},
   "source": [
    "<div align=\"center\"><img src=\"img/2009-2.png\" width=\"70%\"></div>"
   ]
  },
  {
   "cell_type": "markdown",
   "metadata": {},
   "source": [
    "$$\n",
    "X^2<X\n",
    "$$\n",
    "$$$$\n",
    "$$\\begin{array}{lll}\n",
    "P(X^2<Y<X)&=&E1(X^2<Y<X)\\\\\n",
    "&=&EE(1(X^2<Y<X)|X)\\\\\n",
    "&=&EP(X^2<Y<X|X)\\\\\n",
    "&=&E\\int_{X^2}^X2tdt\\\\\n",
    "&=&E\\left[t^2\\right]_{X^2}^X\\\\\n",
    "&=&E(X^2-X^4)\\\\\n",
    "&=&EX^2-EX^4\n",
    "\\end{array}$$\n",
    "$$$$\n",
    "$$\n",
    "EX^2=\\int_{-\\infty}^\\infty x^2f_X(x)dx\n",
    "=\\int_0^1 x^2*2xdx\n",
    "=\\int_0^1 2x^3dx\n",
    "$$\n",
    "$$$$\n",
    "$$\n",
    "EX^4=\\int_{-\\infty}^\\infty x^4f_X(x)dx\n",
    "=\\int_0^1 x^4*2xdx\n",
    "=\\int_0^1 2x^5dx\n",
    "$$"
   ]
  },
  {
   "cell_type": "code",
   "execution_count": null,
   "metadata": {},
   "outputs": [],
   "source": []
  }
 ],
 "metadata": {
  "kernelspec": {
   "display_name": "Python 3",
   "language": "python",
   "name": "python3"
  },
  "language_info": {
   "codemirror_mode": {
    "name": "ipython",
    "version": 3
   },
   "file_extension": ".py",
   "mimetype": "text/x-python",
   "name": "python",
   "nbconvert_exporter": "python",
   "pygments_lexer": "ipython3",
   "version": "3.6.9"
  }
 },
 "nbformat": 4,
 "nbformat_minor": 2
}
