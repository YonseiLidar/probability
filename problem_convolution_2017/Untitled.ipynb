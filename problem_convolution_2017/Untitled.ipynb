{
 "cells": [
  {
   "cell_type": "markdown",
   "metadata": {},
   "source": [
    "<div align=\"center\"><img src=\"img/2017-2.png\" width=\"70%\"></div>"
   ]
  },
  {
   "cell_type": "markdown",
   "metadata": {},
   "source": [
    "$$\n",
    "0<X<2,\\ 0<Y<2\\quad\\Rightarrow\\quad 0<Z<4\n",
    "$$\n",
    "$$$$\n",
    "For $0<z<4$\n",
    "$$\\begin{array}{lll}\n",
    "f_{Z}(z)\n",
    "&=&\\int_{-\\infty}^\\infty f_X(x)f_Y(z-x)dx\\\\\n",
    "&=&\\int_{-\\infty}^\\infty \\frac{1}{2}1(0<x<2)\\frac{1}{2}1(0<z-x<2)dx\\\\\n",
    "&=&\\frac{1}{4}\\int_{-\\infty}^\\infty 1(0<x<2)1(0<z-x<2)dx\\\\\n",
    "&=&\\frac{1}{4}\\int_0^2 1(0<z-x<2)dx\\\\\n",
    "&=&\\frac{1}{4}\\int_0^2 1(x<z<x+2)dx\\\\\n",
    "&=&\\left\\{\\begin{array}{ll}\n",
    "0&\\mbox{for}\\ z<0\\\\\n",
    "\\int_0^z\\frac{1}{4}dx&\\mbox{for}\\ 0<z<2\\\\\n",
    "\\int_{z-2}^2\\frac{1}{4}dx&\\mbox{for}\\ 2<z<4\\\\\n",
    "0&\\mbox{for}\\ z>4\\\\\n",
    "\\end{array}\\right.\\\\\n",
    "&=&\\left\\{\\begin{array}{ll}\n",
    "0&\\mbox{for}\\ z<0\\\\\n",
    "\\frac{1}{4}z&\\mbox{for}\\ 0<z<2\\\\\n",
    "\\frac{1}{4}(4-z)&\\mbox{for}\\ 2<z<4\\\\\n",
    "0&\\mbox{for}\\ z>4\\\\\n",
    "\\end{array}\\right.\n",
    "\\end{array}$$"
   ]
  },
  {
   "cell_type": "code",
   "execution_count": 3,
   "metadata": {},
   "outputs": [
    {
     "data": {
      "image/png": "[encoded data removed]",
      "text/plain": [
       "<Figure size 432x288 with 1 Axes>"
      ]
     },
     "metadata": {
      "needs_background": "light"
     },
     "output_type": "display_data"
    }
   ],
   "source": [
    "%matplotlib inline\n",
    "import matplotlib.pyplot as plt\n",
    "z=-0.5\n",
    "x=0.3\n",
    "plt.scatter(z,0,c='r')\n",
    "plt.plot([x,x+2],[0,0])\n",
    "plt.xlim([-2,6])\n",
    "plt.ylim([-0.1,2])\n",
    "plt.annotate('z',[z,0.1])\n",
    "plt.annotate('x',[x,0.1])\n",
    "plt.annotate('x+2',[x+2,0.1])\n",
    "plt.show()"
   ]
  },
  {
   "cell_type": "code",
   "execution_count": 4,
   "metadata": {},
   "outputs": [
    {
     "data": {
      "image/png": "[encoded data removed]",
      "text/plain": [
       "<Figure size 432x288 with 1 Axes>"
      ]
     },
     "metadata": {
      "needs_background": "light"
     },
     "output_type": "display_data"
    }
   ],
   "source": [
    "%matplotlib inline\n",
    "import matplotlib.pyplot as plt\n",
    "z=1.5\n",
    "x=0.3\n",
    "plt.scatter(z,0,c='r')\n",
    "plt.plot([x,x+2],[0,0])\n",
    "plt.xlim([-2,6])\n",
    "plt.ylim([-0.1,2])\n",
    "plt.annotate('z',[z,0.1])\n",
    "plt.annotate('x',[x,0.1])\n",
    "plt.annotate('x+2',[x+2,0.1])\n",
    "plt.show()"
   ]
  },
  {
   "cell_type": "code",
   "execution_count": 5,
   "metadata": {},
   "outputs": [
    {
     "data": {
      "image/png": "[encoded data removed]",
      "text/plain": [
       "<Figure size 432x288 with 1 Axes>"
      ]
     },
     "metadata": {
      "needs_background": "light"
     },
     "output_type": "display_data"
    }
   ],
   "source": [
    "%matplotlib inline\n",
    "import matplotlib.pyplot as plt\n",
    "z=2.3\n",
    "x=1.3\n",
    "plt.scatter(z,0,c='r')\n",
    "plt.plot([x,x+2],[0,0])\n",
    "plt.xlim([-2,6])\n",
    "plt.ylim([-0.1,2])\n",
    "plt.annotate('z',[z,0.1])\n",
    "plt.annotate('x',[x,0.1])\n",
    "plt.annotate('x+2',[x+2,0.1])\n",
    "plt.show()"
   ]
  },
  {
   "cell_type": "code",
   "execution_count": 6,
   "metadata": {},
   "outputs": [
    {
     "data": {
      "image/png": "[encoded data removed]",
      "text/plain": [
       "<Figure size 432x288 with 1 Axes>"
      ]
     },
     "metadata": {
      "needs_background": "light"
     },
     "output_type": "display_data"
    }
   ],
   "source": [
    "%matplotlib inline\n",
    "import matplotlib.pyplot as plt\n",
    "z=4.3\n",
    "x=1.3\n",
    "plt.scatter(z,0,c='r')\n",
    "plt.plot([x,x+2],[0,0])\n",
    "plt.xlim([-2,6])\n",
    "plt.ylim([-0.1,2])\n",
    "plt.annotate('z',[z,0.1])\n",
    "plt.annotate('x',[x,0.1])\n",
    "plt.annotate('x+2',[x+2,0.1])\n",
    "plt.show()"
   ]
  },
  {
   "cell_type": "code",
   "execution_count": null,
   "metadata": {},
   "outputs": [],
   "source": []
  }
 ],
 "metadata": {
  "kernelspec": {
   "display_name": "Python 3",
   "language": "python",
   "name": "python3"
  },
  "language_info": {
   "codemirror_mode": {
    "name": "ipython",
    "version": 3
   },
   "file_extension": ".py",
   "mimetype": "text/x-python",
   "name": "python",
   "nbconvert_exporter": "python",
   "pygments_lexer": "ipython3",
   "version": "3.6.9"
  }
 },
 "nbformat": 4,
 "nbformat_minor": 2
}
