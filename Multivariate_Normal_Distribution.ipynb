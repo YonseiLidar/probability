{
 "cells": [
  {
   "cell_type": "markdown",
   "metadata": {},
   "source": [
    "# Multivariate Normal Distribution"
   ]
  },
  {
   "cell_type": "markdown",
   "metadata": {},
   "source": [
    "<a href=\"#Bivariate-Normal\">Bivariate Normal</a>\n",
    "\n",
    "<a href=\"#Multivariate-Normal\">Multivariate Normal</a>\n",
    "\n",
    "<a href=\"#Cholesky\">Cholesky</a> \n",
    "\n",
    "<a href=\"#How-to-Generate-Mutivariate-Normal\">How to Generate Mutivariate Normal</a> \n",
    "\n",
    "<a href=\"#Joint-MGF-of-Multivariate-Normal\">Joint MGF of Multivariate Normal</a> \n",
    "\n",
    "<a href=\"#Properties-of-Multivariate-Normal\">Properties of Multivariate Normal</a> "
   ]
  },
  {
   "cell_type": "markdown",
   "metadata": {},
   "source": [
    "# Bivariate Normal"
   ]
  },
  {
   "cell_type": "markdown",
   "metadata": {},
   "source": [
    "### PDF\n",
    "$$\n",
    "f({\\bf x})=\\frac{1}{\\sqrt{(2\\pi)^2|\\Sigma|}}e^{-\\frac{1}{2}({\\bf x}-\\mu)'\n",
    "\\Sigma^{-1}\n",
    "({\\bf x}-\\mu)}\n",
    "$$\n",
    "where\n",
    "$$\\begin{array}{llll}\n",
    "\\mbox{mean}&&\\mu\\nonumber\\\\\n",
    "\\\\\n",
    "\\mbox{covariance matrix}&&\\Sigma\\nonumber\\\\\n",
    "\\\\\n",
    "\\mbox{determinant of the covariance matrix $\\Sigma$}&&|\\Sigma|\\nonumber\\\\\n",
    "\\end{array}$$"
   ]
  },
  {
   "cell_type": "markdown",
   "metadata": {},
   "source": [
    "### Covariance matrix and its inverse\n",
    "\\begin{eqnarray}\n",
    "\\Sigma\n",
    "=\\left(\\begin{array}{cc}\\sigma _x^2&\\rho\\sigma _x\\sigma _y\\\\\\rho\\sigma _x\\sigma _y&\\sigma _y^2\\end{array}\\right)\n",
    "&\\Rightarrow&\n",
    "|\\Sigma|\n",
    "=(1-\\rho^2)\\sigma _x^2\\sigma _y^2\\nonumber\\\\\n",
    "&\\Rightarrow&\n",
    "\\Sigma^{-1}=\\frac{1}{(1-\\rho^2)\\sigma _x^2\\sigma _y^2}\\left(\\begin{array}{cc}\\sigma _y^2&-\\rho\\sigma _x\\sigma _y\\\\-\\rho\\sigma _x\\sigma _y&\\sigma _x^2\\end{array}\\right)\\nonumber\n",
    "\\end{eqnarray}"
   ]
  },
  {
   "cell_type": "markdown",
   "metadata": {},
   "source": [
    "### Another form of PDF\n",
    "With ${\\tilde x}=\\frac{x-\\mu_x}{\\sigma _x}$, ${\\tilde y}=\\frac{y-\\mu_y}{\\sigma _y}$\n",
    "\\begin{eqnarray}\n",
    "({\\bf x}-\\mu)'\n",
    "\\Sigma^{-1}\n",
    "({\\bf x}-\\mu)\n",
    "&=&\n",
    "\\frac{{\\tilde x}^2+{\\tilde y}^2-2\\rho{\\tilde x}{\\tilde y}}{1-\\rho^2}\\nonumber\n",
    "\\end{eqnarray}\n",
    "\n",
    "$$\\begin{array}{llll}\n",
    "\\displaystyle\n",
    "f({\\bf x})\n",
    "=\n",
    "\\frac{1}{2\\pi\\sigma _x\\sigma _y}\n",
    "e^{-\\frac{{\\tilde x}^2+{\\tilde y}^2}{2}}&&\\mbox{if $X$ and $Y$ are independent}\\nonumber\\\\\n",
    "\\displaystyle\n",
    "f({\\bf x})\n",
    "=\n",
    "\\frac{1}{2\\pi\\sigma _x\\sigma _y\\sqrt{1-\\rho^2}}\n",
    "e^{-\\frac{{\\tilde x}^2+{\\tilde y}^2-2\\rho{\\tilde x}{\\tilde y}}{2(1-\\rho^2)}}&&\\mbox{in general}\\nonumber\\\\\n",
    "\\end{array}$$"
   ]
  },
  {
   "cell_type": "markdown",
   "metadata": {},
   "source": [
    "[<a href=\"#Multivariate-Normal-Distribution\">Back to top</a>]"
   ]
  },
  {
   "cell_type": "markdown",
   "metadata": {},
   "source": [
    "# Multivariate Normal"
   ]
  },
  {
   "cell_type": "markdown",
   "metadata": {},
   "source": [
    "### PDF\n",
    "$$\n",
    "f({\\bf x})=\\frac{1}{\\sqrt{(2\\pi)^d|\\Sigma|}}e^{-\\frac{1}{2}({\\bf x}-\\mu)'\n",
    "\\Sigma^{-1}\n",
    "({\\bf x}-\\mu)}\n",
    "$$\n",
    "where\n",
    "$$\\begin{array}{llll}\n",
    "\\mbox{mean}&&\\mu\\nonumber\\\\\n",
    "\\\\\n",
    "\\mbox{covariance matrix}&&\\Sigma\\nonumber\\\\\n",
    "\\\\\n",
    "\\mbox{determinant of the covariance matrix $\\Sigma$}&&|\\Sigma|\\nonumber\\\\\n",
    "\\end{array}$$"
   ]
  },
  {
   "cell_type": "markdown",
   "metadata": {},
   "source": [
    "### Definition\n",
    "Multivariate normal\n",
    "${\\bf x}=[x_1,x_2,\\cdots,x_d]'$ is given by\n",
    "$$\n",
    "\\underbrace{\\left[\\begin{array}{c}x_1\\\\x_2\\\\\\vdots\\\\x_d\\end{array}\\right]}_{{\\bf x}}\n",
    "=\n",
    "\\underbrace{\\left[\\begin{array}{cccc}\n",
    "a_{11}&a_{12}&\\cdots&a_{1n}\\\\\n",
    "a_{21}&a_{22}&\\cdots&a_{2n}\\\\\n",
    "\\vdots&\\vdots&\\vdots&\\vdots\\\\\n",
    "a_{d1}&a_{d2}&\\cdots&a_{dn}\n",
    "\\end{array}\\right]}_{{\\bf A}}\n",
    "\\underbrace{\\left[\\begin{array}{c}z_{1}\\\\z_{2}\\\\\\vdots\\\\z_n\\end{array}\\right]}_{{\\bf z}}\n",
    "+\n",
    "\\underbrace{\\left[\\begin{array}{c}\\mu_1\\\\\\mu_2\\\\\\vdots\\\\\\mu_d\\end{array}\\right]}_{\\mu},$$\n",
    "$${\\bf x}={\\bf A}{\\bf z}+\\mu,$$\n",
    "where $z_k$ are iid standard normal and\n",
    "where ${\\bf A}$ and $\\mu$ are constants."
   ]
  },
  {
   "cell_type": "markdown",
   "metadata": {},
   "source": [
    "### Computation of mean and covariance matrix"
   ]
  },
  {
   "cell_type": "markdown",
   "metadata": {},
   "source": [
    "$$\\begin{array}{llll}\n",
    "E{\\bf x}\n",
    "&=&E({\\bf A}{\\bf z}+\\mu)\n",
    "={\\bf A}E{\\bf z}+\\mu\n",
    "={\\bf A}{\\bf 0}+\\mu\n",
    "=\\mu\\nonumber\n",
    "\\end{array}$$"
   ]
  },
  {
   "cell_type": "markdown",
   "metadata": {},
   "source": [
    "$$\\begin{array}{llll}\n",
    "\\Sigma\n",
    "&=&\n",
    "E({\\bf x}-\\mu)({\\bf x}-\\mu)^T\n",
    "=E({\\bf A}{\\bf z})({\\bf A}{\\bf z})^T\n",
    "={\\bf A}(E{\\bf z}{\\bf z}^T){\\bf A}^T\n",
    "={\\bf A}{\\bf I}{\\bf A}^T\n",
    "={\\bf A}{\\bf A}^T\\nonumber\n",
    "\\end{array}$$"
   ]
  },
  {
   "cell_type": "markdown",
   "metadata": {},
   "source": [
    "[<a href=\"#Multivariate-Normal-Distribution\">Back to top</a>]"
   ]
  },
  {
   "cell_type": "markdown",
   "metadata": {},
   "source": [
    "# Cholesky"
   ]
  },
  {
   "cell_type": "markdown",
   "metadata": {},
   "source": [
    "$$\\begin{array}{llllllllclllllll}\n",
    "\\\\\n",
    "\\mbox{SVD}&&&&&&&&\\mathbf{A}&=&\\mathbf{U}\\mathbf{S}\\mathbf{V}^T\\\\\n",
    "&&&&&&&&\\uparrow\\\\\n",
    "&&&&&&&&\\mbox{any matrix}\\\\\n",
    "\\\\\n",
    "\\mbox{QR}&&&&&&&&\\mathbf{A}&=&\\mathbf{Q}\\mathbf{R}\\\\\n",
    "&&&&&&&&\\uparrow\\\\\n",
    "&&&&&&&&\\mbox{tall matrix}\\\\\n",
    "\\\\\n",
    "\\mbox{LU}&&&&&&&\\mathbf{P}&\\mathbf{A}&=&\\mathbf{L}\\mathbf{U}\\\\\n",
    "&&&&&&&&\\uparrow\\\\\n",
    "&&&&&&&&\\mbox{square matrix}\\\\\n",
    "\\\\\n",
    "\\mbox{Eigenvalue Decomposition}&&&&&&&&\\mathbf{A}&=&\\mathbf{Q}\\mathbf{\\Lambda}\\mathbf{Q}^T\\\\\n",
    "&&&&&&&&\\uparrow\\\\\n",
    "&&&&&&&&\\mbox{symmetric matrix}\\\\\n",
    "\\\\\n",
    "\\mbox{Cholesky}&&&&&&&&\\mathbf{A}&=&\\mathbf{L}\\mathbf{L}^T\\\\\n",
    "&&&&&&&&\\uparrow\\\\\n",
    "&&&&&&&&\\mbox{positive definite matrix}\\\\\n",
    "\\\\\n",
    "\\end{array}$$\n",
    "\n",
    "$$\\begin{array}{ccccccc}\n",
    "\\\\\n",
    "\\mathbf{A}&=&\\mathbf{L}&\\mathbf{L}^T\\\\\n",
    "\\uparrow&&\\uparrow\\\\\n",
    "\\mbox{positive definite matrix}&&\\mbox{lower triangular}\\\\\n",
    "\\\\\n",
    "n\\times n&&n\\times n&n\\times n\\\\\n",
    "\\\\\n",
    "\\end{array}$$\n",
    "\n",
    "The Cholesky decomposition is unique when $\\mathbf{A}$ is positive definite; there is only one lower triangular matrix $\\mathbf{L}$ with strictly positive diagonal entries such that $\\mathbf{A}=\\mathbf{L}\\mathbf{L}^T$. However, the decomposition need not be unique when $\\mathbf{A}$ is positive semidefinite.\n",
    "\n",
    "https://en.wikipedia.org/wiki/Cholesky_decomposition"
   ]
  },
  {
   "cell_type": "markdown",
   "metadata": {},
   "source": [
    "##### Frobenius norm\n",
    "\n",
    "$$\n",
    "\\|A\\|\n",
    "=\\sqrt{\\sum_i\\sum_j a_{ij}^2}\n",
    "=\\sqrt{\\mbox{trace}(AA^T)}\n",
    "$$"
   ]
  },
  {
   "cell_type": "code",
   "execution_count": 6,
   "metadata": {},
   "outputs": [
    {
     "name": "stdout",
     "output_type": "stream",
     "text": [
      "[[ 1.43304951  1.44944364 -0.26705369]\n",
      " [ 1.44944364  5.02566642 -1.43332788]\n",
      " [-0.26705369 -1.43332788  0.6881944 ]]\n",
      "\n",
      "Sigma shape :  (3, 3)\n",
      "L shape     :  (3, 3)\n",
      "[[ 1.19710046  0.          0.        ]\n",
      " [ 1.21079533  1.88670111  0.        ]\n",
      " [-0.22308377 -0.61653596  0.50824348]]\n",
      "\n",
      "error_Frobenius:  3.1401849173675503e-16\n"
     ]
    }
   ],
   "source": [
    "import numpy as np\n",
    "\n",
    "\n",
    "np.random.seed(337)\n",
    "\n",
    "\n",
    "def generate_Sigma(n):\n",
    "    temp = np.random.normal(0, 1, (n, n))\n",
    "    Sigma = temp.T @ temp\n",
    "    return Sigma\n",
    "\n",
    "\n",
    "def cholesky_decomposition(Sigma):\n",
    "    L = np.linalg.cholesky(Sigma)\n",
    "    print('Sigma shape : ', Sigma.shape)\n",
    "    print('L shape     : ', L.shape)\n",
    "    return L\n",
    "\n",
    "\n",
    "def check_cholesky_decomposition(Sigma, L):\n",
    "    Sigma_reproduce = L @ L.T\n",
    "    error_Frobenius = np.linalg.norm(Sigma-Sigma_reproduce)\n",
    "    print('error_Frobenius: ', error_Frobenius)\n",
    "\n",
    "    \n",
    "if __name__ == '__main__':\n",
    "    n = 3\n",
    "    \n",
    "    Sigma = generate_Sigma(n)\n",
    "    print(Sigma)\n",
    "    print()\n",
    "    \n",
    "    L = cholesky_decomposition(Sigma)\n",
    "    print(L)\n",
    "    print()\n",
    "    \n",
    "    check_cholesky_decomposition(Sigma, L)"
   ]
  },
  {
   "cell_type": "markdown",
   "metadata": {},
   "source": [
    "[<a href=\"#Multivariate-Normal-Distribution\">Back to top</a>]"
   ]
  },
  {
   "cell_type": "markdown",
   "metadata": {},
   "source": [
    "# How to Generate Mutivariate Normal"
   ]
  },
  {
   "cell_type": "markdown",
   "metadata": {},
   "source": [
    "```\n",
    "L = np.linalg.cholesky(Sigma)\n",
    "x = L@z + mu\n",
    "```"
   ]
  },
  {
   "cell_type": "markdown",
   "metadata": {},
   "source": [
    "$$\n",
    "E{\\bf x}\n",
    "=E({\\bf L}{\\bf z}+\\mu)\n",
    "={\\bf L}E{\\bf z}+\\mu\n",
    "={\\bf L}{\\bf 0}+\\mu\n",
    "=\\mu\n",
    "$$"
   ]
  },
  {
   "cell_type": "markdown",
   "metadata": {},
   "source": [
    "$$\n",
    "E({\\bf x}-\\mu)({\\bf x}-\\mu)^T\n",
    "=E({\\bf L}{\\bf z})({\\bf L}{\\bf z})^T\n",
    "={\\bf L}(E{\\bf z}{\\bf z}^T){\\bf L}^T\n",
    "={\\bf L}{\\bf I}{\\bf L}^T\n",
    "={\\bf L}{\\bf L}^T\n",
    "=\\Sigma\n",
    "$$"
   ]
  },
  {
   "cell_type": "code",
   "execution_count": 14,
   "metadata": {},
   "outputs": [
    {
     "data": {
      "image/png": "[encoded data removed]",
      "text/plain": [
       "<Figure size 432x288 with 1 Axes>"
      ]
     },
     "metadata": {
      "needs_background": "light"
     },
     "output_type": "display_data"
    }
   ],
   "source": [
    "import numpy as np\n",
    "import matplotlib.pyplot as plt\n",
    "\n",
    "n = 500 # number of samples\n",
    "rho = 0.9 # correlation coefficient\n",
    "\n",
    "# sigma and mu\n",
    "Sigma = np.array([[1.0, rho], [rho, 1.0]])\n",
    "mu = np.array([[1.0], [2.0]])\n",
    "\n",
    "# z \\sim N(0,I)\n",
    "# x \\sim N(mu, Sigma)\n",
    "z = np.random.normal(0, 1, (2,n))\n",
    "L = np.linalg.cholesky(Sigma)\n",
    "x = (L@z) + mu\n",
    "\n",
    "plt.plot(x[0,:], x[1,:], 'o')\n",
    "plt.show()"
   ]
  },
  {
   "cell_type": "markdown",
   "metadata": {},
   "source": [
    "[<a href=\"#Multivariate-Normal-Distribution\">Back to top</a>]"
   ]
  },
  {
   "cell_type": "markdown",
   "metadata": {},
   "source": [
    "# Joint MGF of Multivariate Normal"
   ]
  },
  {
   "cell_type": "markdown",
   "metadata": {},
   "source": [
    "$$\\begin{array}{lllll}\n",
    "\\displaystyle \\phi(t)\n",
    "&=&\\displaystyle e^{\\mu t+\\frac{1}{2}\\sigma ^2t^2}\n",
    "&&\\mbox{for $x\\sim N(\\mu,\\sigma ^2)$}\\nonumber\\\\\n",
    "\\\\\n",
    "\\displaystyle \\phi(t)\n",
    "&=&\\displaystyle e^{{\\bf t}^T\\mu+\\frac{1}{2}{\\bf t}^T\\Sigma{\\bf t}}\n",
    "&&\\mbox{for ${\\bf x}\\sim N(\\mu,\\Sigma)$}\\nonumber\\\\\n",
    "\\end{array}$$"
   ]
  },
  {
   "cell_type": "markdown",
   "metadata": {},
   "source": [
    "With ${\\bf z}=(z_k)^T$ iid $N(0,1^2)$\n",
    "$$\\begin{array}{lllll}\n",
    "{\\bf x}\\sim N(\\mu,\\Sigma)\\ \\ \\Rightarrow\\ \\ {\\bf x}={\\bf A}{\\bf z}+\\mu\\ \\ \\mbox{where ${\\bf A}{\\bf A}^T=\\Sigma$}\n",
    "\\end{array}$$"
   ]
  },
  {
   "cell_type": "markdown",
   "metadata": {},
   "source": [
    "$$\n",
    "\\mbox{${\\bf t}^T{\\bf x}={\\bf t}^T({\\bf A}{\\bf z}+\\mu)=\\sum_ka_kz_k+b\\sim {\\cal N}(\\mu_1,\\sigma _1^2)$}\n",
    "$$\n",
    "where\n",
    "$$\\begin{array}{lllll}\n",
    "\\mu_1&=&E{\\bf t}^T({\\bf A}{\\bf z}+\\mu)\n",
    "={\\bf t}^T({\\bf A}E{\\bf z}+\\mu)\n",
    "={\\bf t}^T({\\bf A}{\\bf 0}+\\mu)\n",
    "={\\bf t}^T\\mu\\nonumber\\\\\n",
    "\\nonumber\\\\\n",
    "\\sigma _1^2&=&E({\\bf t}^T{\\bf A}{\\bf z})({\\bf t}^T{\\bf A}{\\bf z})^T\n",
    "={\\bf t}^T{\\bf A}E({\\bf z}{\\bf z}^T){\\bf A}^T{\\bf t}\n",
    "={\\bf t}^T{\\bf A}{\\bf I}{\\bf A}^T{\\bf t}\n",
    "={\\bf t}^T{\\bf A}{\\bf A}^T{\\bf t}\n",
    "={\\bf t}^T\\Sigma{\\bf t}\\nonumber\\\\\n",
    "\\end{array}$$"
   ]
  },
  {
   "cell_type": "markdown",
   "metadata": {},
   "source": [
    "$$\n",
    "\\phi_{{\\bf x}}({\\bf t})\n",
    "=\n",
    "Ee^{{\\bf t}^T{\\bf x}}\n",
    "=\n",
    "Ee^{{\\bf t}^T({\\bf A}{\\bf z}+\\mu)}\n",
    "=\n",
    "\\phi_{{\\cal N}(\\mu_1,\\sigma _1^2)}(1)\n",
    "=\n",
    "e^{\\mu_1+\\frac{1}{2}\\sigma _1^2}\n",
    "=\n",
    "e^{{\\bf t}^T\\mu+\\frac{1}{2}{\\bf t}^T\\Sigma{\\bf t}}\n",
    "$$"
   ]
  },
  {
   "cell_type": "markdown",
   "metadata": {},
   "source": [
    "[<a href=\"#Multivariate-Normal-Distribution\">Back to top</a>]"
   ]
  },
  {
   "cell_type": "markdown",
   "metadata": {},
   "source": [
    "# Properties of Multivariate Normal"
   ]
  },
  {
   "cell_type": "markdown",
   "metadata": {},
   "source": [
    "$$\\begin{array}{lllll}\n",
    "(1)&\\mbox{$\\mu$ and $\\Sigma$ completely determine the multivariate normal distribution}\\\\\n",
    "\\\\\n",
    "(2)&\\mbox{If off diagonals of $\\Sigma$ are all 0, then all the components of ${\\bf x}$ are independent}\\\\\n",
    "\\\\\n",
    "(3)&\\mbox{If for fixed $i$, $\\Sigma_{ij}=0$ for all $j\\neq i$, then ${\\bf x}_i$ is independent to ${\\bf x}_j$, $j\\neq i$}\\\\\n",
    "\\end{array}$$"
   ]
  },
  {
   "cell_type": "markdown",
   "metadata": {},
   "source": [
    "Suppose two multivariate normal random variables ${\\bf x}$ and ${\\bf y}$ have\n",
    "common mean $\\mu$ and covariance matrix $\\Sigma$.\n",
    "Then, their joint MGFs of ${\\bf x}$ and ${\\bf y}$ are iical:\n",
    "$$\n",
    "\\phi_{\\bf x}({\\bf t})\n",
    "=e^{{\\bf t}^T\\mu+\\frac{1}{2}{\\bf t}^T\\Sigma{\\bf t}}\n",
    "=\\phi_{\\bf y}({\\bf t})\n",
    "$$\n",
    "Hence,\n",
    "they have same distribution."
   ]
  },
  {
   "cell_type": "markdown",
   "metadata": {},
   "source": [
    "Suppose a multivariate normal random variable ${\\bf x}$ \n",
    "have a covariance matrix $\\Sigma$, whose off diagonals are all 0. \n",
    "Then, joint MGFs of ${\\bf x}$ and ${\\bf y}$, where \n",
    "${\\bf y}_i$ are independent and identical to $N(\\mu_i,\\sigma _i^2)$:\n",
    "$$\\phi_{{\\bf x}}({\\bf t})\n",
    "=\n",
    "\\phi_{N(\\mu,\\Sigma)}({\\bf t})\n",
    "=e^{{\\bf t}^T\\mu+\\frac{1}{2}{\\bf t}^T\\Sigma{\\bf t}}\n",
    "=\\underbrace{e^{\\mu_1 t_1+\\frac{1}{2}\\sigma _1^2t_1^2}}_{\\mbox{$\\phi_{N(\\mu_1,\\sigma _1^2)}(t_1)$}}\\underbrace{e^{\\mu_2 t_2+\\frac{1}{2}\\sigma _2^2t_2^2}}_{\\mbox{$\\phi_{N(\\mu_2,\\sigma _2^2)}(t_2)$}}\\cdots \\underbrace{e^{\\mu_d t_d+\\frac{1}{2}\\sigma _d^2t_d^2}}_{\\mbox{$\\phi_{N(\\mu_d,\\sigma _d^2)}(t_d)$}}\n",
    "=\\phi_{{\\bf y}}({\\bf t})\n",
    "$$\n",
    "Hence,\n",
    "they have same distribution.\n",
    "In particular,\n",
    "all the components $x_i$ of the multivariate normal random variable ${\\bf x}$ are independent."
   ]
  },
  {
   "cell_type": "markdown",
   "metadata": {},
   "source": [
    "Suppose a multivariate normal random variable ${\\bf x}$ \n",
    "have a covariance matrix $\\Sigma$\n",
    "such that\n",
    "for fixed $i$, $\\Sigma_{ij}=0$ for all $j\\neq i$.\n",
    "Then, joint MGFs of ${\\bf x}$ and ${\\bf y}$, where \n",
    "the mean and covariance matrix of ${\\bf y}$ are iical to those of ${\\bf x}$ and where in addition\n",
    "${\\bf y}_i$ is independent to ${\\bf y}_j$, $j\\neq i$, are iical.\n",
    "Hence,\n",
    "they have same distribution.\n",
    "In particular,\n",
    "${\\bf x}_i$ is independent to ${\\bf x}_j$, $j\\neq i$."
   ]
  },
  {
   "cell_type": "markdown",
   "metadata": {},
   "source": [
    "### Example - $X$ and $Y$ from the same multivariate normal ${\\bf x}$, where $Cov(X,Y)=0$"
   ]
  },
  {
   "cell_type": "markdown",
   "metadata": {},
   "source": [
    "\\begin{eqnarray}\n",
    "\\mbox{$X$, $Y$ independent}\n",
    "&\\Rightarrow&\n",
    "Cov(X,Y)=0\\nonumber\n",
    "\\end{eqnarray}\n",
    "\n",
    "Converse is not true in general.\n",
    "However, if $[X,Y]^T$ bivariate normal, its a completely different story.\n",
    "\\begin{eqnarray}\n",
    "Cov(X,Y)=0\n",
    "&\\Rightarrow&\n",
    "\\mbox{$X$, $Y$ independent (wrong)}\\nonumber\\\\\n",
    "\\mbox{$X$, $Y$ normal},\\quad\n",
    "Cov(X,Y)=0\n",
    "&\\Rightarrow&\n",
    "\\mbox{$X$, $Y$ independent (wrong)}\\nonumber\\\\\n",
    "\\mbox{$[X,Y]^T$ bivariate normal},\\quad\n",
    "Cov(X,Y)=0\n",
    "&\\Rightarrow&\n",
    "\\mbox{$X$, $Y$ independent (correct)}\\nonumber\\nonumber\n",
    "\\end{eqnarray}"
   ]
  },
  {
   "cell_type": "markdown",
   "metadata": {},
   "source": [
    "Let $X$ be standard normal.\n",
    "Indepen to $X$ we flip a fair coin\n",
    "and record its out put $S$\n",
    "as 1 if head and $-1$ if tail. \n",
    "Now, define $Y$ as \n",
    "$$Y=S\\cdot X$$\n",
    "\n",
    "\n",
    "$Y$ is standard normal.\n",
    "\\begin{eqnarray}\n",
    "P(Y\\le y)\n",
    "&=&P(S=1)P(X\\le y)+P(S=-1)P(X\\ge -y)\\nonumber\\\\\n",
    "&=&\\frac{1}{2}\\int_{-\\infty}^y\\frac{1}{\\sqrt{2\\pi}}e^{-\\frac{s^2}{2}}ds+\\frac{1}{2}\\int_{-y}^{\\infty}\\frac{1}{\\sqrt{2\\pi}}e^{-\\frac{s^2}{2}}ds\\nonumber\n",
    "\\end{eqnarray}\n",
    "$$\n",
    "f_Y(y)\n",
    "=\\frac{1}{2}\\frac{1}{\\sqrt{2\\pi}}e^{-\\frac{y^2}{2}}+\\frac{1}{2}\\frac{1}{\\sqrt{2\\pi}}e^{-\\frac{y^2}{2}}=\\frac{1}{\\sqrt{2\\pi}}e^{-\\frac{y^2}{2}}\n",
    "$$"
   ]
  },
  {
   "cell_type": "markdown",
   "metadata": {},
   "source": [
    "\\begin{eqnarray}\n",
    "EXY\n",
    "&=&P(S=1)E(XY|S=1)+P(S=-1)E(XY|S=-1)\\nonumber\\\\\n",
    "&=&P(S=1)E(X^2)+P(S=-1)E(-X^2)=\\frac{1}{2}E(X^2)-\\frac{1}{2}E(X^2)=0\\nonumber\\\\\n",
    "\\nonumber\\\\\n",
    "Cov(X,Y)\n",
    "&=&\n",
    "0\\nonumber\n",
    "\\end{eqnarray}\n",
    "\n",
    "\n",
    "But, by the construction of $Y$, $X$ and $Y$ are not independent.\n",
    "For example, if $X=2$, then $Y$ is either 2 or $-2$."
   ]
  },
  {
   "cell_type": "markdown",
   "metadata": {},
   "source": [
    "[<a href=\"#Multivariate-Normal-Distribution\">Back to top</a>]"
   ]
  }
 ],
 "metadata": {
  "kernelspec": {
   "display_name": "Python 3",
   "language": "python",
   "name": "python3"
  },
  "language_info": {
   "codemirror_mode": {
    "name": "ipython",
    "version": 3
   },
   "file_extension": ".py",
   "mimetype": "text/x-python",
   "name": "python",
   "nbconvert_exporter": "python",
   "pygments_lexer": "ipython3",
   "version": "3.5.0"
  }
 },
 "nbformat": 4,
 "nbformat_minor": 2
}
